{
  "nbformat": 4,
  "nbformat_minor": 0,
  "metadata": {
    "colab": {
      "provenance": [],
      "authorship_tag": "ABX9TyNRnm7FElInW/6jk4wdq7tH",
      "include_colab_link": true
    },
    "kernelspec": {
      "name": "python3",
      "display_name": "Python 3"
    },
    "language_info": {
      "name": "python"
    }
  },
  "cells": [
    {
      "cell_type": "markdown",
      "metadata": {
        "id": "view-in-github",
        "colab_type": "text"
      },
      "source": [
        "<a href=\"https://colab.research.google.com/github/vcdemy/20230512-cht/blob/main/20230512.ipynb\" target=\"_parent\"><img src=\"https://colab.research.google.com/assets/colab-badge.svg\" alt=\"Open In Colab\"/></a>"
      ]
    },
    {
      "cell_type": "markdown",
      "source": [
        "# 20230512 筆記"
      ],
      "metadata": {
        "id": "3h6Plf6FjJY9"
      }
    },
    {
      "cell_type": "markdown",
      "source": [
        "Review:\n",
        "\n",
        "基礎資料型態：\n",
        "\n",
        "* int\n",
        "* float\n",
        "* bool\n",
        "* str\n",
        "\n",
        "基礎容器型別：\n",
        "\n",
        "* list\n",
        "* tuple\n",
        "* dict\n",
        "* set"
      ],
      "metadata": {
        "id": "kF_z4ENej7-b"
      }
    },
    {
      "cell_type": "markdown",
      "source": [
        "## 基礎語法\n",
        "\n",
        "* 條件式 (if statements)\n",
        "* 迴圈 (loops)\n",
        "* 函式 (functions)\n",
        "* 例外處理 (Exception Handling)"
      ],
      "metadata": {
        "id": "smGUEwAVjQm8"
      }
    },
    {
      "cell_type": "markdown",
      "source": [
        "### 條件式"
      ],
      "metadata": {
        "id": "4WcX6brIkf0Z"
      }
    },
    {
      "cell_type": "code",
      "execution_count": null,
      "metadata": {
        "id": "6Ev9L_iXjEpG"
      },
      "outputs": [],
      "source": [
        "a = 2\n",
        "b = 2"
      ]
    },
    {
      "cell_type": "code",
      "source": [
        "if a > b:\n",
        "  print(\"a > b\")"
      ],
      "metadata": {
        "id": "qqd6QsgZkkoR"
      },
      "execution_count": null,
      "outputs": []
    },
    {
      "cell_type": "code",
      "source": [
        "if a > b:\n",
        "  print(\"a > b\")\n",
        "else:\n",
        "  print(\"a != b\")"
      ],
      "metadata": {
        "colab": {
          "base_uri": "https://localhost:8080/"
        },
        "id": "KYoFyLEKkwYw",
        "outputId": "8efea46b-e230-42eb-9c13-fee5b08e2adb"
      },
      "execution_count": null,
      "outputs": [
        {
          "output_type": "stream",
          "name": "stdout",
          "text": [
            "a != b\n"
          ]
        }
      ]
    },
    {
      "cell_type": "code",
      "source": [
        "if a > b:\n",
        "  print(\"a > b\")\n",
        "elif a < b:\n",
        "  print(\"a < b\")\n",
        "else:\n",
        "  print(\"a = b\")"
      ],
      "metadata": {
        "colab": {
          "base_uri": "https://localhost:8080/"
        },
        "id": "dt019p8_lIKG",
        "outputId": "67f7a820-4f15-4d56-aef8-a691e027d047"
      },
      "execution_count": null,
      "outputs": [
        {
          "output_type": "stream",
          "name": "stdout",
          "text": [
            "a = b\n"
          ]
        }
      ]
    },
    {
      "cell_type": "markdown",
      "source": [
        "### print v.s., return"
      ],
      "metadata": {
        "id": "jjoHb_wnpLb-"
      }
    },
    {
      "cell_type": "code",
      "source": [
        "def square1(x):\n",
        "  print(x**2)"
      ],
      "metadata": {
        "id": "WvLrok9HpN85"
      },
      "execution_count": null,
      "outputs": []
    },
    {
      "cell_type": "code",
      "source": [
        "def square2(x):\n",
        "  return x**2"
      ],
      "metadata": {
        "id": "y1i66p_bpcw7"
      },
      "execution_count": null,
      "outputs": []
    },
    {
      "cell_type": "code",
      "source": [
        "square1(2)"
      ],
      "metadata": {
        "colab": {
          "base_uri": "https://localhost:8080/"
        },
        "id": "Cips6YCCpfpE",
        "outputId": "43ac50a2-a0bb-4081-fdbe-1196d6ed9faa"
      },
      "execution_count": null,
      "outputs": [
        {
          "output_type": "stream",
          "name": "stdout",
          "text": [
            "4\n"
          ]
        }
      ]
    },
    {
      "cell_type": "code",
      "source": [
        "square2(2)"
      ],
      "metadata": {
        "colab": {
          "base_uri": "https://localhost:8080/"
        },
        "id": "oAIuBUs0p899",
        "outputId": "b37de8f2-9409-44fc-e6f4-ff5d4d2a0dc7"
      },
      "execution_count": null,
      "outputs": [
        {
          "output_type": "execute_result",
          "data": {
            "text/plain": [
              "4"
            ]
          },
          "metadata": {},
          "execution_count": 25
        }
      ]
    },
    {
      "cell_type": "code",
      "source": [
        "s1 = square1(2)"
      ],
      "metadata": {
        "colab": {
          "base_uri": "https://localhost:8080/"
        },
        "id": "KFg5a7-pp-6E",
        "outputId": "b4a7b9a1-07c5-4c2a-e529-f8459053e3e1"
      },
      "execution_count": null,
      "outputs": [
        {
          "output_type": "stream",
          "name": "stdout",
          "text": [
            "4\n"
          ]
        }
      ]
    },
    {
      "cell_type": "code",
      "source": [
        "s2 = square2(2)"
      ],
      "metadata": {
        "id": "1v9YHCk4qD3X"
      },
      "execution_count": null,
      "outputs": []
    },
    {
      "cell_type": "code",
      "source": [
        "s1"
      ],
      "metadata": {
        "id": "KIv4Do8KqGEn"
      },
      "execution_count": null,
      "outputs": []
    },
    {
      "cell_type": "code",
      "source": [
        "s2"
      ],
      "metadata": {
        "colab": {
          "base_uri": "https://localhost:8080/"
        },
        "id": "VBkvx-nuqIzI",
        "outputId": "106d9320-0b3f-467b-db8c-065dfbe24393"
      },
      "execution_count": null,
      "outputs": [
        {
          "output_type": "execute_result",
          "data": {
            "text/plain": [
              "4"
            ]
          },
          "metadata": {},
          "execution_count": 29
        }
      ]
    },
    {
      "cell_type": "markdown",
      "source": [
        "### 練習\n",
        "\n",
        "計算BMI，並印出體位狀況。\n",
        "\n",
        "$BMI = \\frac{體重(公斤)}{身高(公尺)}$\n",
        "\n",
        "|BMI範圍|體位狀況|\n",
        "|:-:|:--|\n",
        "|BMI < 18.5|體重太輕|\n",
        "|18.5 <= BMI < 24|正常體重|\n",
        "|BMI > 24|體重過重|"
      ],
      "metadata": {
        "id": "1_tNvedqlwzS"
      }
    },
    {
      "cell_type": "code",
      "source": [
        "h = 1.83\n",
        "w = 80\n",
        "BMI = w/(h**2)"
      ],
      "metadata": {
        "id": "o105EF0glbmW"
      },
      "execution_count": null,
      "outputs": []
    },
    {
      "cell_type": "code",
      "source": [
        "BMI"
      ],
      "metadata": {
        "colab": {
          "base_uri": "https://localhost:8080/"
        },
        "id": "wiyRmqfzmnrJ",
        "outputId": "9853b300-6277-4b88-ecf7-4fd8294def98"
      },
      "execution_count": null,
      "outputs": [
        {
          "output_type": "execute_result",
          "data": {
            "text/plain": [
              "23.888440980620498"
            ]
          },
          "metadata": {},
          "execution_count": 17
        }
      ]
    },
    {
      "cell_type": "code",
      "source": [
        "if BMI < 18.5:\n",
        "  print(\"體重過輕\")\n",
        "elif BMI > 24:\n",
        "  print(\"體重過重\")\n",
        "else:\n",
        "  print(\"正常體重\")"
      ],
      "metadata": {
        "colab": {
          "base_uri": "https://localhost:8080/"
        },
        "id": "RTHP4uHSoQa2",
        "outputId": "3ad4b9e2-6d71-4f76-cfca-5824530714db"
      },
      "execution_count": null,
      "outputs": [
        {
          "output_type": "stream",
          "name": "stdout",
          "text": [
            "正常體重\n"
          ]
        }
      ]
    },
    {
      "cell_type": "code",
      "source": [
        "if BMI < 18.5:\n",
        "  print(\"體重過輕\")\n",
        "elif 18.5 <= BMI < 24:\n",
        "  print(\"正常體重\")\n",
        "else:\n",
        "  print(\"體重過重\")"
      ],
      "metadata": {
        "colab": {
          "base_uri": "https://localhost:8080/"
        },
        "id": "ob5VNvOvot8Y",
        "outputId": "8c8919ee-55c4-4e5f-9c48-921aa6928a5d"
      },
      "execution_count": null,
      "outputs": [
        {
          "output_type": "stream",
          "name": "stdout",
          "text": [
            "正常體重\n"
          ]
        }
      ]
    },
    {
      "cell_type": "code",
      "source": [
        "def bmi1(h, w):\n",
        "  BMI = w/h**2\n",
        "  if BMI < 18.5:\n",
        "    print(\"體重過輕\")\n",
        "  elif BMI > 24:\n",
        "    print(\"體重過重\")\n",
        "  else:\n",
        "    print(\"正常體重\")"
      ],
      "metadata": {
        "id": "-2xI_Bm3moRo"
      },
      "execution_count": null,
      "outputs": []
    },
    {
      "cell_type": "code",
      "source": [
        "def bmi2(h, w):\n",
        "  BMI = w/h**2\n",
        "  if BMI < 18.5:\n",
        "    return \"體重過輕\"\n",
        "  elif BMI > 24:\n",
        "    return \"體重過重\"\n",
        "  else:\n",
        "    return \"正常體重\""
      ],
      "metadata": {
        "id": "LH3F7U3UnGdB"
      },
      "execution_count": null,
      "outputs": []
    },
    {
      "cell_type": "code",
      "source": [
        "bmi1(1.83, 80)"
      ],
      "metadata": {
        "colab": {
          "base_uri": "https://localhost:8080/"
        },
        "id": "OaFcWce0q0B8",
        "outputId": "ef1cf9d2-d0f3-4ed0-806e-4504ac4ef3c9"
      },
      "execution_count": null,
      "outputs": [
        {
          "output_type": "stream",
          "name": "stdout",
          "text": [
            "正常體重\n"
          ]
        }
      ]
    },
    {
      "cell_type": "code",
      "source": [
        "bmi2(1.83, 80)"
      ],
      "metadata": {
        "colab": {
          "base_uri": "https://localhost:8080/",
          "height": 35
        },
        "id": "V_BUrtmQq346",
        "outputId": "a8b58eea-33c4-4e27-fc70-7ac69597a7cd"
      },
      "execution_count": null,
      "outputs": [
        {
          "output_type": "execute_result",
          "data": {
            "text/plain": [
              "'正常體重'"
            ],
            "application/vnd.google.colaboratory.intrinsic+json": {
              "type": "string"
            }
          },
          "metadata": {},
          "execution_count": 35
        }
      ]
    },
    {
      "cell_type": "code",
      "source": [
        "!pip install gradio"
      ],
      "metadata": {
        "id": "LDG9KO_frBQe"
      },
      "execution_count": null,
      "outputs": []
    },
    {
      "cell_type": "code",
      "source": [
        "import gradio as gr"
      ],
      "metadata": {
        "id": "tX1-g41krT2I"
      },
      "execution_count": null,
      "outputs": []
    },
    {
      "cell_type": "code",
      "source": [
        "gr.Interface(bmi2, [\"number\",\"number\"],\"text\").launch()"
      ],
      "metadata": {
        "colab": {
          "base_uri": "https://localhost:8080/",
          "height": 616
        },
        "id": "zA9PWjtmrfsl",
        "outputId": "70c47dda-64fe-46e7-feb9-51af53d7f59c"
      },
      "execution_count": null,
      "outputs": [
        {
          "output_type": "stream",
          "name": "stdout",
          "text": [
            "Colab notebook detected. To show errors in colab notebook, set debug=True in launch()\n",
            "Note: opening Chrome Inspector may crash demo inside Colab notebooks.\n",
            "\n",
            "To create a public link, set `share=True` in `launch()`.\n"
          ]
        },
        {
          "output_type": "display_data",
          "data": {
            "text/plain": [
              "<IPython.core.display.Javascript object>"
            ],
            "application/javascript": [
              "(async (port, path, width, height, cache, element) => {\n",
              "                        if (!google.colab.kernel.accessAllowed && !cache) {\n",
              "                            return;\n",
              "                        }\n",
              "                        element.appendChild(document.createTextNode(''));\n",
              "                        const url = await google.colab.kernel.proxyPort(port, {cache});\n",
              "\n",
              "                        const external_link = document.createElement('div');\n",
              "                        external_link.innerHTML = `\n",
              "                            <div style=\"font-family: monospace; margin-bottom: 0.5rem\">\n",
              "                                Running on <a href=${new URL(path, url).toString()} target=\"_blank\">\n",
              "                                    https://localhost:${port}${path}\n",
              "                                </a>\n",
              "                            </div>\n",
              "                        `;\n",
              "                        element.appendChild(external_link);\n",
              "\n",
              "                        const iframe = document.createElement('iframe');\n",
              "                        iframe.src = new URL(path, url).toString();\n",
              "                        iframe.height = height;\n",
              "                        iframe.allow = \"autoplay; camera; microphone; clipboard-read; clipboard-write;\"\n",
              "                        iframe.width = width;\n",
              "                        iframe.style.border = 0;\n",
              "                        element.appendChild(iframe);\n",
              "                    })(7860, \"/\", \"100%\", 500, false, window.element)"
            ]
          },
          "metadata": {}
        },
        {
          "output_type": "execute_result",
          "data": {
            "text/plain": []
          },
          "metadata": {},
          "execution_count": 38
        }
      ]
    },
    {
      "cell_type": "code",
      "source": [
        "gr.Interface(bmi1, [\"number\",\"number\"],\"text\").launch()"
      ],
      "metadata": {
        "colab": {
          "base_uri": "https://localhost:8080/",
          "height": 616
        },
        "id": "0AXrleksrsEa",
        "outputId": "04d381c7-ead8-4203-9c9c-c14a0601d76e"
      },
      "execution_count": null,
      "outputs": [
        {
          "output_type": "stream",
          "name": "stdout",
          "text": [
            "Colab notebook detected. To show errors in colab notebook, set debug=True in launch()\n",
            "Note: opening Chrome Inspector may crash demo inside Colab notebooks.\n",
            "\n",
            "To create a public link, set `share=True` in `launch()`.\n"
          ]
        },
        {
          "output_type": "display_data",
          "data": {
            "text/plain": [
              "<IPython.core.display.Javascript object>"
            ],
            "application/javascript": [
              "(async (port, path, width, height, cache, element) => {\n",
              "                        if (!google.colab.kernel.accessAllowed && !cache) {\n",
              "                            return;\n",
              "                        }\n",
              "                        element.appendChild(document.createTextNode(''));\n",
              "                        const url = await google.colab.kernel.proxyPort(port, {cache});\n",
              "\n",
              "                        const external_link = document.createElement('div');\n",
              "                        external_link.innerHTML = `\n",
              "                            <div style=\"font-family: monospace; margin-bottom: 0.5rem\">\n",
              "                                Running on <a href=${new URL(path, url).toString()} target=\"_blank\">\n",
              "                                    https://localhost:${port}${path}\n",
              "                                </a>\n",
              "                            </div>\n",
              "                        `;\n",
              "                        element.appendChild(external_link);\n",
              "\n",
              "                        const iframe = document.createElement('iframe');\n",
              "                        iframe.src = new URL(path, url).toString();\n",
              "                        iframe.height = height;\n",
              "                        iframe.allow = \"autoplay; camera; microphone; clipboard-read; clipboard-write;\"\n",
              "                        iframe.width = width;\n",
              "                        iframe.style.border = 0;\n",
              "                        element.appendChild(iframe);\n",
              "                    })(7861, \"/\", \"100%\", 500, false, window.element)"
            ]
          },
          "metadata": {}
        },
        {
          "output_type": "execute_result",
          "data": {
            "text/plain": []
          },
          "metadata": {},
          "execution_count": 39
        }
      ]
    },
    {
      "cell_type": "code",
      "source": [
        "def bmi3(h, w):\n",
        "  BMI = w/h**2\n",
        "  if BMI < 18.5:\n",
        "    return BMI, \"體重過輕\"\n",
        "  elif BMI > 24:\n",
        "    return BMI, \"體重過重\"\n",
        "  else:\n",
        "    return BMI, \"正常體重\""
      ],
      "metadata": {
        "id": "0Sz_KIpAua8x"
      },
      "execution_count": null,
      "outputs": []
    },
    {
      "cell_type": "code",
      "source": [
        "gr.Interface(bmi3, [\"number\",\"number\"],\"text\").launch()"
      ],
      "metadata": {
        "colab": {
          "base_uri": "https://localhost:8080/",
          "height": 616
        },
        "id": "pbxyhcUQvJ7Z",
        "outputId": "5a5d5a81-5240-42c0-ffbd-286c1c6cd588"
      },
      "execution_count": null,
      "outputs": [
        {
          "output_type": "stream",
          "name": "stdout",
          "text": [
            "Colab notebook detected. To show errors in colab notebook, set debug=True in launch()\n",
            "Note: opening Chrome Inspector may crash demo inside Colab notebooks.\n",
            "\n",
            "To create a public link, set `share=True` in `launch()`.\n"
          ]
        },
        {
          "output_type": "display_data",
          "data": {
            "text/plain": [
              "<IPython.core.display.Javascript object>"
            ],
            "application/javascript": [
              "(async (port, path, width, height, cache, element) => {\n",
              "                        if (!google.colab.kernel.accessAllowed && !cache) {\n",
              "                            return;\n",
              "                        }\n",
              "                        element.appendChild(document.createTextNode(''));\n",
              "                        const url = await google.colab.kernel.proxyPort(port, {cache});\n",
              "\n",
              "                        const external_link = document.createElement('div');\n",
              "                        external_link.innerHTML = `\n",
              "                            <div style=\"font-family: monospace; margin-bottom: 0.5rem\">\n",
              "                                Running on <a href=${new URL(path, url).toString()} target=\"_blank\">\n",
              "                                    https://localhost:${port}${path}\n",
              "                                </a>\n",
              "                            </div>\n",
              "                        `;\n",
              "                        element.appendChild(external_link);\n",
              "\n",
              "                        const iframe = document.createElement('iframe');\n",
              "                        iframe.src = new URL(path, url).toString();\n",
              "                        iframe.height = height;\n",
              "                        iframe.allow = \"autoplay; camera; microphone; clipboard-read; clipboard-write;\"\n",
              "                        iframe.width = width;\n",
              "                        iframe.style.border = 0;\n",
              "                        element.appendChild(iframe);\n",
              "                    })(7862, \"/\", \"100%\", 500, false, window.element)"
            ]
          },
          "metadata": {}
        },
        {
          "output_type": "execute_result",
          "data": {
            "text/plain": []
          },
          "metadata": {},
          "execution_count": 41
        }
      ]
    },
    {
      "cell_type": "code",
      "source": [
        "gr.Interface(bmi3, [\"number\",\"number\"],[\"number\",\"text\"]).launch()"
      ],
      "metadata": {
        "colab": {
          "base_uri": "https://localhost:8080/",
          "height": 616
        },
        "id": "7isWtoIYvQNw",
        "outputId": "cb15eb1a-83b4-4f5d-b9b1-e15433d3b997"
      },
      "execution_count": null,
      "outputs": [
        {
          "output_type": "stream",
          "name": "stdout",
          "text": [
            "Colab notebook detected. To show errors in colab notebook, set debug=True in launch()\n",
            "Note: opening Chrome Inspector may crash demo inside Colab notebooks.\n",
            "\n",
            "To create a public link, set `share=True` in `launch()`.\n"
          ]
        },
        {
          "output_type": "display_data",
          "data": {
            "text/plain": [
              "<IPython.core.display.Javascript object>"
            ],
            "application/javascript": [
              "(async (port, path, width, height, cache, element) => {\n",
              "                        if (!google.colab.kernel.accessAllowed && !cache) {\n",
              "                            return;\n",
              "                        }\n",
              "                        element.appendChild(document.createTextNode(''));\n",
              "                        const url = await google.colab.kernel.proxyPort(port, {cache});\n",
              "\n",
              "                        const external_link = document.createElement('div');\n",
              "                        external_link.innerHTML = `\n",
              "                            <div style=\"font-family: monospace; margin-bottom: 0.5rem\">\n",
              "                                Running on <a href=${new URL(path, url).toString()} target=\"_blank\">\n",
              "                                    https://localhost:${port}${path}\n",
              "                                </a>\n",
              "                            </div>\n",
              "                        `;\n",
              "                        element.appendChild(external_link);\n",
              "\n",
              "                        const iframe = document.createElement('iframe');\n",
              "                        iframe.src = new URL(path, url).toString();\n",
              "                        iframe.height = height;\n",
              "                        iframe.allow = \"autoplay; camera; microphone; clipboard-read; clipboard-write;\"\n",
              "                        iframe.width = width;\n",
              "                        iframe.style.border = 0;\n",
              "                        element.appendChild(iframe);\n",
              "                    })(7863, \"/\", \"100%\", 500, false, window.element)"
            ]
          },
          "metadata": {}
        },
        {
          "output_type": "execute_result",
          "data": {
            "text/plain": []
          },
          "metadata": {},
          "execution_count": 42
        }
      ]
    },
    {
      "cell_type": "code",
      "source": [
        "gr.Interface(bmi3, \n",
        "             [gr.Number(label=\"身高(公尺)\"),gr.Number(label=\"體重(公斤)\")],\n",
        "             [gr.Number(label=\"BMI\"),gr.Text(label=\"體位狀況\")]\n",
        "             ).launch()"
      ],
      "metadata": {
        "colab": {
          "base_uri": "https://localhost:8080/",
          "height": 616
        },
        "id": "jh5GcYvbvcj6",
        "outputId": "3ab89bdf-c2bf-469b-a125-e2773cb941c7"
      },
      "execution_count": null,
      "outputs": [
        {
          "output_type": "stream",
          "name": "stdout",
          "text": [
            "Colab notebook detected. To show errors in colab notebook, set debug=True in launch()\n",
            "Note: opening Chrome Inspector may crash demo inside Colab notebooks.\n",
            "\n",
            "To create a public link, set `share=True` in `launch()`.\n"
          ]
        },
        {
          "output_type": "display_data",
          "data": {
            "text/plain": [
              "<IPython.core.display.Javascript object>"
            ],
            "application/javascript": [
              "(async (port, path, width, height, cache, element) => {\n",
              "                        if (!google.colab.kernel.accessAllowed && !cache) {\n",
              "                            return;\n",
              "                        }\n",
              "                        element.appendChild(document.createTextNode(''));\n",
              "                        const url = await google.colab.kernel.proxyPort(port, {cache});\n",
              "\n",
              "                        const external_link = document.createElement('div');\n",
              "                        external_link.innerHTML = `\n",
              "                            <div style=\"font-family: monospace; margin-bottom: 0.5rem\">\n",
              "                                Running on <a href=${new URL(path, url).toString()} target=\"_blank\">\n",
              "                                    https://localhost:${port}${path}\n",
              "                                </a>\n",
              "                            </div>\n",
              "                        `;\n",
              "                        element.appendChild(external_link);\n",
              "\n",
              "                        const iframe = document.createElement('iframe');\n",
              "                        iframe.src = new URL(path, url).toString();\n",
              "                        iframe.height = height;\n",
              "                        iframe.allow = \"autoplay; camera; microphone; clipboard-read; clipboard-write;\"\n",
              "                        iframe.width = width;\n",
              "                        iframe.style.border = 0;\n",
              "                        element.appendChild(iframe);\n",
              "                    })(7864, \"/\", \"100%\", 500, false, window.element)"
            ]
          },
          "metadata": {}
        },
        {
          "output_type": "execute_result",
          "data": {
            "text/plain": []
          },
          "metadata": {},
          "execution_count": 43
        }
      ]
    },
    {
      "cell_type": "markdown",
      "source": [
        "### bool 複習"
      ],
      "metadata": {
        "id": "ibPQkH7gxC2R"
      }
    },
    {
      "cell_type": "code",
      "source": [
        "s = \"我是一個字串\""
      ],
      "metadata": {
        "id": "WvuGcxbWwLrh"
      },
      "execution_count": null,
      "outputs": []
    },
    {
      "cell_type": "code",
      "source": [
        "if s:\n",
        "  print(s)"
      ],
      "metadata": {
        "colab": {
          "base_uri": "https://localhost:8080/"
        },
        "id": "usf8aCuNxNM2",
        "outputId": "b51b56d3-ad6c-4420-8120-66eea43876ca"
      },
      "execution_count": null,
      "outputs": [
        {
          "output_type": "stream",
          "name": "stdout",
          "text": [
            "我是一個字串\n"
          ]
        }
      ]
    },
    {
      "cell_type": "code",
      "source": [
        "bool(s)"
      ],
      "metadata": {
        "colab": {
          "base_uri": "https://localhost:8080/"
        },
        "id": "ByuOyydfxSAs",
        "outputId": "d47d1a33-692c-4301-a6b0-6cc0ec7d0c23"
      },
      "execution_count": null,
      "outputs": [
        {
          "output_type": "execute_result",
          "data": {
            "text/plain": [
              "True"
            ]
          },
          "metadata": {},
          "execution_count": 46
        }
      ]
    },
    {
      "cell_type": "code",
      "source": [
        "bool(\"\")"
      ],
      "metadata": {
        "colab": {
          "base_uri": "https://localhost:8080/"
        },
        "id": "TkgIuyB8xZge",
        "outputId": "d3c44c56-e80a-415a-de68-44d23dea83e9"
      },
      "execution_count": null,
      "outputs": [
        {
          "output_type": "execute_result",
          "data": {
            "text/plain": [
              "False"
            ]
          },
          "metadata": {},
          "execution_count": 47
        }
      ]
    },
    {
      "cell_type": "code",
      "source": [
        "bool([])"
      ],
      "metadata": {
        "colab": {
          "base_uri": "https://localhost:8080/"
        },
        "id": "Gi3EGrfLxbHv",
        "outputId": "95c9a910-6629-4866-db22-fbc57b21e663"
      },
      "execution_count": null,
      "outputs": [
        {
          "output_type": "execute_result",
          "data": {
            "text/plain": [
              "False"
            ]
          },
          "metadata": {},
          "execution_count": 48
        }
      ]
    },
    {
      "cell_type": "code",
      "source": [
        "bool([1])"
      ],
      "metadata": {
        "colab": {
          "base_uri": "https://localhost:8080/"
        },
        "id": "XDyyZedGxcq2",
        "outputId": "a6d36d0f-c22b-45a0-bd04-d281e6e52b60"
      },
      "execution_count": null,
      "outputs": [
        {
          "output_type": "execute_result",
          "data": {
            "text/plain": [
              "True"
            ]
          },
          "metadata": {},
          "execution_count": 49
        }
      ]
    },
    {
      "cell_type": "code",
      "source": [
        "bool([[]])"
      ],
      "metadata": {
        "colab": {
          "base_uri": "https://localhost:8080/"
        },
        "id": "UsfGM8TBxePW",
        "outputId": "9438d0ef-9dde-4e3e-9261-6752a691d326"
      },
      "execution_count": null,
      "outputs": [
        {
          "output_type": "execute_result",
          "data": {
            "text/plain": [
              "True"
            ]
          },
          "metadata": {},
          "execution_count": 50
        }
      ]
    },
    {
      "cell_type": "code",
      "source": [
        "x = list(\"abcde\")"
      ],
      "metadata": {
        "id": "5ljq-ibRxf8m"
      },
      "execution_count": null,
      "outputs": []
    },
    {
      "cell_type": "code",
      "source": [
        "if x:\n",
        "  print(x)"
      ],
      "metadata": {
        "colab": {
          "base_uri": "https://localhost:8080/"
        },
        "id": "u5ekZst0xp-Z",
        "outputId": "6296a733-4b5c-4a4b-fa7b-d225df877e60"
      },
      "execution_count": null,
      "outputs": [
        {
          "output_type": "stream",
          "name": "stdout",
          "text": [
            "['a', 'b', 'c', 'd', 'e']\n"
          ]
        }
      ]
    },
    {
      "cell_type": "code",
      "source": [
        "True + True"
      ],
      "metadata": {
        "colab": {
          "base_uri": "https://localhost:8080/"
        },
        "id": "cgb1NjkqxroQ",
        "outputId": "0910985f-088b-42db-b5ea-dc6d489921a5"
      },
      "execution_count": null,
      "outputs": [
        {
          "output_type": "execute_result",
          "data": {
            "text/plain": [
              "2"
            ]
          },
          "metadata": {},
          "execution_count": 53
        }
      ]
    },
    {
      "cell_type": "code",
      "source": [
        "True + False"
      ],
      "metadata": {
        "colab": {
          "base_uri": "https://localhost:8080/"
        },
        "id": "DFzBQgRAx5XK",
        "outputId": "238393d6-8301-4717-c93f-ff25c8af2a18"
      },
      "execution_count": null,
      "outputs": [
        {
          "output_type": "execute_result",
          "data": {
            "text/plain": [
              "1"
            ]
          },
          "metadata": {},
          "execution_count": 54
        }
      ]
    },
    {
      "cell_type": "markdown",
      "source": [
        "### for 迴圈\n",
        "\n",
        "```python\n",
        "for 變數 in 資料結構:\n",
        "  程式區塊\n",
        "```"
      ],
      "metadata": {
        "id": "o8fQansdyEE0"
      }
    },
    {
      "cell_type": "code",
      "source": [
        "for i in range(3):\n",
        "  print(i)"
      ],
      "metadata": {
        "colab": {
          "base_uri": "https://localhost:8080/"
        },
        "id": "SkyxbBr7x9PS",
        "outputId": "7455665e-9a94-4f8e-a59e-6c02ba0f3e5b"
      },
      "execution_count": null,
      "outputs": [
        {
          "output_type": "stream",
          "name": "stdout",
          "text": [
            "0\n",
            "1\n",
            "2\n"
          ]
        }
      ]
    },
    {
      "cell_type": "code",
      "source": [
        "for i in range(3):\n",
        "  print(\"程式區塊開始\")\n",
        "  print(i)\n",
        "  print(\"程式區塊結束\")"
      ],
      "metadata": {
        "colab": {
          "base_uri": "https://localhost:8080/"
        },
        "id": "I8WHCZB4yJVk",
        "outputId": "990a1e51-3957-4233-a051-cc15dc0342e9"
      },
      "execution_count": null,
      "outputs": [
        {
          "output_type": "stream",
          "name": "stdout",
          "text": [
            "程式區塊開始\n",
            "0\n",
            "程式區塊結束\n",
            "程式區塊開始\n",
            "1\n",
            "程式區塊結束\n",
            "程式區塊開始\n",
            "2\n",
            "程式區塊結束\n"
          ]
        }
      ]
    },
    {
      "cell_type": "code",
      "source": [
        "for i in range(3):\n",
        "  print(\"程式區塊開始\")\n",
        "  print(i)\n",
        "print(\"程式區塊結束\")"
      ],
      "metadata": {
        "colab": {
          "base_uri": "https://localhost:8080/"
        },
        "id": "oLivOIoGye7f",
        "outputId": "7a70fa4b-7f2a-40d5-f7c2-bc74031b39a8"
      },
      "execution_count": null,
      "outputs": [
        {
          "output_type": "stream",
          "name": "stdout",
          "text": [
            "程式區塊開始\n",
            "0\n",
            "程式區塊開始\n",
            "1\n",
            "程式區塊開始\n",
            "2\n",
            "程式區塊結束\n"
          ]
        }
      ]
    },
    {
      "cell_type": "markdown",
      "source": [
        "#### for迴圈 v.s., str"
      ],
      "metadata": {
        "id": "ePH7Srf-zDw-"
      }
    },
    {
      "cell_type": "code",
      "source": [
        "s = \"abcde\"\n",
        "for i in s:\n",
        "  print(i)"
      ],
      "metadata": {
        "colab": {
          "base_uri": "https://localhost:8080/"
        },
        "id": "W1Z8MOSTzHN2",
        "outputId": "af02cdcb-e21a-4a32-b8c4-8fe73a8dc598"
      },
      "execution_count": null,
      "outputs": [
        {
          "output_type": "stream",
          "name": "stdout",
          "text": [
            "a\n",
            "b\n",
            "c\n",
            "d\n",
            "e\n"
          ]
        }
      ]
    },
    {
      "cell_type": "code",
      "source": [
        "len(s)"
      ],
      "metadata": {
        "colab": {
          "base_uri": "https://localhost:8080/"
        },
        "id": "w5zt7uR0zYhv",
        "outputId": "7f79aaec-82dd-40e9-86b1-90293bf3e7ec"
      },
      "execution_count": null,
      "outputs": [
        {
          "output_type": "execute_result",
          "data": {
            "text/plain": [
              "5"
            ]
          },
          "metadata": {},
          "execution_count": 61
        }
      ]
    },
    {
      "cell_type": "markdown",
      "source": [
        "#### for迴圈 v.s., list"
      ],
      "metadata": {
        "id": "IUnzx3Hmy1hD"
      }
    },
    {
      "cell_type": "code",
      "source": [
        "x"
      ],
      "metadata": {
        "colab": {
          "base_uri": "https://localhost:8080/"
        },
        "id": "iU8nB2_OyjrA",
        "outputId": "0fcdcd0a-86a6-4b3a-a672-2d455ab2d1ca"
      },
      "execution_count": null,
      "outputs": [
        {
          "output_type": "execute_result",
          "data": {
            "text/plain": [
              "['a', 'b', 'c', 'd', 'e']"
            ]
          },
          "metadata": {},
          "execution_count": 58
        }
      ]
    },
    {
      "cell_type": "code",
      "source": [
        "for i in x:\n",
        "  print(i)"
      ],
      "metadata": {
        "colab": {
          "base_uri": "https://localhost:8080/"
        },
        "id": "p9voJF1zy9DU",
        "outputId": "ddf8dfd6-1072-40ee-d197-368e2d02cdcc"
      },
      "execution_count": null,
      "outputs": [
        {
          "output_type": "stream",
          "name": "stdout",
          "text": [
            "a\n",
            "b\n",
            "c\n",
            "d\n",
            "e\n"
          ]
        }
      ]
    },
    {
      "cell_type": "code",
      "source": [
        "y = [1, 3, 2, 5, 4]"
      ],
      "metadata": {
        "id": "qrrdKwpNy_un"
      },
      "execution_count": null,
      "outputs": []
    },
    {
      "cell_type": "code",
      "source": [
        "for i in y:\n",
        "  print(i)"
      ],
      "metadata": {
        "colab": {
          "base_uri": "https://localhost:8080/"
        },
        "id": "OVlMzoslzhoS",
        "outputId": "844035eb-afc9-4bbf-8bbb-1852e3e7172c"
      },
      "execution_count": null,
      "outputs": [
        {
          "output_type": "stream",
          "name": "stdout",
          "text": [
            "1\n",
            "3\n",
            "2\n",
            "5\n",
            "4\n"
          ]
        }
      ]
    },
    {
      "cell_type": "code",
      "source": [
        "for i in y:\n",
        "  print(i**2)"
      ],
      "metadata": {
        "colab": {
          "base_uri": "https://localhost:8080/"
        },
        "id": "wiih4HOFzjPy",
        "outputId": "ea6dbd86-2c53-44ab-92ac-24ebe2d2c945"
      },
      "execution_count": null,
      "outputs": [
        {
          "output_type": "stream",
          "name": "stdout",
          "text": [
            "1\n",
            "9\n",
            "4\n",
            "25\n",
            "16\n"
          ]
        }
      ]
    },
    {
      "cell_type": "markdown",
      "source": [
        "#### for迴圈 v.s., dict"
      ],
      "metadata": {
        "id": "rnyNj2L8zsSd"
      }
    },
    {
      "cell_type": "code",
      "source": [
        "d = {}"
      ],
      "metadata": {
        "id": "qYpRAC5mzneK"
      },
      "execution_count": null,
      "outputs": []
    },
    {
      "cell_type": "code",
      "source": [
        "d['dog'] = '狗狗'\n",
        "d['cat'] = '貓咪'\n",
        "d['rabbit'] = '兔兔'"
      ],
      "metadata": {
        "id": "gseHk_VvzyD1"
      },
      "execution_count": null,
      "outputs": []
    },
    {
      "cell_type": "code",
      "source": [
        "d"
      ],
      "metadata": {
        "colab": {
          "base_uri": "https://localhost:8080/"
        },
        "id": "UuTDcEkLz7Cg",
        "outputId": "6cc2faa6-258b-4200-b426-5d34f128f5f1"
      },
      "execution_count": null,
      "outputs": [
        {
          "output_type": "execute_result",
          "data": {
            "text/plain": [
              "{'dog': '狗狗', 'cat': '貓咪', 'rabbit': '兔兔'}"
            ]
          },
          "metadata": {},
          "execution_count": 67
        }
      ]
    },
    {
      "cell_type": "code",
      "source": [
        "for i in d:\n",
        "  print(i)"
      ],
      "metadata": {
        "colab": {
          "base_uri": "https://localhost:8080/"
        },
        "id": "atcM-woJz7df",
        "outputId": "81fd3018-2663-4f3d-ae15-bdf6acb8e2cd"
      },
      "execution_count": null,
      "outputs": [
        {
          "output_type": "stream",
          "name": "stdout",
          "text": [
            "dog\n",
            "cat\n",
            "rabbit\n"
          ]
        }
      ]
    },
    {
      "cell_type": "code",
      "source": [
        "for i in d:\n",
        "  print(d[i])"
      ],
      "metadata": {
        "colab": {
          "base_uri": "https://localhost:8080/"
        },
        "id": "fxYmurlO0CZg",
        "outputId": "5d6423a8-60ec-4a20-a6b6-72399af53ce1"
      },
      "execution_count": null,
      "outputs": [
        {
          "output_type": "stream",
          "name": "stdout",
          "text": [
            "狗狗\n",
            "貓咪\n",
            "兔兔\n"
          ]
        }
      ]
    },
    {
      "cell_type": "code",
      "source": [
        "for i in d:\n",
        "  print(i, \"是\", d[i])"
      ],
      "metadata": {
        "colab": {
          "base_uri": "https://localhost:8080/"
        },
        "id": "LiONsJd10hqy",
        "outputId": "70654c9c-67fd-451c-92a2-df720f36be68"
      },
      "execution_count": null,
      "outputs": [
        {
          "output_type": "stream",
          "name": "stdout",
          "text": [
            "dog 是 狗狗\n",
            "cat 是 貓咪\n",
            "rabbit 是 兔兔\n"
          ]
        }
      ]
    },
    {
      "cell_type": "markdown",
      "source": [
        "#### 綜合練習\n",
        "\n",
        "印出台北市YouBike2.0站點資訊：\n",
        "\n",
        "https://tcgbusfs.blob.core.windows.net/dotapp/youbike/v2/youbike_immediate.json"
      ],
      "metadata": {
        "id": "ELFPFuCh2YKe"
      }
    },
    {
      "cell_type": "code",
      "source": [
        "import requests"
      ],
      "metadata": {
        "id": "x7HKKVi50yeF"
      },
      "execution_count": null,
      "outputs": []
    },
    {
      "cell_type": "code",
      "source": [
        "url = \"https://tcgbusfs.blob.core.windows.net/dotapp/youbike/v2/youbike_immediate.json\""
      ],
      "metadata": {
        "id": "UbJiupVL2jV4"
      },
      "execution_count": null,
      "outputs": []
    },
    {
      "cell_type": "code",
      "source": [
        "data = requests.get(url).json()"
      ],
      "metadata": {
        "id": "qJunBph32k7x"
      },
      "execution_count": null,
      "outputs": []
    },
    {
      "cell_type": "code",
      "source": [
        "type(data)"
      ],
      "metadata": {
        "colab": {
          "base_uri": "https://localhost:8080/"
        },
        "id": "zcV3ON2w2vSJ",
        "outputId": "07594f40-07fa-46d3-8b76-3bd964d96760"
      },
      "execution_count": null,
      "outputs": [
        {
          "output_type": "execute_result",
          "data": {
            "text/plain": [
              "list"
            ]
          },
          "metadata": {},
          "execution_count": 74
        }
      ]
    },
    {
      "cell_type": "code",
      "source": [
        "data[0]"
      ],
      "metadata": {
        "colab": {
          "base_uri": "https://localhost:8080/"
        },
        "id": "dczsk9V92xfJ",
        "outputId": "7675135f-55d2-4045-be2b-8a2c9094234e"
      },
      "execution_count": null,
      "outputs": [
        {
          "output_type": "execute_result",
          "data": {
            "text/plain": [
              "{'sno': '500101001',\n",
              " 'sna': 'YouBike2.0_捷運科技大樓站',\n",
              " 'tot': 28,\n",
              " 'sbi': 0,\n",
              " 'sarea': '大安區',\n",
              " 'mday': '2023-05-12 10:46:15',\n",
              " 'lat': 25.02605,\n",
              " 'lng': 121.5436,\n",
              " 'ar': '復興南路二段235號前',\n",
              " 'sareaen': 'Daan Dist.',\n",
              " 'snaen': 'YouBike2.0_MRT Technology Bldg. Sta.',\n",
              " 'aren': 'No.235， Sec. 2， Fuxing S. Rd.',\n",
              " 'bemp': 28,\n",
              " 'act': '1',\n",
              " 'srcUpdateTime': '2023-05-12 10:46:30',\n",
              " 'updateTime': '2023-05-12 10:46:52',\n",
              " 'infoTime': '2023-05-12 10:46:15',\n",
              " 'infoDate': '2023-05-12'}"
            ]
          },
          "metadata": {},
          "execution_count": 75
        }
      ]
    },
    {
      "cell_type": "code",
      "source": [
        "for i in data:\n",
        "  print(i['sna'], \"=>\", i['lat'], ',', i['lng'])"
      ],
      "metadata": {
        "id": "UNdM7Otz28hK"
      },
      "execution_count": null,
      "outputs": []
    },
    {
      "cell_type": "code",
      "source": [
        "len(data)"
      ],
      "metadata": {
        "colab": {
          "base_uri": "https://localhost:8080/"
        },
        "id": "lUHHPgGL5CmL",
        "outputId": "0be05a61-f30f-4f5e-9bb2-7011c5fc58b1"
      },
      "execution_count": null,
      "outputs": [
        {
          "output_type": "execute_result",
          "data": {
            "text/plain": [
              "1279"
            ]
          },
          "metadata": {},
          "execution_count": 77
        }
      ]
    },
    {
      "cell_type": "markdown",
      "source": [
        "#### 字串格式化 (f-string)"
      ],
      "metadata": {
        "id": "BoxwtQ9s5YtM"
      }
    },
    {
      "cell_type": "code",
      "source": [
        "x = 123\n",
        "y = 3.14159\n",
        "z = \"abcde\""
      ],
      "metadata": {
        "id": "f5elcmMF5IPj"
      },
      "execution_count": null,
      "outputs": []
    },
    {
      "cell_type": "code",
      "source": [
        "print(f\"x={x}, y={y}, z={z}\")"
      ],
      "metadata": {
        "colab": {
          "base_uri": "https://localhost:8080/"
        },
        "id": "JkGm1llG5pJ_",
        "outputId": "522c8186-d86c-49bc-c8e5-4c3f6bd7952d"
      },
      "execution_count": null,
      "outputs": [
        {
          "output_type": "stream",
          "name": "stdout",
          "text": [
            "x=123, y=3.14159, z=abcde\n"
          ]
        }
      ]
    },
    {
      "cell_type": "code",
      "source": [
        "print(\"x={x}, y={y}, z={z}\")"
      ],
      "metadata": {
        "colab": {
          "base_uri": "https://localhost:8080/"
        },
        "id": "OkwL9arn5wpX",
        "outputId": "3aeb58b9-ac23-4a5f-ac1a-721e769de939"
      },
      "execution_count": null,
      "outputs": [
        {
          "output_type": "stream",
          "name": "stdout",
          "text": [
            "x={x}, y={y}, z={z}\n"
          ]
        }
      ]
    },
    {
      "cell_type": "code",
      "source": [
        "for i in data:\n",
        "  print(f\"站點名稱:{i['sna']} => ({i['lat']},{i['lng']})\")"
      ],
      "metadata": {
        "colab": {
          "base_uri": "https://localhost:8080/"
        },
        "id": "Fjr2WGlf55Qv",
        "outputId": "84072e09-cdc3-403b-9cfa-264df71c3964"
      },
      "execution_count": null,
      "outputs": [
        {
          "output_type": "stream",
          "name": "stdout",
          "text": [
            "站點名稱:YouBike2.0_捷運科技大樓站 => (25.02605,121.5436)\n",
            "站點名稱:YouBike2.0_復興南路二段273號前 => (25.02565,121.54357)\n",
            "站點名稱:YouBike2.0_國北教大實小東側門 => (25.02429,121.54124)\n",
            "站點名稱:YouBike2.0_和平公園東側 => (25.02351,121.54282)\n",
            "站點名稱:YouBike2.0_辛亥復興路口西北側 => (25.02153,121.54299)\n",
            "站點名稱:YouBike2.0_復興南路二段280號前 => (25.02429,121.54328)\n",
            "站點名稱:YouBike2.0_復興南路二段340巷口 => (25.02253,121.54326)\n",
            "站點名稱:YouBike2.0_新生南路三段52號前 => (25.02112,121.53407)\n",
            "站點名稱:YouBike2.0_新生南路三段66號前 => (25.01976,121.53384)\n",
            "站點名稱:YouBike2.0_新生南路三段82號前 => (25.01894,121.53361)\n",
            "站點名稱:YouBike2.0_辛亥路一段30號前 => (25.01986,121.52982)\n",
            "站點名稱:YouBike2.0_和平復興路口西北側 => (25.02543,121.54332)\n",
            "站點名稱:YouBike2.0_羅斯福路三段311號前 => (25.01717,121.53202)\n",
            "站點名稱:YouBike2.0_大安運動中心停車場 => (25.020348,121.546446)\n",
            "站點名稱:YouBike2.0_羅斯福路三段245號前 => (25.01927,121.52989)\n",
            "站點名稱:YouBike2.0_溫州公園 => (25.01895,121.53156)\n",
            "站點名稱:YouBike2.0_和平臥龍街口 => (25.024461,121.546705)\n",
            "站點名稱:YouBike2.0_溫州停車場 => (25.02093,121.5331)\n",
            "站點名稱:YouBike2.0_銘傳國小側門 => (25.01385,121.53549)\n",
            "站點名稱:YouBike2.0_捷運公館站(2號出口) => (25.01491,121.53438)\n",
            "站點名稱:YouBike2.0_第二學生活動中心 => (25.01244,121.53661)\n",
            "站點名稱:YouBike2.0_臺灣科技大學正門 => (25.01451,121.54142)\n",
            "站點名稱:YouBike2.0_臺灣科技大學側門 => (25.01295,121.53973)\n",
            "站點名稱:YouBike2.0_公館公園 => (25.01137,121.54062)\n",
            "站點名稱:YouBike2.0_臺灣科技大學後門 => (25.01182,121.54165)\n",
            "站點名稱:YouBike2.0_臺大醫學院附設癌醫中心 => (25.01426,121.54382)\n",
            "站點名稱:YouBike2.0_臺大環研大樓 => (25.01234,121.54503)\n",
            "站點名稱:YouBike2.0_臺大永齡生醫工程館 => (25.0136,121.54656)\n",
            "站點名稱:YouBike2.0_臺大男七舍前 => (25.01537,121.54698)\n",
            "站點名稱:YouBike2.0_臺大男一舍前 => (25.01637,121.54535)\n",
            "站點名稱:YouBike2.0_臺大男六舍前 => (25.01664,121.5452)\n",
            "站點名稱:YouBike2.0_臺大動物醫院前 => (25.01576,121.54291)\n",
            "站點名稱:YouBike2.0_臺大土木研究大樓前 => (25.01787,121.5476)\n",
            "站點名稱:YouBike2.0_臺大萬才館前 => (25.02032,121.54497)\n",
            "站點名稱:YouBike2.0_臺大國青大樓宿舍前 => (25.02076,121.54432)\n",
            "站點名稱:YouBike2.0_臺大社科院圖書館前 => (25.02101,121.54284)\n",
            "站點名稱:YouBike2.0_臺大法人語言訓練中心前 => (25.02104,121.54081)\n",
            "站點名稱:YouBike2.0_臺大綜合體育館停車場前 => (25.0222,121.53626)\n",
            "站點名稱:YouBike2.0_辛亥新生路口東南側 => (25.02218,121.53474)\n",
            "站點名稱:YouBike2.0_基隆長興路口東側 => (25.01727,121.54471)\n",
            "站點名稱:YouBike2.0_國北教大側門南側 => (25.022864,121.546622)\n",
            "站點名稱:YouBike2.0_和平實小東北側 => (25.021641,121.54704)\n",
            "站點名稱:YouBike2.0_大安區健康服務中心 => (25.021469,121.544069)\n",
            "站點名稱:YouBike2.0_辛亥泰順街口 => (25.02193,121.53165)\n",
            "站點名稱:YouBike2.0_芳和國中 => (25.0189,121.55013)\n",
            "站點名稱:YouBike2.0_臥龍樂業街口 => (25.01856,121.55558)\n",
            "站點名稱:YouBike2.0_臥龍公園 => (25.01623,121.55037)\n",
            "站點名稱:YouBike2.0_嘉興公園 => (25.021,121.55211)\n",
            "站點名稱:YouBike2.0_捷運麟光站(2號出口) => (25.0181,121.55929)\n",
            "站點名稱:YouBike2.0_捷運六張犁站 => (25.02397,121.55266)\n",
            "站點名稱:YouBike2.0_喬治工商 => (25.02705,121.55551)\n",
            "站點名稱:YouBike2.0_法治公園 => (25.02694,121.55325)\n",
            "站點名稱:YouBike2.0_捷運臺電大樓站(2號出口) => (25.02021,121.52942)\n",
            "站點名稱:YouBike2.0_和平金山路口 => (25.02669,121.52529)\n",
            "站點名稱:YouBike2.0_和平龍泉街口 => (25.02638,121.52971)\n",
            "站點名稱:YouBike2.0_和平泰順街口 => (25.02621,121.53171)\n",
            "站點名稱:YouBike2.0_臺灣師範大學(圖書館) => (25.0266,121.52973)\n",
            "站點名稱:YouBike2.0_捷運古亭站(6號出口) => (25.0276,121.52217)\n",
            "站點名稱:YouBike2.0_捷運古亭站(5號出口) => (25.02715,121.52293)\n",
            "站點名稱:YouBike2.0_臺北市立圖書館(總館) => (25.02895,121.5379)\n",
            "站點名稱:YouBike2.0_新生和平路口東北側 => (25.02657,121.53515)\n",
            "站點名稱:YouBike2.0_建國和平路口西北側 => (25.02606,121.53738)\n",
            "站點名稱:YouBike2.0_金華公園 => (25.02984,121.53107)\n",
            "站點名稱:YouBike2.0_捷運東門站(3號出口) => (25.03383,121.52815)\n",
            "站點名稱:YouBike2.0_金甌女中 => (25.03519,121.5245)\n",
            "站點名稱:YouBike2.0_金杭公園 => (25.03325,121.52436)\n",
            "站點名稱:YouBike2.0_愛國金山路口 => (25.03164,121.52661)\n",
            "站點名稱:YouBike2.0_敦化南路二段293巷口南側 => (25.0237,121.54899)\n",
            "站點名稱:YouBike2.0_敦化基隆路口 => (25.02215,121.54839)\n",
            "站點名稱:YouBike2.0_安和路二段181巷口 => (25.02721,121.54988)\n",
            "站點名稱:YouBike2.0_臨江街夜市(通化街101巷口) => (25.02952,121.55406)\n",
            "站點名稱:YouBike2.0_臨江街夜市(基隆路) => (25.02931,121.55721)\n",
            "站點名稱:YouBike2.0_台北科技大學億光大樓 => (25.04177,121.53833)\n",
            "站點名稱:YouBike2.0_新生南路一段119巷口 => (25.04003,121.53299)\n",
            "站點名稱:YouBike2.0_幸安國小(仁愛路) => (25.03753,121.53523)\n",
            "站點名稱:YouBike2.0_民榮公園 => (25.03534,121.5354)\n",
            "站點名稱:YouBike2.0_復興南路1段340巷口 => (25.03701,121.54348)\n",
            "站點名稱:YouBike2.0_建國濟南路口 => (25.03935,121.53828)\n",
            "站點名稱:YouBike2.0_捷運忠孝復興站(2號出口) => (25.04035,121.5436)\n",
            "站點名稱:YouBike2.0_捷運大安站(4號出口) => (25.0332,121.5439)\n",
            "站點名稱:YouBike2.0_捷運大安站(2號出口) => (25.03358,121.54141)\n",
            "站點名稱:YouBike2.0_信義大安路口(信維大樓) => (25.03317,121.54639)\n",
            "站點名稱:YouBike2.0_龍門廣場 => (25.04092,121.54825)\n",
            "站點名稱:YouBike2.0_仁愛安和路口 => (25.03754,121.55285)\n",
            "站點名稱:YouBike2.0_信義敦化路口 => (25.03333,121.54977)\n",
            "站點名稱:YouBike2.0_仁愛國中 => (25.03706,121.55166)\n",
            "站點名稱:YouBike2.0_捷運信義安和站(2號出口) => (25.03304,121.55171)\n",
            "站點名稱:YouBike2.0_八德市場 => (25.04463,121.53665)\n",
            "站點名稱:YouBike2.0_昌隆公園 => (25.04448,121.53946)\n",
            "站點名稱:YouBike2.0_捷運大安森林公園站(2號出口) => (25.03332,121.53435)\n",
            "站點名稱:YouBike2.0_信義延吉街口 => (25.03318,121.55725)\n",
            "站點名稱:YouBike2.0_光信公園(光復南路456巷) => (25.03513,121.5561)\n",
            "站點名稱:YouBike2.0_僑安地下停車場(2號出口)東南側 => (25.0391,121.5569)\n",
            "站點名稱:YouBike2.0_建國南路一段279巷口 => (25.03635,121.53833)\n",
            "站點名稱:YouBike2.0_捷運忠孝新生站(6號出口) => (25.04091,121.53295)\n",
            "站點名稱:YouBike2.0_捷運忠孝新生站(4號出口) => (25.04239,121.53324)\n",
            "站點名稱:YouBike2.0_大安高工 => (25.03126,121.54339)\n",
            "站點名稱:YouBike2.0_捷運忠孝新生站(3號出口) => (25.04189,121.53376)\n",
            "站點名稱:YouBike2.0_瑠公公園 => (25.04201,121.54612)\n",
            "站點名稱:YouBike2.0_敦化市民路口 => (25.04405,121.5486)\n",
            "站點名稱:YouBike2.0_捷運大安森林公園站(5號出口) => (25.03336,121.5364)\n",
            "站點名稱:YouBike2.0_信義建國路口 => (25.0328,121.53746)\n",
            "站點名稱:YouBike2.0_東豐公園 => (25.03569,121.5451)\n",
            "站點名稱:YouBike2.0_德安公園(四維路66巷) => (25.03473,121.54767)\n",
            "站點名稱:YouBike2.0_捷運忠孝復興站(5號出口) => (25.04262,121.54443)\n",
            "站點名稱:YouBike2.0_捷運忠孝敦化站(2號出口) => (25.04153,121.5524)\n",
            "站點名稱:YouBike2.0_捷運忠孝敦化站(7號出口) => (25.04159,121.54937)\n",
            "站點名稱:YouBike2.0_瑞安街208巷 => (25.02979,121.54053)\n",
            "站點名稱:YouBike2.0_樂利路21巷口 => (25.0277,121.55132)\n",
            "站點名稱:YouBike2.0_捷運科技大樓站(台北教育大學) => (25.02469,121.54459)\n",
            "站點名稱:YouBike2.0_捷運國父紀念館站(2號出口) => (25.04122,121.55745)\n",
            "站點名稱:YouBike2.0_仁愛醫院 => (25.03756,121.54587)\n",
            "站點名稱:YouBike2.0_捷運信義安和站(4號出口) => (25.03305,121.55378)\n",
            "站點名稱:YouBike2.0_成功國宅 => (25.02681,121.54668)\n",
            "站點名稱:YouBike2.0_仁愛延吉街口 => (25.03748,121.55564)\n",
            "站點名稱:YouBike2.0_捷運信義安和站(1號出口) => (25.03331,121.55265)\n",
            "站點名稱:YouBike2.0_敦化南路二段103巷口 => (25.0287,121.54904)\n",
            "站點名稱:YouBike2.0_復興南路二段128巷口 => (25.02861,121.54336)\n",
            "站點名稱:YouBike2.0_和平東建國南路口 => (25.02575,121.5377)\n",
            "站點名稱:YouBike2.0_芳蘭山莊 => (25.01223,121.54788)\n",
            "站點名稱:YouBike2.0_復興南路一段126巷口 => (25.04311,121.54313)\n",
            "站點名稱:YouBike2.0_捷運東門站(5號出口) => (25.03363,121.52962)\n",
            "站點名稱:YouBike2.0_仁愛路四段48巷口 => (25.03609,121.54709)\n",
            "站點名稱:YouBike2.0_捷運公館站(3號出口) => (25.01551,121.53374)\n",
            "站點名稱:YouBike2.0_臺北科技大學(電機工程系) => (25.04196,121.53653)\n",
            "站點名稱:YouBike2.0_忠孝東路三段217巷口 => (25.04176,121.54027)\n",
            "站點名稱:YouBike2.0_新生南路三段94巷口 => (25.01744,121.53334)\n",
            "站點名稱:YouBike2.0_辛亥新生路口西北側 => (25.02267,121.5341)\n",
            "站點名稱:YouBike2.0_捷運大安站(6號出口) => (25.03479,121.54376)\n",
            "站點名稱:YouBike2.0_臥龍街195巷口 => (25.01783,121.55224)\n",
            "站點名稱:YouBike2.0_辛亥路三段157巷口 => (25.01727,121.54904)\n",
            "站點名稱:YouBike2.0_臥龍基隆路口 => (25.02039,121.54853)\n",
            "站點名稱:YouBike2.0_敦親公園 => (25.02347,121.54108)\n",
            "站點名稱:YouBike2.0_大安運動中心 => (25.02054,121.54561)\n",
            "站點名稱:YouBike2.0_和平敦化路口 => (25.02444,121.54908)\n",
            "站點名稱:YouBike2.0_基隆長興路口 => (25.01705,121.54435)\n",
            "站點名稱:YouBike2.0_仁愛路四段122巷口 => (25.03762,121.55009)\n",
            "站點名稱:YouBike2.0_市民敦化路口 => (25.04464,121.54944)\n",
            "站點名稱:YouBike2.0_忠孝東路四段49巷口 => (25.04172,121.54541)\n",
            "站點名稱:YouBike2.0_市民復興路口(東南側) => (25.04472,121.54401)\n",
            "站點名稱:YouBike2.0_和平新生路口西南側 => (25.02598,121.53454)\n",
            "站點名稱:YouBike2.0_全安公園 => (25.02535,121.55101)\n",
            "站點名稱:YouBike2.0_信義路三段134巷口 => (25.03333,121.53968)\n",
            "站點名稱:YouBike2.0_仁愛敦南圓環(東南側) => (25.03715,121.54936)\n",
            "站點名稱:YouBike2.0_臺北遠企購物中心 => (25.02709,121.54902)\n",
            "站點名稱:YouBike2.0_外交部外交及國際事務學院 => (25.0371,121.54839)\n",
            "站點名稱:YouBike2.0_四維路170巷口 => (25.02821,121.54864)\n",
            "站點名稱:YouBike2.0_捷運大安站(3號出口) => (25.03328,121.5425)\n",
            "站點名稱:YouBike2.0_捷運臺電大樓站(2號出口)_1 => (25.02055,121.52855)\n",
            "站點名稱:YouBike2.0_信義路四段199巷 => (25.03459,121.55164)\n",
            "站點名稱:YouBike2.0_臺大資訊大樓 => (25.02101,121.54153)\n",
            "站點名稱:YouBike2.0_敦化南路二段81巷 => (25.03002,121.54893)\n",
            "站點名稱:YouBike2.0_原臺北刑務所官舍 => (25.03054,121.52466)\n",
            "站點名稱:YouBike2.0_捷運國父紀念館站(1號出口) => (25.04205,121.55657)\n",
            "站點名稱:YouBike2.0_懷生國中 => (25.0401,121.54122)\n",
            "站點名稱:YouBike2.0_仁愛敦南圓環(西北側) => (25.03827,121.54802)\n",
            "站點名稱:YouBike2.0_立人國小 => (25.02974,121.55146)\n",
            "站點名稱:YouBike2.0_和平東路二段18巷口 => (25.02268,121.53608)\n",
            "站點名稱:YouBike2.0_捷運大安站(5號出口) => (25.03303,121.54372)\n",
            "站點名稱:YouBike2.0_臨江公園 => (25.02832,121.55592)\n",
            "站點名稱:YouBike2.0_羅斯福路四段113巷19弄口 => (25.01027,121.53998)\n",
            "站點名稱:YouBike2.0_忠孝東路四段248巷口 => (25.04132,121.55393)\n",
            "站點名稱:YouBike2.0_仁愛延吉路口(西北側) => (25.03795,121.55466)\n",
            "站點名稱:YouBike2.0_樂利路101巷口 => (25.02528,121.55224)\n",
            "站點名稱:YouBike2.0_羅斯福浦城街口 => (25.02208,121.52678)\n",
            "站點名稱:YouBike2.0_延平國宅 => (25.07894,121.51121)\n",
            "站點名稱:YouBike2.0_臺北市立圖書館大同分館 => (25.0741,121.51349)\n",
            "站點名稱:YouBike2.0_合昌宮 => (25.07717,121.50934)\n",
            "站點名稱:YouBike2.0_民族延平路口 => (25.06864,121.5107)\n",
            "站點名稱:YouBike2.0_重慶酒泉街口 => (25.07158,121.51368)\n",
            "站點名稱:YouBike2.0_樹德公園 => (25.06647,121.5165)\n",
            "站點名稱:YouBike2.0_陳天來故居 => (25.05601,121.50895)\n",
            "站點名稱:YouBike2.0_臺北孔廟 => (25.07378,121.51583)\n",
            "站點名稱:YouBike2.0_捷運圓山站(1號出口) => (25.07133,121.52024)\n",
            "站點名稱:YouBike2.0_酒泉延平路口 => (25.0722,121.51057)\n",
            "站點名稱:YouBike2.0_重慶國中 => (25.07567,121.51862)\n",
            "站點名稱:YouBike2.0_重慶北路三段383巷口 => (25.07598,121.51409)\n",
            "站點名稱:YouBike2.0_台北數位產業園區 => (25.07447,121.52003)\n",
            "站點名稱:YouBike2.0_民權延平路口(西北側) => (25.06326,121.51099)\n",
            "站點名稱:YouBike2.0_民權迪化街口 => (25.06327,121.50943)\n",
            "站點名稱:YouBike2.0_大稻埕公園 => (25.05915,121.51033)\n",
            "站點名稱:YouBike2.0_大龍老人住宅 => (25.06853,121.51729)\n",
            "站點名稱:YouBike2.0_大龍峒社會住宅 => (25.0708,121.51826)\n",
            "站點名稱:YouBike2.0_捷運大橋頭站(2號出口) => (25.06314,121.51308)\n",
            "站點名稱:YouBike2.0_捷運大橋頭站(1A出口) => (25.06325,121.51162)\n",
            "站點名稱:YouBike2.0_捷運民權西路站(2號出口) => (25.06174,121.51969)\n",
            "站點名稱:YouBike2.0_捷運雙連站(2號出口) => (25.05826,121.52063)\n",
            "站點名稱:YouBike2.0_捷運北門站(3號出口) => (25.04991,121.5104)\n",
            "站點名稱:YouBike2.0_朝陽公園 => (25.05592,121.51367)\n",
            "站點名稱:YouBike2.0_永樂市場 => (25.05454,121.51052)\n",
            "站點名稱:YouBike2.0_大龍公園 => (25.07049,121.51596)\n",
            "站點名稱:YouBike2.0_重慶涼州街口 => (25.06054,121.51338)\n",
            "站點名稱:YouBike2.0_圓山線形公園 => (25.06867,121.51993)\n",
            "站點名稱:YouBike2.0_圓環站 => (25.05369,121.51418)\n",
            "站點名稱:YouBike2.0_重慶民族路口 => (25.06853,121.51359)\n",
            "站點名稱:YouBike2.0_承德路三段8巷口 => (25.06407,121.51822)\n",
            "站點名稱:YouBike2.0_太原廣場 => (25.04925,121.51468)\n",
            "站點名稱:YouBike2.0_國順公園 => (25.06594,121.51078)\n",
            "站點名稱:YouBike2.0_聯合醫院中興院區 => (25.05205,121.50818)\n",
            "站點名稱:YouBike2.0_蔣渭水紀念公園 => (25.06011,121.51729)\n",
            "站點名稱:YouBike2.0_迪化休閒運動公園 => (25.07491,121.5115)\n",
            "站點名稱:YouBike2.0_大同運動中心 => (25.06496,121.51608)\n",
            "站點名稱:YouBike2.0_重慶保安街口(家樂福重慶店) => (25.05918,121.51373)\n",
            "站點名稱:YouBike2.0_大稻埕碼頭 => (25.05662,121.50783)\n",
            "站點名稱:YouBike2.0_歸綏戲曲公園 => (25.05805,121.51353)\n",
            "站點名稱:YouBike2.0_民權國中(民權西路) => (25.06322,121.5144)\n",
            "站點名稱:YouBike2.0_承德民權路口 => (25.06247,121.51839)\n",
            "站點名稱:YouBike2.0_南京太原路口 => (25.05366,121.51638)\n",
            "站點名稱:YouBike2.0_承德民生西路口 => (25.05756,121.51828)\n",
            "站點名稱:YouBike2.0_太原五原路口 => (25.05646,121.51698)\n",
            "站點名稱:YouBike2.0_臺北轉運站(華陰街) => (25.04937,121.51914)\n",
            "站點名稱:YouBike2.0_捷運民權西路站(3號出口) => (25.06129,121.52021)\n",
            "站點名稱:YouBike2.0_捷運中山站(5號出口) => (25.05296,121.51938)\n",
            "站點名稱:YouBike2.0_重慶長安路口 => (25.0515,121.51398)\n",
            "站點名稱:YouBike2.0_承德昌吉街口 => (25.06587,121.51847)\n",
            "站點名稱:YouBike2.0_大同16號廣場 => (25.05658,121.50826)\n",
            "站點名稱:YouBike2.0_捷運圓山站(2號出口) => (25.07182,121.51929)\n",
            "站點名稱:YouBike2.0_樹德公園_1 => (25.06669,121.51615)\n",
            "站點名稱:YouBike2.0_承德鄭州路口(市民高架下) => (25.04879,121.51626)\n",
            "站點名稱:YouBike2.0_成淵高中 => (25.06036,121.51996)\n",
            "站點名稱:YouBike2.0_雙蓮國小 => (25.06157,121.51683)\n",
            "站點名稱:YouBike2.0_寧夏涼州街口 => (25.06095,121.51428)\n",
            "站點名稱:YouBike2.0_延平涼州街口 => (25.06092,121.51126)\n",
            "站點名稱:YouBike2.0_劍潭抽水站 => (25.08128,121.51784)\n",
            "站點名稱:YouBike2.0_通河東街大南路口 => (25.08914,121.51542)\n",
            "站點名稱:YouBike2.0_福港街停車場 => (25.08695,121.51901)\n",
            "站點名稱:YouBike2.0_百齡國小 => (25.08521,121.51918)\n",
            "站點名稱:YouBike2.0_雨聲街165巷口 => (25.10277,121.53357)\n",
            "站點名稱:YouBike2.0_天和公園 => (25.12001,121.53342)\n",
            "站點名稱:YouBike2.0_中山天母路口 => (25.11856,121.52964)\n",
            "站點名稱:YouBike2.0_天母運動公園 => (25.11633,121.53414)\n",
            "站點名稱:YouBike2.0_臺北市立大學(天母校區) => (25.11356,121.53718)\n",
            "站點名稱:YouBike2.0_忠誠路二段53巷 => (25.11127,121.53244)\n",
            "站點名稱:YouBike2.0_天母棒球場 => (25.11341,121.53195)\n",
            "站點名稱:YouBike2.0_天母北天玉街口 => (25.12011,121.52652)\n",
            "站點名稱:YouBike2.0_蘭興公園 => (25.11184,121.52589)\n",
            "站點名稱:YouBike2.0_明勝公園 => (25.08009,121.51895)\n",
            "站點名稱:YouBike2.0_劍潭海外青年活動中心 => (25.07994,121.52426)\n",
            "站點名稱:YouBike2.0_忠誠路一段173巷口 => (25.10813,121.5304)\n",
            "站點名稱:YouBike2.0_雨農國小 => (25.10564,121.52916)\n",
            "站點名稱:YouBike2.0_忠誠公園 => (25.10399,121.52593)\n",
            "站點名稱:YouBike2.0_芝山抽水站 => (25.10155,121.52832)\n",
            "站點名稱:YouBike2.0_至誠路一段305巷口 => (25.10186,121.53083)\n",
            "站點名稱:YouBike2.0_華齡公園 => (25.08302,121.52069)\n",
            "站點名稱:YouBike2.0_前港公園(福德宮) => (25.08671,121.52096)\n",
            "站點名稱:YouBike2.0_華齡街185巷口 => (25.08828,121.51985)\n",
            "站點名稱:YouBike2.0_前港公園(前港街) => (25.0848,121.52125)\n",
            "站點名稱:YouBike2.0_百齡高中 => (25.08736,121.52272)\n",
            "站點名稱:YouBike2.0_捷運芝山站(2號出口) => (25.10364,121.52219)\n",
            "站點名稱:YouBike2.0_臺灣戲曲中心 => (25.10208,121.51979)\n",
            "站點名稱:YouBike2.0_捷運劍潭站(2號出口) => (25.08288,121.52455)\n",
            "站點名稱:YouBike2.0_劍潭基河路口 => (25.08403,121.5249)\n",
            "站點名稱:YouBike2.0_志成公園 => (25.09667,121.53206)\n",
            "站點名稱:YouBike2.0_福林國小 => (25.09896,121.53025)\n",
            "站點名稱:YouBike2.0_中山中正路口 => (25.09651,121.52753)\n",
            "站點名稱:YouBike2.0_士林運動中心 => (25.08911,121.52154)\n",
            "站點名稱:YouBike2.0_陽明高中 => (25.09164,121.51706)\n",
            "站點名稱:YouBike2.0_兒童新樂園 => (25.09631,121.51449)\n",
            "站點名稱:YouBike2.0_臺北市立天文館 => (25.09598,121.51776)\n",
            "站點名稱:YouBike2.0_華聲公園 => (25.09619,121.5223)\n",
            "站點名稱:YouBike2.0_福林公園 => (25.09419,121.52833)\n",
            "站點名稱:YouBike2.0_捷運士林站(2號出口) => (25.09343,121.52642)\n",
            "站點名稱:YouBike2.0_銘傳大學 => (25.08771,121.52677)\n",
            "站點名稱:YouBike2.0_士林高商 => (25.09435,121.51702)\n",
            "站點名稱:YouBike2.0_蘭雅公園 => (25.10991,121.53039)\n",
            "站點名稱:YouBike2.0_聯合醫院陽明院區 => (25.10455,121.53195)\n",
            "站點名稱:YouBike2.0_捷運芝山站(1號出口) => (25.10225,121.52286)\n",
            "站點名稱:YouBike2.0_至誠公園 => (25.10143,121.53585)\n",
            "站點名稱:YouBike2.0_原住民文化主題公園 => (25.10113,121.55159)\n",
            "站點名稱:YouBike2.0_通河東街2段10巷口 => (25.09106,121.51502)\n",
            "站點名稱:YouBike2.0_梅林新村 => (25.09755,121.54036)\n",
            "站點名稱:YouBike2.0_延平北中正路口 => (25.08678,121.50948)\n",
            "站點名稱:YouBike2.0_重慶北路四段190巷口 => (25.08505,121.51166)\n",
            "站點名稱:YouBike2.0_重慶北葫東街口 => (25.08393,121.51169)\n",
            "站點名稱:YouBike2.0_葫蘆國小 => (25.08254,121.5075)\n",
            "站點名稱:YouBike2.0_士林3號廣場 => (25.10459,121.52417)\n",
            "站點名稱:YouBike2.0_社正公園 => (25.08824,121.51054)\n",
            "站點名稱:YouBike2.0_社子國小 => (25.09058,121.50142)\n",
            "站點名稱:YouBike2.0_社中街384巷口 => (25.09346,121.50376)\n",
            "站點名稱:YouBike2.0_忠誠路一段138號 => (25.10641,121.52944)\n",
            "站點名稱:YouBike2.0_社子公園 => (25.0902,121.50622)\n",
            "站點名稱:YouBike2.0_國立故宮博物院 => (25.09833,121.54788)\n",
            "站點名稱:YouBike2.0_泰北高中 => (25.09763,121.53402)\n",
            "站點名稱:YouBike2.0_後港公園 => (25.09312,121.51419)\n",
            "站點名稱:YouBike2.0_重慶北路四段117號 => (25.08279,121.51219)\n",
            "站點名稱:YouBike2.0_社子島島頭公園 => (25.10893,121.46639)\n",
            "站點名稱:YouBike2.0_延平北路八段133巷口 => (25.10304,121.48297)\n",
            "站點名稱:YouBike2.0_坤天亭 => (25.1064,121.4836)\n",
            "站點名稱:YouBike2.0_社子島濕地解說小築 => (25.11314,121.48974)\n",
            "站點名稱:YouBike2.0_福安國中 => (25.10261,121.48819)\n",
            "站點名稱:YouBike2.0_福安消防分隊 => (25.09669,121.49706)\n",
            "站點名稱:YouBike2.0_聖山綠地 => (25.10696,121.53234)\n",
            "站點名稱:YouBike2.0_芝山國小 => (25.11044,121.53595)\n",
            "站點名稱:YouBike2.0_士林新天地 => (25.08899,121.51751)\n",
            "站點名稱:YouBike2.0_蘭雅國小 => (25.10775,121.52312)\n",
            "站點名稱:YouBike2.0_中正基河路口 => (25.0933,121.51962)\n",
            "站點名稱:YouBike2.0_福林公園(中正路) => (25.09609,121.53006)\n",
            "站點名稱:YouBike2.0_至善臨溪路口 => (25.09709,121.54229)\n",
            "站點名稱:YouBike2.0_市立圖書館葫蘆堵分館 => (25.08217,121.51074)\n",
            "站點名稱:YouBike2.0_東山路110巷口 => (25.11306,121.53945)\n",
            "站點名稱:YouBike2.0_永平社會住宅 => (25.08887,121.50314)\n",
            "站點名稱:YouBike2.0_雨農橋 => (25.10012,121.53253)\n",
            "站點名稱:YouBike2.0_通河街76巷/承德路四段10巷口 => (25.08019,121.5202)\n",
            "站點名稱:YouBike2.0_芝山聖佑宮 => (25.10455,121.53025)\n",
            "站點名稱:YouBike2.0_至誠雨聲街口 => (25.10199,121.52927)\n",
            "站點名稱:YouBike2.0_捷運線型公園(後街) => (25.09812,121.52449)\n",
            "站點名稱:YouBike2.0_天母公園 => (25.12408,121.53003)\n",
            "站點名稱:YouBike2.0_基河文林路口 => (25.08637,121.5247)\n",
            "站點名稱:YouBike2.0_文林福華路口 => (25.10094,121.52243)\n",
            "站點名稱:YouBike2.0_劍潭海外青年活動中心_1 => (25.0796,121.5237)\n",
            "站點名稱:YouBike2.0_社子國小_1 => (25.09029,121.50189)\n",
            "站點名稱:YouBike2.0_捷運劍潭站(1號出口) => (25.08577,121.52531)\n",
            "站點名稱:YouBike2.0_德行東山路口 => (25.1107,121.53999)\n",
            "站點名稱:YouBike2.0_重慶北通河西街口 => (25.08756,121.51177)\n",
            "站點名稱:YouBike2.0_葫蘆國小(延平北路五段285巷) => (25.08406,121.5067)\n",
            "站點名稱:YouBike2.0_社子市場 => (25.0881,121.50873)\n",
            "站點名稱:YouBike2.0_士林區農會社子分部 => (25.08912,121.5049)\n",
            "站點名稱:YouBike2.0_承德劍潭路口 => (25.0841,121.52341)\n",
            "站點名稱:YouBike2.0_文林路101巷口 => (25.08761,121.52608)\n",
            "站點名稱:YouBike2.0_延平北路五段257巷15弄口 => (25.08408,121.50959)\n",
            "站點名稱:YouBike2.0_延平北路五段257巷4弄口 => (25.08471,121.5089)\n",
            "站點名稱:YouBike2.0_啟明學校 => (25.11742,121.53472)\n",
            "站點名稱:YouBike2.0_中山福國路口 => (25.10203,121.52561)\n",
            "站點名稱:YouBike2.0_德行公園 => (25.10585,121.52376)\n",
            "站點名稱:YouBike2.0_承德後港街口 => (25.08238,121.52309)\n",
            "站點名稱:YouBike2.0_中山北路五段698巷口 => (25.09765,121.52757)\n",
            "站點名稱:YouBike2.0_捷運士林站(1號出口) => (25.09561,121.52552)\n",
            "站點名稱:YouBike2.0_捷運芝山站(2號出口)_1 => (25.10336,121.52263)\n",
            "站點名稱:YouBike2.0_銘傳大學(中山北路五段280巷口) => (25.08762,121.52711)\n",
            "站點名稱:YouBike2.0_海光公園南側 => (25.08036,121.5084)\n",
            "站點名稱:YouBike2.0_士商路40巷口 => (25.09013,121.52054)\n",
            "站點名稱:YouBike2.0_劍潭郵局 => (25.08182,121.52431)\n",
            "站點名稱:YouBike2.0_士東路91巷口 => (25.11247,121.52914)\n",
            "站點名稱:YouBike2.0_美崙公園 => (25.09677,121.51931)\n",
            "站點名稱:YouBike2.0_臺北市立大學(忠誠路二段207巷) => (25.11642,121.53743)\n",
            "站點名稱:YouBike2.0_天母東路8巷/忠誠路二段154巷口 => (25.11579,121.53113)\n",
            "站點名稱:YouBike2.0_美崙公園(東北側) => (25.09886,121.51835)\n",
            "站點名稱:YouBike2.0_台北花木批發市場 => (25.00402,121.54074)\n",
            "站點名稱:YouBike2.0_捷運萬隆站(4號出口) => (25.0027,121.53861)\n",
            "站點名稱:YouBike2.0_捷運萬隆站(1號出口) => (25.00115,121.53916)\n",
            "站點名稱:YouBike2.0_萬和二號公園 => (25.00154,121.5364)\n",
            "站點名稱:YouBike2.0_捷運萬隆站(2號出口) => (25.00144,121.53983)\n",
            "站點名稱:YouBike2.0_景仁公園 => (24.99621,121.54043)\n",
            "站點名稱:YouBike2.0_捷運景美站(2號出口) => (24.99366,121.54124)\n",
            "站點名稱:YouBike2.0_羅斯福景隆街口 => (24.99898,121.5403)\n",
            "站點名稱:YouBike2.0_景福街/羅斯福路6段142巷口 => (24.99812,121.53663)\n",
            "站點名稱:YouBike2.0_興旺公園 => (25.00587,121.55012)\n",
            "站點名稱:YouBike2.0_興福國中 => (25.00465,121.54916)\n",
            "站點名稱:YouBike2.0_興隆路2段203巷 => (25.00346,121.54709)\n",
            "站點名稱:YouBike2.0_景美運動公園 => (25.00219,121.54454)\n",
            "站點名稱:YouBike2.0_景美醫院 => (24.99136,121.54008)\n",
            "站點名稱:YouBike2.0_師範大學公館校區 => (25.00792,121.53731)\n",
            "站點名稱:YouBike2.0_景華街128巷口 => (24.99543,121.54725)\n",
            "站點名稱:YouBike2.0_仙跡岩登山口(景興路) => (24.99118,121.5436)\n",
            "站點名稱:YouBike2.0_國立政治大學 => (24.98737,121.57726)\n",
            "站點名稱:YouBike2.0_捷運動物園站 => (24.99873,121.57985)\n",
            "站點名稱:YouBike2.0_捷運木柵站 => (24.99798,121.57455)\n",
            "站點名稱:YouBike2.0_捷運萬芳社區站 => (24.99886,121.56769)\n",
            "站點名稱:YouBike2.0_文山運動中心 => (24.99676,121.5596)\n",
            "站點名稱:YouBike2.0_捷運辛亥站 => (25.00467,121.55684)\n",
            "站點名稱:YouBike2.0_興豐公園 => (24.99982,121.54761)\n",
            "站點名稱:YouBike2.0_木柵光輝路口 => (24.98816,121.55528)\n",
            "站點名稱:YouBike2.0_考試院 => (24.98747,121.54984)\n",
            "站點名稱:YouBike2.0_和興路26巷口 => (24.98573,121.54532)\n",
            "站點名稱:YouBike2.0_世新大學 => (24.98859,121.54336)\n",
            "站點名稱:YouBike2.0_一壽橋 => (24.97837,121.55548)\n",
            "站點名稱:YouBike2.0_臺北市立景美女中 => (24.98058,121.55624)\n",
            "站點名稱:YouBike2.0_永安藝文館-表演36房 => (24.98414,121.56907)\n",
            "站點名稱:YouBike2.0_忠順區民活動中心 => (24.98471,121.56332)\n",
            "站點名稱:YouBike2.0_景文中學 => (24.98574,121.56745)\n",
            "站點名稱:YouBike2.0_老泉街籃球場 => (24.97619,121.5583)\n",
            "站點名稱:YouBike2.0_文山行政中心 => (24.98959,121.56959)\n",
            "站點名稱:YouBike2.0_木柵公園 => (24.98718,121.56059)\n",
            "站點名稱:YouBike2.0_興隆公共住宅D2區 => (24.98814,121.56356)\n",
            "站點名稱:YouBike2.0_木新路3段95巷口 => (24.98088,121.56313)\n",
            "站點名稱:YouBike2.0_樟腳里公園 => (24.98181,121.56567)\n",
            "站點名稱:YouBike2.0_實踐國中 => (24.98301,121.55404)\n",
            "站點名稱:YouBike2.0_指南路3段2巷 => (24.98537,121.57959)\n",
            "站點名稱:YouBike2.0_萊茵公園 => (24.98642,121.56514)\n",
            "站點名稱:YouBike2.0_木柵社會住宅 => (24.98935,121.56651)\n",
            "站點名稱:YouBike2.0_秀明路一段185巷口 => (24.99151,121.56836)\n",
            "站點名稱:YouBike2.0_秀明路一段129巷口 => (24.99111,121.56703)\n",
            "站點名稱:YouBike2.0_恆光橋(老泉街) => (24.97989,121.56753)\n",
            "站點名稱:YouBike2.0_萬有3號公園 => (24.99889,121.5433)\n",
            "站點名稱:YouBike2.0_捷運萬芳醫院站(興隆路三段115巷) => (24.99939,121.55848)\n",
            "站點名稱:YouBike2.0_興得閱覽室 => (24.99579,121.55498)\n",
            "站點名稱:YouBike2.0_辛亥生態公園 => (25.00348,121.55642)\n",
            "站點名稱:YouBike2.0_博嘉運動公園 => (25.00079,121.57534)\n",
            "站點名稱:YouBike2.0_國立政治大學(萬壽路) => (24.98841,121.57649)\n",
            "站點名稱:YouBike2.0_仙岩公園 => (24.99797,121.54982)\n",
            "站點名稱:YouBike2.0_政大一街口 => (24.98543,121.58006)\n",
            "站點名稱:YouBike2.0_文山第二行政中心 => (25.00115,121.55142)\n",
            "站點名稱:YouBike2.0_移民署訓練中心 => (24.99271,121.55865)\n",
            "站點名稱:YouBike2.0_海巡署(南側) => (24.99472,121.55949)\n",
            "站點名稱:YouBike2.0_明道國小東南側 => (24.98695,121.56456)\n",
            "站點名稱:YouBike2.0_木南公園 => (24.98662,121.57071)\n",
            "站點名稱:YouBike2.0_實踐國中(木新路三段310巷口) => (24.98339,121.55645)\n",
            "站點名稱:YouBike2.0_師範大學公館校區_1 => (25.00753,121.53719)\n",
            "站點名稱:YouBike2.0_捷運動物園站(2號出口) => (24.99766,121.57875)\n",
            "站點名稱:YouBike2.0_政大水岸電梯 => (24.982,121.5717)\n",
            "站點名稱:YouBike2.0_敦南山林 => (25.00264,121.5768)\n",
            "站點名稱:YouBike2.0_辛亥路五段73巷口 => (24.99811,121.55307)\n",
            "站點名稱:YouBike2.0_景美污水抽水站 => (25.01076,121.53637)\n",
            "站點名稱:YouBike2.0_萬和三號公園(北側) => (25.00345,121.53636)\n",
            "站點名稱:YouBike2.0_景興國中 => (24.99609,121.54284)\n",
            "站點名稱:YouBike2.0_景仁公園_1 => (24.9966,121.5403)\n",
            "站點名稱:YouBike2.0_師大公館校區學二舍 => (25.00825,121.53419)\n",
            "站點名稱:YouBike2.0_景行公園 => (24.99279,121.54255)\n",
            "站點名稱:YouBike2.0_萬興國小 => (24.98939,121.57682)\n",
            "站點名稱:YouBike2.0_辛亥路四段77巷口 => (25.00743,121.55877)\n",
            "站點名稱:YouBike2.0_景興路42巷口 => (24.99696,121.54454)\n",
            "站點名稱:YouBike2.0_木柵路三段48巷 => (24.98768,121.56565)\n",
            "站點名稱:YouBike2.0_木柵路二段109巷 => (24.98944,121.56195)\n",
            "站點名稱:YouBike2.0_試院公園 => (24.98808,121.54723)\n",
            "站點名稱:YouBike2.0_萬美萬安街口 => (25.00223,121.57039)\n",
            "站點名稱:YouBike2.0_興隆路二段203巷(敦南) => (25.00198,121.54856)\n",
            "站點名稱:YouBike2.0_新光秀明路口 => (24.99197,121.57371)\n",
            "站點名稱:YouBike2.0_臺北自來水事業處 => (25.013741,121.53068)\n",
            "站點名稱:YouBike2.0_汀州思源街口東南側 => (25.014697,121.531908)\n",
            "站點名稱:YouBike2.0_捷運公館站(1號出口) => (25.014529,121.534374)\n",
            "站點名稱:YouBike2.0_捷運公館站(4號出口) => (25.015069,121.533828)\n",
            "站點名稱:YouBike2.0_捷運古亭站(9號出口) => (25.02694,121.52224)\n",
            "站點名稱:YouBike2.0_捷運古亭站(2號出口) => (25.0255,121.52346)\n",
            "站點名稱:YouBike2.0_捷運臺電大樓站(1號出口) => (25.0197,121.529)\n",
            "站點名稱:YouBike2.0_客家文化主題公園 => (25.02069,121.52456)\n",
            "站點名稱:YouBike2.0_河堤國小 => (25.02277,121.52289)\n",
            "站點名稱:YouBike2.0_紀州庵 => (25.02092,121.52049)\n",
            "站點名稱:YouBike2.0_捷運臺電大樓站(5號出口) => (25.02075,121.52771)\n",
            "站點名稱:YouBike2.0_捷運臺電大樓站(4號出口) => (25.02102,121.52751)\n",
            "站點名稱:YouBike2.0_羅斯福三段金門街口 => (25.02345,121.52498)\n",
            "站點名稱:YouBike2.0_牯嶺公園 => (25.02338,121.51889)\n",
            "站點名稱:YouBike2.0_捷運古亭站(8號出口) => (25.02701,121.52164)\n",
            "站點名稱:YouBike2.0_捷運古亭站(7號出口) => (25.02805,121.52155)\n",
            "站點名稱:YouBike2.0_南昌公園 => (25.02698,121.52081)\n",
            "站點名稱:YouBike2.0_和平重慶路口 => (25.02723,121.51659)\n",
            "站點名稱:YouBike2.0_孫立人將軍官邸 => (25.02933,121.51854)\n",
            "站點名稱:YouBike2.0_羅斯福路二段6巷口 => (25.02923,121.52058)\n",
            "站點名稱:YouBike2.0_金華杭州南路口 => (25.031,121.52211)\n",
            "站點名稱:YouBike2.0_捷運中正紀念堂站(3號出口) => (25.03239,121.51866)\n",
            "站點名稱:YouBike2.0_捷運中正紀念堂站(4號出口) => (25.03376,121.51772)\n",
            "站點名稱:YouBike2.0_重慶南海路口西南側 => (25.03124,121.51459)\n",
            "站點名稱:YouBike2.0_螢橋國小 => (25.02626,121.51402)\n",
            "站點名稱:YouBike2.0_古亭智慧圖書館 => (25.02543,121.51052)\n",
            "站點名稱:YouBike2.0_永昌公園 => (25.02643,121.50936)\n",
            "站點名稱:YouBike2.0_中華路二段409巷口 => (25.02598,121.50806)\n",
            "站點名稱:YouBike2.0_南機場夜市(中華路二段) => (25.02886,121.50518)\n",
            "站點名稱:YouBike2.0_南海和平路口西南側 => (25.03024,121.50904)\n",
            "站點名稱:YouBike2.0_莒光和平路口 => (25.03132,121.50745)\n",
            "站點名稱:YouBike2.0_水源路11-1號旁 => (25.01602,121.52565)\n",
            "站點名稱:YouBike2.0_南門國中 => (25.03543,121.50834)\n",
            "站點名稱:YouBike2.0_捷運小南門站(2號出口) => (25.03567,121.51006)\n",
            "站點名稱:YouBike2.0_介壽公園 => (25.03907,121.5138)\n",
            "站點名稱:YouBike2.0_中華貴陽街口 => (25.03938,121.50772)\n",
            "站點名稱:YouBike2.0_華山文創園區 => (25.04367,121.52849)\n",
            "站點名稱:YouBike2.0_捷運善導寺站(1號出口) => (25.04527,121.5222)\n",
            "站點名稱:YouBike2.0_濟南紹興路口 => (25.04193,121.52459)\n",
            "站點名稱:YouBike2.0_林森仁愛路口 => (25.03915,121.52163)\n",
            "站點名稱:YouBike2.0_中正運動中心 => (25.03786,121.51985)\n",
            "站點名稱:YouBike2.0_信義杭州路口 => (25.0357,121.5241)\n",
            "站點名稱:YouBike2.0_捷運善導寺站(3號出口) => (25.04428,121.52336)\n",
            "站點名稱:YouBike2.0_捷運小南門站(1號出口) => (25.03648,121.50951)\n",
            "站點名稱:YouBike2.0_延平南路133巷口 => (25.03792,121.50846)\n",
            "站點名稱:YouBike2.0_捷運西門站(2號出口) => (25.0416,121.50842)\n",
            "站點名稱:YouBike2.0_寶慶博愛路口 => (25.04129,121.5112)\n",
            "站點名稱:YouBike2.0_法務部 => (25.03705,121.51249)\n",
            "站點名稱:YouBike2.0_臺北市立大學(博愛校區) => (25.03545,121.51327)\n",
            "站點名稱:YouBike2.0_國家圖書館 => (25.03763,121.51709)\n",
            "站點名稱:YouBike2.0_市民金山路口 => (25.0459,121.53068)\n",
            "站點名稱:YouBike2.0_聯合醫院和平院區 => (25.03516,121.50641)\n",
            "站點名稱:YouBike2.0_中山堂 => (25.04412,121.51025)\n",
            "站點名稱:YouBike2.0_中華漢口街口 => (25.04533,121.50944)\n",
            "站點名稱:YouBike2.0_中華路一段21巷口 => (25.04677,121.50989)\n",
            "站點名稱:YouBike2.0_捷運臺大醫院站(4號出口) => (25.04297,121.51643)\n",
            "站點名稱:YouBike2.0_寶藏巖觀音亭 => (25.01027,121.5331)\n",
            "站點名稱:YouBike2.0_師大水源路口 => (25.0203,121.52302)\n",
            "站點名稱:YouBike2.0_中山徐州路口 => (25.04176,121.51866)\n",
            "站點名稱:YouBike2.0_信義連雲街口 => (25.03377,121.53041)\n",
            "站點名稱:YouBike2.0_臺北轉運站 => (25.04842,121.51994)\n",
            "站點名稱:YouBike2.0_莒光大埔街口 => (25.03132,121.50519)\n",
            "站點名稱:YouBike2.0_捷運忠孝新生站(2號出口) => (25.04235,121.53222)\n",
            "站點名稱:YouBike2.0_光華商場 => (25.04478,121.53274)\n",
            "站點名稱:YouBike2.0_中山青島路口 => (25.04503,121.51968)\n",
            "站點名稱:YouBike2.0_捷運中正紀念堂站(5號出口) => (25.03526,121.5168)\n",
            "站點名稱:YouBike2.0_北平東杭州北路口 => (25.04553,121.52736)\n",
            "站點名稱:YouBike2.0_王貫英先生紀念圖書館 => (25.02266,121.52362)\n",
            "站點名稱:YouBike2.0_金山信義路口 => (25.03443,121.52721)\n",
            "站點名稱:YouBike2.0_林森徐州路口 => (25.04094,121.52215)\n",
            "站點名稱:YouBike2.0_徐州杭州路口 => (25.04023,121.52565)\n",
            "站點名稱:YouBike2.0_捷運中正紀念堂站(6號出口) => (25.03615,121.5166)\n",
            "站點名稱:YouBike2.0_捷運臺北車站(M2出口) => (25.04821,121.51903)\n",
            "站點名稱:YouBike2.0_臺北市國父史蹟館(逸仙公園) => (25.04779,121.52042)\n",
            "站點名稱:YouBike2.0_捷運西門站(5號出口) => (25.04244,121.50864)\n",
            "站點名稱:YouBike2.0_弘道國中 => (25.03828,121.51524)\n",
            "站點名稱:YouBike2.0_臺北市第一女子高級中學 => (25.0385,121.51288)\n",
            "站點名稱:YouBike2.0_台北市替代役中心 => (25.01808,121.5275)\n",
            "站點名稱:YouBike2.0_紹興徐州路口 => (25.04051,121.52401)\n",
            "站點名稱:YouBike2.0_羅斯福寧波東街口 => (25.03145,121.51941)\n",
            "站點名稱:YouBike2.0_自來水園區 => (25.01328,121.53004)\n",
            "站點名稱:YouBike2.0_仁愛林森路口 => (25.03895,121.52233)\n",
            "站點名稱:YouBike2.0_捷運西門站(3號出口) => (25.04178,121.50869)\n",
            "站點名稱:YouBike2.0_仁愛金山路口 => (25.0384,121.52801)\n",
            "站點名稱:YouBike2.0_杭州南路一段101巷口 => (25.03746,121.52799)\n",
            "站點名稱:YouBike2.0_仁愛杭州路口 => (25.03846,121.52497)\n",
            "站點名稱:YouBike2.0_龍興里活動中心 => (25.02815,121.51108)\n",
            "站點名稱:YouBike2.0_植物園 => (25.0299,121.51033)\n",
            "站點名稱:YouBike2.0_郵政博物館 => (25.03158,121.51464)\n",
            "站點名稱:YouBike2.0_林森北平路口 => (25.04659,121.52377)\n",
            "站點名稱:YouBike2.0_北平紹興路口 => (25.04597,121.52579)\n",
            "站點名稱:YouBike2.0_天津北平路口 => (25.04692,121.52208)\n",
            "站點名稱:YouBike2.0_捷運忠孝新生站(1號出口) => (25.04272,121.53207)\n",
            "站點名稱:YouBike2.0_捷運忠孝新生站(5號出口) => (25.04113,121.53273)\n",
            "站點名稱:YouBike2.0_捷運臺大醫院站(1號出口) => (25.04074,121.51586)\n",
            "站點名稱:YouBike2.0_臺大醫院兒童醫院 => (25.04461,121.5188)\n",
            "站點名稱:YouBike2.0_林森濟南路口(東北側) => (25.0425,121.5227)\n",
            "站點名稱:YouBike2.0_仁愛紹興街口(南側) => (25.03837,121.52345)\n",
            "站點名稱:YouBike2.0_中華南海路口 => (25.02703,121.50686)\n",
            "站點名稱:YouBike2.0_立法院台北會館 => (25.03371,121.51068)\n",
            "站點名稱:YouBike2.0_捷運善導寺站(3號出口)(忠孝東路側) => (25.04467,121.52357)\n",
            "站點名稱:YouBike2.0_國家音樂廳 => (25.03788,121.51904)\n",
            "站點名稱:YouBike2.0_忠孝西重慶南路口 => (25.04724,121.51272)\n",
            "站點名稱:YouBike2.0_濟南路二段8巷口 => (25.04127,121.52697)\n",
            "站點名稱:YouBike2.0_仁愛金山路口(東南側) => (25.03811,121.52855)\n",
            "站點名稱:YouBike2.0_臺灣文學基地 => (25.04148,121.5287)\n",
            "站點名稱:YouBike2.0_重慶南詔安街口 => (25.02507,121.51645)\n",
            "站點名稱:YouBike2.0_文光公園 => (25.03898,121.53058)\n",
            "站點名稱:YouBike2.0_捷運中正紀念堂站(2號出口) => (25.03212,121.51861)\n",
            "站點名稱:YouBike2.0_螢圃里小公園 => (25.02484,121.51973)\n",
            "站點名稱:YouBike2.0_螢橋公園 => (25.02682,121.51737)\n",
            "站點名稱:YouBike2.0_通北街65巷口 => (25.08251,121.54004)\n",
            "站點名稱:YouBike2.0_圓山風景區 => (25.07805,121.5295)\n",
            "站點名稱:YouBike2.0_樂群二堤頂大道口 => (25.0803,121.56251)\n",
            "站點名稱:YouBike2.0_劍潭社區 => (25.08524,121.53748)\n",
            "站點名稱:YouBike2.0_培英公園 => (25.08258,121.54462)\n",
            "站點名稱:YouBike2.0_樂群二明水路口 => (25.08009,121.55226)\n",
            "站點名稱:YouBike2.0_北安大直街口 => (25.08474,121.54968)\n",
            "站點名稱:YouBike2.0_捷運劍南路站(2號出口) => (25.08401,121.55535)\n",
            "站點名稱:YouBike2.0_樂群二敬業三路口 => (25.07985,121.55609)\n",
            "站點名稱:YouBike2.0_樂群二敬業四路口 => (25.07976,121.55813)\n",
            "站點名稱:YouBike2.0_捷運大直站(3號出口) => (25.07923,121.5473)\n",
            "站點名稱:YouBike2.0_復興市民路口 => (25.04585,121.54375)\n",
            "站點名稱:YouBike2.0_南京遼寧街口 => (25.05176,121.54217)\n",
            "站點名稱:YouBike2.0_伊通長安路口 => (25.04833,121.53469)\n",
            "站點名稱:YouBike2.0_新生長安路口 => (25.04861,121.52935)\n",
            "站點名稱:YouBike2.0_市民林森路口 => (25.04796,121.52439)\n",
            "站點名稱:YouBike2.0_南京新生路口 => (25.05194,121.52766)\n",
            "站點名稱:YouBike2.0_一江公園 => (25.05316,121.53146)\n",
            "站點名稱:YouBike2.0_松江公園 => (25.05025,121.53273)\n",
            "站點名稱:YouBike2.0_新生長春路口 => (25.05639,121.52752)\n",
            "站點名稱:YouBike2.0_第二果菜批發市場 => (25.06642,121.53735)\n",
            "站點名稱:YouBike2.0_民生建國路口 => (25.05778,121.53692)\n",
            "站點名稱:YouBike2.0_興安華城 => (25.05606,121.54175)\n",
            "站點名稱:YouBike2.0_捷運中山國中站 => (25.06106,121.54406)\n",
            "站點名稱:YouBike2.0_龍江錦州街口 => (25.06045,121.54077)\n",
            "站點名稱:YouBike2.0_建國長春路口 => (25.05469,121.53686)\n",
            "站點名稱:YouBike2.0_南京建國路口 => (25.05214,121.5368)\n",
            "站點名稱:YouBike2.0_捷運松江南京站(7號出口) => (25.05246,121.5332)\n",
            "站點名稱:YouBike2.0_朱崙商場 => (25.04762,121.54043)\n",
            "站點名稱:YouBike2.0_中吉公園 => (25.05604,121.53166)\n",
            "站點名稱:YouBike2.0_華山公園 => (25.0471,121.5277)\n",
            "站點名稱:YouBike2.0_建國北路一段17巷 => (25.04699,121.53735)\n",
            "站點名稱:YouBike2.0_江寧公園 => (25.0614,121.53929)\n",
            "站點名稱:YouBike2.0_民權龍江路口 => (25.06225,121.54107)\n",
            "站點名稱:YouBike2.0_捷運中山國小站(2號出口) => (25.06246,121.52705)\n",
            "站點名稱:YouBike2.0_捷運行天宮站(3號出口) => (25.05992,121.5333)\n",
            "站點名稱:YouBike2.0_林森農安街口 => (25.06531,121.52565)\n",
            "站點名稱:YouBike2.0_捷運中山國小站(4號出口) => (25.06283,121.52697)\n",
            "站點名稱:YouBike2.0_農安雙城街口 => (25.06491,121.52449)\n",
            "站點名稱:YouBike2.0_新生德惠街口 => (25.06652,121.52762)\n",
            "站點名稱:YouBike2.0_民族林森路口 => (25.06847,121.52559)\n",
            "站點名稱:YouBike2.0_臺北市立美術館 => (25.06987,121.52291)\n",
            "站點名稱:YouBike2.0_中山民族路口 => (25.06816,121.52265)\n",
            "站點名稱:YouBike2.0_新生高架停車場(林森北路107巷口) => (25.04983,121.52853)\n",
            "站點名稱:YouBike2.0_南京林森路口(東南側) => (25.05201,121.52556)\n",
            "站點名稱:YouBike2.0_仁德公園 => (25.05337,121.5289)\n",
            "站點名稱:YouBike2.0_中原公園 => (25.05583,121.52821)\n",
            "站點名稱:YouBike2.0_下埤公園 => (25.06682,121.54213)\n",
            "站點名稱:YouBike2.0_五常國中 => (25.06505,121.54366)\n",
            "站點名稱:YouBike2.0_榮星花園 => (25.06424,121.54037)\n",
            "站點名稱:YouBike2.0_民權建國路口 => (25.06251,121.53765)\n",
            "站點名稱:YouBike2.0_松江路431巷口 => (25.06585,121.53338)\n",
            "站點名稱:YouBike2.0_新喜公園 => (25.06533,121.53177)\n",
            "站點名稱:YouBike2.0_吉林路407巷口 => (25.06595,121.53041)\n",
            "站點名稱:YouBike2.0_民族松江路口 => (25.06833,121.5328)\n",
            "站點名稱:YouBike2.0_林安泰古厝 => (25.07154,121.53058)\n",
            "站點名稱:YouBike2.0_中山公民會館 => (25.06185,121.5226)\n",
            "站點名稱:YouBike2.0_渭水八德路口 => (25.04573,121.53508)\n",
            "站點名稱:YouBike2.0_捷運中山站(2號出口) => (25.05228,121.52176)\n",
            "站點名稱:YouBike2.0_撫順公園 => (25.06416,121.52203)\n",
            "站點名稱:YouBike2.0_新生公園 => (25.06839,121.53032)\n",
            "站點名稱:YouBike2.0_捷運行天宮站(1號出口) => (25.05867,121.53305)\n",
            "站點名稱:YouBike2.0_林森長春路口 => (25.05497,121.52536)\n",
            "站點名稱:YouBike2.0_建國農安街口 => (25.06503,121.53678)\n",
            "站點名稱:YouBike2.0_松江路77巷口 => (25.04985,121.53312)\n",
            "站點名稱:YouBike2.0_建國長安路口 => (25.04836,121.53669)\n",
            "站點名稱:YouBike2.0_市民新生路口 => (25.04611,121.53193)\n",
            "站點名稱:YouBike2.0_民權吉林路口 => (25.06269,121.53061)\n",
            "站點名稱:YouBike2.0_中山農安街口 => (25.0651,121.5224)\n",
            "站點名稱:YouBike2.0_捷運行政大樓 => (25.05575,121.52168)\n",
            "站點名稱:YouBike2.0_中吉公園(松江路188巷) => (25.0568,121.53191)\n",
            "站點名稱:YouBike2.0_吉林路123巷口 => (25.05731,121.53021)\n",
            "站點名稱:YouBike2.0_中原民生路口 => (25.05808,121.52887)\n",
            "站點名稱:YouBike2.0_國立臺北大學(臺北校區) => (25.05794,121.54244)\n",
            "站點名稱:YouBike2.0_錦州吉林路口 => (25.06028,121.52991)\n",
            "站點名稱:YouBike2.0_中山北路二段59巷口 => (25.05606,121.5229)\n",
            "站點名稱:YouBike2.0_永盛公園(民生東路一段23巷) => (25.05873,121.52488)\n",
            "站點名稱:YouBike2.0_新生錦州街口 => (25.05955,121.52744)\n",
            "站點名稱:YouBike2.0_濱江街199巷口 => (25.0734,121.53985)\n",
            "站點名稱:YouBike2.0_大佳社區公園 => (25.07275,121.5373)\n",
            "站點名稱:YouBike2.0_濱江果菜市場 => (25.06807,121.53673)\n",
            "站點名稱:YouBike2.0_興安合江路口 => (25.05619,121.53949)\n",
            "站點名稱:YouBike2.0_復興北路514巷口東側 => (25.06597,121.54117)\n",
            "站點名稱:YouBike2.0_台泥大樓 => (25.06142,121.52305)\n",
            "站點名稱:YouBike2.0_植福樂群路口 => (25.08303,121.5604)\n",
            "站點名稱:YouBike2.0_新興公園 => (25.06157,121.52439)\n",
            "站點名稱:YouBike2.0_南京伊通街口 => (25.05189,121.53517)\n",
            "站點名稱:YouBike2.0_南京龍江路口 => (25.05205,121.54012)\n",
            "站點名稱:YouBike2.0_撫順街41巷(崇德宮前) => (25.06389,121.51916)\n",
            "站點名稱:YouBike2.0_臺北市立圖書館大直分館 => (25.08152,121.54646)\n",
            "站點名稱:YouBike2.0_捷運大直站(1號出口) => (25.0801,121.54708)\n",
            "站點名稱:YouBike2.0_捷運松江南京站(4號出口) => (25.0512,121.53312)\n",
            "站點名稱:YouBike2.0_中429公園 => (25.07864,121.55557)\n",
            "站點名稱:YouBike2.0_長春路137巷口 => (25.05791,121.53114)\n",
            "站點名稱:YouBike2.0_松江民生路口 => (25.05765,121.53299)\n",
            "站點名稱:YouBike2.0_松江路132巷口 => (25.05277,121.53013)\n",
            "站點名稱:YouBike2.0_長春吉林路口 => (25.05481,121.53032)\n",
            "站點名稱:YouBike2.0_長春一江街口 => (25.05488,121.53142)\n",
            "站點名稱:YouBike2.0_捷運松江南京站(8號出口) => (25.05215,121.53276)\n",
            "站點名稱:YouBike2.0_南京一江街口 => (25.05215,121.53171)\n",
            "站點名稱:YouBike2.0_松江長春路口 => (25.05499,121.53295)\n",
            "站點名稱:YouBike2.0_經國七海文化園區 => (25.07802,121.53511)\n",
            "站點名稱:YouBike2.0_民族玉門街口 => (25.06873,121.52003)\n",
            "站點名稱:YouBike2.0_新生農安街口 => (25.06493,121.52778)\n",
            "站點名稱:YouBike2.0_稻江高級護理家事職業學校 => (25.06532,121.52848)\n",
            "站點名稱:YouBike2.0_捷運大直站(3號出口)_1 => (25.07934,121.54671)\n",
            "站點名稱:YouBike2.0_樂群二明水路口_1 => (25.07983,121.55236)\n",
            "站點名稱:YouBike2.0_民權吉林路口(南側) => (25.06245,121.53014)\n",
            "站點名稱:YouBike2.0_長春龍江路口 => (25.05473,121.54026)\n",
            "站點名稱:YouBike2.0_民權新生路口 => (25.06305,121.52776)\n",
            "站點名稱:YouBike2.0_建國長春路口(北側) => (25.05476,121.53693)\n",
            "站點名稱:YouBike2.0_中山行政中心 => (25.06432,121.53349)\n",
            "站點名稱:YouBike2.0_臺北市立美術館_1 => (25.07063,121.52327)\n",
            "站點名稱:YouBike2.0_劍潭社區_1 => (25.08476,121.53789)\n",
            "站點名稱:YouBike2.0_濱江國小游泳池 => (25.07818,121.56175)\n",
            "站點名稱:YouBike2.0_林森公園 => (25.05223,121.52581)\n",
            "站點名稱:YouBike2.0_中428公園 => (25.07825,121.55337)\n",
            "站點名稱:YouBike2.0_復華公園 => (25.05339,121.5401)\n",
            "站點名稱:YouBike2.0_新生民族路口(西南側) => (25.06819,121.52767)\n",
            "站點名稱:YouBike2.0_捷運南京復興站(1號出口) => (25.05253,121.54256)\n",
            "站點名稱:YouBike2.0_八德市場(北側) => (25.04478,121.53661)\n",
            "站點名稱:YouBike2.0_龍江朱崙街口 => (25.05004,121.54043)\n",
            "站點名稱:YouBike2.0_大直街94巷 => (25.08431,121.54755)\n",
            "站點名稱:YouBike2.0_捷運南京復興站(8號出口) => (25.05196,121.5433)\n",
            "站點名稱:YouBike2.0_民權建國路口(南側) => (25.06228,121.53702)\n",
            "站點名稱:YouBike2.0_林森德惠街口 => (25.06688,121.5257)\n",
            "站點名稱:YouBike2.0_新生濱江街口(東南側) => (25.07059,121.52812)\n",
            "站點名稱:YouBike2.0_新生北路一段62巷口 => (25.04699,121.53075)\n",
            "站點名稱:YouBike2.0_新生長春路口(東北側) => (25.05532,121.52769)\n",
            "站點名稱:YouBike2.0_捷運劍南路站(1號出口) => (25.08573,121.55548)\n",
            "站點名稱:YouBike2.0_敬業三樂群三路口(西北側) => (25.08272,121.55624)\n",
            "站點名稱:YouBike2.0_長春路258巷2弄口 => (25.05427,121.53896)\n",
            "站點名稱:YouBike2.0_長寧大廈社區(南側) => (25.05418,121.54332)\n",
            "站點名稱:YouBike2.0_建國五常街口 => (25.06419,121.53732)\n",
            "站點名稱:YouBike2.0_中山北路二段62巷口 => (25.05676,121.52268)\n",
            "站點名稱:YouBike2.0_市民安東街口 => (25.0448,121.54213)\n",
            "站點名稱:YouBike2.0_市民大道二段5巷口 => (25.04812,121.52166)\n",
            "站點名稱:YouBike2.0_文湖街21巷118弄口 => (25.09122,121.55961)\n",
            "站點名稱:YouBike2.0_北勢湖環保公園 => (25.08378,121.56208)\n",
            "站點名稱:YouBike2.0_洲子一號公園 => (25.07977,121.56454)\n",
            "站點名稱:YouBike2.0_西康公園 => (25.08284,121.56449)\n",
            "站點名稱:YouBike2.0_文湖國小 => (25.08637,121.56088)\n",
            "站點名稱:YouBike2.0_文湖街81巷10號西側 => (25.08707,121.56406)\n",
            "站點名稱:YouBike2.0_德明財經科技大學 => (25.08637,121.56574)\n",
            "站點名稱:YouBike2.0_麗山國小 => (25.08311,121.57155)\n",
            "站點名稱:YouBike2.0_麗山高中 => (25.08398,121.57725)\n",
            "站點名稱:YouBike2.0_港華五號公園 => (25.08522,121.57462)\n",
            "站點名稱:YouBike2.0_大湖國小 => (25.08803,121.59958)\n",
            "站點名稱:YouBike2.0_安湖三號公園 => (25.07021,121.61593)\n",
            "站點名稱:YouBike2.0_東湖路113巷95弄 => (25.07177,121.61491)\n",
            "站點名稱:YouBike2.0_瑞光計程車服務站 => (25.0745,121.57389)\n",
            "站點名稱:YouBike2.0_文德三號公園(江南街71巷16弄) => (25.07524,121.5772)\n",
            "站點名稱:YouBike2.0_捷運大湖公園站(2號出口) => (25.08395,121.60185)\n",
            "站點名稱:YouBike2.0_康寧星雲街口 => (25.07958,121.59336)\n",
            "站點名稱:YouBike2.0_星雲街47號 => (25.07864,121.59177)\n",
            "站點名稱:YouBike2.0_捷運西湖站(1號出口) => (25.08279,121.56687)\n",
            "站點名稱:YouBike2.0_捷運西湖站(2號出口) => (25.08205,121.56716)\n",
            "站點名稱:YouBike2.0_洲子二號公園 => (25.07932,121.56869)\n",
            "站點名稱:YouBike2.0_港都公園 => (25.08296,121.5752)\n",
            "站點名稱:YouBike2.0_環山路二段26巷口 => (25.08598,121.572)\n",
            "站點名稱:YouBike2.0_成功金龍路口 => (25.08436,121.59478)\n",
            "站點名稱:YouBike2.0_碧山公園 => (25.0878,121.59227)\n",
            "站點名稱:YouBike2.0_金瑞公園 => (25.08785,121.5879)\n",
            "站點名稱:YouBike2.0_捷運文德站(2號出口) => (25.07842,121.58464)\n",
            "站點名稱:YouBike2.0_陽光公園 => (25.07695,121.58764)\n",
            "站點名稱:YouBike2.0_文德二號公園(南側) => (25.07504,121.58375)\n",
            "站點名稱:YouBike2.0_文德二號公園(北側) => (25.07758,121.58381)\n",
            "站點名稱:YouBike2.0_瑞陽公園 => (25.07777,121.57961)\n",
            "站點名稱:YouBike2.0_湖光國宅 => (25.07538,121.58079)\n",
            "站點名稱:YouBike2.0_潭美街213號 => (25.05575,121.58486)\n",
            "站點名稱:YouBike2.0_南京東路六段180號 => (25.0559,121.57991)\n",
            "站點名稱:YouBike2.0_潭美國小(南京舊宗路口) => (25.05768,121.58159)\n",
            "站點名稱:YouBike2.0_新明路343號 => (25.05653,121.58345)\n",
            "站點名稱:YouBike2.0_週美里活動廣場 => (25.0539,121.58084)\n",
            "站點名稱:YouBike2.0_內湖行政中心 => (25.06915,121.58898)\n",
            "站點名稱:YouBike2.0_樂康公園 => (25.07007,121.62055)\n",
            "站點名稱:YouBike2.0_安康路32巷24弄 => (25.06181,121.59447)\n",
            "站點名稱:YouBike2.0_明美公園 => (25.06256,121.58607)\n",
            "站點名稱:YouBike2.0_南京東路六段368巷 => (25.05827,121.58707)\n",
            "站點名稱:YouBike2.0_新明成功路口 => (25.06058,121.5911)\n",
            "站點名稱:YouBike2.0_民權瑞光路口 => (25.06835,121.58323)\n",
            "站點名稱:YouBike2.0_瑞光公共住宅(瑞光路) => (25.07335,121.57951)\n",
            "站點名稱:YouBike2.0_民權東路六段15巷 => (25.06853,121.57813)\n",
            "站點名稱:YouBike2.0_扶輪親恩公園 => (25.06709,121.58002)\n",
            "站點名稱:YouBike2.0_新湖三民善街口 => (25.06286,121.57497)\n",
            "站點名稱:YouBike2.0_內湖119號綠地 => (25.05594,121.57865)\n",
            "站點名稱:YouBike2.0_行善公園 => (25.05301,121.57592)\n",
            "站點名稱:YouBike2.0_三軍總醫院 => (25.07151,121.58991)\n",
            "站點名稱:YouBike2.0_福華商場 => (25.06877,121.59265)\n",
            "站點名稱:YouBike2.0_臺北市網球中心 => (25.0674,121.59749)\n",
            "站點名稱:YouBike2.0_捷運葫洲站(1號出口) => (25.07249,121.60796)\n",
            "站點名稱:YouBike2.0_麗湖國小 => (25.07332,121.60223)\n",
            "站點名稱:YouBike2.0_金湖路347巷125弄口 => (25.0733,121.59834)\n",
            "站點名稱:YouBike2.0_碧湖公園 => (25.07988,121.58287)\n",
            "站點名稱:YouBike2.0_碧湖公園(內湖路二段103巷) => (25.08317,121.58109)\n",
            "站點名稱:YouBike2.0_貿七社區 => (25.08357,121.58534)\n",
            "站點名稱:YouBike2.0_內湖區農會 => (25.08165,121.58891)\n",
            "站點名稱:YouBike2.0_捷運內湖站(2號出口) => (25.0835,121.59454)\n",
            "站點名稱:YouBike2.0_康寧金湖路口 => (25.07896,121.59921)\n",
            "站點名稱:YouBike2.0_康寧路一段156巷20弄口 => (25.07792,121.59354)\n",
            "站點名稱:YouBike2.0_安康公園 => (25.06657,121.6136)\n",
            "站點名稱:YouBike2.0_安泰街83巷 => (25.07669,121.61709)\n",
            "站點名稱:YouBike2.0_內溝溪生態展示館 => (25.08722,121.62306)\n",
            "站點名稱:YouBike2.0_捷運港墘站(2號出口) => (25.07967,121.57584)\n",
            "站點名稱:YouBike2.0_東湖國中 => (25.07334,121.61962)\n",
            "站點名稱:YouBike2.0_石潭公園(安康路) => (25.06261,121.59334)\n",
            "站點名稱:YouBike2.0_內湖垃圾焚化廠 => (25.06209,121.60347)\n",
            "站點名稱:YouBike2.0_康寧公園(北側) => (25.06927,121.61019)\n",
            "站點名稱:YouBike2.0_康寧路三段54巷口 => (25.0716,121.60936)\n",
            "站點名稱:YouBike2.0_行善路25巷口 => (25.05707,121.57658)\n",
            "站點名稱:YouBike2.0_新明路460巷口 => (25.05503,121.57823)\n",
            "站點名稱:YouBike2.0_下灣公園 => (25.06516,121.59561)\n",
            "站點名稱:YouBike2.0_民權東路六段245巷口 => (25.06708,121.60059)\n",
            "站點名稱:YouBike2.0_東湖國小 => (25.06854,121.61532)\n",
            "站點名稱:YouBike2.0_捷運內湖站(1號出口) => (25.08373,121.59406)\n",
            "站點名稱:YouBike2.0_瑞光港墘路口 => (25.07611,121.57487)\n",
            "站點名稱:YouBike2.0_瑞湖陽光街口 => (25.07296,121.57603)\n",
            "站點名稱:YouBike2.0_金龍公園 => (25.08554,121.59076)\n",
            "站點名稱:YouBike2.0_星雲街138巷1弄口 => (25.07943,121.59544)\n",
            "站點名稱:YouBike2.0_東湖一號公園 => (25.07567,121.6118)\n",
            "站點名稱:YouBike2.0_東湖二號公園 => (25.07415,121.61075)\n",
            "站點名稱:YouBike2.0_康湖二號公園(康寧醫院) => (25.07514,121.60857)\n",
            "站點名稱:YouBike2.0_堤頂大道新湖一路口 => (25.05892,121.57354)\n",
            "站點名稱:YouBike2.0_下灣公園(成功路) => (25.06682,121.5907)\n",
            "站點名稱:YouBike2.0_舊宗行善路口 => (25.05876,121.58062)\n",
            "站點名稱:YouBike2.0_新湖二路250巷口 => (25.06455,121.58262)\n",
            "站點名稱:YouBike2.0_成功路四段41巷口 => (25.08105,121.59205)\n",
            "站點名稱:YouBike2.0_金湖星雲街口 => (25.08151,121.59764)\n",
            "站點名稱:YouBike2.0_國防醫學院 => (25.06851,121.59559)\n",
            "站點名稱:YouBike2.0_民權東路六段190巷117弄口 => (25.06434,121.59399)\n",
            "站點名稱:YouBike2.0_內湖運動中心 => (25.07848,121.57493)\n",
            "站點名稱:YouBike2.0_九華公園 => (25.08844,121.56122)\n",
            "站點名稱:YouBike2.0_內湖路二段179巷口 => (25.08454,121.584)\n",
            "站點名稱:YouBike2.0_行善行愛路口 => (25.0606,121.58286)\n",
            "站點名稱:YouBike2.0_民善新湖二路口(家樂福內湖店) => (25.06017,121.57552)\n",
            "站點名稱:YouBike2.0_統振大樓 => (25.06007,121.60138)\n",
            "站點名稱:YouBike2.0_陽光街161巷口 => (25.07433,121.58584)\n",
            "站點名稱:YouBike2.0_潭美公園(南京東路六段368巷) => (25.05928,121.58617)\n",
            "站點名稱:YouBike2.0_西康二號公園 => (25.08503,121.5637)\n",
            "站點名稱:YouBike2.0_三民國中(民權東路六段47巷) => (25.06935,121.58692)\n",
            "站點名稱:YouBike2.0_瑞光路76巷口 => (25.07168,121.58125)\n",
            "站點名稱:YouBike2.0_捷運東湖站 => (25.06664,121.61351)\n",
            "站點名稱:YouBike2.0_新湖國小 => (25.06874,121.58923)\n",
            "站點名稱:YouBike2.0_碧山內湖路口 => (25.08627,121.5914)\n",
            "站點名稱:YouBike2.0_民權東路六段413巷 => (25.07038,121.60352)\n",
            "站點名稱:YouBike2.0_宏匯瑞光廣場(瑞光路) => (25.07676,121.57433)\n",
            "站點名稱:YouBike2.0_宏匯瑞光廣場(港墘路) => (25.07777,121.57562)\n",
            "站點名稱:YouBike2.0_康樂街151巷 => (25.07192,121.61955)\n",
            "站點名稱:YouBike2.0_內湖路一段360巷 => (25.0812,121.57067)\n",
            "站點名稱:YouBike2.0_成功路三段83號前 => (25.07823,121.5898)\n",
            "站點名稱:YouBike2.0_內湖路一段47巷 => (25.08781,121.55872)\n",
            "站點名稱:YouBike2.0_陽光舊宗路口 => (25.07243,121.57416)\n",
            "站點名稱:YouBike2.0_安湖公園 => (25.07392,121.61545)\n",
            "站點名稱:YouBike2.0_湖興公園 => (25.06671,121.58913)\n",
            "站點名稱:YouBike2.0_安泰街(康樂橋下) => (25.07849,121.61666)\n",
            "站點名稱:YouBike2.0_康樂綠地 => (25.07539,121.6203)\n",
            "站點名稱:YouBike2.0_捷運港墘站(1號出口) => (25.08004,121.57568)\n",
            "站點名稱:YouBike2.0_明美公園(行善路333巷) => (25.06058,121.5866)\n",
            "站點名稱:YouBike2.0_行善路383巷 => (25.06365,121.58609)\n",
            "站點名稱:YouBike2.0_舊宗新湖三路口 => (25.06321,121.57681)\n",
            "站點名稱:YouBike2.0_內湖運動公園 => (25.06766,121.57459)\n",
            "站點名稱:YouBike2.0_內湖路三段326巷口 => (25.08968,121.58352)\n",
            "站點名稱:YouBike2.0_成功公園 => (25.08416,121.59665)\n",
            "站點名稱:YouBike2.0_康寧路三段189巷93弄口 => (25.0735,121.61258)\n",
            "站點名稱:YouBike2.0_中國醫藥大學附設醫院臺北分院 => (25.08227,121.5909)\n",
            "站點名稱:YouBike2.0_康樂抽水站 => (25.06643,121.61732)\n",
            "站點名稱:YouBike2.0_環山路三段16巷口 => (25.08464,121.57945)\n",
            "站點名稱:YouBike2.0_文德一號綠地 => (25.0786,121.58302)\n",
            "站點名稱:YouBike2.0_臺北花市 => (25.06265,121.57427)\n",
            "站點名稱:YouBike2.0_行善社會住宅 => (25.06126,121.58201)\n",
            "站點名稱:YouBike2.0_康寧路三段99巷17弄口 => (25.0721,121.60991)\n",
            "站點名稱:YouBike2.0_堤頂大道二段407巷口 => (25.08019,121.56316)\n",
            "站點名稱:YouBike2.0_海德堡科技大樓 => (25.08156,121.56227)\n",
            "站點名稱:YouBike2.0_致伸科技大樓 => (25.08067,121.5656)\n",
            "站點名稱:YouBike2.0_內湖路一段288巷口 => (25.08202,121.56861)\n",
            "站點名稱:YouBike2.0_大都會客運內湖站 => (25.06749,121.57784)\n",
            "站點名稱:YouBike2.0_瑞湖公園 => (25.06888,121.57711)\n",
            "站點名稱:YouBike2.0_台灣世曦大樓 => (25.07345,121.57848)\n",
            "站點名稱:YouBike2.0_遠雄時代總部 => (25.07821,121.57103)\n",
            "站點名稱:YouBike2.0_瑞光路358巷口 => (25.07733,121.5727)\n",
            "站點名稱:YouBike2.0_大港墘公園(洲子街) => (25.07897,121.5737)\n",
            "站點名稱:YouBike2.0_世紀經貿 => (25.08049,121.57361)\n",
            "站點名稱:YouBike2.0_民權東路六段56巷口 => (25.06805,121.58488)\n",
            "站點名稱:YouBike2.0_新湖三行忠路72巷口 => (25.06605,121.58206)\n",
            "站點名稱:YouBike2.0_新湖三新湖二146巷口 => (25.06407,121.57787)\n",
            "站點名稱:YouBike2.0_舊宗新湖二路口 => (25.06151,121.57811)\n",
            "站點名稱:YouBike2.0_新光基湖大樓 => (25.08152,121.56489)\n",
            "站點名稱:YouBike2.0_內湖路一段120巷15弄 => (25.08203,121.56298)\n",
            "站點名稱:YouBike2.0_北勢湖環保公園(堤頂大道側) => (25.08318,121.56154)\n",
            "站點名稱:YouBike2.0_達爾文大樓 => (25.07941,121.57277)\n",
            "站點名稱:YouBike2.0_承德路七段304巷口 => (25.1168,121.5048)\n",
            "站點名稱:YouBike2.0_洲美運動公園 => (25.10981,121.49886)\n",
            "站點名稱:YouBike2.0_榮華二明德路口 => (25.11357,121.52255)\n",
            "站點名稱:YouBike2.0_捷運明德站(1號出口) => (25.10896,121.51936)\n",
            "站點名稱:YouBike2.0_文林建民路口 => (25.10788,121.51457)\n",
            "站點名稱:YouBike2.0_永欣綠地 => (25.12416,121.52607)\n",
            "站點名稱:YouBike2.0_關渡宮 => (25.11739,121.46288)\n",
            "站點名稱:YouBike2.0_關渡自然公園 => (25.11884,121.46912)\n",
            "站點名稱:YouBike2.0_關渡醫院 => (25.1203,121.4665)\n",
            "站點名稱:YouBike2.0_捷運忠義站(1號出口) => (25.13149,121.47365)\n",
            "站點名稱:YouBike2.0_捷運關渡站(1號出口) => (25.12397,121.46712)\n",
            "站點名稱:YouBike2.0_捷運關渡站(2號出口) => (25.12618,121.46737)\n",
            "站點名稱:YouBike2.0_中央北路四段540巷口 => (25.12796,121.46782)\n",
            "站點名稱:YouBike2.0_大度立德路口 => (25.1231,121.47092)\n",
            "站點名稱:YouBike2.0_捷運復興崗站(1號出口) => (25.1378,121.4863)\n",
            "站點名稱:YouBike2.0_捷運復興崗站旅客服務中心 => (25.13666,121.48159)\n",
            "站點名稱:YouBike2.0_豐年公園 => (25.13475,121.49613)\n",
            "站點名稱:YouBike2.0_稻香重三路口 => (25.13997,121.48967)\n",
            "站點名稱:YouBike2.0_國防大學政治作戰學院 => (25.13776,121.49345)\n",
            "站點名稱:YouBike2.0_秀山區民活動中心 => (25.14582,121.49303)\n",
            "站點名稱:YouBike2.0_大業大同街口 => (25.13691,121.49987)\n",
            "站點名稱:YouBike2.0_捷運新北投站 => (25.13733,121.50339)\n",
            "站點名稱:YouBike2.0_捷運北投站 => (25.13187,121.499)\n",
            "站點名稱:YouBike2.0_捷運奇岩站(三合街) => (25.12634,121.50099)\n",
            "站點名稱:YouBike2.0_八仙里辦公處 => (25.12297,121.50158)\n",
            "站點名稱:YouBike2.0_清江國小 => (25.12725,121.50676)\n",
            "站點名稱:YouBike2.0_大業路300巷口 => (25.12814,121.49782)\n",
            "站點名稱:YouBike2.0_立農公園 => (25.11798,121.50342)\n",
            "站點名稱:YouBike2.0_北投奇岩長青樂活大樓 => (25.12666,121.50373)\n",
            "站點名稱:YouBike2.0_捷運唭哩岸站(2號出口) => (25.12087,121.50523)\n",
            "站點名稱:YouBike2.0_北投運動中心 => (25.11666,121.50962)\n",
            "站點名稱:YouBike2.0_陽明大學 => (25.11912,121.51223)\n",
            "站點名稱:YouBike2.0_捷運石牌站(2號出口) => (25.11451,121.51567)\n",
            "站點名稱:YouBike2.0_台北護理大學 => (25.11752,121.51662)\n",
            "站點名稱:YouBike2.0_捷運石牌站(1號出口) => (25.11593,121.51435)\n",
            "站點名稱:YouBike2.0_振興醫院 => (25.11753,121.52186)\n",
            "站點名稱:YouBike2.0_石牌國小 => (25.1144,121.51307)\n",
            "站點名稱:YouBike2.0_振興公園 => (25.11865,121.5235)\n",
            "站點名稱:YouBike2.0_立農國小 => (25.11978,121.50422)\n",
            "站點名稱:YouBike2.0_承德路七段280巷口 => (25.11587,121.50576)\n",
            "站點名稱:YouBike2.0_致遠一路二段11巷 => (25.11093,121.51382)\n",
            "站點名稱:YouBike2.0_榮富公園 => (25.1137,121.52437)\n",
            "站點名稱:YouBike2.0_中正高中 => (25.10467,121.51654)\n",
            "站點名稱:YouBike2.0_立功立德路口 => (25.12501,121.47158)\n",
            "站點名稱:YouBike2.0_中央北路四段30巷口 => (25.13539,121.478)\n",
            "站點名稱:YouBike2.0_陽明交大圖書館 => (25.12081,121.51352)\n",
            "站點名稱:YouBike2.0_捷運新北投站(2號出口) => (25.13675,121.50224)\n",
            "站點名稱:YouBike2.0_復興公園 => (25.13872,121.5021)\n",
            "站點名稱:YouBike2.0_承德石牌路口 => (25.11272,121.50922)\n",
            "站點名稱:YouBike2.0_承德路七段188巷口 => (25.11416,121.50771)\n",
            "站點名稱:YouBike2.0_捷運明德站(3號出口) => (25.11,121.51841)\n",
            "站點名稱:YouBike2.0_大豐公園 => (25.13102,121.50408)\n",
            "站點名稱:YouBike2.0_洲美公園 => (25.10032,121.50599)\n",
            "站點名稱:YouBike2.0_中和街455巷11弄 => (25.14319,121.49621)\n",
            "站點名稱:YouBike2.0_洲美蜆仔港公園 => (25.10065,121.51107)\n",
            "站點名稱:YouBike2.0_文化三杏林一路口 => (25.14058,121.49915)\n",
            "站點名稱:YouBike2.0_珠海復興一路口 => (25.14045,121.50446)\n",
            "站點名稱:YouBike2.0_裕民二路33巷 => (25.11535,121.51736)\n",
            "站點名稱:YouBike2.0_新奇岩社會住宅 => (25.12287,121.5037)\n",
            "站點名稱:YouBike2.0_泉源公園 => (25.14193,121.50835)\n",
            "站點名稱:YouBike2.0_奇岩4號綠地 => (25.12533,121.50573)\n",
            "站點名稱:YouBike2.0_臺北健康護理大學(教研大樓) => (25.11857,121.51846)\n",
            "站點名稱:YouBike2.0_奇岩一號公園 => (25.12862,121.5033)\n",
            "站點名稱:YouBike2.0_福星公園 => (25.1094,121.51248)\n",
            "站點名稱:YouBike2.0_中庸公園 => (25.13774,121.50142)\n",
            "站點名稱:YouBike2.0_豐年公園_1 => (25.13597,121.49702)\n",
            "站點名稱:YouBike2.0_光明溫泉路口 => (25.13431,121.50226)\n",
            "站點名稱:YouBike2.0_和信治癌中心醫院 => (25.12757,121.47207)\n",
            "站點名稱:YouBike2.0_致遠新村 => (25.14319,121.49093)\n",
            "站點名稱:YouBike2.0_北投公園露天溫泉 => (25.13684,121.50792)\n",
            "站點名稱:YouBike2.0_中和街493巷9弄口 => (25.1439,121.49447)\n",
            "站點名稱:YouBike2.0_捷運北投站(1號出口) => (25.13258,121.49862)\n",
            "站點名稱:YouBike2.0_石牌立農街口 => (25.11879,121.51921)\n",
            "站點名稱:YouBike2.0_捷運唭哩岸站(1號出口) => (25.12082,121.50727)\n",
            "站點名稱:YouBike2.0_大興光明路2巷口 => (25.13043,121.50017)\n",
            "站點名稱:YouBike2.0_捷運忠義站(2號出口) => (25.13076,121.47347)\n",
            "站點名稱:YouBike2.0_福國承德路口 => (25.10171,121.51263)\n",
            "站點名稱:YouBike2.0_捷運北投站(1號出口)(北投路側) => (25.13201,121.49817)\n",
            "站點名稱:YouBike2.0_華固創富中心 => (25.10392,121.51244)\n",
            "站點名稱:YouBike2.0_崇仰公園(公舘路255巷) => (25.12595,121.51098)\n",
            "站點名稱:YouBike2.0_北投文化公園(北側) => (25.13713,121.49706)\n",
            "站點名稱:YouBike2.0_捷運松山站(4號出口) => (25.04987,121.57785)\n",
            "站點名稱:YouBike2.0_塔悠八德路口 => (25.05009,121.57202)\n",
            "站點名稱:YouBike2.0_鵬程公園 => (25.05503,121.56876)\n",
            "站點名稱:YouBike2.0_中崙高中 => (25.04878,121.56087)\n",
            "站點名稱:YouBike2.0_捷運南京三民站(2號出口) => (25.05136,121.56283)\n",
            "站點名稱:YouBike2.0_捷運南京三民站(1號出口) => (25.05155,121.5636)\n",
            "站點名稱:YouBike2.0_光復北路11巷口 => (25.04937,121.558)\n",
            "站點名稱:YouBike2.0_捷運南京三民站(4號出口) => (25.05152,121.5646)\n",
            "站點名稱:YouBike2.0_西松高中 => (25.05492,121.56701)\n",
            "站點名稱:YouBike2.0_民權復興路口 => (25.0622,121.54565)\n",
            "站點名稱:YouBike2.0_民福三號綠地 => (25.06374,121.54767)\n",
            "站點名稱:YouBike2.0_民有一號公園 => (25.06095,121.54731)\n",
            "站點名稱:YouBike2.0_民生敦化路口 => (25.05804,121.54897)\n",
            "站點名稱:YouBike2.0_松基公園 => (25.0546,121.54486)\n",
            "站點名稱:YouBike2.0_三民路166巷口 => (25.0619,121.56328)\n",
            "站點名稱:YouBike2.0_民生活動中心 => (25.05907,121.56305)\n",
            "站點名稱:YouBike2.0_捷運小巨蛋站(2號出口) => (25.05157,121.55118)\n",
            "站點名稱:YouBike2.0_臺北市藝文推廣處 => (25.04826,121.55235)\n",
            "站點名稱:YouBike2.0_民生國小(敦化北路199巷) => (25.05633,121.55286)\n",
            "站點名稱:YouBike2.0_敦北公園 => (25.06118,121.55098)\n",
            "站點名稱:YouBike2.0_民權運動公園 => (25.062,121.56019)\n",
            "站點名稱:YouBike2.0_新東公園 => (25.05925,121.56888)\n",
            "站點名稱:YouBike2.0_民生光復路口 => (25.05834,121.55496)\n",
            "站點名稱:YouBike2.0_三民公園 => (25.061286751494,121.566678992451)\n",
            "站點名稱:YouBike2.0_八德路三段74巷口 => (25.04459,121.55252)\n",
            "站點名稱:YouBike2.0_八德路三段8巷口 => (25.04488,121.54992)\n",
            "站點名稱:YouBike2.0_三軍總醫院(松山分院) => (25.05419,121.55631)\n",
            "站點名稱:YouBike2.0_平安新城 => (25.05528,121.559)\n",
            "站點名稱:YouBike2.0_健康社會住宅 => (25.05433,121.56545)\n",
            "站點名稱:YouBike2.0_民權光復路口(東北側) => (25.06206,121.55475)\n",
            "站點名稱:YouBike2.0_市民東興路口 => (25.0484,121.56586)\n",
            "站點名稱:YouBike2.0_光復南路22巷口 => (25.04693,121.55771)\n",
            "站點名稱:YouBike2.0_光復南路58巷 => (25.04566,121.55656)\n",
            "站點名稱:YouBike2.0_松山新城 => (25.05347,121.55436)\n",
            "站點名稱:YouBike2.0_內政部營建署 => (25.04769,121.5448)\n",
            "站點名稱:YouBike2.0_南京光復路口 => (25.05143,121.55716)\n",
            "站點名稱:YouBike2.0_民生立體停車場 => (25.05846,121.55947)\n",
            "站點名稱:YouBike2.0_健康新城 => (25.05408,121.56095)\n",
            "站點名稱:YouBike2.0_健安新城 => (25.05606,121.56345)\n",
            "站點名稱:YouBike2.0_復盛公園 => (25.04763,121.56115)\n",
            "站點名稱:YouBike2.0_中崙福成宮 => (25.04524,121.54659)\n",
            "站點名稱:YouBike2.0_捷運南京復興站(7號出口) => (25.05278,121.54478)\n",
            "站點名稱:YouBike2.0_捷運南京復興站(5號出口) => (25.05168,121.54506)\n",
            "站點名稱:YouBike2.0_塔悠疏散門 => (25.0648,121.56788)\n",
            "站點名稱:YouBike2.0_臺北田徑場 => (25.04951,121.54941)\n",
            "站點名稱:YouBike2.0_捷運小巨蛋站(5號出口) => (25.05176,121.55352)\n",
            "站點名稱:YouBike2.0_敦化長春路口 => (25.0536,121.54871)\n",
            "站點名稱:YouBike2.0_饒河疏散門(基四號疏散門) => (25.05147,121.57683)\n",
            "站點名稱:YouBike2.0_捷運松山站(2號出口) => (25.05013,121.57635)\n",
            "站點名稱:YouBike2.0_民權東路三段106巷口 => (25.062,121.54472)\n",
            "站點名稱:YouBike2.0_南京東路五段59巷口 => (25.05163,121.55907)\n",
            "站點名稱:YouBike2.0_三民公園(塔悠路) => (25.06241,121.56831)\n",
            "站點名稱:YouBike2.0_寶清公園 => (25.05198,121.5681)\n",
            "站點名稱:YouBike2.0_西松公園 => (25.05406,121.56407)\n",
            "站點名稱:YouBike2.0_長壽公園 => (25.05378,121.55893)\n",
            "站點名稱:YouBike2.0_復源公園 => (25.04634,121.5542)\n",
            "站點名稱:YouBike2.0_南京東路四段179巷口 => (25.05173,121.55609)\n",
            "站點名稱:YouBike2.0_臺北田徑場(北寧路側) => (25.04954,121.55261)\n",
            "站點名稱:YouBike2.0_西松高中(健康路325巷) => (25.05567,121.56713)\n",
            "站點名稱:YouBike2.0_南京東興路口 => (25.05149,121.56535)\n",
            "站點名稱:YouBike2.0_捷運松山站(3號出口) => (25.04962,121.57746)\n",
            "站點名稱:YouBike2.0_介壽國中 => (25.05722,121.55706)\n",
            "站點名稱:YouBike2.0_敦化南京路口(東北側) => (25.05226,121.54926)\n",
            "站點名稱:YouBike2.0_敦化八德路口 => (25.04802,121.54864)\n",
            "站點名稱:YouBike2.0_新東街51巷口 => (25.0615,121.56332)\n",
            "站點名稱:YouBike2.0_八德立體停車場 => (25.04985,121.57189)\n",
            "站點名稱:YouBike2.0_長春慶城街口 => (25.05452,121.54636)\n",
            "站點名稱:YouBike2.0_八德路四段652巷口 => (25.04942,121.57503)\n",
            "站點名稱:YouBike2.0_捷運松山站(1號出口) => (25.05014,121.57692)\n",
            "站點名稱:YouBike2.0_捷運小巨蛋站(3號出口) => (25.05152,121.55243)\n",
            "站點名稱:YouBike2.0_捷運小巨蛋站(5號出口)_1 => (25.05181,121.5521)\n",
            "站點名稱:YouBike2.0_敦化北路155巷口 => (25.0542,121.5491)\n",
            "站點名稱:YouBike2.0_民生復興路口 => (25.05764,121.54443)\n",
            "站點名稱:YouBike2.0_市民延吉街口 => (25.0444,121.55397)\n",
            "站點名稱:YouBike2.0_龍城市場 => (25.05454,121.55417)\n",
            "站點名稱:YouBike2.0_捷運南京三民站(3號出口) => (25.05129,121.56426)\n",
            "站點名稱:YouBike2.0_塔悠基隆路口(麥帥一橋下) => (25.05139,121.57062)\n",
            "站點名稱:YouBike2.0_五常街370巷 => (25.06432,121.54537)\n",
            "站點名稱:YouBike2.0_南港公園(東新街) => (25.04591,121.59226)\n",
            "站點名稱:YouBike2.0_南港公園(福德街) => (25.04128,121.59089)\n",
            "站點名稱:YouBike2.0_捷運昆陽站(1號出口) => (25.05014,121.59238)\n",
            "站點名稱:YouBike2.0_忠孝東路六段225巷口 => (25.04919,121.58832)\n",
            "站點名稱:YouBike2.0_捷運後山埤站(1號出口) => (25.04437,121.58133)\n",
            "站點名稱:YouBike2.0_合樂公園 => (25.04843,121.58154)\n",
            "站點名稱:YouBike2.0_合心廣場 => (25.04608,121.58315)\n",
            "站點名稱:YouBike2.0_成德國中 => (25.04592,121.5882)\n",
            "站點名稱:YouBike2.0_玉成公園 => (25.04281,121.58613)\n",
            "站點名稱:YouBike2.0_研究院舊莊街口 => (25.04239,121.61683)\n",
            "站點名稱:YouBike2.0_中研院綜合體育館東側 => (25.04054,121.61374)\n",
            "站點名稱:YouBike2.0_國家生技園區 => (25.04763,121.61145)\n",
            "站點名稱:YouBike2.0_捷運南港展覽館站(5號出口) => (25.05469,121.61669)\n",
            "站點名稱:YouBike2.0_中研公園 => (25.04697,121.61375)\n",
            "站點名稱:YouBike2.0_福山公園 => (25.04499,121.61775)\n",
            "站點名稱:YouBike2.0_舊莊區民活動中心 => (25.04139,121.6191)\n",
            "站點名稱:YouBike2.0_凌雲市場 => (25.03564,121.61415)\n",
            "站點名稱:YouBike2.0_市民大道八段532號 => (25.054,121.61334)\n",
            "站點名稱:YouBike2.0_捷運南港軟體園區(2號出口) => (25.05933,121.61677)\n",
            "站點名稱:YouBike2.0_南港國小 => (25.05668,121.61137)\n",
            "站點名稱:YouBike2.0_興中立體停車場(興中路) => (25.05629,121.607)\n",
            "站點名稱:YouBike2.0_臺北市立圖書館南港分館 => (25.05485,121.60866)\n",
            "站點名稱:YouBike2.0_東陽公園 => (25.05716,121.59792)\n",
            "站點名稱:YouBike2.0_向陽南港路口 => (25.05437,121.59423)\n",
            "站點名稱:YouBike2.0_南港車站(忠孝東路七段415巷) => (25.05252,121.60922)\n",
            "站點名稱:YouBike2.0_捷運南港站(2號出口) => (25.05201,121.60741)\n",
            "站點名稱:YouBike2.0_捷運南港站(1號出口) => (25.05192,121.60642)\n",
            "站點名稱:YouBike2.0_東新國小 => (25.05507,121.6028)\n",
            "站點名稱:YouBike2.0_中華科技大學 => (25.03392,121.60985)\n",
            "站點名稱:YouBike2.0_六福公園 => (25.04681,121.61703)\n",
            "站點名稱:YouBike2.0_南港加壓站 => (25.04805,121.61594)\n",
            "站點名稱:YouBike2.0_臺北流行音樂中心(南港路) => (25.05343,121.59945)\n",
            "站點名稱:YouBike2.0_興南公園 => (25.05766,121.60396)\n",
            "站點名稱:YouBike2.0_臺北流行音樂中心(市民大道) => (25.05211,121.59839)\n",
            "站點名稱:YouBike2.0_南港車站(市民大道) => (25.05326,121.60656)\n",
            "站點名稱:YouBike2.0_忠孝東路七段527巷口 => (25.05266,121.61275)\n",
            "站點名稱:YouBike2.0_南港軟體園區(新民街) => (25.05627,121.61369)\n",
            "站點名稱:YouBike2.0_世貿公園 => (25.05831,121.61422)\n",
            "站點名稱:YouBike2.0_凌雲五村(研究院路三段8巷) => (25.03595,121.61688)\n",
            "站點名稱:YouBike2.0_新新公園(昆陽街60巷) => (25.0521,121.59053)\n",
            "站點名稱:YouBike2.0_南港高中(昆陽街) => (25.05285,121.59279)\n",
            "站點名稱:YouBike2.0_南港路三段290巷口 => (25.05234,121.58152)\n",
            "站點名稱:YouBike2.0_南港路三段220巷口 => (25.05289,121.58599)\n",
            "站點名稱:YouBike2.0_南港東新街口 => (25.05168,121.58284)\n",
            "站點名稱:YouBike2.0_八德中坡路口 => (25.05064,121.5803)\n",
            "站點名稱:YouBike2.0_捷運後山埤站(3號出口) => (25.04511,121.5836)\n",
            "站點名稱:YouBike2.0_玉成公園運動中心 => (25.04193,121.58493)\n",
            "站點名稱:YouBike2.0_百福公園 => (25.03884,121.58788)\n",
            "站點名稱:YouBike2.0_南湖大橋(經貿二路255巷) => (25.06148,121.61384)\n",
            "站點名稱:YouBike2.0_園區重陽路口 => (25.05937,121.61072)\n",
            "站點名稱:YouBike2.0_南港車站B棟(市民大道) => (25.05293,121.60549)\n",
            "站點名稱:YouBike2.0_胡適公園 => (25.04014,121.61766)\n",
            "站點名稱:YouBike2.0_南港抽水站 => (25.06164,121.61267)\n",
            "站點名稱:YouBike2.0_經貿公園 => (25.06271,121.61597)\n",
            "站點名稱:YouBike2.0_育成高中 => (25.05853,121.60983)\n",
            "站點名稱:YouBike2.0_捷運南港展覽館站(7號出口) => (25.05436,121.6181)\n",
            "站點名稱:YouBike2.0_力行橋(南港) => (25.05172,121.61686)\n",
            "站點名稱:YouBike2.0_舊莊國小(舊莊街一段) => (25.03987,121.62015)\n",
            "站點名稱:YouBike2.0_向陽公園 => (25.05705,121.59265)\n",
            "站點名稱:YouBike2.0_小彎社會住宅 => (25.0582,121.59368)\n",
            "站點名稱:YouBike2.0_捷運南港展覽館站(6號出口) => (25.05465,121.6185)\n",
            "站點名稱:YouBike2.0_捷運南港展覽館站(4號出口) => (25.05535,121.61838)\n",
            "站點名稱:YouBike2.0_成德綠地 => (25.04675,121.58731)\n",
            "站點名稱:YouBike2.0_南港公園(東新街170巷) => (25.04134,121.59323)\n",
            "站點名稱:YouBike2.0_中坡市民路口(東北側) => (25.04969,121.58028)\n",
            "站點名稱:YouBike2.0_昆陽公園 => (25.0483,121.59425)\n",
            "站點名稱:YouBike2.0_南港路二段178巷口 => (25.05368,121.59969)\n",
            "站點名稱:YouBike2.0_南港車站(忠孝東路) => (25.05225,121.60766)\n",
            "站點名稱:YouBike2.0_南港車站(興華路) => (25.05343,121.60633)\n",
            "站點名稱:YouBike2.0_玉成公園(成福路178巷口) => (25.04177,121.58735)\n",
            "站點名稱:YouBike2.0_玉東公園(東新街) => (25.04998,121.58383)\n",
            "站點名稱:YouBike2.0_南港出租國宅社區 => (25.03878,121.59302)\n",
            "站點名稱:YouBike2.0_成福路197巷口 => (25.04066,121.58877)\n",
            "站點名稱:YouBike2.0_南港疏散門(基三號疏散門) => (25.05543,121.5892)\n",
            "站點名稱:YouBike2.0_成德立體停車場 => (25.04557,121.58629)\n",
            "站點名稱:YouBike2.0_南港展覽館2館 => (25.05545,121.61646)\n",
            "站點名稱:YouBike2.0_舊莊派出所 => (25.03827,121.62274)\n",
            "站點名稱:YouBike2.0_南港路三段80巷 => (25.05394,121.59124)\n",
            "站點名稱:YouBike2.0_捷運昆陽站(4號出口) => (25.05066,121.59431)\n",
            "站點名稱:YouBike2.0_忠孝東路六段278巷口 => (25.04916,121.58906)\n",
            "站點名稱:YouBike2.0_中研院人文社會科學館 => (25.04126,121.6118)\n",
            "站點名稱:YouBike2.0_南港路三段130巷口 => (25.05457,121.58781)\n",
            "站點名稱:YouBike2.0_南港路三段190巷口 => (25.05381,121.58638)\n",
            "站點名稱:YouBike2.0_忠孝東路六段212巷口 => (25.0488,121.58742)\n",
            "站點名稱:YouBike2.0_新富公園 => (25.05296,121.61713)\n",
            "站點名稱:YouBike2.0_東新街63巷口 => (25.04728,121.58605)\n",
            "站點名稱:YouBike2.0_內湖機廠(港東街) => (25.058,121.62189)\n",
            "站點名稱:YouBike2.0_黎忠區民活動中心 => (25.02035,121.55769)\n",
            "站點名稱:YouBike2.0_基隆路二段159巷口 => (25.02561,121.55409)\n",
            "站點名稱:YouBike2.0_嘉興街175巷口 => (25.02811,121.55671)\n",
            "站點名稱:YouBike2.0_和平東路三段631巷口 => (25.0132,121.56335)\n",
            "站點名稱:YouBike2.0_和平東路三段530巷口 => (25.01545,121.56134)\n",
            "站點名稱:YouBike2.0_景勤二號公園 => (25.02698,121.55841)\n",
            "站點名稱:YouBike2.0_臺北醫學大學 => (25.02668,121.56175)\n",
            "站點名稱:YouBike2.0_三興公園 => (25.02868,121.55932)\n",
            "站點名稱:YouBike2.0_松德站 => (25.03162,121.57396)\n",
            "站點名稱:YouBike2.0_捷運象山站(2號出口) => (25.03222,121.56974)\n",
            "站點名稱:YouBike2.0_象山公園 => (25.02863,121.56981)\n",
            "站點名稱:YouBike2.0_松仁路253巷3弄 => (25.02678,121.56884)\n",
            "站點名稱:YouBike2.0_興雅國中 => (25.03616,121.56983)\n",
            "站點名稱:YouBike2.0_捷運象山站(1號出口) => (25.03295,121.56867)\n",
            "站點名稱:YouBike2.0_松德路200巷 => (25.03471,121.57301)\n",
            "站點名稱:YouBike2.0_中全公園 => (25.0382,121.57495)\n",
            "站點名稱:YouBike2.0_台北市災害應變中心 => (25.02868,121.56672)\n",
            "站點名稱:YouBike2.0_信義運動中心 => (25.03189,121.56678)\n",
            "站點名稱:YouBike2.0_捷運台北101/世貿站(3號出口) => (25.03275,121.56337)\n",
            "站點名稱:YouBike2.0_景新公園 => (25.03003,121.56287)\n",
            "站點名稱:YouBike2.0_光復信義路口東南側 => (25.03281,121.55756)\n",
            "站點名稱:YouBike2.0_三張犁 => (25.03452,121.5576)\n",
            "站點名稱:YouBike2.0_仁愛路四段496巷口 => (25.03745,121.5602)\n",
            "站點名稱:YouBike2.0_松山工農 => (25.03961,121.57199)\n",
            "站點名稱:YouBike2.0_松友公園 => (25.03423,121.57636)\n",
            "站點名稱:YouBike2.0_林口公園 => (25.03894,121.57915)\n",
            "站點名稱:YouBike2.0_松山家商 => (25.0347,121.58018)\n",
            "站點名稱:YouBike2.0_永春陂濕地公園 => (25.03301,121.58096)\n",
            "站點名稱:YouBike2.0_臺北市政府 => (25.03801,121.56541)\n",
            "站點名稱:YouBike2.0_松智松壽路口 => (25.03607,121.56535)\n",
            "站點名稱:YouBike2.0_市府松壽路口 => (25.03627,121.56383)\n",
            "站點名稱:YouBike2.0_市府松高路口 => (25.03899,121.56369)\n",
            "站點名稱:YouBike2.0_市民廣場 => (25.03599,121.56218)\n",
            "站點名稱:YouBike2.0_信義廣場(台北101) => (25.03306,121.5662)\n",
            "站點名稱:YouBike2.0_捷運台北101/世貿站(5號出口) => (25.03338,121.56333)\n",
            "站點名稱:YouBike2.0_春光公園 => (25.0427,121.58112)\n",
            "站點名稱:YouBike2.0_松仁路121巷口 => (25.03476,121.56865)\n",
            "站點名稱:YouBike2.0_福德國小 => (25.03846,121.58618)\n",
            "站點名稱:YouBike2.0_福德公園 => (25.03841,121.58355)\n",
            "站點名稱:YouBike2.0_松高路(信義新天地A4館) => (25.03918,121.56654)\n",
            "站點名稱:YouBike2.0_興雅松仁路口 => (25.0401,121.56822)\n",
            "站點名稱:YouBike2.0_福祥公園 => (25.04626,121.57045)\n",
            "站點名稱:YouBike2.0_吳興公車總站 => (25.02388,121.56984)\n",
            "站點名稱:YouBike2.0_泰和公園 => (25.0193,121.57105)\n",
            "站點名稱:YouBike2.0_興雅國小(基隆路一段37巷) => (25.04773,121.56895)\n",
            "站點名稱:YouBike2.0_雅祥公園(松信路50巷口) => (25.04732,121.57211)\n",
            "站點名稱:YouBike2.0_松山車站 => (25.0489,121.57841)\n",
            "站點名稱:YouBike2.0_五常公園 => (25.04797,121.57432)\n",
            "站點名稱:YouBike2.0_永吉松信路口 => (25.04548,121.57207)\n",
            "站點名稱:YouBike2.0_三興國小 => (25.02969,121.55766)\n",
            "站點名稱:YouBike2.0_市民松信路口 => (25.04927,121.57205)\n",
            "站點名稱:YouBike2.0_松山高中 => (25.0433,121.5638)\n",
            "站點名稱:YouBike2.0_基隆光復路口 => (25.03005,121.55764)\n",
            "站點名稱:YouBike2.0_基隆忠孝路口西南側 => (25.04108,121.5629)\n",
            "站點名稱:YouBike2.0_泰和里民活動中心 => (25.0213,121.57027)\n",
            "站點名稱:YouBike2.0_捷運後山埤站(2號出口) => (25.04395,121.58184)\n",
            "站點名稱:YouBike2.0_虎林永吉路口 => (25.04519,121.57712)\n",
            "站點名稱:YouBike2.0_永吉公園 => (25.04345,121.57539)\n",
            "站點名稱:YouBike2.0_永吉路321巷口 => (25.04561,121.57549)\n",
            "站點名稱:YouBike2.0_松山永吉路口 => (25.04623,121.57772)\n",
            "站點名稱:YouBike2.0_松山路292巷口 => (25.0432,121.57789)\n",
            "站點名稱:YouBike2.0_捷運象山站(3號出口) => (25.03295,121.5712)\n",
            "站點名稱:YouBike2.0_松德公園 => (25.03657,121.57349)\n",
            "站點名稱:YouBike2.0_世貿三館 => (25.03511,121.56369)\n",
            "站點名稱:YouBike2.0_松德虎林街口 => (25.0383,121.5762)\n",
            "站點名稱:YouBike2.0_富台公園 => (25.04185,121.57204)\n",
            "站點名稱:YouBike2.0_基隆路一段101巷口 => (25.04516,121.56702)\n",
            "站點名稱:YouBike2.0_捷運永春站(2號出口) => (25.0405,121.57538)\n",
            "站點名稱:YouBike2.0_吳興街260巷 => (25.02606,121.5631)\n",
            "站點名稱:YouBike2.0_松山家商(林口街) => (25.03593,121.57906)\n",
            "站點名稱:YouBike2.0_仁愛逸仙路口 => (25.03771,121.56124)\n",
            "站點名稱:YouBike2.0_安強公園 => (25.03693,121.57535)\n",
            "站點名稱:YouBike2.0_信義基隆路口 => (25.03321,121.55873)\n",
            "站點名稱:YouBike2.0_捷運台北101/世貿站(2號出口) => (25.0327,121.56157)\n",
            "站點名稱:YouBike2.0_吳興街284巷36弄口 => (25.02236,121.56268)\n",
            "站點名稱:YouBike2.0_協和祐德高級中學 => (25.0426,121.58381)\n",
            "站點名稱:YouBike2.0_福德國小公車站 => (25.03929,121.58755)\n",
            "站點名稱:YouBike2.0_松仁路95巷口 => (25.03656,121.56866)\n",
            "站點名稱:YouBike2.0_臺北南山廣場_1 => (25.03404,121.56598)\n",
            "站點名稱:YouBike2.0_景聯廣場 => (25.03214,121.55974)\n",
            "站點名稱:YouBike2.0_景平公園 => (25.02976,121.5642)\n",
            "站點名稱:YouBike2.0_捷運市政府站(3號出口) => (25.04084,121.56789)\n",
            "站點名稱:YouBike2.0_五分埔公園 => (25.04719,121.58058)\n",
            "站點名稱:YouBike2.0_松仁路305號 => (25.02306,121.57036)\n",
            "站點名稱:YouBike2.0_吳興街394巷口 => (25.02474,121.56741)\n",
            "站點名稱:YouBike2.0_忠孝東路五段215巷口 => (25.0409,121.5705)\n",
            "站點名稱:YouBike2.0_松勤莊敬路口 => (25.03203,121.5615)\n",
            "站點名稱:YouBike2.0_松仁松平路口 => (25.03047,121.56838)\n",
            "站點名稱:YouBike2.0_信義松德路口 => (25.03322,121.57433)\n",
            "站點名稱:YouBike2.0_捷運市政府站(4號出口) => (25.04146,121.56731)\n",
            "站點名稱:YouBike2.0_吳興街284巷(廣安宮) => (25.02326,121.56329)\n",
            "站點名稱:YouBike2.0_景勤二號公園(西南側) => (25.02605,121.5577)\n",
            "站點名稱:YouBike2.0_克勤新村 => (25.02589,121.56073)\n",
            "站點名稱:YouBike2.0_和平東路三段291號 => (25.02186,121.55532)\n",
            "站點名稱:YouBike2.0_德昌寶興街口(西北角) => (25.02361,121.49529)\n",
            "站點名稱:YouBike2.0_寶興長泰街口(西南角) => (25.0216,121.49597)\n",
            "站點名稱:YouBike2.0_萬大路486巷口 => (25.01975,121.4973)\n",
            "站點名稱:YouBike2.0_國興中華路口 => (25.02485,121.50898)\n",
            "站點名稱:YouBike2.0_古亭國中 => (25.02442,121.5107)\n",
            "站點名稱:YouBike2.0_國興水源路口 => (25.02297,121.50845)\n",
            "站點名稱:YouBike2.0_青年公園高爾夫球場 => (25.02481,121.50755)\n",
            "站點名稱:YouBike2.0_國興青年路口 => (25.02594,121.50651)\n",
            "站點名稱:YouBike2.0_青年公園棒球場 => (25.0241,121.50289)\n",
            "站點名稱:YouBike2.0_青年公園籃球場 => (25.02085,121.50539)\n",
            "站點名稱:YouBike2.0_復華花園新城 => (25.02964,121.50258)\n",
            "站點名稱:YouBike2.0_新和國小 => (25.02582,121.50255)\n",
            "站點名稱:YouBike2.0_莒光郵局 => (25.03124,121.50122)\n",
            "站點名稱:YouBike2.0_莒光立體停車場 => (25.03116,121.50336)\n",
            "站點名稱:YouBike2.0_艋舺大道146巷口 => (25.03301,121.5016)\n",
            "站點名稱:YouBike2.0_東園國小 => (25.02257,121.49807)\n",
            "站點名稱:YouBike2.0_華中疏散門 => (25.01688,121.49534)\n",
            "站點名稱:YouBike2.0_錦德公園 => (25.02332,121.49264)\n",
            "站點名稱:YouBike2.0_忠德公園 => (25.02516,121.49604)\n",
            "站點名稱:YouBike2.0_華江高中 => (25.02744,121.49619)\n",
            "站點名稱:YouBike2.0_西園艋舺路口 => (25.03267,121.49757)\n",
            "站點名稱:YouBike2.0_雙園國中 => (25.02673,121.49176)\n",
            "站點名稱:YouBike2.0_長順區民活動中心 => (25.03284,121.48908)\n",
            "站點名稱:YouBike2.0_華江國小 => (25.03397,121.49029)\n",
            "站點名稱:YouBike2.0_華江八號公園 => (25.03388,121.49293)\n",
            "站點名稱:YouBike2.0_環河南雙園街口 => (25.03203,121.49127)\n",
            "站點名稱:YouBike2.0_大理高中 => (25.03062,121.49021)\n",
            "站點名稱:YouBike2.0_糖廍文化園區 => (25.03383,121.4946)\n",
            "站點名稱:YouBike2.0_兩棵樹公園 => (25.03211,121.49502)\n",
            "站點名稱:YouBike2.0_萬華青年公宅 => (25.02021,121.50376)\n",
            "站點名稱:YouBike2.0_開封西寧路口 => (25.04662,121.50717)\n",
            "站點名稱:YouBike2.0_峨嵋停車場 => (25.04441,121.50541)\n",
            "站點名稱:YouBike2.0_長沙公園 => (25.0417,121.49992)\n",
            "站點名稱:YouBike2.0_貓公園(中興橋頭) => (25.04367,121.50218)\n",
            "站點名稱:YouBike2.0_西本願寺廣場 => (25.04099,121.50769)\n",
            "站點名稱:YouBike2.0_中華桂林路口 => (25.03771,121.50662)\n",
            "站點名稱:YouBike2.0_捷運龍山寺站(1號出口) => (25.03535,121.49938)\n",
            "站點名稱:YouBike2.0_龍山國小 => (25.0355,121.49541)\n",
            "站點名稱:YouBike2.0_華西公園 => (25.03852,121.49881)\n",
            "站點名稱:YouBike2.0_老松國小 => (25.03792,121.50177)\n",
            "站點名稱:YouBike2.0_萬華火車站 => (25.03364,121.50322)\n",
            "站點名稱:YouBike2.0_萬華火車站(D2廣場) => (25.03394,121.50117)\n",
            "站點名稱:YouBike2.0_捷運龍山寺站(3號出口) => (25.03509,121.50199)\n",
            "站點名稱:YouBike2.0_臺北市電影主題公園(峨嵋街) => (25.04445,121.50306)\n",
            "站點名稱:YouBike2.0_臺北市電影主題公園(康定路) => (25.04551,121.50318)\n",
            "站點名稱:YouBike2.0_中華峨嵋街口 => (25.04345,121.50841)\n",
            "站點名稱:YouBike2.0_萬華266號綠地 => (25.0403,121.50197)\n",
            "站點名稱:YouBike2.0_萬大國小(萬大路344巷口) => (25.02376,121.49986)\n",
            "站點名稱:YouBike2.0_德昌街10巷口 => (25.02533,121.4996)\n",
            "站點名稱:YouBike2.0_環河南和平西路口 => (25.03517,121.49048)\n",
            "站點名稱:YouBike2.0_長順街60巷口 => (25.03119,121.48858)\n",
            "站點名稱:YouBike2.0_西園公園 => (25.0271,121.49775)\n",
            "站點名稱:YouBike2.0_華江污水廠 => (25.03606,121.49163)\n",
            "站點名稱:YouBike2.0_柳鄉公園 => (25.03718,121.49524)\n",
            "站點名稱:YouBike2.0_綠堤社區公園 => (25.03286,121.49301)\n",
            "站點名稱:YouBike2.0_長順艋舺大道口 => (25.03035,121.49228)\n",
            "站點名稱:YouBike2.0_富民路145巷口 => (25.01796,121.49988)\n",
            "站點名稱:YouBike2.0_環南綜合市場 => (25.0286,121.48908)\n",
            "站點名稱:YouBike2.0_龍山國中 => (25.03646,121.50492)\n",
            "站點名稱:YouBike2.0_洛陽停車場 => (25.04776,121.50612)\n",
            "站點名稱:YouBike2.0_桂林昆明街口 => (25.03811,121.50362)\n",
            "站點名稱:YouBike2.0_萬華國中_1 => (25.02926,121.49936)\n",
            "站點名稱:YouBike2.0_青年公園3號出口 => (25.02273,121.50271)\n",
            "站點名稱:YouBike2.0_捷運龍山寺站(1號出口)_1 => (25.03548,121.50026)\n",
            "站點名稱:YouBike2.0_艋舺西藏路口 => (25.0287,121.49156)\n",
            "站點名稱:YouBike2.0_萬大路493巷 => (25.01975,121.4992)\n",
            "站點名稱:YouBike2.0_雙園國中地下停車場 => (25.02768,121.49134)\n",
            "站點名稱:YouBike2.0_青年路152巷口 => (25.01979,121.5009)\n",
            "站點名稱:YouBike2.0_臺大水源舍區A棟 => (25.01493,121.53044)\n",
            "站點名稱:YouBike2.0_臺大卓越研究大樓 => (25.01466,121.52917)\n",
            "站點名稱:YouBike2.0_臺大水源修齊會館 => (25.01411,121.52997)\n",
            "站點名稱:YouBike2.0_臺大檔案展示館 => (25.01391,121.52895)\n",
            "站點名稱:YouBike2.0_臺大水源舍區B棟 => (25.01525,121.53009)\n",
            "站點名稱:YouBike2.0_臺大男八舍東側 => (25.01729,121.54531)\n",
            "站點名稱:YouBike2.0_臺大禮賢樓東南側 => (25.01408,121.53759)\n",
            "站點名稱:YouBike2.0_臺大農業陳列館北側 => (25.01839,121.53404)\n",
            "站點名稱:YouBike2.0_臺大管理學院二館北側 => (25.01355,121.53673)\n",
            "站點名稱:YouBike2.0_臺大土木系館 => (25.01761,121.53844)\n",
            "站點名稱:YouBike2.0_臺大大一女舍北側 => (25.01547,121.53436)\n",
            "站點名稱:YouBike2.0_臺大女九舍西南側 => (25.01937,121.53902)\n",
            "站點名稱:YouBike2.0_臺大小福樓東側 => (25.01846,121.5376)\n",
            "站點名稱:YouBike2.0_臺大立體機車停車場 => (25.01616,121.54251)\n",
            "站點名稱:YouBike2.0_臺大工綜館南側 => (25.01857,121.54059)\n",
            "站點名稱:YouBike2.0_臺大天文數學館南側 => (25.02108,121.53783)\n",
            "站點名稱:YouBike2.0_臺大心理系館南側 => (25.01941,121.5404)\n",
            "站點名稱:YouBike2.0_臺大樂學館東側 => (25.01793,121.53585)\n",
            "站點名稱:YouBike2.0_臺大農化新館西側 => (25.01627,121.53535)\n",
            "站點名稱:YouBike2.0_臺大五號館西側 => (25.01666,121.53718)\n",
            "站點名稱:YouBike2.0_臺大舊體育館西側 => (25.0198,121.53583)\n",
            "站點名稱:YouBike2.0_臺大共同教室北側 => (25.01595,121.53791)\n",
            "站點名稱:YouBike2.0_臺大共同教室東南側 => (25.01566,121.53786)\n",
            "站點名稱:YouBike2.0_臺大鹿鳴堂東側 => (25.01511,121.53786)\n",
            "站點名稱:YouBike2.0_臺大公館停車場西北側 => (25.01345,121.53798)\n",
            "站點名稱:YouBike2.0_臺大第二行政大樓南側 => (25.01603,121.53635)\n",
            "站點名稱:YouBike2.0_臺大明達館機車停車場 => (25.01754,121.54398)\n",
            "站點名稱:YouBike2.0_臺大二號館 => (25.01699,121.53574)\n",
            "站點名稱:YouBike2.0_臺大凝態館南側 => (25.02157,121.53633)\n",
            "站點名稱:YouBike2.0_臺大社科院西側 => (25.02053,121.54145)\n",
            "站點名稱:YouBike2.0_臺大社會系館南側 => (25.01987,121.54175)\n",
            "站點名稱:YouBike2.0_臺大思亮館東南側 => (25.02074,121.53906)\n",
            "站點名稱:YouBike2.0_臺大椰林小舖 => (25.01561,121.53583)\n",
            "站點名稱:YouBike2.0_臺大計資中心南側 => (25.02036,121.53992)\n",
            "站點名稱:YouBike2.0_臺大原分所北側 => (25.01881,121.53868)\n",
            "站點名稱:YouBike2.0_臺大生命科學館西北側 => (25.01548,121.53825)\n",
            "站點名稱:YouBike2.0_臺大第一活動中心西南側 => (25.01761,121.53995)\n",
            "站點名稱:YouBike2.0_臺大博理館西側 => (25.01922,121.54195)\n",
            "站點名稱:YouBike2.0_臺大博雅館西側 => (25.0189,121.536)\n",
            "站點名稱:YouBike2.0_臺大森林館北側 => (25.01704,121.53888)\n",
            "站點名稱:YouBike2.0_臺大一號館 => (25.01698,121.53455)\n",
            "站點名稱:YouBike2.0_臺大小小福西南側 => (25.01539,121.53686)\n",
            "站點名稱:YouBike2.0_臺大教研館北側 => (25.01337,121.53909)\n",
            "站點名稱:YouBike2.0_臺大四號館東北側 => (25.01703,121.53781)\n",
            "站點名稱:YouBike2.0_臺大新生教室南側 => (25.0196,121.53846)\n",
            "站點名稱:YouBike2.0_臺大鄭江樓北側 => (25.019,121.54305)\n",
            "站點名稱:YouBike2.0_臺大電機二館東南側 => (25.01857,121.54247)\n",
            "站點名稱:YouBike2.0_臺大圖資系館北側 => (25.01804,121.53928)\n",
            "站點名稱:YouBike2.0_臺大總圖書館西南側 => (25.0169,121.54031)\n",
            "站點名稱:YouBike2.0_臺大黑森林西側 => (25.01995,121.54347)\n",
            "站點名稱:YouBike2.0_臺大獸醫館南側 => (25.01791,121.54242)\n",
            "站點名稱:YouBike2.0_臺大新體育館東南側 => (25.02112,121.53591)\n",
            "站點名稱:YouBike2.0_臺大明達館北側(員工宿舍) => (25.01816,121.54469)\n"
          ]
        }
      ]
    },
    {
      "cell_type": "markdown",
      "source": [
        "### while迴圈\n",
        "\n",
        "```python\n",
        "while 條件式:\n",
        "  程式區塊\n",
        "```"
      ],
      "metadata": {
        "id": "kZtI1BdN8qHi"
      }
    },
    {
      "cell_type": "code",
      "source": [
        "c = 0\n",
        "while c < 10:\n",
        "  print(c)\n",
        "  c = c + 1"
      ],
      "metadata": {
        "colab": {
          "base_uri": "https://localhost:8080/"
        },
        "id": "_lNHBq156SsH",
        "outputId": "6a4d1571-9128-4df3-9911-d88f3ad78003"
      },
      "execution_count": null,
      "outputs": [
        {
          "output_type": "stream",
          "name": "stdout",
          "text": [
            "0\n",
            "1\n",
            "2\n",
            "3\n",
            "4\n",
            "5\n",
            "6\n",
            "7\n",
            "8\n",
            "9\n"
          ]
        }
      ]
    },
    {
      "cell_type": "markdown",
      "source": [
        "### 例外處理 (Exception Handling)\n",
        "\n",
        "概略語法如下：\n",
        "\n",
        "```python\n",
        "try:\n",
        "  程式區塊\n",
        "except Exception as e:\n",
        "  例外處理程式區塊\n",
        "```"
      ],
      "metadata": {
        "id": "jjqeAn4S9PfE"
      }
    },
    {
      "cell_type": "code",
      "source": [
        "def add(a, b):\n",
        "  print(f\"{a} + {b} = {a+b}\")\n",
        "\n",
        "def sub(a, b):\n",
        "  print(f\"{a} - {b} = {a-b}\")\n",
        "\n",
        "def mul(a, b):\n",
        "  print(f\"{a} x {b} = {a*b}\")\n",
        "\n",
        "def div(a, b):\n",
        "  print(f\"{a} / {b} = {a/b}\")"
      ],
      "metadata": {
        "id": "WzYaPkav9CUV"
      },
      "execution_count": null,
      "outputs": []
    },
    {
      "cell_type": "code",
      "source": [
        "a = 4\n",
        "b = 2\n",
        "add(a, b)\n",
        "sub(a, b)\n",
        "mul(a, b)\n",
        "div(a, b)"
      ],
      "metadata": {
        "colab": {
          "base_uri": "https://localhost:8080/"
        },
        "id": "2bnXwQBX9ns_",
        "outputId": "3fcd7012-0cc5-4863-83ef-73c7dedd14e6"
      },
      "execution_count": null,
      "outputs": [
        {
          "output_type": "stream",
          "name": "stdout",
          "text": [
            "4 + 2 = 6\n",
            "4 - 2 = 2\n",
            "4 x 2 = 8\n",
            "4 / 2 = 2.0\n"
          ]
        }
      ]
    },
    {
      "cell_type": "code",
      "source": [
        "fns = [add, sub, div, mul]"
      ],
      "metadata": {
        "id": "8IcuoOVD9pF9"
      },
      "execution_count": null,
      "outputs": []
    },
    {
      "cell_type": "code",
      "source": [
        "a = 4\n",
        "b = 2\n",
        "for fn in fns:\n",
        "  fn(a, b)"
      ],
      "metadata": {
        "colab": {
          "base_uri": "https://localhost:8080/"
        },
        "id": "UwXxPeKq-k4I",
        "outputId": "db3d412a-39fd-460d-d0b8-5f844d7dd8da"
      },
      "execution_count": null,
      "outputs": [
        {
          "output_type": "stream",
          "name": "stdout",
          "text": [
            "4 + 2 = 6\n",
            "4 - 2 = 2\n",
            "4 / 2 = 2.0\n",
            "4 x 2 = 8\n"
          ]
        }
      ]
    },
    {
      "cell_type": "code",
      "source": [
        "a = 4\n",
        "b = 0\n",
        "for fn in fns:\n",
        "  fn(a, b)"
      ],
      "metadata": {
        "colab": {
          "base_uri": "https://localhost:8080/",
          "height": 323
        },
        "id": "cL_AVpG1_UkA",
        "outputId": "bf8f2af8-35ce-490e-d2d0-ca6f89cfa9d8"
      },
      "execution_count": null,
      "outputs": [
        {
          "output_type": "stream",
          "name": "stdout",
          "text": [
            "4 + 0 = 4\n",
            "4 - 0 = 4\n"
          ]
        },
        {
          "output_type": "error",
          "ename": "ZeroDivisionError",
          "evalue": "ignored",
          "traceback": [
            "\u001b[0;31m---------------------------------------------------------------------------\u001b[0m",
            "\u001b[0;31mZeroDivisionError\u001b[0m                         Traceback (most recent call last)",
            "\u001b[0;32m<ipython-input-98-f261666da72f>\u001b[0m in \u001b[0;36m<cell line: 3>\u001b[0;34m()\u001b[0m\n\u001b[1;32m      2\u001b[0m \u001b[0mb\u001b[0m \u001b[0;34m=\u001b[0m \u001b[0;36m0\u001b[0m\u001b[0;34m\u001b[0m\u001b[0;34m\u001b[0m\u001b[0m\n\u001b[1;32m      3\u001b[0m \u001b[0;32mfor\u001b[0m \u001b[0mfn\u001b[0m \u001b[0;32min\u001b[0m \u001b[0mfns\u001b[0m\u001b[0;34m:\u001b[0m\u001b[0;34m\u001b[0m\u001b[0;34m\u001b[0m\u001b[0m\n\u001b[0;32m----> 4\u001b[0;31m   \u001b[0mfn\u001b[0m\u001b[0;34m(\u001b[0m\u001b[0ma\u001b[0m\u001b[0;34m,\u001b[0m \u001b[0mb\u001b[0m\u001b[0;34m)\u001b[0m\u001b[0;34m\u001b[0m\u001b[0;34m\u001b[0m\u001b[0m\n\u001b[0m",
            "\u001b[0;32m<ipython-input-90-923436b41caf>\u001b[0m in \u001b[0;36mdiv\u001b[0;34m(a, b)\u001b[0m\n\u001b[1;32m      9\u001b[0m \u001b[0;34m\u001b[0m\u001b[0m\n\u001b[1;32m     10\u001b[0m \u001b[0;32mdef\u001b[0m \u001b[0mdiv\u001b[0m\u001b[0;34m(\u001b[0m\u001b[0ma\u001b[0m\u001b[0;34m,\u001b[0m \u001b[0mb\u001b[0m\u001b[0;34m)\u001b[0m\u001b[0;34m:\u001b[0m\u001b[0;34m\u001b[0m\u001b[0;34m\u001b[0m\u001b[0m\n\u001b[0;32m---> 11\u001b[0;31m   \u001b[0mprint\u001b[0m\u001b[0;34m(\u001b[0m\u001b[0;34mf\"{a} / {b} = {a/b}\"\u001b[0m\u001b[0;34m)\u001b[0m\u001b[0;34m\u001b[0m\u001b[0;34m\u001b[0m\u001b[0m\n\u001b[0m",
            "\u001b[0;31mZeroDivisionError\u001b[0m: division by zero"
          ]
        }
      ]
    },
    {
      "cell_type": "code",
      "source": [
        "a = 4\n",
        "b = 0\n",
        "for fn in fns:\n",
        "  try:\n",
        "    fn(a, b)\n",
        "  except Exception as e:\n",
        "    print(e.args)"
      ],
      "metadata": {
        "colab": {
          "base_uri": "https://localhost:8080/"
        },
        "id": "GQpq1NVe_lE4",
        "outputId": "3c3e0d0f-6d8a-48ae-9639-5f5c02f746bc"
      },
      "execution_count": null,
      "outputs": [
        {
          "output_type": "stream",
          "name": "stdout",
          "text": [
            "4 + 0 = 4\n",
            "4 - 0 = 4\n",
            "('division by zero',)\n",
            "4 x 0 = 0\n"
          ]
        }
      ]
    },
    {
      "cell_type": "code",
      "source": [
        "def bmi4(h, w):\n",
        "  try:\n",
        "    BMI = w/h**2\n",
        "  except Exception:\n",
        "    return 0, \"計算錯誤\"\n",
        "  if BMI < 18.5:\n",
        "    return BMI, \"體重過輕\"\n",
        "  elif BMI > 24:\n",
        "    return BMI, \"體重過重\"\n",
        "  else:\n",
        "    return BMI, \"正常體重\""
      ],
      "metadata": {
        "id": "cEPGndauAAiE"
      },
      "execution_count": null,
      "outputs": []
    },
    {
      "cell_type": "code",
      "source": [
        "gr.Interface(bmi3, \n",
        "             [gr.Number(label=\"身高(公尺)\"),gr.Number(label=\"體重(公斤)\")],\n",
        "             [gr.Number(label=\"BMI\"),gr.Text(label=\"體位狀況\")]\n",
        "             ).launch()"
      ],
      "metadata": {
        "colab": {
          "base_uri": "https://localhost:8080/",
          "height": 616
        },
        "id": "lsseeCm3Aya0",
        "outputId": "3b8cccc4-0ce6-478e-e8f1-51c0fe6af456"
      },
      "execution_count": null,
      "outputs": [
        {
          "output_type": "stream",
          "name": "stdout",
          "text": [
            "Colab notebook detected. To show errors in colab notebook, set debug=True in launch()\n",
            "Note: opening Chrome Inspector may crash demo inside Colab notebooks.\n",
            "\n",
            "To create a public link, set `share=True` in `launch()`.\n"
          ]
        },
        {
          "output_type": "display_data",
          "data": {
            "text/plain": [
              "<IPython.core.display.Javascript object>"
            ],
            "application/javascript": [
              "(async (port, path, width, height, cache, element) => {\n",
              "                        if (!google.colab.kernel.accessAllowed && !cache) {\n",
              "                            return;\n",
              "                        }\n",
              "                        element.appendChild(document.createTextNode(''));\n",
              "                        const url = await google.colab.kernel.proxyPort(port, {cache});\n",
              "\n",
              "                        const external_link = document.createElement('div');\n",
              "                        external_link.innerHTML = `\n",
              "                            <div style=\"font-family: monospace; margin-bottom: 0.5rem\">\n",
              "                                Running on <a href=${new URL(path, url).toString()} target=\"_blank\">\n",
              "                                    https://localhost:${port}${path}\n",
              "                                </a>\n",
              "                            </div>\n",
              "                        `;\n",
              "                        element.appendChild(external_link);\n",
              "\n",
              "                        const iframe = document.createElement('iframe');\n",
              "                        iframe.src = new URL(path, url).toString();\n",
              "                        iframe.height = height;\n",
              "                        iframe.allow = \"autoplay; camera; microphone; clipboard-read; clipboard-write;\"\n",
              "                        iframe.width = width;\n",
              "                        iframe.style.border = 0;\n",
              "                        element.appendChild(iframe);\n",
              "                    })(7865, \"/\", \"100%\", 500, false, window.element)"
            ]
          },
          "metadata": {}
        },
        {
          "output_type": "execute_result",
          "data": {
            "text/plain": []
          },
          "metadata": {},
          "execution_count": 101
        }
      ]
    },
    {
      "cell_type": "code",
      "source": [
        "gr.Interface(bmi4, \n",
        "             [gr.Number(label=\"身高(公尺)\"),gr.Number(label=\"體重(公斤)\")],\n",
        "             [gr.Number(label=\"BMI\"),gr.Text(label=\"體位狀況\")]\n",
        "             ).launch()"
      ],
      "metadata": {
        "colab": {
          "base_uri": "https://localhost:8080/",
          "height": 616
        },
        "id": "vbezD4YOA_3D",
        "outputId": "9224e932-dbaf-4beb-8620-e1cb0a377193"
      },
      "execution_count": null,
      "outputs": [
        {
          "output_type": "stream",
          "name": "stdout",
          "text": [
            "Colab notebook detected. To show errors in colab notebook, set debug=True in launch()\n",
            "Note: opening Chrome Inspector may crash demo inside Colab notebooks.\n",
            "\n",
            "To create a public link, set `share=True` in `launch()`.\n"
          ]
        },
        {
          "output_type": "display_data",
          "data": {
            "text/plain": [
              "<IPython.core.display.Javascript object>"
            ],
            "application/javascript": [
              "(async (port, path, width, height, cache, element) => {\n",
              "                        if (!google.colab.kernel.accessAllowed && !cache) {\n",
              "                            return;\n",
              "                        }\n",
              "                        element.appendChild(document.createTextNode(''));\n",
              "                        const url = await google.colab.kernel.proxyPort(port, {cache});\n",
              "\n",
              "                        const external_link = document.createElement('div');\n",
              "                        external_link.innerHTML = `\n",
              "                            <div style=\"font-family: monospace; margin-bottom: 0.5rem\">\n",
              "                                Running on <a href=${new URL(path, url).toString()} target=\"_blank\">\n",
              "                                    https://localhost:${port}${path}\n",
              "                                </a>\n",
              "                            </div>\n",
              "                        `;\n",
              "                        element.appendChild(external_link);\n",
              "\n",
              "                        const iframe = document.createElement('iframe');\n",
              "                        iframe.src = new URL(path, url).toString();\n",
              "                        iframe.height = height;\n",
              "                        iframe.allow = \"autoplay; camera; microphone; clipboard-read; clipboard-write;\"\n",
              "                        iframe.width = width;\n",
              "                        iframe.style.border = 0;\n",
              "                        element.appendChild(iframe);\n",
              "                    })(7866, \"/\", \"100%\", 500, false, window.element)"
            ]
          },
          "metadata": {}
        },
        {
          "output_type": "execute_result",
          "data": {
            "text/plain": []
          },
          "metadata": {},
          "execution_count": 102
        }
      ]
    },
    {
      "cell_type": "markdown",
      "source": [
        "## 資料分析基礎\n",
        "\n",
        "* NumPy => 科學運算基礎套件\n",
        "* MatPlotLib => 繪圖基礎套件\n",
        "* Pandas => 資料分析基礎套件"
      ],
      "metadata": {
        "id": "RHoO_QMPBTkJ"
      }
    },
    {
      "cell_type": "markdown",
      "source": [
        "套件載入慣例：\n",
        "\n",
        "```python\n",
        "import numpy as np\n",
        "import matplotlib.pyplot as plt\n",
        "import pandas as pd\n",
        "```"
      ],
      "metadata": {
        "id": "phunIqVvCAPs"
      }
    },
    {
      "cell_type": "markdown",
      "source": [
        "### NumPy (Numerical Python)\n",
        "\n",
        "* ndarray (N-Dimensional Arrays)\n",
        "* ufunc (Universal Functions)"
      ],
      "metadata": {
        "id": "xOzCIVXqCMfq"
      }
    },
    {
      "cell_type": "code",
      "source": [
        "import numpy as np"
      ],
      "metadata": {
        "id": "sDONEBTfBIKr"
      },
      "execution_count": 1,
      "outputs": []
    },
    {
      "cell_type": "markdown",
      "source": [
        "#### list的運算(加法及乘法)"
      ],
      "metadata": {
        "id": "MU_v3W-fDgKK"
      }
    },
    {
      "cell_type": "code",
      "source": [
        "x = [1, 2, 3]\n",
        "y = [4, 5, 6]"
      ],
      "metadata": {
        "id": "NGpSI1yjDmcj"
      },
      "execution_count": null,
      "outputs": []
    },
    {
      "cell_type": "code",
      "source": [
        "x + y"
      ],
      "metadata": {
        "colab": {
          "base_uri": "https://localhost:8080/"
        },
        "id": "rRVL-vltDsI0",
        "outputId": "b2622ee2-9c37-45ff-a533-3f29895ffc67"
      },
      "execution_count": null,
      "outputs": [
        {
          "output_type": "execute_result",
          "data": {
            "text/plain": [
              "[1, 2, 3, 4, 5, 6]"
            ]
          },
          "metadata": {},
          "execution_count": 105
        }
      ]
    },
    {
      "cell_type": "code",
      "source": [
        "2*x"
      ],
      "metadata": {
        "colab": {
          "base_uri": "https://localhost:8080/"
        },
        "id": "JwYfEs03D0vl",
        "outputId": "89719a03-b791-4fdb-cf1c-c2653f762432"
      },
      "execution_count": null,
      "outputs": [
        {
          "output_type": "execute_result",
          "data": {
            "text/plain": [
              "[1, 2, 3, 1, 2, 3]"
            ]
          },
          "metadata": {},
          "execution_count": 106
        }
      ]
    },
    {
      "cell_type": "markdown",
      "source": [
        "#### ndarray？\n",
        "\n",
        "ndarray => N-Dimensional Array (多維陣列)"
      ],
      "metadata": {
        "id": "_HDQ3-rcDYsq"
      }
    },
    {
      "cell_type": "code",
      "source": [
        "x1 = np.array(x)\n",
        "y1 = np.array(y)"
      ],
      "metadata": {
        "id": "b-pm6HnlCuME"
      },
      "execution_count": null,
      "outputs": []
    },
    {
      "cell_type": "code",
      "source": [
        "x1"
      ],
      "metadata": {
        "colab": {
          "base_uri": "https://localhost:8080/"
        },
        "id": "fTLJpO6GEIrr",
        "outputId": "2970f7d1-72ff-4acb-c8ca-19012ca3aac8"
      },
      "execution_count": null,
      "outputs": [
        {
          "output_type": "execute_result",
          "data": {
            "text/plain": [
              "array([1, 2, 3])"
            ]
          },
          "metadata": {},
          "execution_count": 108
        }
      ]
    },
    {
      "cell_type": "code",
      "source": [
        "y1"
      ],
      "metadata": {
        "colab": {
          "base_uri": "https://localhost:8080/"
        },
        "id": "sHFmSEOOEJ-E",
        "outputId": "a08e0461-bbe6-4b85-bee9-16a929e5b3eb"
      },
      "execution_count": null,
      "outputs": [
        {
          "output_type": "execute_result",
          "data": {
            "text/plain": [
              "array([4, 5, 6])"
            ]
          },
          "metadata": {},
          "execution_count": 109
        }
      ]
    },
    {
      "cell_type": "code",
      "source": [
        "x1 + y1"
      ],
      "metadata": {
        "colab": {
          "base_uri": "https://localhost:8080/"
        },
        "id": "hA4xEvQ7EMB0",
        "outputId": "b8fd33ec-f258-478c-904d-265fc8aab74d"
      },
      "execution_count": null,
      "outputs": [
        {
          "output_type": "execute_result",
          "data": {
            "text/plain": [
              "array([5, 7, 9])"
            ]
          },
          "metadata": {},
          "execution_count": 110
        }
      ]
    },
    {
      "cell_type": "code",
      "source": [
        "2*x1"
      ],
      "metadata": {
        "colab": {
          "base_uri": "https://localhost:8080/"
        },
        "id": "RFRJcj-fENa8",
        "outputId": "a90e231f-2946-4c8d-dc0b-f91feb3e9ff3"
      },
      "execution_count": null,
      "outputs": [
        {
          "output_type": "execute_result",
          "data": {
            "text/plain": [
              "array([2, 4, 6])"
            ]
          },
          "metadata": {},
          "execution_count": 111
        }
      ]
    },
    {
      "cell_type": "markdown",
      "source": [
        "#### ufunc？\n",
        "\n",
        "ufunc => Universal Functions (通用函式)"
      ],
      "metadata": {
        "id": "0KaqeJe9EldS"
      }
    },
    {
      "cell_type": "markdown",
      "source": [
        "##### 傳統數學運算"
      ],
      "metadata": {
        "id": "1cSA157fFBFK"
      }
    },
    {
      "cell_type": "code",
      "source": [
        "import math"
      ],
      "metadata": {
        "id": "O71y2I_gEPrl"
      },
      "execution_count": null,
      "outputs": []
    },
    {
      "cell_type": "code",
      "source": [
        "math.pi"
      ],
      "metadata": {
        "colab": {
          "base_uri": "https://localhost:8080/"
        },
        "id": "TPXsl67cFEw1",
        "outputId": "a6a6871f-26e7-4699-85e2-c42b8bf31c2d"
      },
      "execution_count": null,
      "outputs": [
        {
          "output_type": "execute_result",
          "data": {
            "text/plain": [
              "3.141592653589793"
            ]
          },
          "metadata": {},
          "execution_count": 113
        }
      ]
    },
    {
      "cell_type": "code",
      "source": [
        "math.sin(math.pi/2)"
      ],
      "metadata": {
        "colab": {
          "base_uri": "https://localhost:8080/"
        },
        "id": "b_pXoU6SFHIU",
        "outputId": "3ad5117a-73ba-43d1-9cd8-7ab4102a08c6"
      },
      "execution_count": null,
      "outputs": [
        {
          "output_type": "execute_result",
          "data": {
            "text/plain": [
              "1.0"
            ]
          },
          "metadata": {},
          "execution_count": 114
        }
      ]
    },
    {
      "cell_type": "code",
      "source": [
        "math.sin(x)"
      ],
      "metadata": {
        "colab": {
          "base_uri": "https://localhost:8080/",
          "height": 167
        },
        "id": "gc9-GDMaFLH8",
        "outputId": "3449c987-8202-4a84-d4ac-1005d4c17b98"
      },
      "execution_count": null,
      "outputs": [
        {
          "output_type": "error",
          "ename": "TypeError",
          "evalue": "ignored",
          "traceback": [
            "\u001b[0;31m---------------------------------------------------------------------------\u001b[0m",
            "\u001b[0;31mTypeError\u001b[0m                                 Traceback (most recent call last)",
            "\u001b[0;32m<ipython-input-115-514904a8605d>\u001b[0m in \u001b[0;36m<cell line: 1>\u001b[0;34m()\u001b[0m\n\u001b[0;32m----> 1\u001b[0;31m \u001b[0mmath\u001b[0m\u001b[0;34m.\u001b[0m\u001b[0msin\u001b[0m\u001b[0;34m(\u001b[0m\u001b[0mx\u001b[0m\u001b[0;34m)\u001b[0m\u001b[0;34m\u001b[0m\u001b[0;34m\u001b[0m\u001b[0m\n\u001b[0m",
            "\u001b[0;31mTypeError\u001b[0m: must be real number, not list"
          ]
        }
      ]
    },
    {
      "cell_type": "markdown",
      "source": [
        "##### ufunc(通用函式)的運算"
      ],
      "metadata": {
        "id": "vyQTMJfvFVEC"
      }
    },
    {
      "cell_type": "code",
      "source": [
        "np.pi"
      ],
      "metadata": {
        "colab": {
          "base_uri": "https://localhost:8080/"
        },
        "id": "OibE4Fw7FOi0",
        "outputId": "e15fb6da-3301-4ebb-edee-918cffe79418"
      },
      "execution_count": null,
      "outputs": [
        {
          "output_type": "execute_result",
          "data": {
            "text/plain": [
              "3.141592653589793"
            ]
          },
          "metadata": {},
          "execution_count": 116
        }
      ]
    },
    {
      "cell_type": "code",
      "source": [
        "np.sin(np.pi/2)"
      ],
      "metadata": {
        "colab": {
          "base_uri": "https://localhost:8080/"
        },
        "id": "6_kMq9-wFgQM",
        "outputId": "171a6f65-d587-43a8-d49b-e8bd4f147af0"
      },
      "execution_count": null,
      "outputs": [
        {
          "output_type": "execute_result",
          "data": {
            "text/plain": [
              "1.0"
            ]
          },
          "metadata": {},
          "execution_count": 117
        }
      ]
    },
    {
      "cell_type": "code",
      "source": [
        "np.sin(x)"
      ],
      "metadata": {
        "colab": {
          "base_uri": "https://localhost:8080/"
        },
        "id": "rAuNKl6hFiys",
        "outputId": "3f3f1fbe-f357-490b-d63a-cd09a3b7d1bc"
      },
      "execution_count": null,
      "outputs": [
        {
          "output_type": "execute_result",
          "data": {
            "text/plain": [
              "array([0.84147098, 0.90929743, 0.14112001])"
            ]
          },
          "metadata": {},
          "execution_count": 118
        }
      ]
    },
    {
      "cell_type": "markdown",
      "source": [
        "#### ndarray v.s., list"
      ],
      "metadata": {
        "id": "Pk3zJpdDGH46"
      }
    },
    {
      "cell_type": "code",
      "source": [
        "# np.arange() 有點像我們先前使用過的 range()\n",
        "G = np.arange(25)"
      ],
      "metadata": {
        "id": "5RbAH2YRFlZO"
      },
      "execution_count": 2,
      "outputs": []
    },
    {
      "cell_type": "code",
      "source": [
        "G"
      ],
      "metadata": {
        "colab": {
          "base_uri": "https://localhost:8080/"
        },
        "id": "QIRB-OQ9Ghxk",
        "outputId": "2f39d9dc-eee0-495f-f04c-b487345d6b36"
      },
      "execution_count": 3,
      "outputs": [
        {
          "output_type": "execute_result",
          "data": {
            "text/plain": [
              "array([ 0,  1,  2,  3,  4,  5,  6,  7,  8,  9, 10, 11, 12, 13, 14, 15, 16,\n",
              "       17, 18, 19, 20, 21, 22, 23, 24])"
            ]
          },
          "metadata": {},
          "execution_count": 3
        }
      ]
    },
    {
      "cell_type": "code",
      "source": [
        "G.shape"
      ],
      "metadata": {
        "colab": {
          "base_uri": "https://localhost:8080/"
        },
        "id": "jWH40AjeGiZ8",
        "outputId": "96622243-268f-4731-ccb5-57f185de44cc"
      },
      "execution_count": 4,
      "outputs": [
        {
          "output_type": "execute_result",
          "data": {
            "text/plain": [
              "(25,)"
            ]
          },
          "metadata": {},
          "execution_count": 4
        }
      ]
    },
    {
      "cell_type": "code",
      "source": [
        "G.shape = 5, 5"
      ],
      "metadata": {
        "id": "8lgFphuFGp7U"
      },
      "execution_count": 5,
      "outputs": []
    },
    {
      "cell_type": "code",
      "source": [
        "G"
      ],
      "metadata": {
        "id": "ZZBDkS8hGwks",
        "outputId": "ad88e1db-68d9-4cb1-e710-08a739dffc90",
        "colab": {
          "base_uri": "https://localhost:8080/"
        }
      },
      "execution_count": 6,
      "outputs": [
        {
          "output_type": "execute_result",
          "data": {
            "text/plain": [
              "array([[ 0,  1,  2,  3,  4],\n",
              "       [ 5,  6,  7,  8,  9],\n",
              "       [10, 11, 12, 13, 14],\n",
              "       [15, 16, 17, 18, 19],\n",
              "       [20, 21, 22, 23, 24]])"
            ]
          },
          "metadata": {},
          "execution_count": 6
        }
      ]
    },
    {
      "cell_type": "code",
      "source": [
        "L = [[ 0,  1,  2,  3,  4],\n",
        "     [ 5,  6,  7,  8,  9],\n",
        "     [10, 11, 12, 13, 14],\n",
        "     [15, 16, 17, 18, 19],\n",
        "     [20, 21, 22, 23, 24]]"
      ],
      "metadata": {
        "id": "qxuPzk42Gxik"
      },
      "execution_count": 7,
      "outputs": []
    },
    {
      "cell_type": "markdown",
      "source": [
        "#### ndarray indexing & slicing"
      ],
      "metadata": {
        "id": "LKxn_vgfgOvV"
      }
    },
    {
      "cell_type": "code",
      "source": [
        "len?"
      ],
      "metadata": {
        "id": "2y1Um0yGf1lG"
      },
      "execution_count": 8,
      "outputs": []
    },
    {
      "cell_type": "code",
      "source": [
        "len(L)"
      ],
      "metadata": {
        "colab": {
          "base_uri": "https://localhost:8080/"
        },
        "id": "Kk2FFri3fsCI",
        "outputId": "6706d2e9-2029-4492-a451-1cf473e9348f"
      },
      "execution_count": 9,
      "outputs": [
        {
          "output_type": "execute_result",
          "data": {
            "text/plain": [
              "5"
            ]
          },
          "metadata": {},
          "execution_count": 9
        }
      ]
    },
    {
      "cell_type": "code",
      "source": [
        "L[0]"
      ],
      "metadata": {
        "colab": {
          "base_uri": "https://localhost:8080/"
        },
        "id": "LjuYdY8ygBLZ",
        "outputId": "715f1199-b724-4cf9-f257-d23ef8afa237"
      },
      "execution_count": 10,
      "outputs": [
        {
          "output_type": "execute_result",
          "data": {
            "text/plain": [
              "[0, 1, 2, 3, 4]"
            ]
          },
          "metadata": {},
          "execution_count": 10
        }
      ]
    },
    {
      "cell_type": "code",
      "source": [
        "len(G)"
      ],
      "metadata": {
        "colab": {
          "base_uri": "https://localhost:8080/"
        },
        "id": "TFFLIXABgGPv",
        "outputId": "7944f421-59aa-49bf-d54d-feebe5666c21"
      },
      "execution_count": 11,
      "outputs": [
        {
          "output_type": "execute_result",
          "data": {
            "text/plain": [
              "5"
            ]
          },
          "metadata": {},
          "execution_count": 11
        }
      ]
    },
    {
      "cell_type": "code",
      "source": [
        "G[0]"
      ],
      "metadata": {
        "colab": {
          "base_uri": "https://localhost:8080/"
        },
        "id": "goUHeLk5gJuu",
        "outputId": "9f8f83ff-aa48-461f-c586-ea9429e7eac7"
      },
      "execution_count": 12,
      "outputs": [
        {
          "output_type": "execute_result",
          "data": {
            "text/plain": [
              "array([0, 1, 2, 3, 4])"
            ]
          },
          "metadata": {},
          "execution_count": 12
        }
      ]
    },
    {
      "cell_type": "code",
      "source": [
        "L[2][2]"
      ],
      "metadata": {
        "colab": {
          "base_uri": "https://localhost:8080/"
        },
        "id": "RPG0J26BgLgm",
        "outputId": "03ae9b97-e242-4d9e-cea8-d0b364e18f64"
      },
      "execution_count": 13,
      "outputs": [
        {
          "output_type": "execute_result",
          "data": {
            "text/plain": [
              "12"
            ]
          },
          "metadata": {},
          "execution_count": 13
        }
      ]
    },
    {
      "cell_type": "code",
      "source": [
        "G[2][2]"
      ],
      "metadata": {
        "colab": {
          "base_uri": "https://localhost:8080/"
        },
        "id": "lCToJtBigjtv",
        "outputId": "acfe2f52-d665-4639-cd7e-9498f9a4c1f8"
      },
      "execution_count": 14,
      "outputs": [
        {
          "output_type": "execute_result",
          "data": {
            "text/plain": [
              "12"
            ]
          },
          "metadata": {},
          "execution_count": 14
        }
      ]
    },
    {
      "cell_type": "code",
      "source": [
        "G[2, 2]"
      ],
      "metadata": {
        "colab": {
          "base_uri": "https://localhost:8080/"
        },
        "id": "4-FAErPdhIbK",
        "outputId": "2f938d8f-47bf-4e48-cba3-9e3188736871"
      },
      "execution_count": 19,
      "outputs": [
        {
          "output_type": "execute_result",
          "data": {
            "text/plain": [
              "12"
            ]
          },
          "metadata": {},
          "execution_count": 19
        }
      ]
    },
    {
      "cell_type": "code",
      "source": [
        "L[1:3][1:3]"
      ],
      "metadata": {
        "colab": {
          "base_uri": "https://localhost:8080/"
        },
        "id": "LTnPFdjRgmtG",
        "outputId": "98b67b46-5625-43d6-c8d8-9980cc93bc69"
      },
      "execution_count": 15,
      "outputs": [
        {
          "output_type": "execute_result",
          "data": {
            "text/plain": [
              "[[10, 11, 12, 13, 14]]"
            ]
          },
          "metadata": {},
          "execution_count": 15
        }
      ]
    },
    {
      "cell_type": "code",
      "source": [
        "L[1:3]"
      ],
      "metadata": {
        "colab": {
          "base_uri": "https://localhost:8080/"
        },
        "id": "wL7TJas-g1Yl",
        "outputId": "6fdd67b7-8cca-4d06-9d3f-3605763bab74"
      },
      "execution_count": 16,
      "outputs": [
        {
          "output_type": "execute_result",
          "data": {
            "text/plain": [
              "[[5, 6, 7, 8, 9], [10, 11, 12, 13, 14]]"
            ]
          },
          "metadata": {},
          "execution_count": 16
        }
      ]
    },
    {
      "cell_type": "code",
      "source": [
        "G[1:3, 1:3]"
      ],
      "metadata": {
        "colab": {
          "base_uri": "https://localhost:8080/"
        },
        "id": "g0LVK3_5g5br",
        "outputId": "a60d98bd-0aad-4879-a693-342ac0c58644"
      },
      "execution_count": 18,
      "outputs": [
        {
          "output_type": "execute_result",
          "data": {
            "text/plain": [
              "array([[ 6,  7],\n",
              "       [11, 12]])"
            ]
          },
          "metadata": {},
          "execution_count": 18
        }
      ]
    },
    {
      "cell_type": "code",
      "source": [
        "G"
      ],
      "metadata": {
        "colab": {
          "base_uri": "https://localhost:8080/"
        },
        "id": "7UvRvafehBbM",
        "outputId": "5c611828-1c12-47d3-ee65-9fbb01a3c8f9"
      },
      "execution_count": 20,
      "outputs": [
        {
          "output_type": "execute_result",
          "data": {
            "text/plain": [
              "array([[ 0,  1,  2,  3,  4],\n",
              "       [ 5,  6,  7,  8,  9],\n",
              "       [10, 11, 12, 13, 14],\n",
              "       [15, 16, 17, 18, 19],\n",
              "       [20, 21, 22, 23, 24]])"
            ]
          },
          "metadata": {},
          "execution_count": 20
        }
      ]
    },
    {
      "cell_type": "code",
      "source": [
        "G[:,-1]"
      ],
      "metadata": {
        "colab": {
          "base_uri": "https://localhost:8080/"
        },
        "id": "SY4ugrSPhXLr",
        "outputId": "1915338d-29eb-49b8-a5c3-3a3f9a5f6cf5"
      },
      "execution_count": 21,
      "outputs": [
        {
          "output_type": "execute_result",
          "data": {
            "text/plain": [
              "array([ 4,  9, 14, 19, 24])"
            ]
          },
          "metadata": {},
          "execution_count": 21
        }
      ]
    },
    {
      "cell_type": "code",
      "source": [
        "G[:,0]"
      ],
      "metadata": {
        "colab": {
          "base_uri": "https://localhost:8080/"
        },
        "id": "Hhsug7u1hyei",
        "outputId": "8a4b3b33-7e11-4358-c8ad-60a8fdb001ae"
      },
      "execution_count": 22,
      "outputs": [
        {
          "output_type": "execute_result",
          "data": {
            "text/plain": [
              "array([ 0,  5, 10, 15, 20])"
            ]
          },
          "metadata": {},
          "execution_count": 22
        }
      ]
    },
    {
      "cell_type": "code",
      "source": [
        "G[:,-1] = 0"
      ],
      "metadata": {
        "id": "eyhWU4Jih5DB"
      },
      "execution_count": 23,
      "outputs": []
    },
    {
      "cell_type": "code",
      "source": [
        "G"
      ],
      "metadata": {
        "colab": {
          "base_uri": "https://localhost:8080/"
        },
        "id": "CvRWKDEnh-EB",
        "outputId": "3cc5c783-2774-453a-e426-3a6ab11c2708"
      },
      "execution_count": 24,
      "outputs": [
        {
          "output_type": "execute_result",
          "data": {
            "text/plain": [
              "array([[ 0,  1,  2,  3,  0],\n",
              "       [ 5,  6,  7,  8,  0],\n",
              "       [10, 11, 12, 13,  0],\n",
              "       [15, 16, 17, 18,  0],\n",
              "       [20, 21, 22, 23,  0]])"
            ]
          },
          "metadata": {},
          "execution_count": 24
        }
      ]
    },
    {
      "cell_type": "code",
      "source": [
        "G[:,-2]"
      ],
      "metadata": {
        "colab": {
          "base_uri": "https://localhost:8080/"
        },
        "id": "_NZWoimUh-V5",
        "outputId": "b4e0a3b0-9ecc-47e0-a741-5ac712c05e28"
      },
      "execution_count": 27,
      "outputs": [
        {
          "output_type": "execute_result",
          "data": {
            "text/plain": [
              "array([ 3,  8, 13, 18, 23])"
            ]
          },
          "metadata": {},
          "execution_count": 27
        }
      ]
    },
    {
      "cell_type": "markdown",
      "source": [
        "### 練習\n",
        "\n",
        "請輸入一個彩色圖片，輸出他的red channel的結果。"
      ],
      "metadata": {
        "id": "MI9ZCH98jX58"
      }
    },
    {
      "cell_type": "code",
      "source": [
        "def process(image):\n",
        "  # image[:,:,0]\n",
        "  image[:,:,1] = 0\n",
        "  image[:,:,2] = 0\n",
        "  return image"
      ],
      "metadata": {
        "id": "dApERBGWibko"
      },
      "execution_count": 28,
      "outputs": []
    },
    {
      "cell_type": "code",
      "source": [
        "import gradio as gr"
      ],
      "metadata": {
        "id": "vwY9L7vYkFlF"
      },
      "execution_count": 31,
      "outputs": []
    },
    {
      "cell_type": "code",
      "source": [
        "gr.Interface(process, \"image\", \"image\").launch(share=True)"
      ],
      "metadata": {
        "colab": {
          "base_uri": "https://localhost:8080/",
          "height": 611
        },
        "id": "ZbJfdmR0kLVU",
        "outputId": "d10e2d45-8d32-4783-f308-d20484556992"
      },
      "execution_count": 32,
      "outputs": [
        {
          "output_type": "stream",
          "name": "stdout",
          "text": [
            "Colab notebook detected. To show errors in colab notebook, set debug=True in launch()\n",
            "Running on public URL: https://f3c49e9ca73ea37398.gradio.live\n",
            "\n",
            "This share link expires in 72 hours. For free permanent hosting and GPU upgrades (NEW!), check out Spaces: https://huggingface.co/spaces\n"
          ]
        },
        {
          "output_type": "display_data",
          "data": {
            "text/plain": [
              "<IPython.core.display.HTML object>"
            ],
            "text/html": [
              "<div><iframe src=\"https://f3c49e9ca73ea37398.gradio.live\" width=\"100%\" height=\"500\" allow=\"autoplay; camera; microphone; clipboard-read; clipboard-write;\" frameborder=\"0\" allowfullscreen></iframe></div>"
            ]
          },
          "metadata": {}
        },
        {
          "output_type": "execute_result",
          "data": {
            "text/plain": []
          },
          "metadata": {},
          "execution_count": 32
        }
      ]
    },
    {
      "cell_type": "code",
      "source": [
        "from PIL import Image\n",
        "from random import randint\n",
        "\n",
        "def convert(image):\n",
        "  pil = Image.fromarray(image)\n",
        "  n = randint(0, 999999)\n",
        "  pil.save(f\"{n:06}.jpg\")\n",
        "  new = image.copy()\n",
        "  # image[:,:,0]\n",
        "  new[:,:,0] = image[:,:,2]\n",
        "  new[:,:,2] = image[:,:,0]\n",
        "  return new"
      ],
      "metadata": {
        "id": "SpbZRKHikerp"
      },
      "execution_count": 34,
      "outputs": []
    },
    {
      "cell_type": "code",
      "source": [
        "gr.Interface(convert, \"image\", \"image\").launch(share=True)"
      ],
      "metadata": {
        "colab": {
          "base_uri": "https://localhost:8080/",
          "height": 611
        },
        "id": "4Lqyq92umMq-",
        "outputId": "6577cbe1-644a-40f9-9f7b-89651c3f322c"
      },
      "execution_count": 36,
      "outputs": [
        {
          "output_type": "stream",
          "name": "stdout",
          "text": [
            "Colab notebook detected. To show errors in colab notebook, set debug=True in launch()\n",
            "Running on public URL: https://6d81b4c533c82bc26f.gradio.live\n",
            "\n",
            "This share link expires in 72 hours. For free permanent hosting and GPU upgrades (NEW!), check out Spaces: https://huggingface.co/spaces\n"
          ]
        },
        {
          "output_type": "display_data",
          "data": {
            "text/plain": [
              "<IPython.core.display.HTML object>"
            ],
            "text/html": [
              "<div><iframe src=\"https://6d81b4c533c82bc26f.gradio.live\" width=\"100%\" height=\"500\" allow=\"autoplay; camera; microphone; clipboard-read; clipboard-write;\" frameborder=\"0\" allowfullscreen></iframe></div>"
            ]
          },
          "metadata": {}
        },
        {
          "output_type": "execute_result",
          "data": {
            "text/plain": []
          },
          "metadata": {},
          "execution_count": 36
        }
      ]
    },
    {
      "cell_type": "markdown",
      "source": [
        "### MatPlotLib\n",
        "\n"
      ],
      "metadata": {
        "id": "XXhUDcYEndpA"
      }
    },
    {
      "cell_type": "markdown",
      "source": [
        "https://matplotlib.org/"
      ],
      "metadata": {
        "id": "oRra1CocqrGi"
      }
    },
    {
      "cell_type": "markdown",
      "source": [
        "MatPlotLib => Matrix Plotting Library\n",
        "\n",
        "* pyplot\n",
        "* artist"
      ],
      "metadata": {
        "id": "oEKqYYj1qa7L"
      }
    },
    {
      "cell_type": "code",
      "source": [
        "import matplotlib.pyplot as plt\n",
        "import numpy as np"
      ],
      "metadata": {
        "id": "SeeCTuoSmTB7"
      },
      "execution_count": 44,
      "outputs": []
    },
    {
      "cell_type": "markdown",
      "source": [
        "#### Line Chart"
      ],
      "metadata": {
        "id": "jwN612BxrnDN"
      }
    },
    {
      "cell_type": "code",
      "source": [
        "x = [1, 2, 3, 4]"
      ],
      "metadata": {
        "id": "k7HmsDiHrZ_d"
      },
      "execution_count": 39,
      "outputs": []
    },
    {
      "cell_type": "code",
      "source": [
        "plt.plot(x)"
      ],
      "metadata": {
        "colab": {
          "base_uri": "https://localhost:8080/",
          "height": 447
        },
        "id": "OV3bjYqnrsq0",
        "outputId": "06dee6da-9e05-4c61-9eb4-bb4042aca437"
      },
      "execution_count": 40,
      "outputs": [
        {
          "output_type": "execute_result",
          "data": {
            "text/plain": [
              "[<matplotlib.lines.Line2D at 0x7fe941e5f880>]"
            ]
          },
          "metadata": {},
          "execution_count": 40
        },
        {
          "output_type": "display_data",
          "data": {
            "text/plain": [
              "<Figure size 640x480 with 1 Axes>"
            ],
            "image/png": "[encoded data removed]"
          },
          "metadata": {}
        }
      ]
    },
    {
      "cell_type": "markdown",
      "source": [
        "#### Markers, Line Styles, Colors\n",
        "\n",
        "https://matplotlib.org/stable/api/_as_gen/matplotlib.pyplot.plot.html"
      ],
      "metadata": {
        "id": "QRC3jcOtr-wb"
      }
    },
    {
      "cell_type": "code",
      "source": [
        "plt.plot(x, 'ro')"
      ],
      "metadata": {
        "colab": {
          "base_uri": "https://localhost:8080/",
          "height": 447
        },
        "id": "_3yzt6_9r0JV",
        "outputId": "296f5e2a-93ac-4fb9-ea62-70866d62b286"
      },
      "execution_count": 41,
      "outputs": [
        {
          "output_type": "execute_result",
          "data": {
            "text/plain": [
              "[<matplotlib.lines.Line2D at 0x7fe942101b40>]"
            ]
          },
          "metadata": {},
          "execution_count": 41
        },
        {
          "output_type": "display_data",
          "data": {
            "text/plain": [
              "<Figure size 640x480 with 1 Axes>"
            ],
            "image/png": "[encoded data removed]"
          },
          "metadata": {}
        }
      ]
    },
    {
      "cell_type": "code",
      "source": [
        "plt.plot(x, 'ro-')"
      ],
      "metadata": {
        "colab": {
          "base_uri": "https://localhost:8080/",
          "height": 447
        },
        "id": "k5aKSOSusNim",
        "outputId": "f76acd59-571e-4d3b-b016-3848abb40c82"
      },
      "execution_count": 42,
      "outputs": [
        {
          "output_type": "execute_result",
          "data": {
            "text/plain": [
              "[<matplotlib.lines.Line2D at 0x7fe941f08940>]"
            ]
          },
          "metadata": {},
          "execution_count": 42
        },
        {
          "output_type": "display_data",
          "data": {
            "text/plain": [
              "<Figure size 640x480 with 1 Axes>"
            ],
            "image/png": "[encoded data removed]"
          },
          "metadata": {}
        }
      ]
    },
    {
      "cell_type": "code",
      "source": [
        "plt.plot(x, 'bD--')"
      ],
      "metadata": {
        "colab": {
          "base_uri": "https://localhost:8080/",
          "height": 447
        },
        "id": "sZl-4ECRsRiN",
        "outputId": "2477ab30-611e-450d-eaaa-944ebfb3ed77"
      },
      "execution_count": 43,
      "outputs": [
        {
          "output_type": "execute_result",
          "data": {
            "text/plain": [
              "[<matplotlib.lines.Line2D at 0x7fe941f3df60>]"
            ]
          },
          "metadata": {},
          "execution_count": 43
        },
        {
          "output_type": "display_data",
          "data": {
            "text/plain": [
              "<Figure size 640x480 with 1 Axes>"
            ],
            "image/png": "[encoded data removed]"
          },
          "metadata": {}
        }
      ]
    },
    {
      "cell_type": "markdown",
      "source": [
        "#### 加入圖例 (legend)"
      ],
      "metadata": {
        "id": "dBV24bS9s_kc"
      }
    },
    {
      "cell_type": "code",
      "source": [
        "x1 = np.array(x)"
      ],
      "metadata": {
        "id": "1EiJoGLosw5X"
      },
      "execution_count": 45,
      "outputs": []
    },
    {
      "cell_type": "code",
      "source": [
        "plt.plot(x1)\n",
        "plt.plot(x1**2)\n",
        "plt.plot(x1**3)"
      ],
      "metadata": {
        "colab": {
          "base_uri": "https://localhost:8080/",
          "height": 447
        },
        "id": "DR7aUsYvtMkl",
        "outputId": "d2572526-4197-404c-cf09-9d6dde00ab75"
      },
      "execution_count": 46,
      "outputs": [
        {
          "output_type": "execute_result",
          "data": {
            "text/plain": [
              "[<matplotlib.lines.Line2D at 0x7fe941980940>]"
            ]
          },
          "metadata": {},
          "execution_count": 46
        },
        {
          "output_type": "display_data",
          "data": {
            "text/plain": [
              "<Figure size 640x480 with 1 Axes>"
            ],
            "image/png": "[encoded data removed]"
          },
          "metadata": {}
        }
      ]
    },
    {
      "cell_type": "code",
      "source": [
        "plt.plot(x1, label=\"x\")\n",
        "plt.plot(x1**2, label=\"x^2\")\n",
        "plt.plot(x1**3, label=\"x^3\")\n",
        "plt.legend()"
      ],
      "metadata": {
        "colab": {
          "base_uri": "https://localhost:8080/",
          "height": 447
        },
        "id": "S4PPp69ntTf-",
        "outputId": "509cf519-1cda-442c-b276-c8048bb1e7e1"
      },
      "execution_count": 48,
      "outputs": [
        {
          "output_type": "execute_result",
          "data": {
            "text/plain": [
              "<matplotlib.legend.Legend at 0x7fe941c8cee0>"
            ]
          },
          "metadata": {},
          "execution_count": 48
        },
        {
          "output_type": "display_data",
          "data": {
            "text/plain": [
              "<Figure size 640x480 with 1 Axes>"
            ],
            "image/png": "[encoded data removed]"
          },
          "metadata": {}
        }
      ]
    },
    {
      "cell_type": "code",
      "source": [
        "plt.plot(x1, 'ro-', label=\"$x$\")\n",
        "plt.plot(x1**2, 'g>--', label=\"$x^2$\",)\n",
        "plt.plot(x1**3, 'bs-.', label=\"$x^3$\")\n",
        "plt.legend()"
      ],
      "metadata": {
        "colab": {
          "base_uri": "https://localhost:8080/",
          "height": 447
        },
        "id": "kngYPCIWth-3",
        "outputId": "28278367-2ab7-4d16-cdff-29f2e2536b3f"
      },
      "execution_count": 50,
      "outputs": [
        {
          "output_type": "execute_result",
          "data": {
            "text/plain": [
              "<matplotlib.legend.Legend at 0x7fe941b37820>"
            ]
          },
          "metadata": {},
          "execution_count": 50
        },
        {
          "output_type": "display_data",
          "data": {
            "text/plain": [
              "<Figure size 640x480 with 1 Axes>"
            ],
            "image/png": "[encoded data removed]"
          },
          "metadata": {}
        }
      ]
    },
    {
      "cell_type": "markdown",
      "source": [
        "#### title & axis x/y labels"
      ],
      "metadata": {
        "id": "Pgk3KDKKuI-V"
      }
    },
    {
      "cell_type": "code",
      "source": [
        "plt.plot(x1, 'ro-', label=\"$x$\")\n",
        "plt.plot(x1**2, 'g>--', label=\"$x^2$\",)\n",
        "plt.plot(x1**3, 'bs-.', label=\"$x^3$\")\n",
        "plt.legend()\n",
        "plt.title('Lines')\n",
        "plt.xlabel('x')\n",
        "plt.ylabel('y')"
      ],
      "metadata": {
        "colab": {
          "base_uri": "https://localhost:8080/",
          "height": 489
        },
        "id": "jkFvV7EatuGX",
        "outputId": "71a8fce3-d837-4295-a6dd-74716f46db83"
      },
      "execution_count": 51,
      "outputs": [
        {
          "output_type": "execute_result",
          "data": {
            "text/plain": [
              "Text(0, 0.5, 'y')"
            ]
          },
          "metadata": {},
          "execution_count": 51
        },
        {
          "output_type": "display_data",
          "data": {
            "text/plain": [
              "<Figure size 640x480 with 1 Axes>"
            ],
            "image/png": "[encoded data removed]"
          },
          "metadata": {}
        }
      ]
    },
    {
      "cell_type": "markdown",
      "source": [
        "#### Pie Chart (圓餅圖)"
      ],
      "metadata": {
        "id": "071IKfsuugx4"
      }
    },
    {
      "cell_type": "code",
      "source": [
        "x"
      ],
      "metadata": {
        "colab": {
          "base_uri": "https://localhost:8080/"
        },
        "id": "CfpGF4xVuYxH",
        "outputId": "6cc19987-8ad5-413a-a100-445ab56c1d0a"
      },
      "execution_count": 52,
      "outputs": [
        {
          "output_type": "execute_result",
          "data": {
            "text/plain": [
              "[1, 2, 3, 4]"
            ]
          },
          "metadata": {},
          "execution_count": 52
        }
      ]
    },
    {
      "cell_type": "code",
      "source": [
        "plt.pie?"
      ],
      "metadata": {
        "id": "S4hJM9rXulu3"
      },
      "execution_count": 53,
      "outputs": []
    },
    {
      "cell_type": "code",
      "source": [
        "plt.pie(x)"
      ],
      "metadata": {
        "colab": {
          "base_uri": "https://localhost:8080/",
          "height": 545
        },
        "id": "2sfAi_yHunhv",
        "outputId": "0dbe92cb-40d0-4b0c-aa16-356f24f1a319"
      },
      "execution_count": 54,
      "outputs": [
        {
          "output_type": "execute_result",
          "data": {
            "text/plain": [
              "([<matplotlib.patches.Wedge at 0x7fe939ff02e0>,\n",
              "  <matplotlib.patches.Wedge at 0x7fe939ff01f0>,\n",
              "  <matplotlib.patches.Wedge at 0x7fe939ff0bb0>,\n",
              "  <matplotlib.patches.Wedge at 0x7fe939ff1030>],\n",
              " [Text(1.0461621663333946, 0.3399186987098808, ''),\n",
              "  Text(0.33991867422268784, 1.0461621742897658, ''),\n",
              "  Text(-1.0461621902025062, 0.3399186252483017, ''),\n",
              "  Text(0.3399188211458418, -1.0461621265515308, '')])"
            ]
          },
          "metadata": {},
          "execution_count": 54
        },
        {
          "output_type": "display_data",
          "data": {
            "text/plain": [
              "<Figure size 640x480 with 1 Axes>"
            ],
            "image/png": "[encoded data removed]"
          },
          "metadata": {}
        }
      ]
    },
    {
      "cell_type": "code",
      "source": [
        "plt.pie(x);"
      ],
      "metadata": {
        "colab": {
          "base_uri": "https://localhost:8080/",
          "height": 406
        },
        "id": "taYf2JkLuyM4",
        "outputId": "149452ac-5014-4fd6-c55c-d1dca5c28c36"
      },
      "execution_count": 55,
      "outputs": [
        {
          "output_type": "display_data",
          "data": {
            "text/plain": [
              "<Figure size 640x480 with 1 Axes>"
            ],
            "image/png": "[encoded data removed]"
          },
          "metadata": {}
        }
      ]
    },
    {
      "cell_type": "code",
      "source": [
        "plt.pie(x, labels=list(\"abcd\"));"
      ],
      "metadata": {
        "colab": {
          "base_uri": "https://localhost:8080/",
          "height": 406
        },
        "id": "C2a0fkcyu45_",
        "outputId": "6cf7ce31-474b-4094-d324-ca85398565a0"
      },
      "execution_count": 56,
      "outputs": [
        {
          "output_type": "display_data",
          "data": {
            "text/plain": [
              "<Figure size 640x480 with 1 Axes>"
            ],
            "image/png": "[encoded data removed]"
          },
          "metadata": {}
        }
      ]
    },
    {
      "cell_type": "markdown",
      "source": [
        "#### Bar Chart (長條圖)"
      ],
      "metadata": {
        "id": "MsCL1YXtvo-6"
      }
    },
    {
      "cell_type": "code",
      "source": [
        "plt.bar?"
      ],
      "metadata": {
        "id": "Sssja4CVu_gm"
      },
      "execution_count": 57,
      "outputs": []
    },
    {
      "cell_type": "code",
      "source": [
        "x"
      ],
      "metadata": {
        "colab": {
          "base_uri": "https://localhost:8080/"
        },
        "id": "gALAFXTHvuja",
        "outputId": "cc32e378-f4b1-4361-c58e-27c147364f2e"
      },
      "execution_count": 58,
      "outputs": [
        {
          "output_type": "execute_result",
          "data": {
            "text/plain": [
              "[1, 2, 3, 4]"
            ]
          },
          "metadata": {},
          "execution_count": 58
        }
      ]
    },
    {
      "cell_type": "code",
      "source": [
        "plt.bar(list('abcd'), x)"
      ],
      "metadata": {
        "colab": {
          "base_uri": "https://localhost:8080/",
          "height": 447
        },
        "id": "FUS_0cRnv6h7",
        "outputId": "c6890eae-4189-4aa7-916a-949657c792de"
      },
      "execution_count": 59,
      "outputs": [
        {
          "output_type": "execute_result",
          "data": {
            "text/plain": [
              "<BarContainer object of 4 artists>"
            ]
          },
          "metadata": {},
          "execution_count": 59
        },
        {
          "output_type": "display_data",
          "data": {
            "text/plain": [
              "<Figure size 640x480 with 1 Axes>"
            ],
            "image/png": "[encoded data removed]"
          },
          "metadata": {}
        }
      ]
    },
    {
      "cell_type": "markdown",
      "source": [
        "### Pandas"
      ],
      "metadata": {
        "id": "yUJJlvbywj3d"
      }
    },
    {
      "cell_type": "markdown",
      "source": [
        "* Series\n",
        "* DataFrame"
      ],
      "metadata": {
        "id": "QmkkWmnOxtO6"
      }
    },
    {
      "cell_type": "code",
      "source": [
        "import pandas as pd"
      ],
      "metadata": {
        "id": "4A8wEvzWx0Iw"
      },
      "execution_count": 60,
      "outputs": []
    },
    {
      "cell_type": "markdown",
      "source": [
        "#### 使用 Pandas 簡單的分析股價歷史資料"
      ],
      "metadata": {
        "id": "7jpzvJvOx64v"
      }
    },
    {
      "cell_type": "markdown",
      "source": [
        "https://github.com/ranaroussi/yfinance"
      ],
      "metadata": {
        "id": "hPLQCEhAySpt"
      }
    },
    {
      "cell_type": "code",
      "source": [
        "!pip install yfinance"
      ],
      "metadata": {
        "id": "Lc8ii4AJwFI7"
      },
      "execution_count": null,
      "outputs": []
    },
    {
      "cell_type": "code",
      "source": [
        "import yfinance as yf"
      ],
      "metadata": {
        "id": "Hgif6k0fyDmn"
      },
      "execution_count": 62,
      "outputs": []
    },
    {
      "cell_type": "code",
      "source": [
        "df = yf.download('tsla')"
      ],
      "metadata": {
        "colab": {
          "base_uri": "https://localhost:8080/"
        },
        "id": "lvPcaD6QyLKv",
        "outputId": "bd819a52-e4f4-4df5-d6ab-a74463fce801"
      },
      "execution_count": 63,
      "outputs": [
        {
          "output_type": "stream",
          "name": "stdout",
          "text": [
            "\r[*********************100%***********************]  1 of 1 completed\n"
          ]
        }
      ]
    },
    {
      "cell_type": "markdown",
      "source": [
        "##### 檢視股價歷史資料"
      ],
      "metadata": {
        "id": "pgxMwHakyfa8"
      }
    },
    {
      "cell_type": "code",
      "source": [
        "df.head?"
      ],
      "metadata": {
        "id": "FxeVR-gPyxnQ"
      },
      "execution_count": 65,
      "outputs": []
    },
    {
      "cell_type": "code",
      "source": [
        "# 返回前五筆資料\n",
        "df.head()"
      ],
      "metadata": {
        "colab": {
          "base_uri": "https://localhost:8080/",
          "height": 238
        },
        "id": "cQFPp7K2ybeW",
        "outputId": "43a3dfbd-9e42-4a54-81ed-6f137edff839"
      },
      "execution_count": 64,
      "outputs": [
        {
          "output_type": "execute_result",
          "data": {
            "text/plain": [
              "                Open      High       Low     Close  Adj Close     Volume\n",
              "Date                                                                    \n",
              "2010-06-29  1.266667  1.666667  1.169333  1.592667   1.592667  281494500\n",
              "2010-06-30  1.719333  2.028000  1.553333  1.588667   1.588667  257806500\n",
              "2010-07-01  1.666667  1.728000  1.351333  1.464000   1.464000  123282000\n",
              "2010-07-02  1.533333  1.540000  1.247333  1.280000   1.280000   77097000\n",
              "2010-07-06  1.333333  1.333333  1.055333  1.074000   1.074000  103003500"
            ],
            "text/html": [
              "\n",
              "  <div id=\"df-e3b31b1e-5952-44e2-8347-f6976f5ef948\">\n",
              "    <div class=\"colab-df-container\">\n",
              "      <div>\n",
              "<style scoped>\n",
              "    .dataframe tbody tr th:only-of-type {\n",
              "        vertical-align: middle;\n",
              "    }\n",
              "\n",
              "    .dataframe tbody tr th {\n",
              "        vertical-align: top;\n",
              "    }\n",
              "\n",
              "    .dataframe thead th {\n",
              "        text-align: right;\n",
              "    }\n",
              "</style>\n",
              "<table border=\"1\" class=\"dataframe\">\n",
              "  <thead>\n",
              "    <tr style=\"text-align: right;\">\n",
              "      <th></th>\n",
              "      <th>Open</th>\n",
              "      <th>High</th>\n",
              "      <th>Low</th>\n",
              "      <th>Close</th>\n",
              "      <th>Adj Close</th>\n",
              "      <th>Volume</th>\n",
              "    </tr>\n",
              "    <tr>\n",
              "      <th>Date</th>\n",
              "      <th></th>\n",
              "      <th></th>\n",
              "      <th></th>\n",
              "      <th></th>\n",
              "      <th></th>\n",
              "      <th></th>\n",
              "    </tr>\n",
              "  </thead>\n",
              "  <tbody>\n",
              "    <tr>\n",
              "      <th>2010-06-29</th>\n",
              "      <td>1.266667</td>\n",
              "      <td>1.666667</td>\n",
              "      <td>1.169333</td>\n",
              "      <td>1.592667</td>\n",
              "      <td>1.592667</td>\n",
              "      <td>281494500</td>\n",
              "    </tr>\n",
              "    <tr>\n",
              "      <th>2010-06-30</th>\n",
              "      <td>1.719333</td>\n",
              "      <td>2.028000</td>\n",
              "      <td>1.553333</td>\n",
              "      <td>1.588667</td>\n",
              "      <td>1.588667</td>\n",
              "      <td>257806500</td>\n",
              "    </tr>\n",
              "    <tr>\n",
              "      <th>2010-07-01</th>\n",
              "      <td>1.666667</td>\n",
              "      <td>1.728000</td>\n",
              "      <td>1.351333</td>\n",
              "      <td>1.464000</td>\n",
              "      <td>1.464000</td>\n",
              "      <td>123282000</td>\n",
              "    </tr>\n",
              "    <tr>\n",
              "      <th>2010-07-02</th>\n",
              "      <td>1.533333</td>\n",
              "      <td>1.540000</td>\n",
              "      <td>1.247333</td>\n",
              "      <td>1.280000</td>\n",
              "      <td>1.280000</td>\n",
              "      <td>77097000</td>\n",
              "    </tr>\n",
              "    <tr>\n",
              "      <th>2010-07-06</th>\n",
              "      <td>1.333333</td>\n",
              "      <td>1.333333</td>\n",
              "      <td>1.055333</td>\n",
              "      <td>1.074000</td>\n",
              "      <td>1.074000</td>\n",
              "      <td>103003500</td>\n",
              "    </tr>\n",
              "  </tbody>\n",
              "</table>\n",
              "</div>\n",
              "      <button class=\"colab-df-convert\" onclick=\"convertToInteractive('df-e3b31b1e-5952-44e2-8347-f6976f5ef948')\"\n",
              "              title=\"Convert this dataframe to an interactive table.\"\n",
              "              style=\"display:none;\">\n",
              "        \n",
              "  <svg xmlns=\"http://www.w3.org/2000/svg\" height=\"24px\"viewBox=\"0 0 24 24\"\n",
              "       width=\"24px\">\n",
              "    <path d=\"M0 0h24v24H0V0z\" fill=\"none\"/>\n",
              "    <path d=\"M18.56 5.44l.94 2.06.94-2.06 2.06-.94-2.06-.94-.94-2.06-.94 2.06-2.06.94zm-11 1L8.5 8.5l.94-2.06 2.06-.94-2.06-.94L8.5 2.5l-.94 2.06-2.06.94zm10 10l.94 2.06.94-2.06 2.06-.94-2.06-.94-.94-2.06-.94 2.06-2.06.94z\"/><path d=\"M17.41 7.96l-1.37-1.37c-.4-.4-.92-.59-1.43-.59-.52 0-1.04.2-1.43.59L10.3 9.45l-7.72 7.72c-.78.78-.78 2.05 0 2.83L4 21.41c.39.39.9.59 1.41.59.51 0 1.02-.2 1.41-.59l7.78-7.78 2.81-2.81c.8-.78.8-2.07 0-2.86zM5.41 20L4 18.59l7.72-7.72 1.47 1.35L5.41 20z\"/>\n",
              "  </svg>\n",
              "      </button>\n",
              "      \n",
              "  <style>\n",
              "    .colab-df-container {\n",
              "      display:flex;\n",
              "      flex-wrap:wrap;\n",
              "      gap: 12px;\n",
              "    }\n",
              "\n",
              "    .colab-df-convert {\n",
              "      background-color: #E8F0FE;\n",
              "      border: none;\n",
              "      border-radius: 50%;\n",
              "      cursor: pointer;\n",
              "      display: none;\n",
              "      fill: #1967D2;\n",
              "      height: 32px;\n",
              "      padding: 0 0 0 0;\n",
              "      width: 32px;\n",
              "    }\n",
              "\n",
              "    .colab-df-convert:hover {\n",
              "      background-color: #E2EBFA;\n",
              "      box-shadow: 0px 1px 2px rgba(60, 64, 67, 0.3), 0px 1px 3px 1px rgba(60, 64, 67, 0.15);\n",
              "      fill: #174EA6;\n",
              "    }\n",
              "\n",
              "    [theme=dark] .colab-df-convert {\n",
              "      background-color: #3B4455;\n",
              "      fill: #D2E3FC;\n",
              "    }\n",
              "\n",
              "    [theme=dark] .colab-df-convert:hover {\n",
              "      background-color: #434B5C;\n",
              "      box-shadow: 0px 1px 3px 1px rgba(0, 0, 0, 0.15);\n",
              "      filter: drop-shadow(0px 1px 2px rgba(0, 0, 0, 0.3));\n",
              "      fill: #FFFFFF;\n",
              "    }\n",
              "  </style>\n",
              "\n",
              "      <script>\n",
              "        const buttonEl =\n",
              "          document.querySelector('#df-e3b31b1e-5952-44e2-8347-f6976f5ef948 button.colab-df-convert');\n",
              "        buttonEl.style.display =\n",
              "          google.colab.kernel.accessAllowed ? 'block' : 'none';\n",
              "\n",
              "        async function convertToInteractive(key) {\n",
              "          const element = document.querySelector('#df-e3b31b1e-5952-44e2-8347-f6976f5ef948');\n",
              "          const dataTable =\n",
              "            await google.colab.kernel.invokeFunction('convertToInteractive',\n",
              "                                                     [key], {});\n",
              "          if (!dataTable) return;\n",
              "\n",
              "          const docLinkHtml = 'Like what you see? Visit the ' +\n",
              "            '<a target=\"_blank\" href=https://colab.research.google.com/notebooks/data_table.ipynb>data table notebook</a>'\n",
              "            + ' to learn more about interactive tables.';\n",
              "          element.innerHTML = '';\n",
              "          dataTable['output_type'] = 'display_data';\n",
              "          await google.colab.output.renderOutput(dataTable, element);\n",
              "          const docLink = document.createElement('div');\n",
              "          docLink.innerHTML = docLinkHtml;\n",
              "          element.appendChild(docLink);\n",
              "        }\n",
              "      </script>\n",
              "    </div>\n",
              "  </div>\n",
              "  "
            ]
          },
          "metadata": {},
          "execution_count": 64
        }
      ]
    },
    {
      "cell_type": "code",
      "source": [
        "# 返回後五筆資料 \n",
        "df.tail()"
      ],
      "metadata": {
        "colab": {
          "base_uri": "https://localhost:8080/",
          "height": 238
        },
        "id": "FGCNbuuByk2V",
        "outputId": "206ccf6a-a6fc-4b57-83b7-46f8e588e514"
      },
      "execution_count": 67,
      "outputs": [
        {
          "output_type": "execute_result",
          "data": {
            "text/plain": [
              "                  Open        High         Low       Close   Adj Close  \\\n",
              "Date                                                                     \n",
              "2023-05-05  163.970001  170.789993  163.509995  170.059998  170.059998   \n",
              "2023-05-08  173.720001  173.800003  169.190002  171.789993  171.789993   \n",
              "2023-05-09  168.949997  169.820007  166.559998  169.149994  169.149994   \n",
              "2023-05-10  172.550003  174.429993  166.679993  168.539993  168.539993   \n",
              "2023-05-11  168.699997  173.570007  166.789993  172.080002  172.080002   \n",
              "\n",
              "               Volume  \n",
              "Date                   \n",
              "2023-05-05  107440900  \n",
              "2023-05-08  112249400  \n",
              "2023-05-09   88965000  \n",
              "2023-05-10  119840700  \n",
              "2023-05-11  102533800  "
            ],
            "text/html": [
              "\n",
              "  <div id=\"df-8f73482f-f762-47f6-a374-4fd0f65e54a3\">\n",
              "    <div class=\"colab-df-container\">\n",
              "      <div>\n",
              "<style scoped>\n",
              "    .dataframe tbody tr th:only-of-type {\n",
              "        vertical-align: middle;\n",
              "    }\n",
              "\n",
              "    .dataframe tbody tr th {\n",
              "        vertical-align: top;\n",
              "    }\n",
              "\n",
              "    .dataframe thead th {\n",
              "        text-align: right;\n",
              "    }\n",
              "</style>\n",
              "<table border=\"1\" class=\"dataframe\">\n",
              "  <thead>\n",
              "    <tr style=\"text-align: right;\">\n",
              "      <th></th>\n",
              "      <th>Open</th>\n",
              "      <th>High</th>\n",
              "      <th>Low</th>\n",
              "      <th>Close</th>\n",
              "      <th>Adj Close</th>\n",
              "      <th>Volume</th>\n",
              "    </tr>\n",
              "    <tr>\n",
              "      <th>Date</th>\n",
              "      <th></th>\n",
              "      <th></th>\n",
              "      <th></th>\n",
              "      <th></th>\n",
              "      <th></th>\n",
              "      <th></th>\n",
              "    </tr>\n",
              "  </thead>\n",
              "  <tbody>\n",
              "    <tr>\n",
              "      <th>2023-05-05</th>\n",
              "      <td>163.970001</td>\n",
              "      <td>170.789993</td>\n",
              "      <td>163.509995</td>\n",
              "      <td>170.059998</td>\n",
              "      <td>170.059998</td>\n",
              "      <td>107440900</td>\n",
              "    </tr>\n",
              "    <tr>\n",
              "      <th>2023-05-08</th>\n",
              "      <td>173.720001</td>\n",
              "      <td>173.800003</td>\n",
              "      <td>169.190002</td>\n",
              "      <td>171.789993</td>\n",
              "      <td>171.789993</td>\n",
              "      <td>112249400</td>\n",
              "    </tr>\n",
              "    <tr>\n",
              "      <th>2023-05-09</th>\n",
              "      <td>168.949997</td>\n",
              "      <td>169.820007</td>\n",
              "      <td>166.559998</td>\n",
              "      <td>169.149994</td>\n",
              "      <td>169.149994</td>\n",
              "      <td>88965000</td>\n",
              "    </tr>\n",
              "    <tr>\n",
              "      <th>2023-05-10</th>\n",
              "      <td>172.550003</td>\n",
              "      <td>174.429993</td>\n",
              "      <td>166.679993</td>\n",
              "      <td>168.539993</td>\n",
              "      <td>168.539993</td>\n",
              "      <td>119840700</td>\n",
              "    </tr>\n",
              "    <tr>\n",
              "      <th>2023-05-11</th>\n",
              "      <td>168.699997</td>\n",
              "      <td>173.570007</td>\n",
              "      <td>166.789993</td>\n",
              "      <td>172.080002</td>\n",
              "      <td>172.080002</td>\n",
              "      <td>102533800</td>\n",
              "    </tr>\n",
              "  </tbody>\n",
              "</table>\n",
              "</div>\n",
              "      <button class=\"colab-df-convert\" onclick=\"convertToInteractive('df-8f73482f-f762-47f6-a374-4fd0f65e54a3')\"\n",
              "              title=\"Convert this dataframe to an interactive table.\"\n",
              "              style=\"display:none;\">\n",
              "        \n",
              "  <svg xmlns=\"http://www.w3.org/2000/svg\" height=\"24px\"viewBox=\"0 0 24 24\"\n",
              "       width=\"24px\">\n",
              "    <path d=\"M0 0h24v24H0V0z\" fill=\"none\"/>\n",
              "    <path d=\"M18.56 5.44l.94 2.06.94-2.06 2.06-.94-2.06-.94-.94-2.06-.94 2.06-2.06.94zm-11 1L8.5 8.5l.94-2.06 2.06-.94-2.06-.94L8.5 2.5l-.94 2.06-2.06.94zm10 10l.94 2.06.94-2.06 2.06-.94-2.06-.94-.94-2.06-.94 2.06-2.06.94z\"/><path d=\"M17.41 7.96l-1.37-1.37c-.4-.4-.92-.59-1.43-.59-.52 0-1.04.2-1.43.59L10.3 9.45l-7.72 7.72c-.78.78-.78 2.05 0 2.83L4 21.41c.39.39.9.59 1.41.59.51 0 1.02-.2 1.41-.59l7.78-7.78 2.81-2.81c.8-.78.8-2.07 0-2.86zM5.41 20L4 18.59l7.72-7.72 1.47 1.35L5.41 20z\"/>\n",
              "  </svg>\n",
              "      </button>\n",
              "      \n",
              "  <style>\n",
              "    .colab-df-container {\n",
              "      display:flex;\n",
              "      flex-wrap:wrap;\n",
              "      gap: 12px;\n",
              "    }\n",
              "\n",
              "    .colab-df-convert {\n",
              "      background-color: #E8F0FE;\n",
              "      border: none;\n",
              "      border-radius: 50%;\n",
              "      cursor: pointer;\n",
              "      display: none;\n",
              "      fill: #1967D2;\n",
              "      height: 32px;\n",
              "      padding: 0 0 0 0;\n",
              "      width: 32px;\n",
              "    }\n",
              "\n",
              "    .colab-df-convert:hover {\n",
              "      background-color: #E2EBFA;\n",
              "      box-shadow: 0px 1px 2px rgba(60, 64, 67, 0.3), 0px 1px 3px 1px rgba(60, 64, 67, 0.15);\n",
              "      fill: #174EA6;\n",
              "    }\n",
              "\n",
              "    [theme=dark] .colab-df-convert {\n",
              "      background-color: #3B4455;\n",
              "      fill: #D2E3FC;\n",
              "    }\n",
              "\n",
              "    [theme=dark] .colab-df-convert:hover {\n",
              "      background-color: #434B5C;\n",
              "      box-shadow: 0px 1px 3px 1px rgba(0, 0, 0, 0.15);\n",
              "      filter: drop-shadow(0px 1px 2px rgba(0, 0, 0, 0.3));\n",
              "      fill: #FFFFFF;\n",
              "    }\n",
              "  </style>\n",
              "\n",
              "      <script>\n",
              "        const buttonEl =\n",
              "          document.querySelector('#df-8f73482f-f762-47f6-a374-4fd0f65e54a3 button.colab-df-convert');\n",
              "        buttonEl.style.display =\n",
              "          google.colab.kernel.accessAllowed ? 'block' : 'none';\n",
              "\n",
              "        async function convertToInteractive(key) {\n",
              "          const element = document.querySelector('#df-8f73482f-f762-47f6-a374-4fd0f65e54a3');\n",
              "          const dataTable =\n",
              "            await google.colab.kernel.invokeFunction('convertToInteractive',\n",
              "                                                     [key], {});\n",
              "          if (!dataTable) return;\n",
              "\n",
              "          const docLinkHtml = 'Like what you see? Visit the ' +\n",
              "            '<a target=\"_blank\" href=https://colab.research.google.com/notebooks/data_table.ipynb>data table notebook</a>'\n",
              "            + ' to learn more about interactive tables.';\n",
              "          element.innerHTML = '';\n",
              "          dataTable['output_type'] = 'display_data';\n",
              "          await google.colab.output.renderOutput(dataTable, element);\n",
              "          const docLink = document.createElement('div');\n",
              "          docLink.innerHTML = docLinkHtml;\n",
              "          element.appendChild(docLink);\n",
              "        }\n",
              "      </script>\n",
              "    </div>\n",
              "  </div>\n",
              "  "
            ]
          },
          "metadata": {},
          "execution_count": 67
        }
      ]
    },
    {
      "cell_type": "code",
      "source": [
        "df[-5:]"
      ],
      "metadata": {
        "colab": {
          "base_uri": "https://localhost:8080/",
          "height": 238
        },
        "id": "LJ1DVs1hzRth",
        "outputId": "75d62597-c2c4-43fc-9da6-40bccab6e9c4"
      },
      "execution_count": 69,
      "outputs": [
        {
          "output_type": "execute_result",
          "data": {
            "text/plain": [
              "                  Open        High         Low       Close   Adj Close  \\\n",
              "Date                                                                     \n",
              "2023-05-05  163.970001  170.789993  163.509995  170.059998  170.059998   \n",
              "2023-05-08  173.720001  173.800003  169.190002  171.789993  171.789993   \n",
              "2023-05-09  168.949997  169.820007  166.559998  169.149994  169.149994   \n",
              "2023-05-10  172.550003  174.429993  166.679993  168.539993  168.539993   \n",
              "2023-05-11  168.699997  173.570007  166.789993  172.080002  172.080002   \n",
              "\n",
              "               Volume  \n",
              "Date                   \n",
              "2023-05-05  107440900  \n",
              "2023-05-08  112249400  \n",
              "2023-05-09   88965000  \n",
              "2023-05-10  119840700  \n",
              "2023-05-11  102533800  "
            ],
            "text/html": [
              "\n",
              "  <div id=\"df-f3926832-d571-4c97-806a-7fd2ec16168e\">\n",
              "    <div class=\"colab-df-container\">\n",
              "      <div>\n",
              "<style scoped>\n",
              "    .dataframe tbody tr th:only-of-type {\n",
              "        vertical-align: middle;\n",
              "    }\n",
              "\n",
              "    .dataframe tbody tr th {\n",
              "        vertical-align: top;\n",
              "    }\n",
              "\n",
              "    .dataframe thead th {\n",
              "        text-align: right;\n",
              "    }\n",
              "</style>\n",
              "<table border=\"1\" class=\"dataframe\">\n",
              "  <thead>\n",
              "    <tr style=\"text-align: right;\">\n",
              "      <th></th>\n",
              "      <th>Open</th>\n",
              "      <th>High</th>\n",
              "      <th>Low</th>\n",
              "      <th>Close</th>\n",
              "      <th>Adj Close</th>\n",
              "      <th>Volume</th>\n",
              "    </tr>\n",
              "    <tr>\n",
              "      <th>Date</th>\n",
              "      <th></th>\n",
              "      <th></th>\n",
              "      <th></th>\n",
              "      <th></th>\n",
              "      <th></th>\n",
              "      <th></th>\n",
              "    </tr>\n",
              "  </thead>\n",
              "  <tbody>\n",
              "    <tr>\n",
              "      <th>2023-05-05</th>\n",
              "      <td>163.970001</td>\n",
              "      <td>170.789993</td>\n",
              "      <td>163.509995</td>\n",
              "      <td>170.059998</td>\n",
              "      <td>170.059998</td>\n",
              "      <td>107440900</td>\n",
              "    </tr>\n",
              "    <tr>\n",
              "      <th>2023-05-08</th>\n",
              "      <td>173.720001</td>\n",
              "      <td>173.800003</td>\n",
              "      <td>169.190002</td>\n",
              "      <td>171.789993</td>\n",
              "      <td>171.789993</td>\n",
              "      <td>112249400</td>\n",
              "    </tr>\n",
              "    <tr>\n",
              "      <th>2023-05-09</th>\n",
              "      <td>168.949997</td>\n",
              "      <td>169.820007</td>\n",
              "      <td>166.559998</td>\n",
              "      <td>169.149994</td>\n",
              "      <td>169.149994</td>\n",
              "      <td>88965000</td>\n",
              "    </tr>\n",
              "    <tr>\n",
              "      <th>2023-05-10</th>\n",
              "      <td>172.550003</td>\n",
              "      <td>174.429993</td>\n",
              "      <td>166.679993</td>\n",
              "      <td>168.539993</td>\n",
              "      <td>168.539993</td>\n",
              "      <td>119840700</td>\n",
              "    </tr>\n",
              "    <tr>\n",
              "      <th>2023-05-11</th>\n",
              "      <td>168.699997</td>\n",
              "      <td>173.570007</td>\n",
              "      <td>166.789993</td>\n",
              "      <td>172.080002</td>\n",
              "      <td>172.080002</td>\n",
              "      <td>102533800</td>\n",
              "    </tr>\n",
              "  </tbody>\n",
              "</table>\n",
              "</div>\n",
              "      <button class=\"colab-df-convert\" onclick=\"convertToInteractive('df-f3926832-d571-4c97-806a-7fd2ec16168e')\"\n",
              "              title=\"Convert this dataframe to an interactive table.\"\n",
              "              style=\"display:none;\">\n",
              "        \n",
              "  <svg xmlns=\"http://www.w3.org/2000/svg\" height=\"24px\"viewBox=\"0 0 24 24\"\n",
              "       width=\"24px\">\n",
              "    <path d=\"M0 0h24v24H0V0z\" fill=\"none\"/>\n",
              "    <path d=\"M18.56 5.44l.94 2.06.94-2.06 2.06-.94-2.06-.94-.94-2.06-.94 2.06-2.06.94zm-11 1L8.5 8.5l.94-2.06 2.06-.94-2.06-.94L8.5 2.5l-.94 2.06-2.06.94zm10 10l.94 2.06.94-2.06 2.06-.94-2.06-.94-.94-2.06-.94 2.06-2.06.94z\"/><path d=\"M17.41 7.96l-1.37-1.37c-.4-.4-.92-.59-1.43-.59-.52 0-1.04.2-1.43.59L10.3 9.45l-7.72 7.72c-.78.78-.78 2.05 0 2.83L4 21.41c.39.39.9.59 1.41.59.51 0 1.02-.2 1.41-.59l7.78-7.78 2.81-2.81c.8-.78.8-2.07 0-2.86zM5.41 20L4 18.59l7.72-7.72 1.47 1.35L5.41 20z\"/>\n",
              "  </svg>\n",
              "      </button>\n",
              "      \n",
              "  <style>\n",
              "    .colab-df-container {\n",
              "      display:flex;\n",
              "      flex-wrap:wrap;\n",
              "      gap: 12px;\n",
              "    }\n",
              "\n",
              "    .colab-df-convert {\n",
              "      background-color: #E8F0FE;\n",
              "      border: none;\n",
              "      border-radius: 50%;\n",
              "      cursor: pointer;\n",
              "      display: none;\n",
              "      fill: #1967D2;\n",
              "      height: 32px;\n",
              "      padding: 0 0 0 0;\n",
              "      width: 32px;\n",
              "    }\n",
              "\n",
              "    .colab-df-convert:hover {\n",
              "      background-color: #E2EBFA;\n",
              "      box-shadow: 0px 1px 2px rgba(60, 64, 67, 0.3), 0px 1px 3px 1px rgba(60, 64, 67, 0.15);\n",
              "      fill: #174EA6;\n",
              "    }\n",
              "\n",
              "    [theme=dark] .colab-df-convert {\n",
              "      background-color: #3B4455;\n",
              "      fill: #D2E3FC;\n",
              "    }\n",
              "\n",
              "    [theme=dark] .colab-df-convert:hover {\n",
              "      background-color: #434B5C;\n",
              "      box-shadow: 0px 1px 3px 1px rgba(0, 0, 0, 0.15);\n",
              "      filter: drop-shadow(0px 1px 2px rgba(0, 0, 0, 0.3));\n",
              "      fill: #FFFFFF;\n",
              "    }\n",
              "  </style>\n",
              "\n",
              "      <script>\n",
              "        const buttonEl =\n",
              "          document.querySelector('#df-f3926832-d571-4c97-806a-7fd2ec16168e button.colab-df-convert');\n",
              "        buttonEl.style.display =\n",
              "          google.colab.kernel.accessAllowed ? 'block' : 'none';\n",
              "\n",
              "        async function convertToInteractive(key) {\n",
              "          const element = document.querySelector('#df-f3926832-d571-4c97-806a-7fd2ec16168e');\n",
              "          const dataTable =\n",
              "            await google.colab.kernel.invokeFunction('convertToInteractive',\n",
              "                                                     [key], {});\n",
              "          if (!dataTable) return;\n",
              "\n",
              "          const docLinkHtml = 'Like what you see? Visit the ' +\n",
              "            '<a target=\"_blank\" href=https://colab.research.google.com/notebooks/data_table.ipynb>data table notebook</a>'\n",
              "            + ' to learn more about interactive tables.';\n",
              "          element.innerHTML = '';\n",
              "          dataTable['output_type'] = 'display_data';\n",
              "          await google.colab.output.renderOutput(dataTable, element);\n",
              "          const docLink = document.createElement('div');\n",
              "          docLink.innerHTML = docLinkHtml;\n",
              "          element.appendChild(docLink);\n",
              "        }\n",
              "      </script>\n",
              "    </div>\n",
              "  </div>\n",
              "  "
            ]
          },
          "metadata": {},
          "execution_count": 69
        }
      ]
    },
    {
      "cell_type": "code",
      "source": [
        "# 秀出此份DataFrame相關的資訊\n",
        "df.info()"
      ],
      "metadata": {
        "colab": {
          "base_uri": "https://localhost:8080/"
        },
        "id": "-V-iiZUrzZIL",
        "outputId": "f5ee07b9-71c4-432d-db0f-bd6039566338"
      },
      "execution_count": 70,
      "outputs": [
        {
          "output_type": "stream",
          "name": "stdout",
          "text": [
            "<class 'pandas.core.frame.DataFrame'>\n",
            "DatetimeIndex: 3240 entries, 2010-06-29 to 2023-05-11\n",
            "Data columns (total 6 columns):\n",
            " #   Column     Non-Null Count  Dtype  \n",
            "---  ------     --------------  -----  \n",
            " 0   Open       3240 non-null   float64\n",
            " 1   High       3240 non-null   float64\n",
            " 2   Low        3240 non-null   float64\n",
            " 3   Close      3240 non-null   float64\n",
            " 4   Adj Close  3240 non-null   float64\n",
            " 5   Volume     3240 non-null   int64  \n",
            "dtypes: float64(5), int64(1)\n",
            "memory usage: 177.2 KB\n"
          ]
        }
      ]
    },
    {
      "cell_type": "code",
      "source": [
        "type(df)"
      ],
      "metadata": {
        "colab": {
          "base_uri": "https://localhost:8080/"
        },
        "id": "L3yjxFKmzkbJ",
        "outputId": "7f0c9d18-1cf5-46a5-e0bd-048ee1de198d"
      },
      "execution_count": 72,
      "outputs": [
        {
          "output_type": "execute_result",
          "data": {
            "text/plain": [
              "pandas.core.frame.DataFrame"
            ]
          },
          "metadata": {},
          "execution_count": 72
        }
      ]
    },
    {
      "cell_type": "markdown",
      "source": [
        "#### 讀取DataFrame的單一個欄位"
      ],
      "metadata": {
        "id": "RMxD37GW0R0V"
      }
    },
    {
      "cell_type": "code",
      "source": [
        "df.head()"
      ],
      "metadata": {
        "colab": {
          "base_uri": "https://localhost:8080/",
          "height": 238
        },
        "id": "FO5Bd_Oh0Akw",
        "outputId": "e7c3cc10-12c9-49e1-b961-65081d0d32eb"
      },
      "execution_count": 73,
      "outputs": [
        {
          "output_type": "execute_result",
          "data": {
            "text/plain": [
              "                Open      High       Low     Close  Adj Close     Volume\n",
              "Date                                                                    \n",
              "2010-06-29  1.266667  1.666667  1.169333  1.592667   1.592667  281494500\n",
              "2010-06-30  1.719333  2.028000  1.553333  1.588667   1.588667  257806500\n",
              "2010-07-01  1.666667  1.728000  1.351333  1.464000   1.464000  123282000\n",
              "2010-07-02  1.533333  1.540000  1.247333  1.280000   1.280000   77097000\n",
              "2010-07-06  1.333333  1.333333  1.055333  1.074000   1.074000  103003500"
            ],
            "text/html": [
              "\n",
              "  <div id=\"df-cb8f6b29-1318-4651-8514-a6f6cf862983\">\n",
              "    <div class=\"colab-df-container\">\n",
              "      <div>\n",
              "<style scoped>\n",
              "    .dataframe tbody tr th:only-of-type {\n",
              "        vertical-align: middle;\n",
              "    }\n",
              "\n",
              "    .dataframe tbody tr th {\n",
              "        vertical-align: top;\n",
              "    }\n",
              "\n",
              "    .dataframe thead th {\n",
              "        text-align: right;\n",
              "    }\n",
              "</style>\n",
              "<table border=\"1\" class=\"dataframe\">\n",
              "  <thead>\n",
              "    <tr style=\"text-align: right;\">\n",
              "      <th></th>\n",
              "      <th>Open</th>\n",
              "      <th>High</th>\n",
              "      <th>Low</th>\n",
              "      <th>Close</th>\n",
              "      <th>Adj Close</th>\n",
              "      <th>Volume</th>\n",
              "    </tr>\n",
              "    <tr>\n",
              "      <th>Date</th>\n",
              "      <th></th>\n",
              "      <th></th>\n",
              "      <th></th>\n",
              "      <th></th>\n",
              "      <th></th>\n",
              "      <th></th>\n",
              "    </tr>\n",
              "  </thead>\n",
              "  <tbody>\n",
              "    <tr>\n",
              "      <th>2010-06-29</th>\n",
              "      <td>1.266667</td>\n",
              "      <td>1.666667</td>\n",
              "      <td>1.169333</td>\n",
              "      <td>1.592667</td>\n",
              "      <td>1.592667</td>\n",
              "      <td>281494500</td>\n",
              "    </tr>\n",
              "    <tr>\n",
              "      <th>2010-06-30</th>\n",
              "      <td>1.719333</td>\n",
              "      <td>2.028000</td>\n",
              "      <td>1.553333</td>\n",
              "      <td>1.588667</td>\n",
              "      <td>1.588667</td>\n",
              "      <td>257806500</td>\n",
              "    </tr>\n",
              "    <tr>\n",
              "      <th>2010-07-01</th>\n",
              "      <td>1.666667</td>\n",
              "      <td>1.728000</td>\n",
              "      <td>1.351333</td>\n",
              "      <td>1.464000</td>\n",
              "      <td>1.464000</td>\n",
              "      <td>123282000</td>\n",
              "    </tr>\n",
              "    <tr>\n",
              "      <th>2010-07-02</th>\n",
              "      <td>1.533333</td>\n",
              "      <td>1.540000</td>\n",
              "      <td>1.247333</td>\n",
              "      <td>1.280000</td>\n",
              "      <td>1.280000</td>\n",
              "      <td>77097000</td>\n",
              "    </tr>\n",
              "    <tr>\n",
              "      <th>2010-07-06</th>\n",
              "      <td>1.333333</td>\n",
              "      <td>1.333333</td>\n",
              "      <td>1.055333</td>\n",
              "      <td>1.074000</td>\n",
              "      <td>1.074000</td>\n",
              "      <td>103003500</td>\n",
              "    </tr>\n",
              "  </tbody>\n",
              "</table>\n",
              "</div>\n",
              "      <button class=\"colab-df-convert\" onclick=\"convertToInteractive('df-cb8f6b29-1318-4651-8514-a6f6cf862983')\"\n",
              "              title=\"Convert this dataframe to an interactive table.\"\n",
              "              style=\"display:none;\">\n",
              "        \n",
              "  <svg xmlns=\"http://www.w3.org/2000/svg\" height=\"24px\"viewBox=\"0 0 24 24\"\n",
              "       width=\"24px\">\n",
              "    <path d=\"M0 0h24v24H0V0z\" fill=\"none\"/>\n",
              "    <path d=\"M18.56 5.44l.94 2.06.94-2.06 2.06-.94-2.06-.94-.94-2.06-.94 2.06-2.06.94zm-11 1L8.5 8.5l.94-2.06 2.06-.94-2.06-.94L8.5 2.5l-.94 2.06-2.06.94zm10 10l.94 2.06.94-2.06 2.06-.94-2.06-.94-.94-2.06-.94 2.06-2.06.94z\"/><path d=\"M17.41 7.96l-1.37-1.37c-.4-.4-.92-.59-1.43-.59-.52 0-1.04.2-1.43.59L10.3 9.45l-7.72 7.72c-.78.78-.78 2.05 0 2.83L4 21.41c.39.39.9.59 1.41.59.51 0 1.02-.2 1.41-.59l7.78-7.78 2.81-2.81c.8-.78.8-2.07 0-2.86zM5.41 20L4 18.59l7.72-7.72 1.47 1.35L5.41 20z\"/>\n",
              "  </svg>\n",
              "      </button>\n",
              "      \n",
              "  <style>\n",
              "    .colab-df-container {\n",
              "      display:flex;\n",
              "      flex-wrap:wrap;\n",
              "      gap: 12px;\n",
              "    }\n",
              "\n",
              "    .colab-df-convert {\n",
              "      background-color: #E8F0FE;\n",
              "      border: none;\n",
              "      border-radius: 50%;\n",
              "      cursor: pointer;\n",
              "      display: none;\n",
              "      fill: #1967D2;\n",
              "      height: 32px;\n",
              "      padding: 0 0 0 0;\n",
              "      width: 32px;\n",
              "    }\n",
              "\n",
              "    .colab-df-convert:hover {\n",
              "      background-color: #E2EBFA;\n",
              "      box-shadow: 0px 1px 2px rgba(60, 64, 67, 0.3), 0px 1px 3px 1px rgba(60, 64, 67, 0.15);\n",
              "      fill: #174EA6;\n",
              "    }\n",
              "\n",
              "    [theme=dark] .colab-df-convert {\n",
              "      background-color: #3B4455;\n",
              "      fill: #D2E3FC;\n",
              "    }\n",
              "\n",
              "    [theme=dark] .colab-df-convert:hover {\n",
              "      background-color: #434B5C;\n",
              "      box-shadow: 0px 1px 3px 1px rgba(0, 0, 0, 0.15);\n",
              "      filter: drop-shadow(0px 1px 2px rgba(0, 0, 0, 0.3));\n",
              "      fill: #FFFFFF;\n",
              "    }\n",
              "  </style>\n",
              "\n",
              "      <script>\n",
              "        const buttonEl =\n",
              "          document.querySelector('#df-cb8f6b29-1318-4651-8514-a6f6cf862983 button.colab-df-convert');\n",
              "        buttonEl.style.display =\n",
              "          google.colab.kernel.accessAllowed ? 'block' : 'none';\n",
              "\n",
              "        async function convertToInteractive(key) {\n",
              "          const element = document.querySelector('#df-cb8f6b29-1318-4651-8514-a6f6cf862983');\n",
              "          const dataTable =\n",
              "            await google.colab.kernel.invokeFunction('convertToInteractive',\n",
              "                                                     [key], {});\n",
              "          if (!dataTable) return;\n",
              "\n",
              "          const docLinkHtml = 'Like what you see? Visit the ' +\n",
              "            '<a target=\"_blank\" href=https://colab.research.google.com/notebooks/data_table.ipynb>data table notebook</a>'\n",
              "            + ' to learn more about interactive tables.';\n",
              "          element.innerHTML = '';\n",
              "          dataTable['output_type'] = 'display_data';\n",
              "          await google.colab.output.renderOutput(dataTable, element);\n",
              "          const docLink = document.createElement('div');\n",
              "          docLink.innerHTML = docLinkHtml;\n",
              "          element.appendChild(docLink);\n",
              "        }\n",
              "      </script>\n",
              "    </div>\n",
              "  </div>\n",
              "  "
            ]
          },
          "metadata": {},
          "execution_count": 73
        }
      ]
    },
    {
      "cell_type": "code",
      "source": [
        "df.Close"
      ],
      "metadata": {
        "colab": {
          "base_uri": "https://localhost:8080/"
        },
        "id": "iXYESuKI0dAM",
        "outputId": "9a69eecc-e07f-4e4e-bb88-19086b4ff65a"
      },
      "execution_count": 74,
      "outputs": [
        {
          "output_type": "execute_result",
          "data": {
            "text/plain": [
              "Date\n",
              "2010-06-29      1.592667\n",
              "2010-06-30      1.588667\n",
              "2010-07-01      1.464000\n",
              "2010-07-02      1.280000\n",
              "2010-07-06      1.074000\n",
              "                 ...    \n",
              "2023-05-05    170.059998\n",
              "2023-05-08    171.789993\n",
              "2023-05-09    169.149994\n",
              "2023-05-10    168.539993\n",
              "2023-05-11    172.080002\n",
              "Name: Close, Length: 3240, dtype: float64"
            ]
          },
          "metadata": {},
          "execution_count": 74
        }
      ]
    },
    {
      "cell_type": "code",
      "source": [
        "df['Adj Close']"
      ],
      "metadata": {
        "colab": {
          "base_uri": "https://localhost:8080/"
        },
        "id": "pI99zXLA0hV9",
        "outputId": "954a7141-38e2-4090-ff94-50fcca2f6fea"
      },
      "execution_count": 75,
      "outputs": [
        {
          "output_type": "execute_result",
          "data": {
            "text/plain": [
              "Date\n",
              "2010-06-29      1.592667\n",
              "2010-06-30      1.588667\n",
              "2010-07-01      1.464000\n",
              "2010-07-02      1.280000\n",
              "2010-07-06      1.074000\n",
              "                 ...    \n",
              "2023-05-05    170.059998\n",
              "2023-05-08    171.789993\n",
              "2023-05-09    169.149994\n",
              "2023-05-10    168.539993\n",
              "2023-05-11    172.080002\n",
              "Name: Adj Close, Length: 3240, dtype: float64"
            ]
          },
          "metadata": {},
          "execution_count": 75
        }
      ]
    },
    {
      "cell_type": "code",
      "source": [
        "type(df.Close)"
      ],
      "metadata": {
        "colab": {
          "base_uri": "https://localhost:8080/"
        },
        "id": "UOhLyjU00qaD",
        "outputId": "08d88d2e-65a3-4b16-80c5-ff2606fc637e"
      },
      "execution_count": 76,
      "outputs": [
        {
          "output_type": "execute_result",
          "data": {
            "text/plain": [
              "pandas.core.series.Series"
            ]
          },
          "metadata": {},
          "execution_count": 76
        }
      ]
    },
    {
      "cell_type": "markdown",
      "source": [
        "#### 計算投資報酬率"
      ],
      "metadata": {
        "id": "W3t4hdGQ1KHq"
      }
    },
    {
      "cell_type": "code",
      "source": [
        "df.Close[-1]/df.Close[0]"
      ],
      "metadata": {
        "colab": {
          "base_uri": "https://localhost:8080/"
        },
        "id": "ELgu5Sn900di",
        "outputId": "569536c6-4820-49ed-9231-e395898c3284"
      },
      "execution_count": 78,
      "outputs": [
        {
          "output_type": "execute_result",
          "data": {
            "text/plain": [
              "108.04518684854837"
            ]
          },
          "metadata": {},
          "execution_count": 78
        }
      ]
    },
    {
      "cell_type": "markdown",
      "source": [
        "#### 繪製收盤價曲線"
      ],
      "metadata": {
        "id": "az5KAWCS4EcM"
      }
    },
    {
      "cell_type": "code",
      "source": [
        "df.Close.plot()"
      ],
      "metadata": {
        "colab": {
          "base_uri": "https://localhost:8080/",
          "height": 439
        },
        "id": "Hzb5YCOl3tnd",
        "outputId": "8ad282d5-38fa-48cc-cfc3-5b3c9ce7c771"
      },
      "execution_count": 79,
      "outputs": [
        {
          "output_type": "execute_result",
          "data": {
            "text/plain": [
              "<Axes: xlabel='Date'>"
            ]
          },
          "metadata": {},
          "execution_count": 79
        },
        {
          "output_type": "display_data",
          "data": {
            "text/plain": [
              "<Figure size 640x480 with 1 Axes>"
            ],
            "image/png": "[encoded data removed]"
          },
          "metadata": {}
        }
      ]
    },
    {
      "cell_type": "code",
      "source": [
        "df.Close.plot(title=\"TSLA\")"
      ],
      "metadata": {
        "colab": {
          "base_uri": "https://localhost:8080/",
          "height": 461
        },
        "id": "70AqUK6H4P-B",
        "outputId": "07048656-d000-4290-fd31-3c25596f293a"
      },
      "execution_count": 80,
      "outputs": [
        {
          "output_type": "execute_result",
          "data": {
            "text/plain": [
              "<Axes: title={'center': 'TSLA'}, xlabel='Date'>"
            ]
          },
          "metadata": {},
          "execution_count": 80
        },
        {
          "output_type": "display_data",
          "data": {
            "text/plain": [
              "<Figure size 640x480 with 1 Axes>"
            ],
            "image/png": "[encoded data removed]"
          },
          "metadata": {}
        }
      ]
    },
    {
      "cell_type": "code",
      "source": [
        "df.tail(750).Close.plot()"
      ],
      "metadata": {
        "colab": {
          "base_uri": "https://localhost:8080/",
          "height": 450
        },
        "id": "YTf-M3s04a8i",
        "outputId": "43c1b2a7-61d6-4e9a-b39b-750b1b1e86c6"
      },
      "execution_count": 81,
      "outputs": [
        {
          "output_type": "execute_result",
          "data": {
            "text/plain": [
              "<Axes: xlabel='Date'>"
            ]
          },
          "metadata": {},
          "execution_count": 81
        },
        {
          "output_type": "display_data",
          "data": {
            "text/plain": [
              "<Figure size 640x480 with 1 Axes>"
            ],
            "image/png": "[encoded data removed]"
          },
          "metadata": {}
        }
      ]
    },
    {
      "cell_type": "markdown",
      "source": [
        "#### 計算特定期間的投資報酬率"
      ],
      "metadata": {
        "id": "fEgpPetz5R7N"
      }
    },
    {
      "cell_type": "code",
      "source": [
        "df['2020']"
      ],
      "metadata": {
        "colab": {
          "base_uri": "https://localhost:8080/",
          "height": 510
        },
        "id": "IJ3FbkTe40gv",
        "outputId": "8a488a99-63bf-45a7-e743-269c40d04996"
      },
      "execution_count": 82,
      "outputs": [
        {
          "output_type": "stream",
          "name": "stderr",
          "text": [
            "<ipython-input-82-348d00a3c84f>:1: FutureWarning: Indexing a DataFrame with a datetimelike index using a single string to slice the rows, like `frame[string]`, is deprecated and will be removed in a future version. Use `frame.loc[string]` instead.\n",
            "  df['2020']\n"
          ]
        },
        {
          "output_type": "execute_result",
          "data": {
            "text/plain": [
              "                  Open        High         Low       Close   Adj Close  \\\n",
              "Date                                                                     \n",
              "2020-01-02   28.299999   28.713333   28.114000   28.684000   28.684000   \n",
              "2020-01-03   29.366667   30.266666   29.128000   29.534000   29.534000   \n",
              "2020-01-06   29.364668   30.104000   29.333332   30.102667   30.102667   \n",
              "2020-01-07   30.760000   31.441999   30.224001   31.270666   31.270666   \n",
              "2020-01-08   31.580000   33.232666   31.215334   32.809334   32.809334   \n",
              "...                ...         ...         ...         ...         ...   \n",
              "2020-12-24  214.330002  222.029999  213.666672  220.589996  220.589996   \n",
              "2020-12-28  224.836670  227.133331  220.266663  221.229996  221.229996   \n",
              "2020-12-29  220.333328  223.300003  218.333328  221.996674  221.996674   \n",
              "2020-12-30  224.000000  232.199997  222.786667  231.593338  231.593338   \n",
              "2020-12-31  233.330002  239.573334  230.373337  235.223328  235.223328   \n",
              "\n",
              "               Volume  \n",
              "Date                   \n",
              "2020-01-02  142981500  \n",
              "2020-01-03  266677500  \n",
              "2020-01-06  151995000  \n",
              "2020-01-07  268231500  \n",
              "2020-01-08  467164500  \n",
              "...               ...  \n",
              "2020-12-24   68596800  \n",
              "2020-12-28   96835800  \n",
              "2020-12-29   68732400  \n",
              "2020-12-30  128538000  \n",
              "2020-12-31  148949700  \n",
              "\n",
              "[253 rows x 6 columns]"
            ],
            "text/html": [
              "\n",
              "  <div id=\"df-0578166e-5b26-42bc-8204-11db9ffa5394\">\n",
              "    <div class=\"colab-df-container\">\n",
              "      <div>\n",
              "<style scoped>\n",
              "    .dataframe tbody tr th:only-of-type {\n",
              "        vertical-align: middle;\n",
              "    }\n",
              "\n",
              "    .dataframe tbody tr th {\n",
              "        vertical-align: top;\n",
              "    }\n",
              "\n",
              "    .dataframe thead th {\n",
              "        text-align: right;\n",
              "    }\n",
              "</style>\n",
              "<table border=\"1\" class=\"dataframe\">\n",
              "  <thead>\n",
              "    <tr style=\"text-align: right;\">\n",
              "      <th></th>\n",
              "      <th>Open</th>\n",
              "      <th>High</th>\n",
              "      <th>Low</th>\n",
              "      <th>Close</th>\n",
              "      <th>Adj Close</th>\n",
              "      <th>Volume</th>\n",
              "    </tr>\n",
              "    <tr>\n",
              "      <th>Date</th>\n",
              "      <th></th>\n",
              "      <th></th>\n",
              "      <th></th>\n",
              "      <th></th>\n",
              "      <th></th>\n",
              "      <th></th>\n",
              "    </tr>\n",
              "  </thead>\n",
              "  <tbody>\n",
              "    <tr>\n",
              "      <th>2020-01-02</th>\n",
              "      <td>28.299999</td>\n",
              "      <td>28.713333</td>\n",
              "      <td>28.114000</td>\n",
              "      <td>28.684000</td>\n",
              "      <td>28.684000</td>\n",
              "      <td>142981500</td>\n",
              "    </tr>\n",
              "    <tr>\n",
              "      <th>2020-01-03</th>\n",
              "      <td>29.366667</td>\n",
              "      <td>30.266666</td>\n",
              "      <td>29.128000</td>\n",
              "      <td>29.534000</td>\n",
              "      <td>29.534000</td>\n",
              "      <td>266677500</td>\n",
              "    </tr>\n",
              "    <tr>\n",
              "      <th>2020-01-06</th>\n",
              "      <td>29.364668</td>\n",
              "      <td>30.104000</td>\n",
              "      <td>29.333332</td>\n",
              "      <td>30.102667</td>\n",
              "      <td>30.102667</td>\n",
              "      <td>151995000</td>\n",
              "    </tr>\n",
              "    <tr>\n",
              "      <th>2020-01-07</th>\n",
              "      <td>30.760000</td>\n",
              "      <td>31.441999</td>\n",
              "      <td>30.224001</td>\n",
              "      <td>31.270666</td>\n",
              "      <td>31.270666</td>\n",
              "      <td>268231500</td>\n",
              "    </tr>\n",
              "    <tr>\n",
              "      <th>2020-01-08</th>\n",
              "      <td>31.580000</td>\n",
              "      <td>33.232666</td>\n",
              "      <td>31.215334</td>\n",
              "      <td>32.809334</td>\n",
              "      <td>32.809334</td>\n",
              "      <td>467164500</td>\n",
              "    </tr>\n",
              "    <tr>\n",
              "      <th>...</th>\n",
              "      <td>...</td>\n",
              "      <td>...</td>\n",
              "      <td>...</td>\n",
              "      <td>...</td>\n",
              "      <td>...</td>\n",
              "      <td>...</td>\n",
              "    </tr>\n",
              "    <tr>\n",
              "      <th>2020-12-24</th>\n",
              "      <td>214.330002</td>\n",
              "      <td>222.029999</td>\n",
              "      <td>213.666672</td>\n",
              "      <td>220.589996</td>\n",
              "      <td>220.589996</td>\n",
              "      <td>68596800</td>\n",
              "    </tr>\n",
              "    <tr>\n",
              "      <th>2020-12-28</th>\n",
              "      <td>224.836670</td>\n",
              "      <td>227.133331</td>\n",
              "      <td>220.266663</td>\n",
              "      <td>221.229996</td>\n",
              "      <td>221.229996</td>\n",
              "      <td>96835800</td>\n",
              "    </tr>\n",
              "    <tr>\n",
              "      <th>2020-12-29</th>\n",
              "      <td>220.333328</td>\n",
              "      <td>223.300003</td>\n",
              "      <td>218.333328</td>\n",
              "      <td>221.996674</td>\n",
              "      <td>221.996674</td>\n",
              "      <td>68732400</td>\n",
              "    </tr>\n",
              "    <tr>\n",
              "      <th>2020-12-30</th>\n",
              "      <td>224.000000</td>\n",
              "      <td>232.199997</td>\n",
              "      <td>222.786667</td>\n",
              "      <td>231.593338</td>\n",
              "      <td>231.593338</td>\n",
              "      <td>128538000</td>\n",
              "    </tr>\n",
              "    <tr>\n",
              "      <th>2020-12-31</th>\n",
              "      <td>233.330002</td>\n",
              "      <td>239.573334</td>\n",
              "      <td>230.373337</td>\n",
              "      <td>235.223328</td>\n",
              "      <td>235.223328</td>\n",
              "      <td>148949700</td>\n",
              "    </tr>\n",
              "  </tbody>\n",
              "</table>\n",
              "<p>253 rows × 6 columns</p>\n",
              "</div>\n",
              "      <button class=\"colab-df-convert\" onclick=\"convertToInteractive('df-0578166e-5b26-42bc-8204-11db9ffa5394')\"\n",
              "              title=\"Convert this dataframe to an interactive table.\"\n",
              "              style=\"display:none;\">\n",
              "        \n",
              "  <svg xmlns=\"http://www.w3.org/2000/svg\" height=\"24px\"viewBox=\"0 0 24 24\"\n",
              "       width=\"24px\">\n",
              "    <path d=\"M0 0h24v24H0V0z\" fill=\"none\"/>\n",
              "    <path d=\"M18.56 5.44l.94 2.06.94-2.06 2.06-.94-2.06-.94-.94-2.06-.94 2.06-2.06.94zm-11 1L8.5 8.5l.94-2.06 2.06-.94-2.06-.94L8.5 2.5l-.94 2.06-2.06.94zm10 10l.94 2.06.94-2.06 2.06-.94-2.06-.94-.94-2.06-.94 2.06-2.06.94z\"/><path d=\"M17.41 7.96l-1.37-1.37c-.4-.4-.92-.59-1.43-.59-.52 0-1.04.2-1.43.59L10.3 9.45l-7.72 7.72c-.78.78-.78 2.05 0 2.83L4 21.41c.39.39.9.59 1.41.59.51 0 1.02-.2 1.41-.59l7.78-7.78 2.81-2.81c.8-.78.8-2.07 0-2.86zM5.41 20L4 18.59l7.72-7.72 1.47 1.35L5.41 20z\"/>\n",
              "  </svg>\n",
              "      </button>\n",
              "      \n",
              "  <style>\n",
              "    .colab-df-container {\n",
              "      display:flex;\n",
              "      flex-wrap:wrap;\n",
              "      gap: 12px;\n",
              "    }\n",
              "\n",
              "    .colab-df-convert {\n",
              "      background-color: #E8F0FE;\n",
              "      border: none;\n",
              "      border-radius: 50%;\n",
              "      cursor: pointer;\n",
              "      display: none;\n",
              "      fill: #1967D2;\n",
              "      height: 32px;\n",
              "      padding: 0 0 0 0;\n",
              "      width: 32px;\n",
              "    }\n",
              "\n",
              "    .colab-df-convert:hover {\n",
              "      background-color: #E2EBFA;\n",
              "      box-shadow: 0px 1px 2px rgba(60, 64, 67, 0.3), 0px 1px 3px 1px rgba(60, 64, 67, 0.15);\n",
              "      fill: #174EA6;\n",
              "    }\n",
              "\n",
              "    [theme=dark] .colab-df-convert {\n",
              "      background-color: #3B4455;\n",
              "      fill: #D2E3FC;\n",
              "    }\n",
              "\n",
              "    [theme=dark] .colab-df-convert:hover {\n",
              "      background-color: #434B5C;\n",
              "      box-shadow: 0px 1px 3px 1px rgba(0, 0, 0, 0.15);\n",
              "      filter: drop-shadow(0px 1px 2px rgba(0, 0, 0, 0.3));\n",
              "      fill: #FFFFFF;\n",
              "    }\n",
              "  </style>\n",
              "\n",
              "      <script>\n",
              "        const buttonEl =\n",
              "          document.querySelector('#df-0578166e-5b26-42bc-8204-11db9ffa5394 button.colab-df-convert');\n",
              "        buttonEl.style.display =\n",
              "          google.colab.kernel.accessAllowed ? 'block' : 'none';\n",
              "\n",
              "        async function convertToInteractive(key) {\n",
              "          const element = document.querySelector('#df-0578166e-5b26-42bc-8204-11db9ffa5394');\n",
              "          const dataTable =\n",
              "            await google.colab.kernel.invokeFunction('convertToInteractive',\n",
              "                                                     [key], {});\n",
              "          if (!dataTable) return;\n",
              "\n",
              "          const docLinkHtml = 'Like what you see? Visit the ' +\n",
              "            '<a target=\"_blank\" href=https://colab.research.google.com/notebooks/data_table.ipynb>data table notebook</a>'\n",
              "            + ' to learn more about interactive tables.';\n",
              "          element.innerHTML = '';\n",
              "          dataTable['output_type'] = 'display_data';\n",
              "          await google.colab.output.renderOutput(dataTable, element);\n",
              "          const docLink = document.createElement('div');\n",
              "          docLink.innerHTML = docLinkHtml;\n",
              "          element.appendChild(docLink);\n",
              "        }\n",
              "      </script>\n",
              "    </div>\n",
              "  </div>\n",
              "  "
            ]
          },
          "metadata": {},
          "execution_count": 82
        }
      ]
    },
    {
      "cell_type": "code",
      "source": [
        "df.loc['2020']"
      ],
      "metadata": {
        "colab": {
          "base_uri": "https://localhost:8080/",
          "height": 455
        },
        "id": "BdBoOaG65b9z",
        "outputId": "2e8d43da-3fa6-4a95-9190-55c5eb2895be"
      },
      "execution_count": 83,
      "outputs": [
        {
          "output_type": "execute_result",
          "data": {
            "text/plain": [
              "                  Open        High         Low       Close   Adj Close  \\\n",
              "Date                                                                     \n",
              "2020-01-02   28.299999   28.713333   28.114000   28.684000   28.684000   \n",
              "2020-01-03   29.366667   30.266666   29.128000   29.534000   29.534000   \n",
              "2020-01-06   29.364668   30.104000   29.333332   30.102667   30.102667   \n",
              "2020-01-07   30.760000   31.441999   30.224001   31.270666   31.270666   \n",
              "2020-01-08   31.580000   33.232666   31.215334   32.809334   32.809334   \n",
              "...                ...         ...         ...         ...         ...   \n",
              "2020-12-24  214.330002  222.029999  213.666672  220.589996  220.589996   \n",
              "2020-12-28  224.836670  227.133331  220.266663  221.229996  221.229996   \n",
              "2020-12-29  220.333328  223.300003  218.333328  221.996674  221.996674   \n",
              "2020-12-30  224.000000  232.199997  222.786667  231.593338  231.593338   \n",
              "2020-12-31  233.330002  239.573334  230.373337  235.223328  235.223328   \n",
              "\n",
              "               Volume  \n",
              "Date                   \n",
              "2020-01-02  142981500  \n",
              "2020-01-03  266677500  \n",
              "2020-01-06  151995000  \n",
              "2020-01-07  268231500  \n",
              "2020-01-08  467164500  \n",
              "...               ...  \n",
              "2020-12-24   68596800  \n",
              "2020-12-28   96835800  \n",
              "2020-12-29   68732400  \n",
              "2020-12-30  128538000  \n",
              "2020-12-31  148949700  \n",
              "\n",
              "[253 rows x 6 columns]"
            ],
            "text/html": [
              "\n",
              "  <div id=\"df-2b001cda-9463-42d0-9d0a-5ce825255ffc\">\n",
              "    <div class=\"colab-df-container\">\n",
              "      <div>\n",
              "<style scoped>\n",
              "    .dataframe tbody tr th:only-of-type {\n",
              "        vertical-align: middle;\n",
              "    }\n",
              "\n",
              "    .dataframe tbody tr th {\n",
              "        vertical-align: top;\n",
              "    }\n",
              "\n",
              "    .dataframe thead th {\n",
              "        text-align: right;\n",
              "    }\n",
              "</style>\n",
              "<table border=\"1\" class=\"dataframe\">\n",
              "  <thead>\n",
              "    <tr style=\"text-align: right;\">\n",
              "      <th></th>\n",
              "      <th>Open</th>\n",
              "      <th>High</th>\n",
              "      <th>Low</th>\n",
              "      <th>Close</th>\n",
              "      <th>Adj Close</th>\n",
              "      <th>Volume</th>\n",
              "    </tr>\n",
              "    <tr>\n",
              "      <th>Date</th>\n",
              "      <th></th>\n",
              "      <th></th>\n",
              "      <th></th>\n",
              "      <th></th>\n",
              "      <th></th>\n",
              "      <th></th>\n",
              "    </tr>\n",
              "  </thead>\n",
              "  <tbody>\n",
              "    <tr>\n",
              "      <th>2020-01-02</th>\n",
              "      <td>28.299999</td>\n",
              "      <td>28.713333</td>\n",
              "      <td>28.114000</td>\n",
              "      <td>28.684000</td>\n",
              "      <td>28.684000</td>\n",
              "      <td>142981500</td>\n",
              "    </tr>\n",
              "    <tr>\n",
              "      <th>2020-01-03</th>\n",
              "      <td>29.366667</td>\n",
              "      <td>30.266666</td>\n",
              "      <td>29.128000</td>\n",
              "      <td>29.534000</td>\n",
              "      <td>29.534000</td>\n",
              "      <td>266677500</td>\n",
              "    </tr>\n",
              "    <tr>\n",
              "      <th>2020-01-06</th>\n",
              "      <td>29.364668</td>\n",
              "      <td>30.104000</td>\n",
              "      <td>29.333332</td>\n",
              "      <td>30.102667</td>\n",
              "      <td>30.102667</td>\n",
              "      <td>151995000</td>\n",
              "    </tr>\n",
              "    <tr>\n",
              "      <th>2020-01-07</th>\n",
              "      <td>30.760000</td>\n",
              "      <td>31.441999</td>\n",
              "      <td>30.224001</td>\n",
              "      <td>31.270666</td>\n",
              "      <td>31.270666</td>\n",
              "      <td>268231500</td>\n",
              "    </tr>\n",
              "    <tr>\n",
              "      <th>2020-01-08</th>\n",
              "      <td>31.580000</td>\n",
              "      <td>33.232666</td>\n",
              "      <td>31.215334</td>\n",
              "      <td>32.809334</td>\n",
              "      <td>32.809334</td>\n",
              "      <td>467164500</td>\n",
              "    </tr>\n",
              "    <tr>\n",
              "      <th>...</th>\n",
              "      <td>...</td>\n",
              "      <td>...</td>\n",
              "      <td>...</td>\n",
              "      <td>...</td>\n",
              "      <td>...</td>\n",
              "      <td>...</td>\n",
              "    </tr>\n",
              "    <tr>\n",
              "      <th>2020-12-24</th>\n",
              "      <td>214.330002</td>\n",
              "      <td>222.029999</td>\n",
              "      <td>213.666672</td>\n",
              "      <td>220.589996</td>\n",
              "      <td>220.589996</td>\n",
              "      <td>68596800</td>\n",
              "    </tr>\n",
              "    <tr>\n",
              "      <th>2020-12-28</th>\n",
              "      <td>224.836670</td>\n",
              "      <td>227.133331</td>\n",
              "      <td>220.266663</td>\n",
              "      <td>221.229996</td>\n",
              "      <td>221.229996</td>\n",
              "      <td>96835800</td>\n",
              "    </tr>\n",
              "    <tr>\n",
              "      <th>2020-12-29</th>\n",
              "      <td>220.333328</td>\n",
              "      <td>223.300003</td>\n",
              "      <td>218.333328</td>\n",
              "      <td>221.996674</td>\n",
              "      <td>221.996674</td>\n",
              "      <td>68732400</td>\n",
              "    </tr>\n",
              "    <tr>\n",
              "      <th>2020-12-30</th>\n",
              "      <td>224.000000</td>\n",
              "      <td>232.199997</td>\n",
              "      <td>222.786667</td>\n",
              "      <td>231.593338</td>\n",
              "      <td>231.593338</td>\n",
              "      <td>128538000</td>\n",
              "    </tr>\n",
              "    <tr>\n",
              "      <th>2020-12-31</th>\n",
              "      <td>233.330002</td>\n",
              "      <td>239.573334</td>\n",
              "      <td>230.373337</td>\n",
              "      <td>235.223328</td>\n",
              "      <td>235.223328</td>\n",
              "      <td>148949700</td>\n",
              "    </tr>\n",
              "  </tbody>\n",
              "</table>\n",
              "<p>253 rows × 6 columns</p>\n",
              "</div>\n",
              "      <button class=\"colab-df-convert\" onclick=\"convertToInteractive('df-2b001cda-9463-42d0-9d0a-5ce825255ffc')\"\n",
              "              title=\"Convert this dataframe to an interactive table.\"\n",
              "              style=\"display:none;\">\n",
              "        \n",
              "  <svg xmlns=\"http://www.w3.org/2000/svg\" height=\"24px\"viewBox=\"0 0 24 24\"\n",
              "       width=\"24px\">\n",
              "    <path d=\"M0 0h24v24H0V0z\" fill=\"none\"/>\n",
              "    <path d=\"M18.56 5.44l.94 2.06.94-2.06 2.06-.94-2.06-.94-.94-2.06-.94 2.06-2.06.94zm-11 1L8.5 8.5l.94-2.06 2.06-.94-2.06-.94L8.5 2.5l-.94 2.06-2.06.94zm10 10l.94 2.06.94-2.06 2.06-.94-2.06-.94-.94-2.06-.94 2.06-2.06.94z\"/><path d=\"M17.41 7.96l-1.37-1.37c-.4-.4-.92-.59-1.43-.59-.52 0-1.04.2-1.43.59L10.3 9.45l-7.72 7.72c-.78.78-.78 2.05 0 2.83L4 21.41c.39.39.9.59 1.41.59.51 0 1.02-.2 1.41-.59l7.78-7.78 2.81-2.81c.8-.78.8-2.07 0-2.86zM5.41 20L4 18.59l7.72-7.72 1.47 1.35L5.41 20z\"/>\n",
              "  </svg>\n",
              "      </button>\n",
              "      \n",
              "  <style>\n",
              "    .colab-df-container {\n",
              "      display:flex;\n",
              "      flex-wrap:wrap;\n",
              "      gap: 12px;\n",
              "    }\n",
              "\n",
              "    .colab-df-convert {\n",
              "      background-color: #E8F0FE;\n",
              "      border: none;\n",
              "      border-radius: 50%;\n",
              "      cursor: pointer;\n",
              "      display: none;\n",
              "      fill: #1967D2;\n",
              "      height: 32px;\n",
              "      padding: 0 0 0 0;\n",
              "      width: 32px;\n",
              "    }\n",
              "\n",
              "    .colab-df-convert:hover {\n",
              "      background-color: #E2EBFA;\n",
              "      box-shadow: 0px 1px 2px rgba(60, 64, 67, 0.3), 0px 1px 3px 1px rgba(60, 64, 67, 0.15);\n",
              "      fill: #174EA6;\n",
              "    }\n",
              "\n",
              "    [theme=dark] .colab-df-convert {\n",
              "      background-color: #3B4455;\n",
              "      fill: #D2E3FC;\n",
              "    }\n",
              "\n",
              "    [theme=dark] .colab-df-convert:hover {\n",
              "      background-color: #434B5C;\n",
              "      box-shadow: 0px 1px 3px 1px rgba(0, 0, 0, 0.15);\n",
              "      filter: drop-shadow(0px 1px 2px rgba(0, 0, 0, 0.3));\n",
              "      fill: #FFFFFF;\n",
              "    }\n",
              "  </style>\n",
              "\n",
              "      <script>\n",
              "        const buttonEl =\n",
              "          document.querySelector('#df-2b001cda-9463-42d0-9d0a-5ce825255ffc button.colab-df-convert');\n",
              "        buttonEl.style.display =\n",
              "          google.colab.kernel.accessAllowed ? 'block' : 'none';\n",
              "\n",
              "        async function convertToInteractive(key) {\n",
              "          const element = document.querySelector('#df-2b001cda-9463-42d0-9d0a-5ce825255ffc');\n",
              "          const dataTable =\n",
              "            await google.colab.kernel.invokeFunction('convertToInteractive',\n",
              "                                                     [key], {});\n",
              "          if (!dataTable) return;\n",
              "\n",
              "          const docLinkHtml = 'Like what you see? Visit the ' +\n",
              "            '<a target=\"_blank\" href=https://colab.research.google.com/notebooks/data_table.ipynb>data table notebook</a>'\n",
              "            + ' to learn more about interactive tables.';\n",
              "          element.innerHTML = '';\n",
              "          dataTable['output_type'] = 'display_data';\n",
              "          await google.colab.output.renderOutput(dataTable, element);\n",
              "          const docLink = document.createElement('div');\n",
              "          docLink.innerHTML = docLinkHtml;\n",
              "          element.appendChild(docLink);\n",
              "        }\n",
              "      </script>\n",
              "    </div>\n",
              "  </div>\n",
              "  "
            ]
          },
          "metadata": {},
          "execution_count": 83
        }
      ]
    },
    {
      "cell_type": "code",
      "source": [
        "df.loc['2020'].Close[-1]/df.loc['2020'].Close[0]"
      ],
      "metadata": {
        "colab": {
          "base_uri": "https://localhost:8080/"
        },
        "id": "mB_CP2jb5nqC",
        "outputId": "1a8d27fd-6df8-412a-a241-b0dca71257e4"
      },
      "execution_count": 85,
      "outputs": [
        {
          "output_type": "execute_result",
          "data": {
            "text/plain": [
              "8.200506467423963"
            ]
          },
          "metadata": {},
          "execution_count": 85
        }
      ]
    },
    {
      "cell_type": "code",
      "source": [
        "df.loc['2020'].Close.plot()"
      ],
      "metadata": {
        "colab": {
          "base_uri": "https://localhost:8080/",
          "height": 450
        },
        "id": "7qJreMYK6UGX",
        "outputId": "93f1fe82-cbba-400b-e2d2-c591b29cd893"
      },
      "execution_count": 86,
      "outputs": [
        {
          "output_type": "execute_result",
          "data": {
            "text/plain": [
              "<Axes: xlabel='Date'>"
            ]
          },
          "metadata": {},
          "execution_count": 86
        },
        {
          "output_type": "display_data",
          "data": {
            "text/plain": [
              "<Figure size 640x480 with 1 Axes>"
            ],
            "image/png": "[encoded data removed]"
          },
          "metadata": {}
        }
      ]
    },
    {
      "cell_type": "code",
      "source": [
        "df.loc['2020':]"
      ],
      "metadata": {
        "colab": {
          "base_uri": "https://localhost:8080/",
          "height": 455
        },
        "id": "4si_VOE06mie",
        "outputId": "375b10c7-98ef-463c-c551-952f413747ba"
      },
      "execution_count": 87,
      "outputs": [
        {
          "output_type": "execute_result",
          "data": {
            "text/plain": [
              "                  Open        High         Low       Close   Adj Close  \\\n",
              "Date                                                                     \n",
              "2020-01-02   28.299999   28.713333   28.114000   28.684000   28.684000   \n",
              "2020-01-03   29.366667   30.266666   29.128000   29.534000   29.534000   \n",
              "2020-01-06   29.364668   30.104000   29.333332   30.102667   30.102667   \n",
              "2020-01-07   30.760000   31.441999   30.224001   31.270666   31.270666   \n",
              "2020-01-08   31.580000   33.232666   31.215334   32.809334   32.809334   \n",
              "...                ...         ...         ...         ...         ...   \n",
              "2023-05-05  163.970001  170.789993  163.509995  170.059998  170.059998   \n",
              "2023-05-08  173.720001  173.800003  169.190002  171.789993  171.789993   \n",
              "2023-05-09  168.949997  169.820007  166.559998  169.149994  169.149994   \n",
              "2023-05-10  172.550003  174.429993  166.679993  168.539993  168.539993   \n",
              "2023-05-11  168.699997  173.570007  166.789993  172.080002  172.080002   \n",
              "\n",
              "               Volume  \n",
              "Date                   \n",
              "2020-01-02  142981500  \n",
              "2020-01-03  266677500  \n",
              "2020-01-06  151995000  \n",
              "2020-01-07  268231500  \n",
              "2020-01-08  467164500  \n",
              "...               ...  \n",
              "2023-05-05  107440900  \n",
              "2023-05-08  112249400  \n",
              "2023-05-09   88965000  \n",
              "2023-05-10  119840700  \n",
              "2023-05-11  102533800  \n",
              "\n",
              "[846 rows x 6 columns]"
            ],
            "text/html": [
              "\n",
              "  <div id=\"df-c46a8026-217c-4ac7-a0a5-e0231bc52a2e\">\n",
              "    <div class=\"colab-df-container\">\n",
              "      <div>\n",
              "<style scoped>\n",
              "    .dataframe tbody tr th:only-of-type {\n",
              "        vertical-align: middle;\n",
              "    }\n",
              "\n",
              "    .dataframe tbody tr th {\n",
              "        vertical-align: top;\n",
              "    }\n",
              "\n",
              "    .dataframe thead th {\n",
              "        text-align: right;\n",
              "    }\n",
              "</style>\n",
              "<table border=\"1\" class=\"dataframe\">\n",
              "  <thead>\n",
              "    <tr style=\"text-align: right;\">\n",
              "      <th></th>\n",
              "      <th>Open</th>\n",
              "      <th>High</th>\n",
              "      <th>Low</th>\n",
              "      <th>Close</th>\n",
              "      <th>Adj Close</th>\n",
              "      <th>Volume</th>\n",
              "    </tr>\n",
              "    <tr>\n",
              "      <th>Date</th>\n",
              "      <th></th>\n",
              "      <th></th>\n",
              "      <th></th>\n",
              "      <th></th>\n",
              "      <th></th>\n",
              "      <th></th>\n",
              "    </tr>\n",
              "  </thead>\n",
              "  <tbody>\n",
              "    <tr>\n",
              "      <th>2020-01-02</th>\n",
              "      <td>28.299999</td>\n",
              "      <td>28.713333</td>\n",
              "      <td>28.114000</td>\n",
              "      <td>28.684000</td>\n",
              "      <td>28.684000</td>\n",
              "      <td>142981500</td>\n",
              "    </tr>\n",
              "    <tr>\n",
              "      <th>2020-01-03</th>\n",
              "      <td>29.366667</td>\n",
              "      <td>30.266666</td>\n",
              "      <td>29.128000</td>\n",
              "      <td>29.534000</td>\n",
              "      <td>29.534000</td>\n",
              "      <td>266677500</td>\n",
              "    </tr>\n",
              "    <tr>\n",
              "      <th>2020-01-06</th>\n",
              "      <td>29.364668</td>\n",
              "      <td>30.104000</td>\n",
              "      <td>29.333332</td>\n",
              "      <td>30.102667</td>\n",
              "      <td>30.102667</td>\n",
              "      <td>151995000</td>\n",
              "    </tr>\n",
              "    <tr>\n",
              "      <th>2020-01-07</th>\n",
              "      <td>30.760000</td>\n",
              "      <td>31.441999</td>\n",
              "      <td>30.224001</td>\n",
              "      <td>31.270666</td>\n",
              "      <td>31.270666</td>\n",
              "      <td>268231500</td>\n",
              "    </tr>\n",
              "    <tr>\n",
              "      <th>2020-01-08</th>\n",
              "      <td>31.580000</td>\n",
              "      <td>33.232666</td>\n",
              "      <td>31.215334</td>\n",
              "      <td>32.809334</td>\n",
              "      <td>32.809334</td>\n",
              "      <td>467164500</td>\n",
              "    </tr>\n",
              "    <tr>\n",
              "      <th>...</th>\n",
              "      <td>...</td>\n",
              "      <td>...</td>\n",
              "      <td>...</td>\n",
              "      <td>...</td>\n",
              "      <td>...</td>\n",
              "      <td>...</td>\n",
              "    </tr>\n",
              "    <tr>\n",
              "      <th>2023-05-05</th>\n",
              "      <td>163.970001</td>\n",
              "      <td>170.789993</td>\n",
              "      <td>163.509995</td>\n",
              "      <td>170.059998</td>\n",
              "      <td>170.059998</td>\n",
              "      <td>107440900</td>\n",
              "    </tr>\n",
              "    <tr>\n",
              "      <th>2023-05-08</th>\n",
              "      <td>173.720001</td>\n",
              "      <td>173.800003</td>\n",
              "      <td>169.190002</td>\n",
              "      <td>171.789993</td>\n",
              "      <td>171.789993</td>\n",
              "      <td>112249400</td>\n",
              "    </tr>\n",
              "    <tr>\n",
              "      <th>2023-05-09</th>\n",
              "      <td>168.949997</td>\n",
              "      <td>169.820007</td>\n",
              "      <td>166.559998</td>\n",
              "      <td>169.149994</td>\n",
              "      <td>169.149994</td>\n",
              "      <td>88965000</td>\n",
              "    </tr>\n",
              "    <tr>\n",
              "      <th>2023-05-10</th>\n",
              "      <td>172.550003</td>\n",
              "      <td>174.429993</td>\n",
              "      <td>166.679993</td>\n",
              "      <td>168.539993</td>\n",
              "      <td>168.539993</td>\n",
              "      <td>119840700</td>\n",
              "    </tr>\n",
              "    <tr>\n",
              "      <th>2023-05-11</th>\n",
              "      <td>168.699997</td>\n",
              "      <td>173.570007</td>\n",
              "      <td>166.789993</td>\n",
              "      <td>172.080002</td>\n",
              "      <td>172.080002</td>\n",
              "      <td>102533800</td>\n",
              "    </tr>\n",
              "  </tbody>\n",
              "</table>\n",
              "<p>846 rows × 6 columns</p>\n",
              "</div>\n",
              "      <button class=\"colab-df-convert\" onclick=\"convertToInteractive('df-c46a8026-217c-4ac7-a0a5-e0231bc52a2e')\"\n",
              "              title=\"Convert this dataframe to an interactive table.\"\n",
              "              style=\"display:none;\">\n",
              "        \n",
              "  <svg xmlns=\"http://www.w3.org/2000/svg\" height=\"24px\"viewBox=\"0 0 24 24\"\n",
              "       width=\"24px\">\n",
              "    <path d=\"M0 0h24v24H0V0z\" fill=\"none\"/>\n",
              "    <path d=\"M18.56 5.44l.94 2.06.94-2.06 2.06-.94-2.06-.94-.94-2.06-.94 2.06-2.06.94zm-11 1L8.5 8.5l.94-2.06 2.06-.94-2.06-.94L8.5 2.5l-.94 2.06-2.06.94zm10 10l.94 2.06.94-2.06 2.06-.94-2.06-.94-.94-2.06-.94 2.06-2.06.94z\"/><path d=\"M17.41 7.96l-1.37-1.37c-.4-.4-.92-.59-1.43-.59-.52 0-1.04.2-1.43.59L10.3 9.45l-7.72 7.72c-.78.78-.78 2.05 0 2.83L4 21.41c.39.39.9.59 1.41.59.51 0 1.02-.2 1.41-.59l7.78-7.78 2.81-2.81c.8-.78.8-2.07 0-2.86zM5.41 20L4 18.59l7.72-7.72 1.47 1.35L5.41 20z\"/>\n",
              "  </svg>\n",
              "      </button>\n",
              "      \n",
              "  <style>\n",
              "    .colab-df-container {\n",
              "      display:flex;\n",
              "      flex-wrap:wrap;\n",
              "      gap: 12px;\n",
              "    }\n",
              "\n",
              "    .colab-df-convert {\n",
              "      background-color: #E8F0FE;\n",
              "      border: none;\n",
              "      border-radius: 50%;\n",
              "      cursor: pointer;\n",
              "      display: none;\n",
              "      fill: #1967D2;\n",
              "      height: 32px;\n",
              "      padding: 0 0 0 0;\n",
              "      width: 32px;\n",
              "    }\n",
              "\n",
              "    .colab-df-convert:hover {\n",
              "      background-color: #E2EBFA;\n",
              "      box-shadow: 0px 1px 2px rgba(60, 64, 67, 0.3), 0px 1px 3px 1px rgba(60, 64, 67, 0.15);\n",
              "      fill: #174EA6;\n",
              "    }\n",
              "\n",
              "    [theme=dark] .colab-df-convert {\n",
              "      background-color: #3B4455;\n",
              "      fill: #D2E3FC;\n",
              "    }\n",
              "\n",
              "    [theme=dark] .colab-df-convert:hover {\n",
              "      background-color: #434B5C;\n",
              "      box-shadow: 0px 1px 3px 1px rgba(0, 0, 0, 0.15);\n",
              "      filter: drop-shadow(0px 1px 2px rgba(0, 0, 0, 0.3));\n",
              "      fill: #FFFFFF;\n",
              "    }\n",
              "  </style>\n",
              "\n",
              "      <script>\n",
              "        const buttonEl =\n",
              "          document.querySelector('#df-c46a8026-217c-4ac7-a0a5-e0231bc52a2e button.colab-df-convert');\n",
              "        buttonEl.style.display =\n",
              "          google.colab.kernel.accessAllowed ? 'block' : 'none';\n",
              "\n",
              "        async function convertToInteractive(key) {\n",
              "          const element = document.querySelector('#df-c46a8026-217c-4ac7-a0a5-e0231bc52a2e');\n",
              "          const dataTable =\n",
              "            await google.colab.kernel.invokeFunction('convertToInteractive',\n",
              "                                                     [key], {});\n",
              "          if (!dataTable) return;\n",
              "\n",
              "          const docLinkHtml = 'Like what you see? Visit the ' +\n",
              "            '<a target=\"_blank\" href=https://colab.research.google.com/notebooks/data_table.ipynb>data table notebook</a>'\n",
              "            + ' to learn more about interactive tables.';\n",
              "          element.innerHTML = '';\n",
              "          dataTable['output_type'] = 'display_data';\n",
              "          await google.colab.output.renderOutput(dataTable, element);\n",
              "          const docLink = document.createElement('div');\n",
              "          docLink.innerHTML = docLinkHtml;\n",
              "          element.appendChild(docLink);\n",
              "        }\n",
              "      </script>\n",
              "    </div>\n",
              "  </div>\n",
              "  "
            ]
          },
          "metadata": {},
          "execution_count": 87
        }
      ]
    },
    {
      "cell_type": "code",
      "source": [
        "df.loc['2020':].Close[-1]/df.loc['2020':].Close[0]"
      ],
      "metadata": {
        "colab": {
          "base_uri": "https://localhost:8080/"
        },
        "id": "Dc6cP4aX7VuT",
        "outputId": "252f3775-1098-4d89-cb5f-07019d493938"
      },
      "execution_count": 88,
      "outputs": [
        {
          "output_type": "execute_result",
          "data": {
            "text/plain": [
              "5.999163357255429"
            ]
          },
          "metadata": {},
          "execution_count": 88
        }
      ]
    },
    {
      "cell_type": "code",
      "source": [
        "for year in range(2010, 2024):\n",
        "  print(year)"
      ],
      "metadata": {
        "colab": {
          "base_uri": "https://localhost:8080/"
        },
        "id": "e1gZX1wH7dnK",
        "outputId": "156d29af-57de-4339-eb5d-94c26d05f4bb"
      },
      "execution_count": 89,
      "outputs": [
        {
          "output_type": "stream",
          "name": "stdout",
          "text": [
            "2010\n",
            "2011\n",
            "2012\n",
            "2013\n",
            "2014\n",
            "2015\n",
            "2016\n",
            "2017\n",
            "2018\n",
            "2019\n",
            "2020\n",
            "2021\n",
            "2022\n",
            "2023\n"
          ]
        }
      ]
    },
    {
      "cell_type": "code",
      "source": [
        "for year in range(2010, 2024):\n",
        "  ret = df.loc[str(year)].Close[-1]/df.loc[str(year)].Close[0]\n",
        "  print(year, \"=>\", ret)"
      ],
      "metadata": {
        "colab": {
          "base_uri": "https://localhost:8080/"
        },
        "id": "uhRutXXG7wbq",
        "outputId": "e1d3f1cd-ea34-4652-9e2a-1f407ae7debd"
      },
      "execution_count": 91,
      "outputs": [
        {
          "output_type": "stream",
          "name": "stdout",
          "text": [
            "2010 => 1.1146919382326346\n",
            "2011 => 1.0728773440103994\n",
            "2012 => 1.2061965396956114\n",
            "2013 => 4.2542431147774264\n",
            "2014 => 1.4817454450219967\n",
            "2015 => 1.0943869435813898\n",
            "2016 => 0.9564925633701342\n",
            "2017 => 1.4348587551998524\n",
            "2018 => 1.038280294369463\n",
            "2019 => 1.3489293766859665\n",
            "2020 => 8.200506467423963\n",
            "2021 => 1.4481001179959765\n",
            "2022 => 0.3080064689288968\n",
            "2023 => 1.5918594288625292\n"
          ]
        }
      ]
    },
    {
      "cell_type": "markdown",
      "source": [
        "#### 使用pandas讀取JSON格式資料\n",
        "\n",
        "https://www.yuantaetfs.com/api/StkWeights?date=&fundid=1066"
      ],
      "metadata": {
        "id": "aGR4RoRs8868"
      }
    },
    {
      "cell_type": "code",
      "source": [
        "url = \"https://www.yuantaetfs.com/api/StkWeights?date=&fundid=1066\""
      ],
      "metadata": {
        "id": "WN7ZVYPG76Rv"
      },
      "execution_count": 92,
      "outputs": []
    },
    {
      "cell_type": "code",
      "source": [
        "tw0050 = pd.read_json(url)"
      ],
      "metadata": {
        "id": "UqRvf3ZU9GxQ"
      },
      "execution_count": 93,
      "outputs": []
    },
    {
      "cell_type": "code",
      "source": [
        "tw0050"
      ],
      "metadata": {
        "colab": {
          "base_uri": "https://localhost:8080/",
          "height": 1000
        },
        "id": "b7eHj8RF9MtW",
        "outputId": "7aa16e9a-0bc4-425e-b7c0-6168f7074cd8"
      },
      "execution_count": 94,
      "outputs": [
        {
          "output_type": "execute_result",
          "data": {
            "text/plain": [
              "    code  ym    name                                         ename  weights  \\\n",
              "0   2330 NaN     台積電   Taiwan Semiconductor Manufacturing Co. Ltd.    45.85   \n",
              "1   2317 NaN      鴻海               HON HAI PRECISION IND. CO. LTD.     4.79   \n",
              "2   2454 NaN     聯發科                                 MediaTek Inc.     3.80   \n",
              "3   2308 NaN     台達電                        DELTA ELECTRONICS INC.     2.45   \n",
              "4   2303 NaN      聯電                 UNITED MICROELECTRONICS CORP.     2.20   \n",
              "5   2412 NaN     中華電                      Chunghwa Telecom Co. Ltd     1.83   \n",
              "6   1303 NaN      南亞                   NAN YA PLASTICS CORPORATION     1.68   \n",
              "7   2881 NaN     富邦金              Fubon Financial Holding Co. Ltd.     1.68   \n",
              "8   2891 NaN     中信金               CTBC FINANCIAL HOLDING CO. LTD.     1.62   \n",
              "9   2882 NaN     國泰金             CATHAY FINANCIAL HOLDING CO. LTD.     1.54   \n",
              "10  2886 NaN     兆豐金           Mega Financial Holding Company Ltd.     1.49   \n",
              "11  2002 NaN      中鋼                       China Steel Corporation     1.38   \n",
              "12  2884 NaN     玉山金           E.SUN FINANCIAL HOLDING COMPANYLTD.     1.37   \n",
              "13  1216 NaN      統一               UNI-PRESIDENT ENTERPRISES CORP.     1.36   \n",
              "14  3711 NaN   日月光投控               ASE Technology Holding Co. Ltd.     1.35   \n",
              "15  1301 NaN      台塑                  Formosa Plastics Corporation     1.33   \n",
              "16  5871 NaN   中租-KY             Chailease Holding Company Limited     1.19   \n",
              "17  2892 NaN     第一金          First  Financial  Holding  Co.  Ltd.     1.10   \n",
              "18  5880 NaN     合庫金  Taiwan Cooperative Financial Holding Co.Ltd.     1.05   \n",
              "19  2885 NaN     元大金              Yuanta Financial Holding Co. Ltd     1.05   \n",
              "20  2382 NaN      廣達                          QUANTA COMPUTER INC.     0.94   \n",
              "21  1101 NaN      台泥                           Taiwan Cement Corp.     0.92   \n",
              "22  3034 NaN      聯詠                NOVATEK MICROELECTRONICS CORP.     0.91   \n",
              "23  1326 NaN      台化         FORMOSA CHEMICALS & FIBRE CORPORATION     0.89   \n",
              "24  2880 NaN     華南金            HUA NAN FINANCIAL HOLDINGS CO.LTD.     0.86   \n",
              "25  2207 NaN     和泰車                           HOTAI MOTOR CO.LTD.     0.82   \n",
              "26  3008 NaN     大立光                       LARGAN Precision Co.Ltd     0.81   \n",
              "27  2887 NaN     台新金            Taishin Financial Holding Co. Ltd.     0.80   \n",
              "28  2357 NaN      華碩                         ASUSTEK COMPUTER INC.     0.77   \n",
              "29  2883 NaN     開發金     CHINA DEVELOPMENT FINANCIAL HOLDING CORP.     0.77   \n",
              "30  3037 NaN      欣興                    Unimicron Technology Corp.     0.75   \n",
              "31  2890 NaN     永豐金   SINOPAC  FINANCIAL HOLDINGS COMPANY LIMITED     0.74   \n",
              "32  2327 NaN      國巨                             YAGEO CORPORATION     0.73   \n",
              "33  3045 NaN     台灣大                      TAIWAN  MOBILE  CO. LTD.     0.68   \n",
              "34  2379 NaN      瑞昱             Realtek Semiconductor Corporation     0.68   \n",
              "35  5876 NaN    上海商銀   THE SHANGHAI COMMERCIAL & SAVINGS BANK LTD.     0.67   \n",
              "36  2912 NaN     統一超             PRESIDENT CHAIN STORE CORPORATION     0.62   \n",
              "37  2395 NaN      研華                            ADVANTECH Co. Ltd.     0.61   \n",
              "38  1605 NaN      華新                      WALSIN LIHWA CORPORATION     0.60   \n",
              "39  1590 NaN  亞德客-KY                    AIRTAC INTERNATIONAL GROUP     0.60   \n",
              "40  2603 NaN      長榮          EVERGREEN MARINE CORP. (TAIWAN) LTD.     0.58   \n",
              "41  6415 NaN  矽力*-KY                                 Silergy Corp.     0.55   \n",
              "42  1402 NaN     遠東新           Far Eastern New Century Corporation     0.48   \n",
              "43  4904 NaN      遠傳       Far EasTone Telecommunications Co. Ltd.     0.48   \n",
              "44  2801 NaN      彰銀                CHANG HWA COMMERCIAL BANK LTD.     0.46   \n",
              "45  6505 NaN     台塑化                    Formosa Petrochemical Corp     0.45   \n",
              "46  2609 NaN      陽明              Yang Ming Marine Transport Corp.     0.40   \n",
              "47  9910 NaN      豐泰                 FENG TAY ENTERPRISES CO. LTD.     0.33   \n",
              "48  2615 NaN      萬海                            WAN HAI LINES LTD.     0.32   \n",
              "49  2408 NaN     南亞科                  NANYA TECHNOLOGY CORPORATION     0.20   \n",
              "\n",
              "          qty  \n",
              "0   252488811  \n",
              "1   125469999  \n",
              "2    15643367  \n",
              "3    22714494  \n",
              "4   123096474  \n",
              "5    39989970  \n",
              "6    59364085  \n",
              "7    77524470  \n",
              "8   190759203  \n",
              "9    96777673  \n",
              "10  117321915  \n",
              "11  129665725  \n",
              "12  148454060  \n",
              "13   50403942  \n",
              "14   35789822  \n",
              "15   39220350  \n",
              "16   14506625  \n",
              "17  109581734  \n",
              "18  106113412  \n",
              "19  125931614  \n",
              "20   27973818  \n",
              "21   66429481  \n",
              "22    6018047  \n",
              "23   35995566  \n",
              "24  106813490  \n",
              "25    3353691  \n",
              "26    1077936  \n",
              "27  119510799  \n",
              "28    7415289  \n",
              "29  165645037  \n",
              "30   13229448  \n",
              "31  118717043  \n",
              "32    4106246  \n",
              "33   18141630  \n",
              "34    5000900  \n",
              "35   39305493  \n",
              "36    5901679  \n",
              "37    4342519  \n",
              "38   36051534  \n",
              "39    1641219  \n",
              "40   10575708  \n",
              "41    3402786  \n",
              "42   41250194  \n",
              "43   16797161  \n",
              "44   69676612  \n",
              "45   14351555  \n",
              "46   18365510  \n",
              "47    4637280  \n",
              "48   14847691  \n",
              "49    8603071  "
            ],
            "text/html": [
              "\n",
              "  <div id=\"df-9198838c-ca5c-4350-bbb7-97ae196d509c\">\n",
              "    <div class=\"colab-df-container\">\n",
              "      <div>\n",
              "<style scoped>\n",
              "    .dataframe tbody tr th:only-of-type {\n",
              "        vertical-align: middle;\n",
              "    }\n",
              "\n",
              "    .dataframe tbody tr th {\n",
              "        vertical-align: top;\n",
              "    }\n",
              "\n",
              "    .dataframe thead th {\n",
              "        text-align: right;\n",
              "    }\n",
              "</style>\n",
              "<table border=\"1\" class=\"dataframe\">\n",
              "  <thead>\n",
              "    <tr style=\"text-align: right;\">\n",
              "      <th></th>\n",
              "      <th>code</th>\n",
              "      <th>ym</th>\n",
              "      <th>name</th>\n",
              "      <th>ename</th>\n",
              "      <th>weights</th>\n",
              "      <th>qty</th>\n",
              "    </tr>\n",
              "  </thead>\n",
              "  <tbody>\n",
              "    <tr>\n",
              "      <th>0</th>\n",
              "      <td>2330</td>\n",
              "      <td>NaN</td>\n",
              "      <td>台積電</td>\n",
              "      <td>Taiwan Semiconductor Manufacturing Co. Ltd.</td>\n",
              "      <td>45.85</td>\n",
              "      <td>252488811</td>\n",
              "    </tr>\n",
              "    <tr>\n",
              "      <th>1</th>\n",
              "      <td>2317</td>\n",
              "      <td>NaN</td>\n",
              "      <td>鴻海</td>\n",
              "      <td>HON HAI PRECISION IND. CO. LTD.</td>\n",
              "      <td>4.79</td>\n",
              "      <td>125469999</td>\n",
              "    </tr>\n",
              "    <tr>\n",
              "      <th>2</th>\n",
              "      <td>2454</td>\n",
              "      <td>NaN</td>\n",
              "      <td>聯發科</td>\n",
              "      <td>MediaTek Inc.</td>\n",
              "      <td>3.80</td>\n",
              "      <td>15643367</td>\n",
              "    </tr>\n",
              "    <tr>\n",
              "      <th>3</th>\n",
              "      <td>2308</td>\n",
              "      <td>NaN</td>\n",
              "      <td>台達電</td>\n",
              "      <td>DELTA ELECTRONICS INC.</td>\n",
              "      <td>2.45</td>\n",
              "      <td>22714494</td>\n",
              "    </tr>\n",
              "    <tr>\n",
              "      <th>4</th>\n",
              "      <td>2303</td>\n",
              "      <td>NaN</td>\n",
              "      <td>聯電</td>\n",
              "      <td>UNITED MICROELECTRONICS CORP.</td>\n",
              "      <td>2.20</td>\n",
              "      <td>123096474</td>\n",
              "    </tr>\n",
              "    <tr>\n",
              "      <th>5</th>\n",
              "      <td>2412</td>\n",
              "      <td>NaN</td>\n",
              "      <td>中華電</td>\n",
              "      <td>Chunghwa Telecom Co. Ltd</td>\n",
              "      <td>1.83</td>\n",
              "      <td>39989970</td>\n",
              "    </tr>\n",
              "    <tr>\n",
              "      <th>6</th>\n",
              "      <td>1303</td>\n",
              "      <td>NaN</td>\n",
              "      <td>南亞</td>\n",
              "      <td>NAN YA PLASTICS CORPORATION</td>\n",
              "      <td>1.68</td>\n",
              "      <td>59364085</td>\n",
              "    </tr>\n",
              "    <tr>\n",
              "      <th>7</th>\n",
              "      <td>2881</td>\n",
              "      <td>NaN</td>\n",
              "      <td>富邦金</td>\n",
              "      <td>Fubon Financial Holding Co. Ltd.</td>\n",
              "      <td>1.68</td>\n",
              "      <td>77524470</td>\n",
              "    </tr>\n",
              "    <tr>\n",
              "      <th>8</th>\n",
              "      <td>2891</td>\n",
              "      <td>NaN</td>\n",
              "      <td>中信金</td>\n",
              "      <td>CTBC FINANCIAL HOLDING CO. LTD.</td>\n",
              "      <td>1.62</td>\n",
              "      <td>190759203</td>\n",
              "    </tr>\n",
              "    <tr>\n",
              "      <th>9</th>\n",
              "      <td>2882</td>\n",
              "      <td>NaN</td>\n",
              "      <td>國泰金</td>\n",
              "      <td>CATHAY FINANCIAL HOLDING CO. LTD.</td>\n",
              "      <td>1.54</td>\n",
              "      <td>96777673</td>\n",
              "    </tr>\n",
              "    <tr>\n",
              "      <th>10</th>\n",
              "      <td>2886</td>\n",
              "      <td>NaN</td>\n",
              "      <td>兆豐金</td>\n",
              "      <td>Mega Financial Holding Company Ltd.</td>\n",
              "      <td>1.49</td>\n",
              "      <td>117321915</td>\n",
              "    </tr>\n",
              "    <tr>\n",
              "      <th>11</th>\n",
              "      <td>2002</td>\n",
              "      <td>NaN</td>\n",
              "      <td>中鋼</td>\n",
              "      <td>China Steel Corporation</td>\n",
              "      <td>1.38</td>\n",
              "      <td>129665725</td>\n",
              "    </tr>\n",
              "    <tr>\n",
              "      <th>12</th>\n",
              "      <td>2884</td>\n",
              "      <td>NaN</td>\n",
              "      <td>玉山金</td>\n",
              "      <td>E.SUN FINANCIAL HOLDING COMPANYLTD.</td>\n",
              "      <td>1.37</td>\n",
              "      <td>148454060</td>\n",
              "    </tr>\n",
              "    <tr>\n",
              "      <th>13</th>\n",
              "      <td>1216</td>\n",
              "      <td>NaN</td>\n",
              "      <td>統一</td>\n",
              "      <td>UNI-PRESIDENT ENTERPRISES CORP.</td>\n",
              "      <td>1.36</td>\n",
              "      <td>50403942</td>\n",
              "    </tr>\n",
              "    <tr>\n",
              "      <th>14</th>\n",
              "      <td>3711</td>\n",
              "      <td>NaN</td>\n",
              "      <td>日月光投控</td>\n",
              "      <td>ASE Technology Holding Co. Ltd.</td>\n",
              "      <td>1.35</td>\n",
              "      <td>35789822</td>\n",
              "    </tr>\n",
              "    <tr>\n",
              "      <th>15</th>\n",
              "      <td>1301</td>\n",
              "      <td>NaN</td>\n",
              "      <td>台塑</td>\n",
              "      <td>Formosa Plastics Corporation</td>\n",
              "      <td>1.33</td>\n",
              "      <td>39220350</td>\n",
              "    </tr>\n",
              "    <tr>\n",
              "      <th>16</th>\n",
              "      <td>5871</td>\n",
              "      <td>NaN</td>\n",
              "      <td>中租-KY</td>\n",
              "      <td>Chailease Holding Company Limited</td>\n",
              "      <td>1.19</td>\n",
              "      <td>14506625</td>\n",
              "    </tr>\n",
              "    <tr>\n",
              "      <th>17</th>\n",
              "      <td>2892</td>\n",
              "      <td>NaN</td>\n",
              "      <td>第一金</td>\n",
              "      <td>First  Financial  Holding  Co.  Ltd.</td>\n",
              "      <td>1.10</td>\n",
              "      <td>109581734</td>\n",
              "    </tr>\n",
              "    <tr>\n",
              "      <th>18</th>\n",
              "      <td>5880</td>\n",
              "      <td>NaN</td>\n",
              "      <td>合庫金</td>\n",
              "      <td>Taiwan Cooperative Financial Holding Co.Ltd.</td>\n",
              "      <td>1.05</td>\n",
              "      <td>106113412</td>\n",
              "    </tr>\n",
              "    <tr>\n",
              "      <th>19</th>\n",
              "      <td>2885</td>\n",
              "      <td>NaN</td>\n",
              "      <td>元大金</td>\n",
              "      <td>Yuanta Financial Holding Co. Ltd</td>\n",
              "      <td>1.05</td>\n",
              "      <td>125931614</td>\n",
              "    </tr>\n",
              "    <tr>\n",
              "      <th>20</th>\n",
              "      <td>2382</td>\n",
              "      <td>NaN</td>\n",
              "      <td>廣達</td>\n",
              "      <td>QUANTA COMPUTER INC.</td>\n",
              "      <td>0.94</td>\n",
              "      <td>27973818</td>\n",
              "    </tr>\n",
              "    <tr>\n",
              "      <th>21</th>\n",
              "      <td>1101</td>\n",
              "      <td>NaN</td>\n",
              "      <td>台泥</td>\n",
              "      <td>Taiwan Cement Corp.</td>\n",
              "      <td>0.92</td>\n",
              "      <td>66429481</td>\n",
              "    </tr>\n",
              "    <tr>\n",
              "      <th>22</th>\n",
              "      <td>3034</td>\n",
              "      <td>NaN</td>\n",
              "      <td>聯詠</td>\n",
              "      <td>NOVATEK MICROELECTRONICS CORP.</td>\n",
              "      <td>0.91</td>\n",
              "      <td>6018047</td>\n",
              "    </tr>\n",
              "    <tr>\n",
              "      <th>23</th>\n",
              "      <td>1326</td>\n",
              "      <td>NaN</td>\n",
              "      <td>台化</td>\n",
              "      <td>FORMOSA CHEMICALS &amp; FIBRE CORPORATION</td>\n",
              "      <td>0.89</td>\n",
              "      <td>35995566</td>\n",
              "    </tr>\n",
              "    <tr>\n",
              "      <th>24</th>\n",
              "      <td>2880</td>\n",
              "      <td>NaN</td>\n",
              "      <td>華南金</td>\n",
              "      <td>HUA NAN FINANCIAL HOLDINGS CO.LTD.</td>\n",
              "      <td>0.86</td>\n",
              "      <td>106813490</td>\n",
              "    </tr>\n",
              "    <tr>\n",
              "      <th>25</th>\n",
              "      <td>2207</td>\n",
              "      <td>NaN</td>\n",
              "      <td>和泰車</td>\n",
              "      <td>HOTAI MOTOR CO.LTD.</td>\n",
              "      <td>0.82</td>\n",
              "      <td>3353691</td>\n",
              "    </tr>\n",
              "    <tr>\n",
              "      <th>26</th>\n",
              "      <td>3008</td>\n",
              "      <td>NaN</td>\n",
              "      <td>大立光</td>\n",
              "      <td>LARGAN Precision Co.Ltd</td>\n",
              "      <td>0.81</td>\n",
              "      <td>1077936</td>\n",
              "    </tr>\n",
              "    <tr>\n",
              "      <th>27</th>\n",
              "      <td>2887</td>\n",
              "      <td>NaN</td>\n",
              "      <td>台新金</td>\n",
              "      <td>Taishin Financial Holding Co. Ltd.</td>\n",
              "      <td>0.80</td>\n",
              "      <td>119510799</td>\n",
              "    </tr>\n",
              "    <tr>\n",
              "      <th>28</th>\n",
              "      <td>2357</td>\n",
              "      <td>NaN</td>\n",
              "      <td>華碩</td>\n",
              "      <td>ASUSTEK COMPUTER INC.</td>\n",
              "      <td>0.77</td>\n",
              "      <td>7415289</td>\n",
              "    </tr>\n",
              "    <tr>\n",
              "      <th>29</th>\n",
              "      <td>2883</td>\n",
              "      <td>NaN</td>\n",
              "      <td>開發金</td>\n",
              "      <td>CHINA DEVELOPMENT FINANCIAL HOLDING CORP.</td>\n",
              "      <td>0.77</td>\n",
              "      <td>165645037</td>\n",
              "    </tr>\n",
              "    <tr>\n",
              "      <th>30</th>\n",
              "      <td>3037</td>\n",
              "      <td>NaN</td>\n",
              "      <td>欣興</td>\n",
              "      <td>Unimicron Technology Corp.</td>\n",
              "      <td>0.75</td>\n",
              "      <td>13229448</td>\n",
              "    </tr>\n",
              "    <tr>\n",
              "      <th>31</th>\n",
              "      <td>2890</td>\n",
              "      <td>NaN</td>\n",
              "      <td>永豐金</td>\n",
              "      <td>SINOPAC  FINANCIAL HOLDINGS COMPANY LIMITED</td>\n",
              "      <td>0.74</td>\n",
              "      <td>118717043</td>\n",
              "    </tr>\n",
              "    <tr>\n",
              "      <th>32</th>\n",
              "      <td>2327</td>\n",
              "      <td>NaN</td>\n",
              "      <td>國巨</td>\n",
              "      <td>YAGEO CORPORATION</td>\n",
              "      <td>0.73</td>\n",
              "      <td>4106246</td>\n",
              "    </tr>\n",
              "    <tr>\n",
              "      <th>33</th>\n",
              "      <td>3045</td>\n",
              "      <td>NaN</td>\n",
              "      <td>台灣大</td>\n",
              "      <td>TAIWAN  MOBILE  CO. LTD.</td>\n",
              "      <td>0.68</td>\n",
              "      <td>18141630</td>\n",
              "    </tr>\n",
              "    <tr>\n",
              "      <th>34</th>\n",
              "      <td>2379</td>\n",
              "      <td>NaN</td>\n",
              "      <td>瑞昱</td>\n",
              "      <td>Realtek Semiconductor Corporation</td>\n",
              "      <td>0.68</td>\n",
              "      <td>5000900</td>\n",
              "    </tr>\n",
              "    <tr>\n",
              "      <th>35</th>\n",
              "      <td>5876</td>\n",
              "      <td>NaN</td>\n",
              "      <td>上海商銀</td>\n",
              "      <td>THE SHANGHAI COMMERCIAL &amp; SAVINGS BANK LTD.</td>\n",
              "      <td>0.67</td>\n",
              "      <td>39305493</td>\n",
              "    </tr>\n",
              "    <tr>\n",
              "      <th>36</th>\n",
              "      <td>2912</td>\n",
              "      <td>NaN</td>\n",
              "      <td>統一超</td>\n",
              "      <td>PRESIDENT CHAIN STORE CORPORATION</td>\n",
              "      <td>0.62</td>\n",
              "      <td>5901679</td>\n",
              "    </tr>\n",
              "    <tr>\n",
              "      <th>37</th>\n",
              "      <td>2395</td>\n",
              "      <td>NaN</td>\n",
              "      <td>研華</td>\n",
              "      <td>ADVANTECH Co. Ltd.</td>\n",
              "      <td>0.61</td>\n",
              "      <td>4342519</td>\n",
              "    </tr>\n",
              "    <tr>\n",
              "      <th>38</th>\n",
              "      <td>1605</td>\n",
              "      <td>NaN</td>\n",
              "      <td>華新</td>\n",
              "      <td>WALSIN LIHWA CORPORATION</td>\n",
              "      <td>0.60</td>\n",
              "      <td>36051534</td>\n",
              "    </tr>\n",
              "    <tr>\n",
              "      <th>39</th>\n",
              "      <td>1590</td>\n",
              "      <td>NaN</td>\n",
              "      <td>亞德客-KY</td>\n",
              "      <td>AIRTAC INTERNATIONAL GROUP</td>\n",
              "      <td>0.60</td>\n",
              "      <td>1641219</td>\n",
              "    </tr>\n",
              "    <tr>\n",
              "      <th>40</th>\n",
              "      <td>2603</td>\n",
              "      <td>NaN</td>\n",
              "      <td>長榮</td>\n",
              "      <td>EVERGREEN MARINE CORP. (TAIWAN) LTD.</td>\n",
              "      <td>0.58</td>\n",
              "      <td>10575708</td>\n",
              "    </tr>\n",
              "    <tr>\n",
              "      <th>41</th>\n",
              "      <td>6415</td>\n",
              "      <td>NaN</td>\n",
              "      <td>矽力*-KY</td>\n",
              "      <td>Silergy Corp.</td>\n",
              "      <td>0.55</td>\n",
              "      <td>3402786</td>\n",
              "    </tr>\n",
              "    <tr>\n",
              "      <th>42</th>\n",
              "      <td>1402</td>\n",
              "      <td>NaN</td>\n",
              "      <td>遠東新</td>\n",
              "      <td>Far Eastern New Century Corporation</td>\n",
              "      <td>0.48</td>\n",
              "      <td>41250194</td>\n",
              "    </tr>\n",
              "    <tr>\n",
              "      <th>43</th>\n",
              "      <td>4904</td>\n",
              "      <td>NaN</td>\n",
              "      <td>遠傳</td>\n",
              "      <td>Far EasTone Telecommunications Co. Ltd.</td>\n",
              "      <td>0.48</td>\n",
              "      <td>16797161</td>\n",
              "    </tr>\n",
              "    <tr>\n",
              "      <th>44</th>\n",
              "      <td>2801</td>\n",
              "      <td>NaN</td>\n",
              "      <td>彰銀</td>\n",
              "      <td>CHANG HWA COMMERCIAL BANK LTD.</td>\n",
              "      <td>0.46</td>\n",
              "      <td>69676612</td>\n",
              "    </tr>\n",
              "    <tr>\n",
              "      <th>45</th>\n",
              "      <td>6505</td>\n",
              "      <td>NaN</td>\n",
              "      <td>台塑化</td>\n",
              "      <td>Formosa Petrochemical Corp</td>\n",
              "      <td>0.45</td>\n",
              "      <td>14351555</td>\n",
              "    </tr>\n",
              "    <tr>\n",
              "      <th>46</th>\n",
              "      <td>2609</td>\n",
              "      <td>NaN</td>\n",
              "      <td>陽明</td>\n",
              "      <td>Yang Ming Marine Transport Corp.</td>\n",
              "      <td>0.40</td>\n",
              "      <td>18365510</td>\n",
              "    </tr>\n",
              "    <tr>\n",
              "      <th>47</th>\n",
              "      <td>9910</td>\n",
              "      <td>NaN</td>\n",
              "      <td>豐泰</td>\n",
              "      <td>FENG TAY ENTERPRISES CO. LTD.</td>\n",
              "      <td>0.33</td>\n",
              "      <td>4637280</td>\n",
              "    </tr>\n",
              "    <tr>\n",
              "      <th>48</th>\n",
              "      <td>2615</td>\n",
              "      <td>NaN</td>\n",
              "      <td>萬海</td>\n",
              "      <td>WAN HAI LINES LTD.</td>\n",
              "      <td>0.32</td>\n",
              "      <td>14847691</td>\n",
              "    </tr>\n",
              "    <tr>\n",
              "      <th>49</th>\n",
              "      <td>2408</td>\n",
              "      <td>NaN</td>\n",
              "      <td>南亞科</td>\n",
              "      <td>NANYA TECHNOLOGY CORPORATION</td>\n",
              "      <td>0.20</td>\n",
              "      <td>8603071</td>\n",
              "    </tr>\n",
              "  </tbody>\n",
              "</table>\n",
              "</div>\n",
              "      <button class=\"colab-df-convert\" onclick=\"convertToInteractive('df-9198838c-ca5c-4350-bbb7-97ae196d509c')\"\n",
              "              title=\"Convert this dataframe to an interactive table.\"\n",
              "              style=\"display:none;\">\n",
              "        \n",
              "  <svg xmlns=\"http://www.w3.org/2000/svg\" height=\"24px\"viewBox=\"0 0 24 24\"\n",
              "       width=\"24px\">\n",
              "    <path d=\"M0 0h24v24H0V0z\" fill=\"none\"/>\n",
              "    <path d=\"M18.56 5.44l.94 2.06.94-2.06 2.06-.94-2.06-.94-.94-2.06-.94 2.06-2.06.94zm-11 1L8.5 8.5l.94-2.06 2.06-.94-2.06-.94L8.5 2.5l-.94 2.06-2.06.94zm10 10l.94 2.06.94-2.06 2.06-.94-2.06-.94-.94-2.06-.94 2.06-2.06.94z\"/><path d=\"M17.41 7.96l-1.37-1.37c-.4-.4-.92-.59-1.43-.59-.52 0-1.04.2-1.43.59L10.3 9.45l-7.72 7.72c-.78.78-.78 2.05 0 2.83L4 21.41c.39.39.9.59 1.41.59.51 0 1.02-.2 1.41-.59l7.78-7.78 2.81-2.81c.8-.78.8-2.07 0-2.86zM5.41 20L4 18.59l7.72-7.72 1.47 1.35L5.41 20z\"/>\n",
              "  </svg>\n",
              "      </button>\n",
              "      \n",
              "  <style>\n",
              "    .colab-df-container {\n",
              "      display:flex;\n",
              "      flex-wrap:wrap;\n",
              "      gap: 12px;\n",
              "    }\n",
              "\n",
              "    .colab-df-convert {\n",
              "      background-color: #E8F0FE;\n",
              "      border: none;\n",
              "      border-radius: 50%;\n",
              "      cursor: pointer;\n",
              "      display: none;\n",
              "      fill: #1967D2;\n",
              "      height: 32px;\n",
              "      padding: 0 0 0 0;\n",
              "      width: 32px;\n",
              "    }\n",
              "\n",
              "    .colab-df-convert:hover {\n",
              "      background-color: #E2EBFA;\n",
              "      box-shadow: 0px 1px 2px rgba(60, 64, 67, 0.3), 0px 1px 3px 1px rgba(60, 64, 67, 0.15);\n",
              "      fill: #174EA6;\n",
              "    }\n",
              "\n",
              "    [theme=dark] .colab-df-convert {\n",
              "      background-color: #3B4455;\n",
              "      fill: #D2E3FC;\n",
              "    }\n",
              "\n",
              "    [theme=dark] .colab-df-convert:hover {\n",
              "      background-color: #434B5C;\n",
              "      box-shadow: 0px 1px 3px 1px rgba(0, 0, 0, 0.15);\n",
              "      filter: drop-shadow(0px 1px 2px rgba(0, 0, 0, 0.3));\n",
              "      fill: #FFFFFF;\n",
              "    }\n",
              "  </style>\n",
              "\n",
              "      <script>\n",
              "        const buttonEl =\n",
              "          document.querySelector('#df-9198838c-ca5c-4350-bbb7-97ae196d509c button.colab-df-convert');\n",
              "        buttonEl.style.display =\n",
              "          google.colab.kernel.accessAllowed ? 'block' : 'none';\n",
              "\n",
              "        async function convertToInteractive(key) {\n",
              "          const element = document.querySelector('#df-9198838c-ca5c-4350-bbb7-97ae196d509c');\n",
              "          const dataTable =\n",
              "            await google.colab.kernel.invokeFunction('convertToInteractive',\n",
              "                                                     [key], {});\n",
              "          if (!dataTable) return;\n",
              "\n",
              "          const docLinkHtml = 'Like what you see? Visit the ' +\n",
              "            '<a target=\"_blank\" href=https://colab.research.google.com/notebooks/data_table.ipynb>data table notebook</a>'\n",
              "            + ' to learn more about interactive tables.';\n",
              "          element.innerHTML = '';\n",
              "          dataTable['output_type'] = 'display_data';\n",
              "          await google.colab.output.renderOutput(dataTable, element);\n",
              "          const docLink = document.createElement('div');\n",
              "          docLink.innerHTML = docLinkHtml;\n",
              "          element.appendChild(docLink);\n",
              "        }\n",
              "      </script>\n",
              "    </div>\n",
              "  </div>\n",
              "  "
            ]
          },
          "metadata": {},
          "execution_count": 94
        }
      ]
    },
    {
      "cell_type": "code",
      "source": [
        "data = {}\n",
        "\n",
        "for code in tw0050.code:\n",
        "  data[code] = yf.download(f\"{code}.tw\")"
      ],
      "metadata": {
        "colab": {
          "base_uri": "https://localhost:8080/"
        },
        "id": "o-kQtLYn9OZW",
        "outputId": "ca96a648-9605-4fed-d693-317c8ec43f16"
      },
      "execution_count": 96,
      "outputs": [
        {
          "output_type": "stream",
          "name": "stdout",
          "text": [
            "[*********************100%***********************]  1 of 1 completed\n",
            "[*********************100%***********************]  1 of 1 completed\n",
            "[*********************100%***********************]  1 of 1 completed\n",
            "[*********************100%***********************]  1 of 1 completed\n",
            "[*********************100%***********************]  1 of 1 completed\n",
            "[*********************100%***********************]  1 of 1 completed\n",
            "[*********************100%***********************]  1 of 1 completed\n",
            "[*********************100%***********************]  1 of 1 completed\n",
            "[*********************100%***********************]  1 of 1 completed\n",
            "[*********************100%***********************]  1 of 1 completed\n",
            "[*********************100%***********************]  1 of 1 completed\n",
            "[*********************100%***********************]  1 of 1 completed\n",
            "[*********************100%***********************]  1 of 1 completed\n",
            "[*********************100%***********************]  1 of 1 completed\n",
            "[*********************100%***********************]  1 of 1 completed\n",
            "[*********************100%***********************]  1 of 1 completed\n",
            "[*********************100%***********************]  1 of 1 completed\n",
            "[*********************100%***********************]  1 of 1 completed\n",
            "[*********************100%***********************]  1 of 1 completed\n",
            "[*********************100%***********************]  1 of 1 completed\n",
            "[*********************100%***********************]  1 of 1 completed\n",
            "[*********************100%***********************]  1 of 1 completed\n",
            "[*********************100%***********************]  1 of 1 completed\n",
            "[*********************100%***********************]  1 of 1 completed\n",
            "[*********************100%***********************]  1 of 1 completed\n",
            "[*********************100%***********************]  1 of 1 completed\n",
            "[*********************100%***********************]  1 of 1 completed\n",
            "[*********************100%***********************]  1 of 1 completed\n",
            "[*********************100%***********************]  1 of 1 completed\n",
            "[*********************100%***********************]  1 of 1 completed\n",
            "[*********************100%***********************]  1 of 1 completed\n",
            "[*********************100%***********************]  1 of 1 completed\n",
            "[*********************100%***********************]  1 of 1 completed\n",
            "[*********************100%***********************]  1 of 1 completed\n",
            "[*********************100%***********************]  1 of 1 completed\n",
            "[*********************100%***********************]  1 of 1 completed\n",
            "[*********************100%***********************]  1 of 1 completed\n",
            "[*********************100%***********************]  1 of 1 completed\n",
            "[*********************100%***********************]  1 of 1 completed\n",
            "[*********************100%***********************]  1 of 1 completed\n",
            "[*********************100%***********************]  1 of 1 completed\n",
            "[*********************100%***********************]  1 of 1 completed\n",
            "[*********************100%***********************]  1 of 1 completed\n",
            "[*********************100%***********************]  1 of 1 completed\n",
            "[*********************100%***********************]  1 of 1 completed\n",
            "[*********************100%***********************]  1 of 1 completed\n",
            "[*********************100%***********************]  1 of 1 completed\n",
            "[*********************100%***********************]  1 of 1 completed\n",
            "[*********************100%***********************]  1 of 1 completed\n",
            "[*********************100%***********************]  1 of 1 completed\n"
          ]
        }
      ]
    },
    {
      "cell_type": "code",
      "source": [
        "for code in tw0050.code:\n",
        "  ret = data[code].loc['2023'].Close[-1]/data[code].loc['2023'].Close[0]\n",
        "  print(code, \"=>\", ret)"
      ],
      "metadata": {
        "colab": {
          "base_uri": "https://localhost:8080/"
        },
        "id": "k41cSUEz98Cn",
        "outputId": "11421bb8-62c5-48cd-fa67-7ca824b358aa"
      },
      "execution_count": 98,
      "outputs": [
        {
          "output_type": "stream",
          "name": "stdout",
          "text": [
            "2330 => 1.0949227373068433\n",
            "2317 => 1.0343087949367302\n",
            "2454 => 1.045031055900621\n",
            "2308 => 1.042031523642732\n",
            "2303 => 1.176328477488035\n",
            "2412 => 1.1061946902654867\n",
            "1303 => 1.0751043311721669\n",
            "2881 => 1.0460992624783547\n",
            "2891 => 1.042889425702053\n",
            "2882 => 1.0675844984074236\n",
            "2886 => 1.124590138920018\n",
            "2002 => 0.9586776859504132\n",
            "2884 => 1.0520833333333333\n",
            "1216 => 1.1201201228722035\n",
            "3711 => 1.088794943566271\n",
            "1301 => 1.0632183908045978\n",
            "5871 => 1.023041474654378\n",
            "2892 => 1.0361217030607652\n",
            "5880 => 1.048262548973386\n",
            "2885 => 1.046189377257268\n",
            "2382 => 1.407767020084355\n",
            "1101 => 1.1283581861809118\n",
            "3034 => 1.2286995515695067\n",
            "1326 => 0.9560283904379987\n",
            "2880 => 0.9647576600210833\n",
            "2207 => 1.1824324324324325\n",
            "3008 => 1.0096385542168675\n",
            "2887 => 1.2086092409902094\n",
            "2357 => 1.0425925925925925\n",
            "2883 => 1.0\n",
            "3037 => 1.3114754098360655\n",
            "2890 => 1.0180722427811164\n",
            "2327 => 1.0655209452201932\n",
            "3045 => 1.0796645529618725\n",
            "2379 => 1.2768166089965398\n",
            "5876 => 1.044067813851739\n",
            "2912 => 1.0628465804066543\n",
            "2395 => 1.1661676646706587\n",
            "1605 => 0.9776357993610646\n",
            "1590 => 1.086021505376344\n",
            "2603 => 0.953125\n",
            "6415 => 0.9558985667034179\n",
            "1402 => 1.0126182240238075\n",
            "4904 => 1.1767372374168574\n",
            "2801 => 1.0376811373061028\n",
            "6505 => 1.054931355926311\n",
            "2609 => 0.9318885787134454\n",
            "9910 => 0.9485294117647058\n",
            "2615 => 0.7474747859097408\n",
            "2408 => 1.2037735705105763\n"
          ]
        }
      ]
    },
    {
      "cell_type": "code",
      "source": [
        "data[2883].loc['2023']"
      ],
      "metadata": {
        "colab": {
          "base_uri": "https://localhost:8080/",
          "height": 455
        },
        "id": "LjEuiweS-pOK",
        "outputId": "cba4d768-c4a2-4dd2-a931-7ed6ea2ab636"
      },
      "execution_count": 100,
      "outputs": [
        {
          "output_type": "execute_result",
          "data": {
            "text/plain": [
              "             Open   High    Low  Close  Adj Close    Volume\n",
              "Date                                                       \n",
              "2023-01-03  12.65  12.70  12.50  12.65      12.65  14660093\n",
              "2023-01-04  12.65  12.70  12.60  12.65      12.65   9564081\n",
              "2023-01-05  12.70  12.90  12.70  12.75      12.75  13998187\n",
              "2023-01-06  12.75  12.90  12.75  12.85      12.85  10232786\n",
              "2023-01-09  13.00  13.05  12.90  13.05      13.05  39886527\n",
              "...           ...    ...    ...    ...        ...       ...\n",
              "2023-05-08  12.80  12.85  12.65  12.80      12.80  99321598\n",
              "2023-05-09  12.75  12.90  12.70  12.85      12.85  34809298\n",
              "2023-05-10  12.85  12.95  12.85  12.95      12.95  22964412\n",
              "2023-05-11  12.90  12.95  12.75  12.80      12.80  25597019\n",
              "2023-05-12  12.80  12.80  12.60  12.65      12.65  38193841\n",
              "\n",
              "[80 rows x 6 columns]"
            ],
            "text/html": [
              "\n",
              "  <div id=\"df-e278402d-4483-4567-9d24-ef688002c732\">\n",
              "    <div class=\"colab-df-container\">\n",
              "      <div>\n",
              "<style scoped>\n",
              "    .dataframe tbody tr th:only-of-type {\n",
              "        vertical-align: middle;\n",
              "    }\n",
              "\n",
              "    .dataframe tbody tr th {\n",
              "        vertical-align: top;\n",
              "    }\n",
              "\n",
              "    .dataframe thead th {\n",
              "        text-align: right;\n",
              "    }\n",
              "</style>\n",
              "<table border=\"1\" class=\"dataframe\">\n",
              "  <thead>\n",
              "    <tr style=\"text-align: right;\">\n",
              "      <th></th>\n",
              "      <th>Open</th>\n",
              "      <th>High</th>\n",
              "      <th>Low</th>\n",
              "      <th>Close</th>\n",
              "      <th>Adj Close</th>\n",
              "      <th>Volume</th>\n",
              "    </tr>\n",
              "    <tr>\n",
              "      <th>Date</th>\n",
              "      <th></th>\n",
              "      <th></th>\n",
              "      <th></th>\n",
              "      <th></th>\n",
              "      <th></th>\n",
              "      <th></th>\n",
              "    </tr>\n",
              "  </thead>\n",
              "  <tbody>\n",
              "    <tr>\n",
              "      <th>2023-01-03</th>\n",
              "      <td>12.65</td>\n",
              "      <td>12.70</td>\n",
              "      <td>12.50</td>\n",
              "      <td>12.65</td>\n",
              "      <td>12.65</td>\n",
              "      <td>14660093</td>\n",
              "    </tr>\n",
              "    <tr>\n",
              "      <th>2023-01-04</th>\n",
              "      <td>12.65</td>\n",
              "      <td>12.70</td>\n",
              "      <td>12.60</td>\n",
              "      <td>12.65</td>\n",
              "      <td>12.65</td>\n",
              "      <td>9564081</td>\n",
              "    </tr>\n",
              "    <tr>\n",
              "      <th>2023-01-05</th>\n",
              "      <td>12.70</td>\n",
              "      <td>12.90</td>\n",
              "      <td>12.70</td>\n",
              "      <td>12.75</td>\n",
              "      <td>12.75</td>\n",
              "      <td>13998187</td>\n",
              "    </tr>\n",
              "    <tr>\n",
              "      <th>2023-01-06</th>\n",
              "      <td>12.75</td>\n",
              "      <td>12.90</td>\n",
              "      <td>12.75</td>\n",
              "      <td>12.85</td>\n",
              "      <td>12.85</td>\n",
              "      <td>10232786</td>\n",
              "    </tr>\n",
              "    <tr>\n",
              "      <th>2023-01-09</th>\n",
              "      <td>13.00</td>\n",
              "      <td>13.05</td>\n",
              "      <td>12.90</td>\n",
              "      <td>13.05</td>\n",
              "      <td>13.05</td>\n",
              "      <td>39886527</td>\n",
              "    </tr>\n",
              "    <tr>\n",
              "      <th>...</th>\n",
              "      <td>...</td>\n",
              "      <td>...</td>\n",
              "      <td>...</td>\n",
              "      <td>...</td>\n",
              "      <td>...</td>\n",
              "      <td>...</td>\n",
              "    </tr>\n",
              "    <tr>\n",
              "      <th>2023-05-08</th>\n",
              "      <td>12.80</td>\n",
              "      <td>12.85</td>\n",
              "      <td>12.65</td>\n",
              "      <td>12.80</td>\n",
              "      <td>12.80</td>\n",
              "      <td>99321598</td>\n",
              "    </tr>\n",
              "    <tr>\n",
              "      <th>2023-05-09</th>\n",
              "      <td>12.75</td>\n",
              "      <td>12.90</td>\n",
              "      <td>12.70</td>\n",
              "      <td>12.85</td>\n",
              "      <td>12.85</td>\n",
              "      <td>34809298</td>\n",
              "    </tr>\n",
              "    <tr>\n",
              "      <th>2023-05-10</th>\n",
              "      <td>12.85</td>\n",
              "      <td>12.95</td>\n",
              "      <td>12.85</td>\n",
              "      <td>12.95</td>\n",
              "      <td>12.95</td>\n",
              "      <td>22964412</td>\n",
              "    </tr>\n",
              "    <tr>\n",
              "      <th>2023-05-11</th>\n",
              "      <td>12.90</td>\n",
              "      <td>12.95</td>\n",
              "      <td>12.75</td>\n",
              "      <td>12.80</td>\n",
              "      <td>12.80</td>\n",
              "      <td>25597019</td>\n",
              "    </tr>\n",
              "    <tr>\n",
              "      <th>2023-05-12</th>\n",
              "      <td>12.80</td>\n",
              "      <td>12.80</td>\n",
              "      <td>12.60</td>\n",
              "      <td>12.65</td>\n",
              "      <td>12.65</td>\n",
              "      <td>38193841</td>\n",
              "    </tr>\n",
              "  </tbody>\n",
              "</table>\n",
              "<p>80 rows × 6 columns</p>\n",
              "</div>\n",
              "      <button class=\"colab-df-convert\" onclick=\"convertToInteractive('df-e278402d-4483-4567-9d24-ef688002c732')\"\n",
              "              title=\"Convert this dataframe to an interactive table.\"\n",
              "              style=\"display:none;\">\n",
              "        \n",
              "  <svg xmlns=\"http://www.w3.org/2000/svg\" height=\"24px\"viewBox=\"0 0 24 24\"\n",
              "       width=\"24px\">\n",
              "    <path d=\"M0 0h24v24H0V0z\" fill=\"none\"/>\n",
              "    <path d=\"M18.56 5.44l.94 2.06.94-2.06 2.06-.94-2.06-.94-.94-2.06-.94 2.06-2.06.94zm-11 1L8.5 8.5l.94-2.06 2.06-.94-2.06-.94L8.5 2.5l-.94 2.06-2.06.94zm10 10l.94 2.06.94-2.06 2.06-.94-2.06-.94-.94-2.06-.94 2.06-2.06.94z\"/><path d=\"M17.41 7.96l-1.37-1.37c-.4-.4-.92-.59-1.43-.59-.52 0-1.04.2-1.43.59L10.3 9.45l-7.72 7.72c-.78.78-.78 2.05 0 2.83L4 21.41c.39.39.9.59 1.41.59.51 0 1.02-.2 1.41-.59l7.78-7.78 2.81-2.81c.8-.78.8-2.07 0-2.86zM5.41 20L4 18.59l7.72-7.72 1.47 1.35L5.41 20z\"/>\n",
              "  </svg>\n",
              "      </button>\n",
              "      \n",
              "  <style>\n",
              "    .colab-df-container {\n",
              "      display:flex;\n",
              "      flex-wrap:wrap;\n",
              "      gap: 12px;\n",
              "    }\n",
              "\n",
              "    .colab-df-convert {\n",
              "      background-color: #E8F0FE;\n",
              "      border: none;\n",
              "      border-radius: 50%;\n",
              "      cursor: pointer;\n",
              "      display: none;\n",
              "      fill: #1967D2;\n",
              "      height: 32px;\n",
              "      padding: 0 0 0 0;\n",
              "      width: 32px;\n",
              "    }\n",
              "\n",
              "    .colab-df-convert:hover {\n",
              "      background-color: #E2EBFA;\n",
              "      box-shadow: 0px 1px 2px rgba(60, 64, 67, 0.3), 0px 1px 3px 1px rgba(60, 64, 67, 0.15);\n",
              "      fill: #174EA6;\n",
              "    }\n",
              "\n",
              "    [theme=dark] .colab-df-convert {\n",
              "      background-color: #3B4455;\n",
              "      fill: #D2E3FC;\n",
              "    }\n",
              "\n",
              "    [theme=dark] .colab-df-convert:hover {\n",
              "      background-color: #434B5C;\n",
              "      box-shadow: 0px 1px 3px 1px rgba(0, 0, 0, 0.15);\n",
              "      filter: drop-shadow(0px 1px 2px rgba(0, 0, 0, 0.3));\n",
              "      fill: #FFFFFF;\n",
              "    }\n",
              "  </style>\n",
              "\n",
              "      <script>\n",
              "        const buttonEl =\n",
              "          document.querySelector('#df-e278402d-4483-4567-9d24-ef688002c732 button.colab-df-convert');\n",
              "        buttonEl.style.display =\n",
              "          google.colab.kernel.accessAllowed ? 'block' : 'none';\n",
              "\n",
              "        async function convertToInteractive(key) {\n",
              "          const element = document.querySelector('#df-e278402d-4483-4567-9d24-ef688002c732');\n",
              "          const dataTable =\n",
              "            await google.colab.kernel.invokeFunction('convertToInteractive',\n",
              "                                                     [key], {});\n",
              "          if (!dataTable) return;\n",
              "\n",
              "          const docLinkHtml = 'Like what you see? Visit the ' +\n",
              "            '<a target=\"_blank\" href=https://colab.research.google.com/notebooks/data_table.ipynb>data table notebook</a>'\n",
              "            + ' to learn more about interactive tables.';\n",
              "          element.innerHTML = '';\n",
              "          dataTable['output_type'] = 'display_data';\n",
              "          await google.colab.output.renderOutput(dataTable, element);\n",
              "          const docLink = document.createElement('div');\n",
              "          docLink.innerHTML = docLinkHtml;\n",
              "          element.appendChild(docLink);\n",
              "        }\n",
              "      </script>\n",
              "    </div>\n",
              "  </div>\n",
              "  "
            ]
          },
          "metadata": {},
          "execution_count": 100
        }
      ]
    },
    {
      "cell_type": "markdown",
      "source": [
        "#### 使用pandas讀取HTML表格\n",
        "\n",
        "https://www.pmi.org.tw/?p=5361"
      ],
      "metadata": {
        "id": "b51Bboj3_zvf"
      }
    },
    {
      "cell_type": "code",
      "source": [
        "url = \"https://www.pmi.org.tw/?p=5361\""
      ],
      "metadata": {
        "id": "goX54nHP-0t3"
      },
      "execution_count": 101,
      "outputs": []
    },
    {
      "cell_type": "code",
      "source": [
        "dfs = pd.read_html(url)"
      ],
      "metadata": {
        "id": "2etoKtMI_7nx"
      },
      "execution_count": 102,
      "outputs": []
    },
    {
      "cell_type": "code",
      "source": [
        "dfs[0]"
      ],
      "metadata": {
        "colab": {
          "base_uri": "https://localhost:8080/",
          "height": 332
        },
        "id": "0FmFkKWkABW5",
        "outputId": "51bcc294-d1c5-43b1-f45a-d3f682b56500"
      },
      "execution_count": 103,
      "outputs": [
        {
          "output_type": "execute_result",
          "data": {
            "text/plain": [
              "    參賽類型               參賽單位名稱     獎項\n",
              "0   大型企業  中華電信股份有限公司臺灣南區電信分公司  標竿企業獎\n",
              "1   大型企業           致伸科技股份有限公司  典範企業獎\n",
              "2   大型企業     香港商聯寶電腦有限公司台灣分公司  典範企業獎\n",
              "3   中小企業         日昇意定科技顧問有限公司  標竿企業獎\n",
              "4   中小企業           湯武生技企業有限公司  典範企業獎\n",
              "5   中小企業  漢翔航空工業股份有限公司民用飛機專案處  典範企業獎\n",
              "6   中小企業         大同永旭能源股份有限公司     優選\n",
              "7   中小企業           協科資訊股份有限公司     優選\n",
              "8  政府及法人                屏東縣政府     優選"
            ],
            "text/html": [
              "\n",
              "  <div id=\"df-2060319b-9f9d-472f-b5d5-2f43b0637376\">\n",
              "    <div class=\"colab-df-container\">\n",
              "      <div>\n",
              "<style scoped>\n",
              "    .dataframe tbody tr th:only-of-type {\n",
              "        vertical-align: middle;\n",
              "    }\n",
              "\n",
              "    .dataframe tbody tr th {\n",
              "        vertical-align: top;\n",
              "    }\n",
              "\n",
              "    .dataframe thead th {\n",
              "        text-align: right;\n",
              "    }\n",
              "</style>\n",
              "<table border=\"1\" class=\"dataframe\">\n",
              "  <thead>\n",
              "    <tr style=\"text-align: right;\">\n",
              "      <th></th>\n",
              "      <th>參賽類型</th>\n",
              "      <th>參賽單位名稱</th>\n",
              "      <th>獎項</th>\n",
              "    </tr>\n",
              "  </thead>\n",
              "  <tbody>\n",
              "    <tr>\n",
              "      <th>0</th>\n",
              "      <td>大型企業</td>\n",
              "      <td>中華電信股份有限公司臺灣南區電信分公司</td>\n",
              "      <td>標竿企業獎</td>\n",
              "    </tr>\n",
              "    <tr>\n",
              "      <th>1</th>\n",
              "      <td>大型企業</td>\n",
              "      <td>致伸科技股份有限公司</td>\n",
              "      <td>典範企業獎</td>\n",
              "    </tr>\n",
              "    <tr>\n",
              "      <th>2</th>\n",
              "      <td>大型企業</td>\n",
              "      <td>香港商聯寶電腦有限公司台灣分公司</td>\n",
              "      <td>典範企業獎</td>\n",
              "    </tr>\n",
              "    <tr>\n",
              "      <th>3</th>\n",
              "      <td>中小企業</td>\n",
              "      <td>日昇意定科技顧問有限公司</td>\n",
              "      <td>標竿企業獎</td>\n",
              "    </tr>\n",
              "    <tr>\n",
              "      <th>4</th>\n",
              "      <td>中小企業</td>\n",
              "      <td>湯武生技企業有限公司</td>\n",
              "      <td>典範企業獎</td>\n",
              "    </tr>\n",
              "    <tr>\n",
              "      <th>5</th>\n",
              "      <td>中小企業</td>\n",
              "      <td>漢翔航空工業股份有限公司民用飛機專案處</td>\n",
              "      <td>典範企業獎</td>\n",
              "    </tr>\n",
              "    <tr>\n",
              "      <th>6</th>\n",
              "      <td>中小企業</td>\n",
              "      <td>大同永旭能源股份有限公司</td>\n",
              "      <td>優選</td>\n",
              "    </tr>\n",
              "    <tr>\n",
              "      <th>7</th>\n",
              "      <td>中小企業</td>\n",
              "      <td>協科資訊股份有限公司</td>\n",
              "      <td>優選</td>\n",
              "    </tr>\n",
              "    <tr>\n",
              "      <th>8</th>\n",
              "      <td>政府及法人</td>\n",
              "      <td>屏東縣政府</td>\n",
              "      <td>優選</td>\n",
              "    </tr>\n",
              "  </tbody>\n",
              "</table>\n",
              "</div>\n",
              "      <button class=\"colab-df-convert\" onclick=\"convertToInteractive('df-2060319b-9f9d-472f-b5d5-2f43b0637376')\"\n",
              "              title=\"Convert this dataframe to an interactive table.\"\n",
              "              style=\"display:none;\">\n",
              "        \n",
              "  <svg xmlns=\"http://www.w3.org/2000/svg\" height=\"24px\"viewBox=\"0 0 24 24\"\n",
              "       width=\"24px\">\n",
              "    <path d=\"M0 0h24v24H0V0z\" fill=\"none\"/>\n",
              "    <path d=\"M18.56 5.44l.94 2.06.94-2.06 2.06-.94-2.06-.94-.94-2.06-.94 2.06-2.06.94zm-11 1L8.5 8.5l.94-2.06 2.06-.94-2.06-.94L8.5 2.5l-.94 2.06-2.06.94zm10 10l.94 2.06.94-2.06 2.06-.94-2.06-.94-.94-2.06-.94 2.06-2.06.94z\"/><path d=\"M17.41 7.96l-1.37-1.37c-.4-.4-.92-.59-1.43-.59-.52 0-1.04.2-1.43.59L10.3 9.45l-7.72 7.72c-.78.78-.78 2.05 0 2.83L4 21.41c.39.39.9.59 1.41.59.51 0 1.02-.2 1.41-.59l7.78-7.78 2.81-2.81c.8-.78.8-2.07 0-2.86zM5.41 20L4 18.59l7.72-7.72 1.47 1.35L5.41 20z\"/>\n",
              "  </svg>\n",
              "      </button>\n",
              "      \n",
              "  <style>\n",
              "    .colab-df-container {\n",
              "      display:flex;\n",
              "      flex-wrap:wrap;\n",
              "      gap: 12px;\n",
              "    }\n",
              "\n",
              "    .colab-df-convert {\n",
              "      background-color: #E8F0FE;\n",
              "      border: none;\n",
              "      border-radius: 50%;\n",
              "      cursor: pointer;\n",
              "      display: none;\n",
              "      fill: #1967D2;\n",
              "      height: 32px;\n",
              "      padding: 0 0 0 0;\n",
              "      width: 32px;\n",
              "    }\n",
              "\n",
              "    .colab-df-convert:hover {\n",
              "      background-color: #E2EBFA;\n",
              "      box-shadow: 0px 1px 2px rgba(60, 64, 67, 0.3), 0px 1px 3px 1px rgba(60, 64, 67, 0.15);\n",
              "      fill: #174EA6;\n",
              "    }\n",
              "\n",
              "    [theme=dark] .colab-df-convert {\n",
              "      background-color: #3B4455;\n",
              "      fill: #D2E3FC;\n",
              "    }\n",
              "\n",
              "    [theme=dark] .colab-df-convert:hover {\n",
              "      background-color: #434B5C;\n",
              "      box-shadow: 0px 1px 3px 1px rgba(0, 0, 0, 0.15);\n",
              "      filter: drop-shadow(0px 1px 2px rgba(0, 0, 0, 0.3));\n",
              "      fill: #FFFFFF;\n",
              "    }\n",
              "  </style>\n",
              "\n",
              "      <script>\n",
              "        const buttonEl =\n",
              "          document.querySelector('#df-2060319b-9f9d-472f-b5d5-2f43b0637376 button.colab-df-convert');\n",
              "        buttonEl.style.display =\n",
              "          google.colab.kernel.accessAllowed ? 'block' : 'none';\n",
              "\n",
              "        async function convertToInteractive(key) {\n",
              "          const element = document.querySelector('#df-2060319b-9f9d-472f-b5d5-2f43b0637376');\n",
              "          const dataTable =\n",
              "            await google.colab.kernel.invokeFunction('convertToInteractive',\n",
              "                                                     [key], {});\n",
              "          if (!dataTable) return;\n",
              "\n",
              "          const docLinkHtml = 'Like what you see? Visit the ' +\n",
              "            '<a target=\"_blank\" href=https://colab.research.google.com/notebooks/data_table.ipynb>data table notebook</a>'\n",
              "            + ' to learn more about interactive tables.';\n",
              "          element.innerHTML = '';\n",
              "          dataTable['output_type'] = 'display_data';\n",
              "          await google.colab.output.renderOutput(dataTable, element);\n",
              "          const docLink = document.createElement('div');\n",
              "          docLink.innerHTML = docLinkHtml;\n",
              "          element.appendChild(docLink);\n",
              "        }\n",
              "      </script>\n",
              "    </div>\n",
              "  </div>\n",
              "  "
            ]
          },
          "metadata": {},
          "execution_count": 103
        }
      ]
    },
    {
      "cell_type": "code",
      "source": [
        "dfs[1]"
      ],
      "metadata": {
        "colab": {
          "base_uri": "https://localhost:8080/",
          "height": 363
        },
        "id": "xHHJbzQ0ADvZ",
        "outputId": "aead9d01-2fea-4b6e-f87d-0649bb4a73b0"
      },
      "execution_count": 104,
      "outputs": [
        {
          "output_type": "execute_result",
          "data": {
            "text/plain": [
              "  專案經理人姓名               參賽單位名稱   獎項\n",
              "0     呂炯明         資拓宏宇國際股份有限公司  十專獎\n",
              "1     李得元               嘉南藥理大學  十專獎\n",
              "2     林慶和  中華電信股份有限公司臺灣南區電信分公司  十專獎\n",
              "3     侯里智     香港商聯寶電腦有限公司台灣分公司  十專獎\n",
              "4     莊信慧           中華開發金融控股公司  十專獎\n",
              "5     郭慶輝       樂高渥克公關廣告活動有限公司  十專獎\n",
              "6     陳協良       台灣世曦工程顧問股份有限公司  十專獎\n",
              "7     黃俊銘     行政院環境保護署環境監測及資訊處  十專獎\n",
              "8     黃遠鵬          麗寶大數據股份有限公司  十專獎\n",
              "9     蔡昆男           致伸科技股份有限公司  十專獎"
            ],
            "text/html": [
              "\n",
              "  <div id=\"df-2f29a381-0a02-4565-9377-9068929eeb21\">\n",
              "    <div class=\"colab-df-container\">\n",
              "      <div>\n",
              "<style scoped>\n",
              "    .dataframe tbody tr th:only-of-type {\n",
              "        vertical-align: middle;\n",
              "    }\n",
              "\n",
              "    .dataframe tbody tr th {\n",
              "        vertical-align: top;\n",
              "    }\n",
              "\n",
              "    .dataframe thead th {\n",
              "        text-align: right;\n",
              "    }\n",
              "</style>\n",
              "<table border=\"1\" class=\"dataframe\">\n",
              "  <thead>\n",
              "    <tr style=\"text-align: right;\">\n",
              "      <th></th>\n",
              "      <th>專案經理人姓名</th>\n",
              "      <th>參賽單位名稱</th>\n",
              "      <th>獎項</th>\n",
              "    </tr>\n",
              "  </thead>\n",
              "  <tbody>\n",
              "    <tr>\n",
              "      <th>0</th>\n",
              "      <td>呂炯明</td>\n",
              "      <td>資拓宏宇國際股份有限公司</td>\n",
              "      <td>十專獎</td>\n",
              "    </tr>\n",
              "    <tr>\n",
              "      <th>1</th>\n",
              "      <td>李得元</td>\n",
              "      <td>嘉南藥理大學</td>\n",
              "      <td>十專獎</td>\n",
              "    </tr>\n",
              "    <tr>\n",
              "      <th>2</th>\n",
              "      <td>林慶和</td>\n",
              "      <td>中華電信股份有限公司臺灣南區電信分公司</td>\n",
              "      <td>十專獎</td>\n",
              "    </tr>\n",
              "    <tr>\n",
              "      <th>3</th>\n",
              "      <td>侯里智</td>\n",
              "      <td>香港商聯寶電腦有限公司台灣分公司</td>\n",
              "      <td>十專獎</td>\n",
              "    </tr>\n",
              "    <tr>\n",
              "      <th>4</th>\n",
              "      <td>莊信慧</td>\n",
              "      <td>中華開發金融控股公司</td>\n",
              "      <td>十專獎</td>\n",
              "    </tr>\n",
              "    <tr>\n",
              "      <th>5</th>\n",
              "      <td>郭慶輝</td>\n",
              "      <td>樂高渥克公關廣告活動有限公司</td>\n",
              "      <td>十專獎</td>\n",
              "    </tr>\n",
              "    <tr>\n",
              "      <th>6</th>\n",
              "      <td>陳協良</td>\n",
              "      <td>台灣世曦工程顧問股份有限公司</td>\n",
              "      <td>十專獎</td>\n",
              "    </tr>\n",
              "    <tr>\n",
              "      <th>7</th>\n",
              "      <td>黃俊銘</td>\n",
              "      <td>行政院環境保護署環境監測及資訊處</td>\n",
              "      <td>十專獎</td>\n",
              "    </tr>\n",
              "    <tr>\n",
              "      <th>8</th>\n",
              "      <td>黃遠鵬</td>\n",
              "      <td>麗寶大數據股份有限公司</td>\n",
              "      <td>十專獎</td>\n",
              "    </tr>\n",
              "    <tr>\n",
              "      <th>9</th>\n",
              "      <td>蔡昆男</td>\n",
              "      <td>致伸科技股份有限公司</td>\n",
              "      <td>十專獎</td>\n",
              "    </tr>\n",
              "  </tbody>\n",
              "</table>\n",
              "</div>\n",
              "      <button class=\"colab-df-convert\" onclick=\"convertToInteractive('df-2f29a381-0a02-4565-9377-9068929eeb21')\"\n",
              "              title=\"Convert this dataframe to an interactive table.\"\n",
              "              style=\"display:none;\">\n",
              "        \n",
              "  <svg xmlns=\"http://www.w3.org/2000/svg\" height=\"24px\"viewBox=\"0 0 24 24\"\n",
              "       width=\"24px\">\n",
              "    <path d=\"M0 0h24v24H0V0z\" fill=\"none\"/>\n",
              "    <path d=\"M18.56 5.44l.94 2.06.94-2.06 2.06-.94-2.06-.94-.94-2.06-.94 2.06-2.06.94zm-11 1L8.5 8.5l.94-2.06 2.06-.94-2.06-.94L8.5 2.5l-.94 2.06-2.06.94zm10 10l.94 2.06.94-2.06 2.06-.94-2.06-.94-.94-2.06-.94 2.06-2.06.94z\"/><path d=\"M17.41 7.96l-1.37-1.37c-.4-.4-.92-.59-1.43-.59-.52 0-1.04.2-1.43.59L10.3 9.45l-7.72 7.72c-.78.78-.78 2.05 0 2.83L4 21.41c.39.39.9.59 1.41.59.51 0 1.02-.2 1.41-.59l7.78-7.78 2.81-2.81c.8-.78.8-2.07 0-2.86zM5.41 20L4 18.59l7.72-7.72 1.47 1.35L5.41 20z\"/>\n",
              "  </svg>\n",
              "      </button>\n",
              "      \n",
              "  <style>\n",
              "    .colab-df-container {\n",
              "      display:flex;\n",
              "      flex-wrap:wrap;\n",
              "      gap: 12px;\n",
              "    }\n",
              "\n",
              "    .colab-df-convert {\n",
              "      background-color: #E8F0FE;\n",
              "      border: none;\n",
              "      border-radius: 50%;\n",
              "      cursor: pointer;\n",
              "      display: none;\n",
              "      fill: #1967D2;\n",
              "      height: 32px;\n",
              "      padding: 0 0 0 0;\n",
              "      width: 32px;\n",
              "    }\n",
              "\n",
              "    .colab-df-convert:hover {\n",
              "      background-color: #E2EBFA;\n",
              "      box-shadow: 0px 1px 2px rgba(60, 64, 67, 0.3), 0px 1px 3px 1px rgba(60, 64, 67, 0.15);\n",
              "      fill: #174EA6;\n",
              "    }\n",
              "\n",
              "    [theme=dark] .colab-df-convert {\n",
              "      background-color: #3B4455;\n",
              "      fill: #D2E3FC;\n",
              "    }\n",
              "\n",
              "    [theme=dark] .colab-df-convert:hover {\n",
              "      background-color: #434B5C;\n",
              "      box-shadow: 0px 1px 3px 1px rgba(0, 0, 0, 0.15);\n",
              "      filter: drop-shadow(0px 1px 2px rgba(0, 0, 0, 0.3));\n",
              "      fill: #FFFFFF;\n",
              "    }\n",
              "  </style>\n",
              "\n",
              "      <script>\n",
              "        const buttonEl =\n",
              "          document.querySelector('#df-2f29a381-0a02-4565-9377-9068929eeb21 button.colab-df-convert');\n",
              "        buttonEl.style.display =\n",
              "          google.colab.kernel.accessAllowed ? 'block' : 'none';\n",
              "\n",
              "        async function convertToInteractive(key) {\n",
              "          const element = document.querySelector('#df-2f29a381-0a02-4565-9377-9068929eeb21');\n",
              "          const dataTable =\n",
              "            await google.colab.kernel.invokeFunction('convertToInteractive',\n",
              "                                                     [key], {});\n",
              "          if (!dataTable) return;\n",
              "\n",
              "          const docLinkHtml = 'Like what you see? Visit the ' +\n",
              "            '<a target=\"_blank\" href=https://colab.research.google.com/notebooks/data_table.ipynb>data table notebook</a>'\n",
              "            + ' to learn more about interactive tables.';\n",
              "          element.innerHTML = '';\n",
              "          dataTable['output_type'] = 'display_data';\n",
              "          await google.colab.output.renderOutput(dataTable, element);\n",
              "          const docLink = document.createElement('div');\n",
              "          docLink.innerHTML = docLinkHtml;\n",
              "          element.appendChild(docLink);\n",
              "        }\n",
              "      </script>\n",
              "    </div>\n",
              "  </div>\n",
              "  "
            ]
          },
          "metadata": {},
          "execution_count": 104
        }
      ]
    },
    {
      "cell_type": "markdown",
      "source": [
        "#### 使用pandas讀取S&P500成分股\n",
        "\n",
        "https://en.wikipedia.org/wiki/List_of_S%26P_500_companies"
      ],
      "metadata": {
        "id": "pNaruVV_AmQx"
      }
    },
    {
      "cell_type": "code",
      "source": [
        "url = \"https://en.wikipedia.org/wiki/List_of_S%26P_500_companies\""
      ],
      "metadata": {
        "id": "SjkkihxEA2vQ"
      },
      "execution_count": 105,
      "outputs": []
    },
    {
      "cell_type": "code",
      "source": [
        "dfs = pd.read_html(url)"
      ],
      "metadata": {
        "id": "Y0VqZ9cTA5KJ"
      },
      "execution_count": 106,
      "outputs": []
    },
    {
      "cell_type": "code",
      "source": [
        "dfs[0].head()"
      ],
      "metadata": {
        "colab": {
          "base_uri": "https://localhost:8080/",
          "height": 354
        },
        "id": "iqyDwC0gBfsD",
        "outputId": "d55c31a2-ae3f-4455-a255-56d2c00acc90"
      },
      "execution_count": 108,
      "outputs": [
        {
          "output_type": "execute_result",
          "data": {
            "text/plain": [
              "  Symbol     Security             GICS Sector               GICS Sub-Industry  \\\n",
              "0    MMM           3M             Industrials        Industrial Conglomerates   \n",
              "1    AOS  A. O. Smith             Industrials               Building Products   \n",
              "2    ABT       Abbott             Health Care           Health Care Equipment   \n",
              "3   ABBV       AbbVie             Health Care                 Pharmaceuticals   \n",
              "4    ACN    Accenture  Information Technology  IT Consulting & Other Services   \n",
              "\n",
              "     Headquarters Location  Date added      CIK      Founded  \n",
              "0    Saint Paul, Minnesota  1957-03-04    66740         1902  \n",
              "1     Milwaukee, Wisconsin  2017-07-26    91142         1916  \n",
              "2  North Chicago, Illinois  1957-03-04     1800         1888  \n",
              "3  North Chicago, Illinois  2012-12-31  1551152  2013 (1888)  \n",
              "4          Dublin, Ireland  2011-07-06  1467373         1989  "
            ],
            "text/html": [
              "\n",
              "  <div id=\"df-e5f61ce5-3b75-43da-92e9-e0f1c3c727f5\">\n",
              "    <div class=\"colab-df-container\">\n",
              "      <div>\n",
              "<style scoped>\n",
              "    .dataframe tbody tr th:only-of-type {\n",
              "        vertical-align: middle;\n",
              "    }\n",
              "\n",
              "    .dataframe tbody tr th {\n",
              "        vertical-align: top;\n",
              "    }\n",
              "\n",
              "    .dataframe thead th {\n",
              "        text-align: right;\n",
              "    }\n",
              "</style>\n",
              "<table border=\"1\" class=\"dataframe\">\n",
              "  <thead>\n",
              "    <tr style=\"text-align: right;\">\n",
              "      <th></th>\n",
              "      <th>Symbol</th>\n",
              "      <th>Security</th>\n",
              "      <th>GICS Sector</th>\n",
              "      <th>GICS Sub-Industry</th>\n",
              "      <th>Headquarters Location</th>\n",
              "      <th>Date added</th>\n",
              "      <th>CIK</th>\n",
              "      <th>Founded</th>\n",
              "    </tr>\n",
              "  </thead>\n",
              "  <tbody>\n",
              "    <tr>\n",
              "      <th>0</th>\n",
              "      <td>MMM</td>\n",
              "      <td>3M</td>\n",
              "      <td>Industrials</td>\n",
              "      <td>Industrial Conglomerates</td>\n",
              "      <td>Saint Paul, Minnesota</td>\n",
              "      <td>1957-03-04</td>\n",
              "      <td>66740</td>\n",
              "      <td>1902</td>\n",
              "    </tr>\n",
              "    <tr>\n",
              "      <th>1</th>\n",
              "      <td>AOS</td>\n",
              "      <td>A. O. Smith</td>\n",
              "      <td>Industrials</td>\n",
              "      <td>Building Products</td>\n",
              "      <td>Milwaukee, Wisconsin</td>\n",
              "      <td>2017-07-26</td>\n",
              "      <td>91142</td>\n",
              "      <td>1916</td>\n",
              "    </tr>\n",
              "    <tr>\n",
              "      <th>2</th>\n",
              "      <td>ABT</td>\n",
              "      <td>Abbott</td>\n",
              "      <td>Health Care</td>\n",
              "      <td>Health Care Equipment</td>\n",
              "      <td>North Chicago, Illinois</td>\n",
              "      <td>1957-03-04</td>\n",
              "      <td>1800</td>\n",
              "      <td>1888</td>\n",
              "    </tr>\n",
              "    <tr>\n",
              "      <th>3</th>\n",
              "      <td>ABBV</td>\n",
              "      <td>AbbVie</td>\n",
              "      <td>Health Care</td>\n",
              "      <td>Pharmaceuticals</td>\n",
              "      <td>North Chicago, Illinois</td>\n",
              "      <td>2012-12-31</td>\n",
              "      <td>1551152</td>\n",
              "      <td>2013 (1888)</td>\n",
              "    </tr>\n",
              "    <tr>\n",
              "      <th>4</th>\n",
              "      <td>ACN</td>\n",
              "      <td>Accenture</td>\n",
              "      <td>Information Technology</td>\n",
              "      <td>IT Consulting &amp; Other Services</td>\n",
              "      <td>Dublin, Ireland</td>\n",
              "      <td>2011-07-06</td>\n",
              "      <td>1467373</td>\n",
              "      <td>1989</td>\n",
              "    </tr>\n",
              "  </tbody>\n",
              "</table>\n",
              "</div>\n",
              "      <button class=\"colab-df-convert\" onclick=\"convertToInteractive('df-e5f61ce5-3b75-43da-92e9-e0f1c3c727f5')\"\n",
              "              title=\"Convert this dataframe to an interactive table.\"\n",
              "              style=\"display:none;\">\n",
              "        \n",
              "  <svg xmlns=\"http://www.w3.org/2000/svg\" height=\"24px\"viewBox=\"0 0 24 24\"\n",
              "       width=\"24px\">\n",
              "    <path d=\"M0 0h24v24H0V0z\" fill=\"none\"/>\n",
              "    <path d=\"M18.56 5.44l.94 2.06.94-2.06 2.06-.94-2.06-.94-.94-2.06-.94 2.06-2.06.94zm-11 1L8.5 8.5l.94-2.06 2.06-.94-2.06-.94L8.5 2.5l-.94 2.06-2.06.94zm10 10l.94 2.06.94-2.06 2.06-.94-2.06-.94-.94-2.06-.94 2.06-2.06.94z\"/><path d=\"M17.41 7.96l-1.37-1.37c-.4-.4-.92-.59-1.43-.59-.52 0-1.04.2-1.43.59L10.3 9.45l-7.72 7.72c-.78.78-.78 2.05 0 2.83L4 21.41c.39.39.9.59 1.41.59.51 0 1.02-.2 1.41-.59l7.78-7.78 2.81-2.81c.8-.78.8-2.07 0-2.86zM5.41 20L4 18.59l7.72-7.72 1.47 1.35L5.41 20z\"/>\n",
              "  </svg>\n",
              "      </button>\n",
              "      \n",
              "  <style>\n",
              "    .colab-df-container {\n",
              "      display:flex;\n",
              "      flex-wrap:wrap;\n",
              "      gap: 12px;\n",
              "    }\n",
              "\n",
              "    .colab-df-convert {\n",
              "      background-color: #E8F0FE;\n",
              "      border: none;\n",
              "      border-radius: 50%;\n",
              "      cursor: pointer;\n",
              "      display: none;\n",
              "      fill: #1967D2;\n",
              "      height: 32px;\n",
              "      padding: 0 0 0 0;\n",
              "      width: 32px;\n",
              "    }\n",
              "\n",
              "    .colab-df-convert:hover {\n",
              "      background-color: #E2EBFA;\n",
              "      box-shadow: 0px 1px 2px rgba(60, 64, 67, 0.3), 0px 1px 3px 1px rgba(60, 64, 67, 0.15);\n",
              "      fill: #174EA6;\n",
              "    }\n",
              "\n",
              "    [theme=dark] .colab-df-convert {\n",
              "      background-color: #3B4455;\n",
              "      fill: #D2E3FC;\n",
              "    }\n",
              "\n",
              "    [theme=dark] .colab-df-convert:hover {\n",
              "      background-color: #434B5C;\n",
              "      box-shadow: 0px 1px 3px 1px rgba(0, 0, 0, 0.15);\n",
              "      filter: drop-shadow(0px 1px 2px rgba(0, 0, 0, 0.3));\n",
              "      fill: #FFFFFF;\n",
              "    }\n",
              "  </style>\n",
              "\n",
              "      <script>\n",
              "        const buttonEl =\n",
              "          document.querySelector('#df-e5f61ce5-3b75-43da-92e9-e0f1c3c727f5 button.colab-df-convert');\n",
              "        buttonEl.style.display =\n",
              "          google.colab.kernel.accessAllowed ? 'block' : 'none';\n",
              "\n",
              "        async function convertToInteractive(key) {\n",
              "          const element = document.querySelector('#df-e5f61ce5-3b75-43da-92e9-e0f1c3c727f5');\n",
              "          const dataTable =\n",
              "            await google.colab.kernel.invokeFunction('convertToInteractive',\n",
              "                                                     [key], {});\n",
              "          if (!dataTable) return;\n",
              "\n",
              "          const docLinkHtml = 'Like what you see? Visit the ' +\n",
              "            '<a target=\"_blank\" href=https://colab.research.google.com/notebooks/data_table.ipynb>data table notebook</a>'\n",
              "            + ' to learn more about interactive tables.';\n",
              "          element.innerHTML = '';\n",
              "          dataTable['output_type'] = 'display_data';\n",
              "          await google.colab.output.renderOutput(dataTable, element);\n",
              "          const docLink = document.createElement('div');\n",
              "          docLink.innerHTML = docLinkHtml;\n",
              "          element.appendChild(docLink);\n",
              "        }\n",
              "      </script>\n",
              "    </div>\n",
              "  </div>\n",
              "  "
            ]
          },
          "metadata": {},
          "execution_count": 108
        }
      ]
    },
    {
      "cell_type": "code",
      "source": [
        "dfs[0].Symbol"
      ],
      "metadata": {
        "colab": {
          "base_uri": "https://localhost:8080/"
        },
        "id": "aKhyZ8vyBuXc",
        "outputId": "984eb865-e4ff-41ce-ecc2-1033e2ef8322"
      },
      "execution_count": 109,
      "outputs": [
        {
          "output_type": "execute_result",
          "data": {
            "text/plain": [
              "0       MMM\n",
              "1       AOS\n",
              "2       ABT\n",
              "3      ABBV\n",
              "4       ACN\n",
              "       ... \n",
              "498     YUM\n",
              "499    ZBRA\n",
              "500     ZBH\n",
              "501    ZION\n",
              "502     ZTS\n",
              "Name: Symbol, Length: 503, dtype: object"
            ]
          },
          "metadata": {},
          "execution_count": 109
        }
      ]
    },
    {
      "cell_type": "markdown",
      "source": [
        "#### 使用pandas讀取csv檔\n",
        "\n",
        "https://mopsfin.twse.com.tw/opendata/t187ap03_L.csv"
      ],
      "metadata": {
        "id": "cjK5fBswAbOY"
      }
    },
    {
      "cell_type": "code",
      "source": [
        "url = \"https://mopsfin.twse.com.tw/opendata/t187ap03_L.csv\""
      ],
      "metadata": {
        "id": "6aWBVFunAFC6"
      },
      "execution_count": 110,
      "outputs": []
    },
    {
      "cell_type": "code",
      "source": [
        "df = pd.read_csv(url)"
      ],
      "metadata": {
        "id": "mOcC-oinCPQt"
      },
      "execution_count": 111,
      "outputs": []
    },
    {
      "cell_type": "code",
      "source": [
        "df.head()"
      ],
      "metadata": {
        "colab": {
          "base_uri": "https://localhost:8080/",
          "height": 1000
        },
        "id": "_iTSLNdfCVgs",
        "outputId": "dfbf8153-e810-473d-ad52-e3f1bfc34432"
      },
      "execution_count": 112,
      "outputs": [
        {
          "output_type": "execute_result",
          "data": {
            "text/plain": [
              "      出表日期  公司代號        公司名稱 公司簡稱 外國企業註冊地國  產業別                      住址  \\\n",
              "0  1120511  1101  臺灣水泥股份有限公司   台泥       －     1           台北市中山北路2段113號   \n",
              "1  1120511  1102  亞洲水泥股份有限公司   亞泥       －     1  台北市大安區敦化南路2段207號30、31樓   \n",
              "2  1120511  1103  嘉新水泥股份有限公司   嘉泥       －     1            台北市中山北路2段96號   \n",
              "3  1120511  1104  環球水泥股份有限公司   環泥       －     1        台北市南京東路二段125號10樓   \n",
              "4  1120511  1108  幸福水泥股份有限公司   幸福       －     1           台北市松江路237號15樓   \n",
              "\n",
              "   營利事業統一編號  董事長  總經理  ...           過戶電話              過戶地址      簽證會計師事務所  \\\n",
              "0  11913502  張安平  程耀輝  ...       66365566    台北市重慶南路一段83號5樓  勤業眾信聯合會計師事務所   \n",
              "1   3244509  徐旭東  李坤炎  ...   02-7753-1699   新北市板橋區新站路16號13樓  勤業眾信聯合會計師事務所   \n",
              "2  11892801  張剛綸  王立心  ...  (02)2702-3999  台北市敦化南路2段97號地下2樓  勤業眾信聯合會計師事務所   \n",
              "3   7568009  侯博義  侯智升  ...    02-23816288       台北市博愛路17號3樓  勤業眾信聯合會計師事務所   \n",
              "4  40601248  陳兩傳  陳兩傳  ...      2381-6288    台北市中正區博愛路17號3樓  勤業眾信聯合會計師事務所   \n",
              "\n",
              "  簽證會計師1  簽證會計師2          英文簡稱  \\\n",
              "0    黃惠敏     郭政弘           TCC   \n",
              "1    戴信維     陳培德           ACC   \n",
              "2    陳薔旬     梁盛泰           CHC   \n",
              "3    李季珍     楊朝欽           UCC   \n",
              "4    陳招美     陳薔旬  LUCKY CEMENT   \n",
              "\n",
              "                                              英文通訊地址          傳真機號碼  \\\n",
              "0  No.113, Sec.2, Zhongshan N. Rd.,Taipei City 10...  (02)2531-6529   \n",
              "1  30-31F., No.207, Sec. 2, Dunhua S. Rd., Da' an...   02-2378-5191   \n",
              "2  No.96, Sec. 2, Zhongshan N. Rd., Zhongshan Dis...  (02)2511-4002   \n",
              "3    10th F1., 125 Nanking E.Rd Sec. 2,Taipei Taiwan    02-25075870   \n",
              "4  15TH FL.,NO.237,SUNG KIANG RD.,TAIPEI,TAIWAN,R...       25048672   \n",
              "\n",
              "                     電子郵件信箱                           網址  \n",
              "0  finance@taiwancement.com  http://www.taiwancement.com  \n",
              "1        service@acc.com.tw               www.acc.com.tw  \n",
              "2        ir@chcgroup.com.tw          www.chcgroup.com.tw  \n",
              "3             ucc@ucctw.com                www.ucctw.com  \n",
              "4     wendy@luckygrp.com.tw          www.luckygrp.com.tw  \n",
              "\n",
              "[5 rows x 32 columns]"
            ],
            "text/html": [
              "\n",
              "  <div id=\"df-a3c91ba8-55e5-4393-a443-26f92d0bf8b8\">\n",
              "    <div class=\"colab-df-container\">\n",
              "      <div>\n",
              "<style scoped>\n",
              "    .dataframe tbody tr th:only-of-type {\n",
              "        vertical-align: middle;\n",
              "    }\n",
              "\n",
              "    .dataframe tbody tr th {\n",
              "        vertical-align: top;\n",
              "    }\n",
              "\n",
              "    .dataframe thead th {\n",
              "        text-align: right;\n",
              "    }\n",
              "</style>\n",
              "<table border=\"1\" class=\"dataframe\">\n",
              "  <thead>\n",
              "    <tr style=\"text-align: right;\">\n",
              "      <th></th>\n",
              "      <th>出表日期</th>\n",
              "      <th>公司代號</th>\n",
              "      <th>公司名稱</th>\n",
              "      <th>公司簡稱</th>\n",
              "      <th>外國企業註冊地國</th>\n",
              "      <th>產業別</th>\n",
              "      <th>住址</th>\n",
              "      <th>營利事業統一編號</th>\n",
              "      <th>董事長</th>\n",
              "      <th>總經理</th>\n",
              "      <th>...</th>\n",
              "      <th>過戶電話</th>\n",
              "      <th>過戶地址</th>\n",
              "      <th>簽證會計師事務所</th>\n",
              "      <th>簽證會計師1</th>\n",
              "      <th>簽證會計師2</th>\n",
              "      <th>英文簡稱</th>\n",
              "      <th>英文通訊地址</th>\n",
              "      <th>傳真機號碼</th>\n",
              "      <th>電子郵件信箱</th>\n",
              "      <th>網址</th>\n",
              "    </tr>\n",
              "  </thead>\n",
              "  <tbody>\n",
              "    <tr>\n",
              "      <th>0</th>\n",
              "      <td>1120511</td>\n",
              "      <td>1101</td>\n",
              "      <td>臺灣水泥股份有限公司</td>\n",
              "      <td>台泥</td>\n",
              "      <td>－</td>\n",
              "      <td>1</td>\n",
              "      <td>台北市中山北路2段113號</td>\n",
              "      <td>11913502</td>\n",
              "      <td>張安平</td>\n",
              "      <td>程耀輝</td>\n",
              "      <td>...</td>\n",
              "      <td>66365566</td>\n",
              "      <td>台北市重慶南路一段83號5樓</td>\n",
              "      <td>勤業眾信聯合會計師事務所</td>\n",
              "      <td>黃惠敏</td>\n",
              "      <td>郭政弘</td>\n",
              "      <td>TCC</td>\n",
              "      <td>No.113, Sec.2, Zhongshan N. Rd.,Taipei City 10...</td>\n",
              "      <td>(02)2531-6529</td>\n",
              "      <td>finance@taiwancement.com</td>\n",
              "      <td>http://www.taiwancement.com</td>\n",
              "    </tr>\n",
              "    <tr>\n",
              "      <th>1</th>\n",
              "      <td>1120511</td>\n",
              "      <td>1102</td>\n",
              "      <td>亞洲水泥股份有限公司</td>\n",
              "      <td>亞泥</td>\n",
              "      <td>－</td>\n",
              "      <td>1</td>\n",
              "      <td>台北市大安區敦化南路2段207號30、31樓</td>\n",
              "      <td>3244509</td>\n",
              "      <td>徐旭東</td>\n",
              "      <td>李坤炎</td>\n",
              "      <td>...</td>\n",
              "      <td>02-7753-1699</td>\n",
              "      <td>新北市板橋區新站路16號13樓</td>\n",
              "      <td>勤業眾信聯合會計師事務所</td>\n",
              "      <td>戴信維</td>\n",
              "      <td>陳培德</td>\n",
              "      <td>ACC</td>\n",
              "      <td>30-31F., No.207, Sec. 2, Dunhua S. Rd., Da' an...</td>\n",
              "      <td>02-2378-5191</td>\n",
              "      <td>service@acc.com.tw</td>\n",
              "      <td>www.acc.com.tw</td>\n",
              "    </tr>\n",
              "    <tr>\n",
              "      <th>2</th>\n",
              "      <td>1120511</td>\n",
              "      <td>1103</td>\n",
              "      <td>嘉新水泥股份有限公司</td>\n",
              "      <td>嘉泥</td>\n",
              "      <td>－</td>\n",
              "      <td>1</td>\n",
              "      <td>台北市中山北路2段96號</td>\n",
              "      <td>11892801</td>\n",
              "      <td>張剛綸</td>\n",
              "      <td>王立心</td>\n",
              "      <td>...</td>\n",
              "      <td>(02)2702-3999</td>\n",
              "      <td>台北市敦化南路2段97號地下2樓</td>\n",
              "      <td>勤業眾信聯合會計師事務所</td>\n",
              "      <td>陳薔旬</td>\n",
              "      <td>梁盛泰</td>\n",
              "      <td>CHC</td>\n",
              "      <td>No.96, Sec. 2, Zhongshan N. Rd., Zhongshan Dis...</td>\n",
              "      <td>(02)2511-4002</td>\n",
              "      <td>ir@chcgroup.com.tw</td>\n",
              "      <td>www.chcgroup.com.tw</td>\n",
              "    </tr>\n",
              "    <tr>\n",
              "      <th>3</th>\n",
              "      <td>1120511</td>\n",
              "      <td>1104</td>\n",
              "      <td>環球水泥股份有限公司</td>\n",
              "      <td>環泥</td>\n",
              "      <td>－</td>\n",
              "      <td>1</td>\n",
              "      <td>台北市南京東路二段125號10樓</td>\n",
              "      <td>7568009</td>\n",
              "      <td>侯博義</td>\n",
              "      <td>侯智升</td>\n",
              "      <td>...</td>\n",
              "      <td>02-23816288</td>\n",
              "      <td>台北市博愛路17號3樓</td>\n",
              "      <td>勤業眾信聯合會計師事務所</td>\n",
              "      <td>李季珍</td>\n",
              "      <td>楊朝欽</td>\n",
              "      <td>UCC</td>\n",
              "      <td>10th F1., 125 Nanking E.Rd Sec. 2,Taipei Taiwan</td>\n",
              "      <td>02-25075870</td>\n",
              "      <td>ucc@ucctw.com</td>\n",
              "      <td>www.ucctw.com</td>\n",
              "    </tr>\n",
              "    <tr>\n",
              "      <th>4</th>\n",
              "      <td>1120511</td>\n",
              "      <td>1108</td>\n",
              "      <td>幸福水泥股份有限公司</td>\n",
              "      <td>幸福</td>\n",
              "      <td>－</td>\n",
              "      <td>1</td>\n",
              "      <td>台北市松江路237號15樓</td>\n",
              "      <td>40601248</td>\n",
              "      <td>陳兩傳</td>\n",
              "      <td>陳兩傳</td>\n",
              "      <td>...</td>\n",
              "      <td>2381-6288</td>\n",
              "      <td>台北市中正區博愛路17號3樓</td>\n",
              "      <td>勤業眾信聯合會計師事務所</td>\n",
              "      <td>陳招美</td>\n",
              "      <td>陳薔旬</td>\n",
              "      <td>LUCKY CEMENT</td>\n",
              "      <td>15TH FL.,NO.237,SUNG KIANG RD.,TAIPEI,TAIWAN,R...</td>\n",
              "      <td>25048672</td>\n",
              "      <td>wendy@luckygrp.com.tw</td>\n",
              "      <td>www.luckygrp.com.tw</td>\n",
              "    </tr>\n",
              "  </tbody>\n",
              "</table>\n",
              "<p>5 rows × 32 columns</p>\n",
              "</div>\n",
              "      <button class=\"colab-df-convert\" onclick=\"convertToInteractive('df-a3c91ba8-55e5-4393-a443-26f92d0bf8b8')\"\n",
              "              title=\"Convert this dataframe to an interactive table.\"\n",
              "              style=\"display:none;\">\n",
              "        \n",
              "  <svg xmlns=\"http://www.w3.org/2000/svg\" height=\"24px\"viewBox=\"0 0 24 24\"\n",
              "       width=\"24px\">\n",
              "    <path d=\"M0 0h24v24H0V0z\" fill=\"none\"/>\n",
              "    <path d=\"M18.56 5.44l.94 2.06.94-2.06 2.06-.94-2.06-.94-.94-2.06-.94 2.06-2.06.94zm-11 1L8.5 8.5l.94-2.06 2.06-.94-2.06-.94L8.5 2.5l-.94 2.06-2.06.94zm10 10l.94 2.06.94-2.06 2.06-.94-2.06-.94-.94-2.06-.94 2.06-2.06.94z\"/><path d=\"M17.41 7.96l-1.37-1.37c-.4-.4-.92-.59-1.43-.59-.52 0-1.04.2-1.43.59L10.3 9.45l-7.72 7.72c-.78.78-.78 2.05 0 2.83L4 21.41c.39.39.9.59 1.41.59.51 0 1.02-.2 1.41-.59l7.78-7.78 2.81-2.81c.8-.78.8-2.07 0-2.86zM5.41 20L4 18.59l7.72-7.72 1.47 1.35L5.41 20z\"/>\n",
              "  </svg>\n",
              "      </button>\n",
              "      \n",
              "  <style>\n",
              "    .colab-df-container {\n",
              "      display:flex;\n",
              "      flex-wrap:wrap;\n",
              "      gap: 12px;\n",
              "    }\n",
              "\n",
              "    .colab-df-convert {\n",
              "      background-color: #E8F0FE;\n",
              "      border: none;\n",
              "      border-radius: 50%;\n",
              "      cursor: pointer;\n",
              "      display: none;\n",
              "      fill: #1967D2;\n",
              "      height: 32px;\n",
              "      padding: 0 0 0 0;\n",
              "      width: 32px;\n",
              "    }\n",
              "\n",
              "    .colab-df-convert:hover {\n",
              "      background-color: #E2EBFA;\n",
              "      box-shadow: 0px 1px 2px rgba(60, 64, 67, 0.3), 0px 1px 3px 1px rgba(60, 64, 67, 0.15);\n",
              "      fill: #174EA6;\n",
              "    }\n",
              "\n",
              "    [theme=dark] .colab-df-convert {\n",
              "      background-color: #3B4455;\n",
              "      fill: #D2E3FC;\n",
              "    }\n",
              "\n",
              "    [theme=dark] .colab-df-convert:hover {\n",
              "      background-color: #434B5C;\n",
              "      box-shadow: 0px 1px 3px 1px rgba(0, 0, 0, 0.15);\n",
              "      filter: drop-shadow(0px 1px 2px rgba(0, 0, 0, 0.3));\n",
              "      fill: #FFFFFF;\n",
              "    }\n",
              "  </style>\n",
              "\n",
              "      <script>\n",
              "        const buttonEl =\n",
              "          document.querySelector('#df-a3c91ba8-55e5-4393-a443-26f92d0bf8b8 button.colab-df-convert');\n",
              "        buttonEl.style.display =\n",
              "          google.colab.kernel.accessAllowed ? 'block' : 'none';\n",
              "\n",
              "        async function convertToInteractive(key) {\n",
              "          const element = document.querySelector('#df-a3c91ba8-55e5-4393-a443-26f92d0bf8b8');\n",
              "          const dataTable =\n",
              "            await google.colab.kernel.invokeFunction('convertToInteractive',\n",
              "                                                     [key], {});\n",
              "          if (!dataTable) return;\n",
              "\n",
              "          const docLinkHtml = 'Like what you see? Visit the ' +\n",
              "            '<a target=\"_blank\" href=https://colab.research.google.com/notebooks/data_table.ipynb>data table notebook</a>'\n",
              "            + ' to learn more about interactive tables.';\n",
              "          element.innerHTML = '';\n",
              "          dataTable['output_type'] = 'display_data';\n",
              "          await google.colab.output.renderOutput(dataTable, element);\n",
              "          const docLink = document.createElement('div');\n",
              "          docLink.innerHTML = docLinkHtml;\n",
              "          element.appendChild(docLink);\n",
              "        }\n",
              "      </script>\n",
              "    </div>\n",
              "  </div>\n",
              "  "
            ]
          },
          "metadata": {},
          "execution_count": 112
        }
      ]
    },
    {
      "cell_type": "code",
      "source": [
        "df['公司簡稱']"
      ],
      "metadata": {
        "colab": {
          "base_uri": "https://localhost:8080/"
        },
        "id": "t5Yho3L3CXeN",
        "outputId": "0319de8c-eb2f-4b9f-b784-ce09c6ee3869"
      },
      "execution_count": 113,
      "outputs": [
        {
          "output_type": "execute_result",
          "data": {
            "text/plain": [
              "0        台泥\n",
              "1        亞泥\n",
              "2        嘉泥\n",
              "3        環泥\n",
              "4        幸福\n",
              "       ... \n",
              "983      新麗\n",
              "984     潤泰新\n",
              "985    三發地產\n",
              "986      佳龍\n",
              "987     世紀鋼\n",
              "Name: 公司簡稱, Length: 988, dtype: object"
            ]
          },
          "metadata": {},
          "execution_count": 113
        }
      ]
    },
    {
      "cell_type": "code",
      "source": [
        "# boolean result\n",
        "df['公司簡稱']=='台泥'"
      ],
      "metadata": {
        "colab": {
          "base_uri": "https://localhost:8080/"
        },
        "id": "gD2agU0JCvZN",
        "outputId": "062a7751-1a0b-40ca-90bc-7b4a3a55dc31"
      },
      "execution_count": 114,
      "outputs": [
        {
          "output_type": "execute_result",
          "data": {
            "text/plain": [
              "0       True\n",
              "1      False\n",
              "2      False\n",
              "3      False\n",
              "4      False\n",
              "       ...  \n",
              "983    False\n",
              "984    False\n",
              "985    False\n",
              "986    False\n",
              "987    False\n",
              "Name: 公司簡稱, Length: 988, dtype: bool"
            ]
          },
          "metadata": {},
          "execution_count": 114
        }
      ]
    },
    {
      "cell_type": "code",
      "source": [
        "# boolean indexing\n",
        "df[df['公司簡稱']=='台泥']"
      ],
      "metadata": {
        "colab": {
          "base_uri": "https://localhost:8080/",
          "height": 504
        },
        "id": "HZjLqNT1C0md",
        "outputId": "f90a6f46-3d16-42bf-d497-67ad2e321c8b"
      },
      "execution_count": 115,
      "outputs": [
        {
          "output_type": "execute_result",
          "data": {
            "text/plain": [
              "      出表日期  公司代號        公司名稱 公司簡稱 外國企業註冊地國  產業別             住址  營利事業統一編號  董事長  \\\n",
              "0  1120511  1101  臺灣水泥股份有限公司   台泥       －     1  台北市中山北路2段113號  11913502  張安平   \n",
              "\n",
              "   總經理  ...      過戶電話            過戶地址      簽證會計師事務所 簽證會計師1  簽證會計師2  英文簡稱  \\\n",
              "0  程耀輝  ...  66365566  台北市重慶南路一段83號5樓  勤業眾信聯合會計師事務所    黃惠敏     郭政弘   TCC   \n",
              "\n",
              "                                              英文通訊地址          傳真機號碼  \\\n",
              "0  No.113, Sec.2, Zhongshan N. Rd.,Taipei City 10...  (02)2531-6529   \n",
              "\n",
              "                     電子郵件信箱                           網址  \n",
              "0  finance@taiwancement.com  http://www.taiwancement.com  \n",
              "\n",
              "[1 rows x 32 columns]"
            ],
            "text/html": [
              "\n",
              "  <div id=\"df-8cad222f-a430-475e-9377-9211efa20045\">\n",
              "    <div class=\"colab-df-container\">\n",
              "      <div>\n",
              "<style scoped>\n",
              "    .dataframe tbody tr th:only-of-type {\n",
              "        vertical-align: middle;\n",
              "    }\n",
              "\n",
              "    .dataframe tbody tr th {\n",
              "        vertical-align: top;\n",
              "    }\n",
              "\n",
              "    .dataframe thead th {\n",
              "        text-align: right;\n",
              "    }\n",
              "</style>\n",
              "<table border=\"1\" class=\"dataframe\">\n",
              "  <thead>\n",
              "    <tr style=\"text-align: right;\">\n",
              "      <th></th>\n",
              "      <th>出表日期</th>\n",
              "      <th>公司代號</th>\n",
              "      <th>公司名稱</th>\n",
              "      <th>公司簡稱</th>\n",
              "      <th>外國企業註冊地國</th>\n",
              "      <th>產業別</th>\n",
              "      <th>住址</th>\n",
              "      <th>營利事業統一編號</th>\n",
              "      <th>董事長</th>\n",
              "      <th>總經理</th>\n",
              "      <th>...</th>\n",
              "      <th>過戶電話</th>\n",
              "      <th>過戶地址</th>\n",
              "      <th>簽證會計師事務所</th>\n",
              "      <th>簽證會計師1</th>\n",
              "      <th>簽證會計師2</th>\n",
              "      <th>英文簡稱</th>\n",
              "      <th>英文通訊地址</th>\n",
              "      <th>傳真機號碼</th>\n",
              "      <th>電子郵件信箱</th>\n",
              "      <th>網址</th>\n",
              "    </tr>\n",
              "  </thead>\n",
              "  <tbody>\n",
              "    <tr>\n",
              "      <th>0</th>\n",
              "      <td>1120511</td>\n",
              "      <td>1101</td>\n",
              "      <td>臺灣水泥股份有限公司</td>\n",
              "      <td>台泥</td>\n",
              "      <td>－</td>\n",
              "      <td>1</td>\n",
              "      <td>台北市中山北路2段113號</td>\n",
              "      <td>11913502</td>\n",
              "      <td>張安平</td>\n",
              "      <td>程耀輝</td>\n",
              "      <td>...</td>\n",
              "      <td>66365566</td>\n",
              "      <td>台北市重慶南路一段83號5樓</td>\n",
              "      <td>勤業眾信聯合會計師事務所</td>\n",
              "      <td>黃惠敏</td>\n",
              "      <td>郭政弘</td>\n",
              "      <td>TCC</td>\n",
              "      <td>No.113, Sec.2, Zhongshan N. Rd.,Taipei City 10...</td>\n",
              "      <td>(02)2531-6529</td>\n",
              "      <td>finance@taiwancement.com</td>\n",
              "      <td>http://www.taiwancement.com</td>\n",
              "    </tr>\n",
              "  </tbody>\n",
              "</table>\n",
              "<p>1 rows × 32 columns</p>\n",
              "</div>\n",
              "      <button class=\"colab-df-convert\" onclick=\"convertToInteractive('df-8cad222f-a430-475e-9377-9211efa20045')\"\n",
              "              title=\"Convert this dataframe to an interactive table.\"\n",
              "              style=\"display:none;\">\n",
              "        \n",
              "  <svg xmlns=\"http://www.w3.org/2000/svg\" height=\"24px\"viewBox=\"0 0 24 24\"\n",
              "       width=\"24px\">\n",
              "    <path d=\"M0 0h24v24H0V0z\" fill=\"none\"/>\n",
              "    <path d=\"M18.56 5.44l.94 2.06.94-2.06 2.06-.94-2.06-.94-.94-2.06-.94 2.06-2.06.94zm-11 1L8.5 8.5l.94-2.06 2.06-.94-2.06-.94L8.5 2.5l-.94 2.06-2.06.94zm10 10l.94 2.06.94-2.06 2.06-.94-2.06-.94-.94-2.06-.94 2.06-2.06.94z\"/><path d=\"M17.41 7.96l-1.37-1.37c-.4-.4-.92-.59-1.43-.59-.52 0-1.04.2-1.43.59L10.3 9.45l-7.72 7.72c-.78.78-.78 2.05 0 2.83L4 21.41c.39.39.9.59 1.41.59.51 0 1.02-.2 1.41-.59l7.78-7.78 2.81-2.81c.8-.78.8-2.07 0-2.86zM5.41 20L4 18.59l7.72-7.72 1.47 1.35L5.41 20z\"/>\n",
              "  </svg>\n",
              "      </button>\n",
              "      \n",
              "  <style>\n",
              "    .colab-df-container {\n",
              "      display:flex;\n",
              "      flex-wrap:wrap;\n",
              "      gap: 12px;\n",
              "    }\n",
              "\n",
              "    .colab-df-convert {\n",
              "      background-color: #E8F0FE;\n",
              "      border: none;\n",
              "      border-radius: 50%;\n",
              "      cursor: pointer;\n",
              "      display: none;\n",
              "      fill: #1967D2;\n",
              "      height: 32px;\n",
              "      padding: 0 0 0 0;\n",
              "      width: 32px;\n",
              "    }\n",
              "\n",
              "    .colab-df-convert:hover {\n",
              "      background-color: #E2EBFA;\n",
              "      box-shadow: 0px 1px 2px rgba(60, 64, 67, 0.3), 0px 1px 3px 1px rgba(60, 64, 67, 0.15);\n",
              "      fill: #174EA6;\n",
              "    }\n",
              "\n",
              "    [theme=dark] .colab-df-convert {\n",
              "      background-color: #3B4455;\n",
              "      fill: #D2E3FC;\n",
              "    }\n",
              "\n",
              "    [theme=dark] .colab-df-convert:hover {\n",
              "      background-color: #434B5C;\n",
              "      box-shadow: 0px 1px 3px 1px rgba(0, 0, 0, 0.15);\n",
              "      filter: drop-shadow(0px 1px 2px rgba(0, 0, 0, 0.3));\n",
              "      fill: #FFFFFF;\n",
              "    }\n",
              "  </style>\n",
              "\n",
              "      <script>\n",
              "        const buttonEl =\n",
              "          document.querySelector('#df-8cad222f-a430-475e-9377-9211efa20045 button.colab-df-convert');\n",
              "        buttonEl.style.display =\n",
              "          google.colab.kernel.accessAllowed ? 'block' : 'none';\n",
              "\n",
              "        async function convertToInteractive(key) {\n",
              "          const element = document.querySelector('#df-8cad222f-a430-475e-9377-9211efa20045');\n",
              "          const dataTable =\n",
              "            await google.colab.kernel.invokeFunction('convertToInteractive',\n",
              "                                                     [key], {});\n",
              "          if (!dataTable) return;\n",
              "\n",
              "          const docLinkHtml = 'Like what you see? Visit the ' +\n",
              "            '<a target=\"_blank\" href=https://colab.research.google.com/notebooks/data_table.ipynb>data table notebook</a>'\n",
              "            + ' to learn more about interactive tables.';\n",
              "          element.innerHTML = '';\n",
              "          dataTable['output_type'] = 'display_data';\n",
              "          await google.colab.output.renderOutput(dataTable, element);\n",
              "          const docLink = document.createElement('div');\n",
              "          docLink.innerHTML = docLinkHtml;\n",
              "          element.appendChild(docLink);\n",
              "        }\n",
              "      </script>\n",
              "    </div>\n",
              "  </div>\n",
              "  "
            ]
          },
          "metadata": {},
          "execution_count": 115
        }
      ]
    },
    {
      "cell_type": "code",
      "source": [
        "df[df['公司簡稱']=='台積電']"
      ],
      "metadata": {
        "colab": {
          "base_uri": "https://localhost:8080/",
          "height": 521
        },
        "id": "ShDylSnEC52t",
        "outputId": "72e0c936-a041-4325-f64a-3baa5f36a4b0"
      },
      "execution_count": 116,
      "outputs": [
        {
          "output_type": "execute_result",
          "data": {
            "text/plain": [
              "        出表日期  公司代號            公司名稱 公司簡稱 外國企業註冊地國  產業別            住址  營利事業統一編號  \\\n",
              "274  1120511  2330  台灣積體電路製造股份有限公司  台積電       －    24  新竹科學園區力行六路8號  22099131   \n",
              "\n",
              "     董事長      總經理  ...          過戶電話            過戶地址      簽證會計師事務所 簽證會計師1  \\\n",
              "274  劉德音  總裁: 魏哲家  ...  02-6636-5566  台北市重慶南路一段83號5樓  勤業眾信聯合會計師事務所    吳世宗   \n",
              "\n",
              "     簽證會計師2  英文簡稱                                             英文通訊地址  \\\n",
              "274     林尚志  TSMC  No. 8, Li-Hsin Rd. 6, Hsinchu Science Park,Hsi...   \n",
              "\n",
              "          傳真機號碼           電子郵件信箱                    網址  \n",
              "274  03-5797337  invest@tsmc.com  https://www.tsmc.com  \n",
              "\n",
              "[1 rows x 32 columns]"
            ],
            "text/html": [
              "\n",
              "  <div id=\"df-283fe1fb-6fb3-4fed-a1c4-80825d61c568\">\n",
              "    <div class=\"colab-df-container\">\n",
              "      <div>\n",
              "<style scoped>\n",
              "    .dataframe tbody tr th:only-of-type {\n",
              "        vertical-align: middle;\n",
              "    }\n",
              "\n",
              "    .dataframe tbody tr th {\n",
              "        vertical-align: top;\n",
              "    }\n",
              "\n",
              "    .dataframe thead th {\n",
              "        text-align: right;\n",
              "    }\n",
              "</style>\n",
              "<table border=\"1\" class=\"dataframe\">\n",
              "  <thead>\n",
              "    <tr style=\"text-align: right;\">\n",
              "      <th></th>\n",
              "      <th>出表日期</th>\n",
              "      <th>公司代號</th>\n",
              "      <th>公司名稱</th>\n",
              "      <th>公司簡稱</th>\n",
              "      <th>外國企業註冊地國</th>\n",
              "      <th>產業別</th>\n",
              "      <th>住址</th>\n",
              "      <th>營利事業統一編號</th>\n",
              "      <th>董事長</th>\n",
              "      <th>總經理</th>\n",
              "      <th>...</th>\n",
              "      <th>過戶電話</th>\n",
              "      <th>過戶地址</th>\n",
              "      <th>簽證會計師事務所</th>\n",
              "      <th>簽證會計師1</th>\n",
              "      <th>簽證會計師2</th>\n",
              "      <th>英文簡稱</th>\n",
              "      <th>英文通訊地址</th>\n",
              "      <th>傳真機號碼</th>\n",
              "      <th>電子郵件信箱</th>\n",
              "      <th>網址</th>\n",
              "    </tr>\n",
              "  </thead>\n",
              "  <tbody>\n",
              "    <tr>\n",
              "      <th>274</th>\n",
              "      <td>1120511</td>\n",
              "      <td>2330</td>\n",
              "      <td>台灣積體電路製造股份有限公司</td>\n",
              "      <td>台積電</td>\n",
              "      <td>－</td>\n",
              "      <td>24</td>\n",
              "      <td>新竹科學園區力行六路8號</td>\n",
              "      <td>22099131</td>\n",
              "      <td>劉德音</td>\n",
              "      <td>總裁: 魏哲家</td>\n",
              "      <td>...</td>\n",
              "      <td>02-6636-5566</td>\n",
              "      <td>台北市重慶南路一段83號5樓</td>\n",
              "      <td>勤業眾信聯合會計師事務所</td>\n",
              "      <td>吳世宗</td>\n",
              "      <td>林尚志</td>\n",
              "      <td>TSMC</td>\n",
              "      <td>No. 8, Li-Hsin Rd. 6, Hsinchu Science Park,Hsi...</td>\n",
              "      <td>03-5797337</td>\n",
              "      <td>invest@tsmc.com</td>\n",
              "      <td>https://www.tsmc.com</td>\n",
              "    </tr>\n",
              "  </tbody>\n",
              "</table>\n",
              "<p>1 rows × 32 columns</p>\n",
              "</div>\n",
              "      <button class=\"colab-df-convert\" onclick=\"convertToInteractive('df-283fe1fb-6fb3-4fed-a1c4-80825d61c568')\"\n",
              "              title=\"Convert this dataframe to an interactive table.\"\n",
              "              style=\"display:none;\">\n",
              "        \n",
              "  <svg xmlns=\"http://www.w3.org/2000/svg\" height=\"24px\"viewBox=\"0 0 24 24\"\n",
              "       width=\"24px\">\n",
              "    <path d=\"M0 0h24v24H0V0z\" fill=\"none\"/>\n",
              "    <path d=\"M18.56 5.44l.94 2.06.94-2.06 2.06-.94-2.06-.94-.94-2.06-.94 2.06-2.06.94zm-11 1L8.5 8.5l.94-2.06 2.06-.94-2.06-.94L8.5 2.5l-.94 2.06-2.06.94zm10 10l.94 2.06.94-2.06 2.06-.94-2.06-.94-.94-2.06-.94 2.06-2.06.94z\"/><path d=\"M17.41 7.96l-1.37-1.37c-.4-.4-.92-.59-1.43-.59-.52 0-1.04.2-1.43.59L10.3 9.45l-7.72 7.72c-.78.78-.78 2.05 0 2.83L4 21.41c.39.39.9.59 1.41.59.51 0 1.02-.2 1.41-.59l7.78-7.78 2.81-2.81c.8-.78.8-2.07 0-2.86zM5.41 20L4 18.59l7.72-7.72 1.47 1.35L5.41 20z\"/>\n",
              "  </svg>\n",
              "      </button>\n",
              "      \n",
              "  <style>\n",
              "    .colab-df-container {\n",
              "      display:flex;\n",
              "      flex-wrap:wrap;\n",
              "      gap: 12px;\n",
              "    }\n",
              "\n",
              "    .colab-df-convert {\n",
              "      background-color: #E8F0FE;\n",
              "      border: none;\n",
              "      border-radius: 50%;\n",
              "      cursor: pointer;\n",
              "      display: none;\n",
              "      fill: #1967D2;\n",
              "      height: 32px;\n",
              "      padding: 0 0 0 0;\n",
              "      width: 32px;\n",
              "    }\n",
              "\n",
              "    .colab-df-convert:hover {\n",
              "      background-color: #E2EBFA;\n",
              "      box-shadow: 0px 1px 2px rgba(60, 64, 67, 0.3), 0px 1px 3px 1px rgba(60, 64, 67, 0.15);\n",
              "      fill: #174EA6;\n",
              "    }\n",
              "\n",
              "    [theme=dark] .colab-df-convert {\n",
              "      background-color: #3B4455;\n",
              "      fill: #D2E3FC;\n",
              "    }\n",
              "\n",
              "    [theme=dark] .colab-df-convert:hover {\n",
              "      background-color: #434B5C;\n",
              "      box-shadow: 0px 1px 3px 1px rgba(0, 0, 0, 0.15);\n",
              "      filter: drop-shadow(0px 1px 2px rgba(0, 0, 0, 0.3));\n",
              "      fill: #FFFFFF;\n",
              "    }\n",
              "  </style>\n",
              "\n",
              "      <script>\n",
              "        const buttonEl =\n",
              "          document.querySelector('#df-283fe1fb-6fb3-4fed-a1c4-80825d61c568 button.colab-df-convert');\n",
              "        buttonEl.style.display =\n",
              "          google.colab.kernel.accessAllowed ? 'block' : 'none';\n",
              "\n",
              "        async function convertToInteractive(key) {\n",
              "          const element = document.querySelector('#df-283fe1fb-6fb3-4fed-a1c4-80825d61c568');\n",
              "          const dataTable =\n",
              "            await google.colab.kernel.invokeFunction('convertToInteractive',\n",
              "                                                     [key], {});\n",
              "          if (!dataTable) return;\n",
              "\n",
              "          const docLinkHtml = 'Like what you see? Visit the ' +\n",
              "            '<a target=\"_blank\" href=https://colab.research.google.com/notebooks/data_table.ipynb>data table notebook</a>'\n",
              "            + ' to learn more about interactive tables.';\n",
              "          element.innerHTML = '';\n",
              "          dataTable['output_type'] = 'display_data';\n",
              "          await google.colab.output.renderOutput(dataTable, element);\n",
              "          const docLink = document.createElement('div');\n",
              "          docLink.innerHTML = docLinkHtml;\n",
              "          element.appendChild(docLink);\n",
              "        }\n",
              "      </script>\n",
              "    </div>\n",
              "  </div>\n",
              "  "
            ]
          },
          "metadata": {},
          "execution_count": 116
        }
      ]
    },
    {
      "cell_type": "markdown",
      "source": [
        "#### 使用pandas讀取excel資料 "
      ],
      "metadata": {
        "id": "GJymIX_jP-Um"
      }
    },
    {
      "cell_type": "code",
      "source": [
        "df = pd.read_excel('1106431173753573376.xlsx')"
      ],
      "metadata": {
        "id": "rqtn_o4QC_YF"
      },
      "execution_count": 117,
      "outputs": []
    },
    {
      "cell_type": "code",
      "source": [
        "df.head()"
      ],
      "metadata": {
        "colab": {
          "base_uri": "https://localhost:8080/",
          "height": 1000
        },
        "id": "SaOiOyoKQLaH",
        "outputId": "dd576588-4726-4a52-b107-c07c47578067"
      },
      "execution_count": 118,
      "outputs": [
        {
          "output_type": "execute_result",
          "data": {
            "text/plain": [
              "  權責單位   年度     發生日期      d_date  死因  天數  國籍  SEX 發生縣市 市區鄉鎮  ...   age  \\\n",
              "0  新北市  106  1060101  2017-01-11   1  10   1    1  新北市  平溪區  ...  19.0   \n",
              "1  高雄市  106  1060101  2017-01-01   1   0   1    1  高雄市  前金區  ...  87.0   \n",
              "2  桃園市  106  1060101  2017-01-01   1   0   1    1  桃園市  大溪區  ...  15.0   \n",
              "3  桃園市  106  1060101  2017-01-01   1   0   1    1  桃園市  大溪區  ...  16.0   \n",
              "4  新北市  106  1060101  2017-01-12   1  11   1    1  新北市  三重區  ...  57.0   \n",
              "\n",
              "  filename  主要肇事因素  處理單位代碼        單位簡稱   公路   公里   公尺  車道方向  車道位置  \n",
              "0       A2      22   ADD91  瑞芳分局瑞芳交通分隊  NaN  0.0  0.0   NaN   NaN  \n",
              "1       A1      43   AV691    新興分局交通分隊  NaN  0.0  0.0   NaN   NaN  \n",
              "2       A1       6   AE391  大溪分局大溪交通分隊  NaN  0.0  0.0   NaN   NaN  \n",
              "3       A1       6   AE391  大溪分局大溪交通分隊  NaN  0.0  0.0   NaN   NaN  \n",
              "4       A2      23   AD491     三重分局交通隊  NaN  0.0  0.0   NaN   NaN  \n",
              "\n",
              "[5 rows x 35 columns]"
            ],
            "text/html": [
              "\n",
              "  <div id=\"df-bc969441-724e-4c37-aa8d-7e8c9710acb0\">\n",
              "    <div class=\"colab-df-container\">\n",
              "      <div>\n",
              "<style scoped>\n",
              "    .dataframe tbody tr th:only-of-type {\n",
              "        vertical-align: middle;\n",
              "    }\n",
              "\n",
              "    .dataframe tbody tr th {\n",
              "        vertical-align: top;\n",
              "    }\n",
              "\n",
              "    .dataframe thead th {\n",
              "        text-align: right;\n",
              "    }\n",
              "</style>\n",
              "<table border=\"1\" class=\"dataframe\">\n",
              "  <thead>\n",
              "    <tr style=\"text-align: right;\">\n",
              "      <th></th>\n",
              "      <th>權責單位</th>\n",
              "      <th>年度</th>\n",
              "      <th>發生日期</th>\n",
              "      <th>d_date</th>\n",
              "      <th>死因</th>\n",
              "      <th>天數</th>\n",
              "      <th>國籍</th>\n",
              "      <th>SEX</th>\n",
              "      <th>發生縣市</th>\n",
              "      <th>市區鄉鎮</th>\n",
              "      <th>...</th>\n",
              "      <th>age</th>\n",
              "      <th>filename</th>\n",
              "      <th>主要肇事因素</th>\n",
              "      <th>處理單位代碼</th>\n",
              "      <th>單位簡稱</th>\n",
              "      <th>公路</th>\n",
              "      <th>公里</th>\n",
              "      <th>公尺</th>\n",
              "      <th>車道方向</th>\n",
              "      <th>車道位置</th>\n",
              "    </tr>\n",
              "  </thead>\n",
              "  <tbody>\n",
              "    <tr>\n",
              "      <th>0</th>\n",
              "      <td>新北市</td>\n",
              "      <td>106</td>\n",
              "      <td>1060101</td>\n",
              "      <td>2017-01-11</td>\n",
              "      <td>1</td>\n",
              "      <td>10</td>\n",
              "      <td>1</td>\n",
              "      <td>1</td>\n",
              "      <td>新北市</td>\n",
              "      <td>平溪區</td>\n",
              "      <td>...</td>\n",
              "      <td>19.0</td>\n",
              "      <td>A2</td>\n",
              "      <td>22</td>\n",
              "      <td>ADD91</td>\n",
              "      <td>瑞芳分局瑞芳交通分隊</td>\n",
              "      <td>NaN</td>\n",
              "      <td>0.0</td>\n",
              "      <td>0.0</td>\n",
              "      <td>NaN</td>\n",
              "      <td>NaN</td>\n",
              "    </tr>\n",
              "    <tr>\n",
              "      <th>1</th>\n",
              "      <td>高雄市</td>\n",
              "      <td>106</td>\n",
              "      <td>1060101</td>\n",
              "      <td>2017-01-01</td>\n",
              "      <td>1</td>\n",
              "      <td>0</td>\n",
              "      <td>1</td>\n",
              "      <td>1</td>\n",
              "      <td>高雄市</td>\n",
              "      <td>前金區</td>\n",
              "      <td>...</td>\n",
              "      <td>87.0</td>\n",
              "      <td>A1</td>\n",
              "      <td>43</td>\n",
              "      <td>AV691</td>\n",
              "      <td>新興分局交通分隊</td>\n",
              "      <td>NaN</td>\n",
              "      <td>0.0</td>\n",
              "      <td>0.0</td>\n",
              "      <td>NaN</td>\n",
              "      <td>NaN</td>\n",
              "    </tr>\n",
              "    <tr>\n",
              "      <th>2</th>\n",
              "      <td>桃園市</td>\n",
              "      <td>106</td>\n",
              "      <td>1060101</td>\n",
              "      <td>2017-01-01</td>\n",
              "      <td>1</td>\n",
              "      <td>0</td>\n",
              "      <td>1</td>\n",
              "      <td>1</td>\n",
              "      <td>桃園市</td>\n",
              "      <td>大溪區</td>\n",
              "      <td>...</td>\n",
              "      <td>15.0</td>\n",
              "      <td>A1</td>\n",
              "      <td>6</td>\n",
              "      <td>AE391</td>\n",
              "      <td>大溪分局大溪交通分隊</td>\n",
              "      <td>NaN</td>\n",
              "      <td>0.0</td>\n",
              "      <td>0.0</td>\n",
              "      <td>NaN</td>\n",
              "      <td>NaN</td>\n",
              "    </tr>\n",
              "    <tr>\n",
              "      <th>3</th>\n",
              "      <td>桃園市</td>\n",
              "      <td>106</td>\n",
              "      <td>1060101</td>\n",
              "      <td>2017-01-01</td>\n",
              "      <td>1</td>\n",
              "      <td>0</td>\n",
              "      <td>1</td>\n",
              "      <td>1</td>\n",
              "      <td>桃園市</td>\n",
              "      <td>大溪區</td>\n",
              "      <td>...</td>\n",
              "      <td>16.0</td>\n",
              "      <td>A1</td>\n",
              "      <td>6</td>\n",
              "      <td>AE391</td>\n",
              "      <td>大溪分局大溪交通分隊</td>\n",
              "      <td>NaN</td>\n",
              "      <td>0.0</td>\n",
              "      <td>0.0</td>\n",
              "      <td>NaN</td>\n",
              "      <td>NaN</td>\n",
              "    </tr>\n",
              "    <tr>\n",
              "      <th>4</th>\n",
              "      <td>新北市</td>\n",
              "      <td>106</td>\n",
              "      <td>1060101</td>\n",
              "      <td>2017-01-12</td>\n",
              "      <td>1</td>\n",
              "      <td>11</td>\n",
              "      <td>1</td>\n",
              "      <td>1</td>\n",
              "      <td>新北市</td>\n",
              "      <td>三重區</td>\n",
              "      <td>...</td>\n",
              "      <td>57.0</td>\n",
              "      <td>A2</td>\n",
              "      <td>23</td>\n",
              "      <td>AD491</td>\n",
              "      <td>三重分局交通隊</td>\n",
              "      <td>NaN</td>\n",
              "      <td>0.0</td>\n",
              "      <td>0.0</td>\n",
              "      <td>NaN</td>\n",
              "      <td>NaN</td>\n",
              "    </tr>\n",
              "  </tbody>\n",
              "</table>\n",
              "<p>5 rows × 35 columns</p>\n",
              "</div>\n",
              "      <button class=\"colab-df-convert\" onclick=\"convertToInteractive('df-bc969441-724e-4c37-aa8d-7e8c9710acb0')\"\n",
              "              title=\"Convert this dataframe to an interactive table.\"\n",
              "              style=\"display:none;\">\n",
              "        \n",
              "  <svg xmlns=\"http://www.w3.org/2000/svg\" height=\"24px\"viewBox=\"0 0 24 24\"\n",
              "       width=\"24px\">\n",
              "    <path d=\"M0 0h24v24H0V0z\" fill=\"none\"/>\n",
              "    <path d=\"M18.56 5.44l.94 2.06.94-2.06 2.06-.94-2.06-.94-.94-2.06-.94 2.06-2.06.94zm-11 1L8.5 8.5l.94-2.06 2.06-.94-2.06-.94L8.5 2.5l-.94 2.06-2.06.94zm10 10l.94 2.06.94-2.06 2.06-.94-2.06-.94-.94-2.06-.94 2.06-2.06.94z\"/><path d=\"M17.41 7.96l-1.37-1.37c-.4-.4-.92-.59-1.43-.59-.52 0-1.04.2-1.43.59L10.3 9.45l-7.72 7.72c-.78.78-.78 2.05 0 2.83L4 21.41c.39.39.9.59 1.41.59.51 0 1.02-.2 1.41-.59l7.78-7.78 2.81-2.81c.8-.78.8-2.07 0-2.86zM5.41 20L4 18.59l7.72-7.72 1.47 1.35L5.41 20z\"/>\n",
              "  </svg>\n",
              "      </button>\n",
              "      \n",
              "  <style>\n",
              "    .colab-df-container {\n",
              "      display:flex;\n",
              "      flex-wrap:wrap;\n",
              "      gap: 12px;\n",
              "    }\n",
              "\n",
              "    .colab-df-convert {\n",
              "      background-color: #E8F0FE;\n",
              "      border: none;\n",
              "      border-radius: 50%;\n",
              "      cursor: pointer;\n",
              "      display: none;\n",
              "      fill: #1967D2;\n",
              "      height: 32px;\n",
              "      padding: 0 0 0 0;\n",
              "      width: 32px;\n",
              "    }\n",
              "\n",
              "    .colab-df-convert:hover {\n",
              "      background-color: #E2EBFA;\n",
              "      box-shadow: 0px 1px 2px rgba(60, 64, 67, 0.3), 0px 1px 3px 1px rgba(60, 64, 67, 0.15);\n",
              "      fill: #174EA6;\n",
              "    }\n",
              "\n",
              "    [theme=dark] .colab-df-convert {\n",
              "      background-color: #3B4455;\n",
              "      fill: #D2E3FC;\n",
              "    }\n",
              "\n",
              "    [theme=dark] .colab-df-convert:hover {\n",
              "      background-color: #434B5C;\n",
              "      box-shadow: 0px 1px 3px 1px rgba(0, 0, 0, 0.15);\n",
              "      filter: drop-shadow(0px 1px 2px rgba(0, 0, 0, 0.3));\n",
              "      fill: #FFFFFF;\n",
              "    }\n",
              "  </style>\n",
              "\n",
              "      <script>\n",
              "        const buttonEl =\n",
              "          document.querySelector('#df-bc969441-724e-4c37-aa8d-7e8c9710acb0 button.colab-df-convert');\n",
              "        buttonEl.style.display =\n",
              "          google.colab.kernel.accessAllowed ? 'block' : 'none';\n",
              "\n",
              "        async function convertToInteractive(key) {\n",
              "          const element = document.querySelector('#df-bc969441-724e-4c37-aa8d-7e8c9710acb0');\n",
              "          const dataTable =\n",
              "            await google.colab.kernel.invokeFunction('convertToInteractive',\n",
              "                                                     [key], {});\n",
              "          if (!dataTable) return;\n",
              "\n",
              "          const docLinkHtml = 'Like what you see? Visit the ' +\n",
              "            '<a target=\"_blank\" href=https://colab.research.google.com/notebooks/data_table.ipynb>data table notebook</a>'\n",
              "            + ' to learn more about interactive tables.';\n",
              "          element.innerHTML = '';\n",
              "          dataTable['output_type'] = 'display_data';\n",
              "          await google.colab.output.renderOutput(dataTable, element);\n",
              "          const docLink = document.createElement('div');\n",
              "          docLink.innerHTML = docLinkHtml;\n",
              "          element.appendChild(docLink);\n",
              "        }\n",
              "      </script>\n",
              "    </div>\n",
              "  </div>\n",
              "  "
            ]
          },
          "metadata": {},
          "execution_count": 118
        }
      ]
    },
    {
      "cell_type": "code",
      "source": [],
      "metadata": {
        "id": "rBQRu-XjQQO5"
      },
      "execution_count": null,
      "outputs": []
    }
  ]
}